{
 "cells": [
  {
   "cell_type": "code",
   "execution_count": 1,
   "id": "8d40e6cc-337b-4045-b5c5-5f2d4323ad5a",
   "metadata": {},
   "outputs": [
    {
     "name": "stdout",
     "output_type": "stream",
     "text": [
      "Requirement already satisfied: keras in c:\\users\\keun ho ryu\\appdata\\local\\programs\\python\\python310\\lib\\site-packages (2.15.0)\n"
     ]
    },
    {
     "name": "stderr",
     "output_type": "stream",
     "text": [
      "\n",
      "[notice] A new release of pip is available: 23.3.1 -> 24.0\n",
      "[notice] To update, run: python.exe -m pip install --upgrade pip\n"
     ]
    }
   ],
   "source": [
    "!pip install keras"
   ]
  },
  {
   "cell_type": "code",
   "execution_count": 11,
   "id": "3126fbf5-5847-423d-8293-f2d967177d0e",
   "metadata": {},
   "outputs": [
    {
     "data": {
      "text/plain": [
       "2"
      ]
     },
     "execution_count": 11,
     "metadata": {},
     "output_type": "execute_result"
    }
   ],
   "source": [
    "50%3"
   ]
  },
  {
   "cell_type": "code",
   "execution_count": 12,
   "id": "f56aad2b-e040-4dea-be01-ff54c1a44fd5",
   "metadata": {},
   "outputs": [
    {
     "name": "stdout",
     "output_type": "stream",
     "text": [
      "8\n"
     ]
    }
   ],
   "source": [
    "print(2**3)"
   ]
  },
  {
   "cell_type": "code",
   "execution_count": 16,
   "id": "1bc80afe-5a35-4101-bb23-4c9f83caad92",
   "metadata": {},
   "outputs": [
    {
     "data": {
      "text/plain": [
       "750"
      ]
     },
     "execution_count": 16,
     "metadata": {},
     "output_type": "execute_result"
    }
   ],
   "source": [
    "250 + 100 + 400"
   ]
  },
  {
   "cell_type": "code",
   "execution_count": 19,
   "id": "2f28510f-e995-4d5d-8cec-16feeb55d11e",
   "metadata": {},
   "outputs": [],
   "source": [
    "b = 250 + 100 + 400"
   ]
  },
  {
   "cell_type": "code",
   "execution_count": 22,
   "id": "a026de88-a19d-44ea-901d-157e33e68f44",
   "metadata": {},
   "outputs": [
    {
     "data": {
      "text/plain": [
       "375.0"
      ]
     },
     "execution_count": 22,
     "metadata": {},
     "output_type": "execute_result"
    }
   ],
   "source": [
    "b/2"
   ]
  },
  {
   "cell_type": "code",
   "execution_count": 23,
   "id": "fd2f566c-8138-4c8d-a5be-ccd002802997",
   "metadata": {},
   "outputs": [],
   "source": [
    "s = 'Bold'"
   ]
  },
  {
   "cell_type": "code",
   "execution_count": 24,
   "id": "4856ac19-809f-4929-a07d-e25ae07c15d9",
   "metadata": {},
   "outputs": [
    {
     "data": {
      "text/plain": [
       "'Bold'"
      ]
     },
     "execution_count": 24,
     "metadata": {},
     "output_type": "execute_result"
    }
   ],
   "source": [
    "s"
   ]
  },
  {
   "cell_type": "code",
   "execution_count": 26,
   "id": "00e4ba99-a254-46f9-a741-d225949cf3ef",
   "metadata": {},
   "outputs": [
    {
     "data": {
      "text/plain": [
       "('My name is', 'Bold')"
      ]
     },
     "execution_count": 26,
     "metadata": {},
     "output_type": "execute_result"
    }
   ],
   "source": [
    "'My name is', s"
   ]
  },
  {
   "cell_type": "code",
   "execution_count": 27,
   "id": "c94f190d-5ade-4c13-a218-6f5ca97ec22d",
   "metadata": {},
   "outputs": [],
   "source": [
    "x += 5"
   ]
  },
  {
   "cell_type": "code",
   "execution_count": 28,
   "id": "4c7e8e51-d4a9-4fd2-8755-e93a248b4a68",
   "metadata": {},
   "outputs": [
    {
     "data": {
      "text/plain": [
       "755"
      ]
     },
     "execution_count": 28,
     "metadata": {},
     "output_type": "execute_result"
    }
   ],
   "source": [
    "x"
   ]
  },
  {
   "cell_type": "code",
   "execution_count": 29,
   "id": "28c51488-d5d5-42a9-bfcd-6211673181c7",
   "metadata": {},
   "outputs": [],
   "source": [
    "x += 5"
   ]
  },
  {
   "cell_type": "code",
   "execution_count": 30,
   "id": "5048fd0f-8571-4f3a-b18d-6d9fef48e662",
   "metadata": {},
   "outputs": [
    {
     "data": {
      "text/plain": [
       "760"
      ]
     },
     "execution_count": 30,
     "metadata": {},
     "output_type": "execute_result"
    }
   ],
   "source": [
    "x"
   ]
  },
  {
   "cell_type": "code",
   "execution_count": 31,
   "id": "58bcdb64-ebc1-40d6-87ea-1599ce3136eb",
   "metadata": {},
   "outputs": [
    {
     "name": "stdout",
     "output_type": "stream",
     "text": [
      "<class 'str'>\n"
     ]
    }
   ],
   "source": [
    "print(type(\"text\"))"
   ]
  },
  {
   "cell_type": "code",
   "execution_count": 32,
   "id": "04ebede0-4939-424e-b440-226942efd3f5",
   "metadata": {},
   "outputs": [
    {
     "name": "stdout",
     "output_type": "stream",
     "text": [
      "Alice\n"
     ]
    }
   ],
   "source": [
    "student_name = \"Alice\"\n",
    "print(student_name)"
   ]
  },
  {
   "cell_type": "code",
   "execution_count": 35,
   "id": "40ea9428-d6ae-4a2a-9a56-ac424726b2cd",
   "metadata": {},
   "outputs": [
    {
     "name": "stdout",
     "output_type": "stream",
     "text": [
      "HI\n"
     ]
    }
   ],
   "source": [
    "print(text)"
   ]
  },
  {
   "cell_type": "code",
   "execution_count": 34,
   "id": "9a63231b-d69b-402c-942b-9cc7938c8894",
   "metadata": {},
   "outputs": [],
   "source": [
    "text='HI'"
   ]
  },
  {
   "cell_type": "code",
   "execution_count": 37,
   "id": "c7084b9e-bb62-4798-8036-bbaa130f5a67",
   "metadata": {},
   "outputs": [
    {
     "name": "stdout",
     "output_type": "stream",
     "text": [
      "my name is Alice !!\n"
     ]
    }
   ],
   "source": [
    "student_name = \"Alice\"\n",
    "print(\"my name is \" + student_name + \" !!\")"
   ]
  },
  {
   "cell_type": "code",
   "execution_count": 38,
   "id": "b5d4319e-cdcd-4123-915e-1596cef580a2",
   "metadata": {},
   "outputs": [
    {
     "name": "stdout",
     "output_type": "stream",
     "text": [
      "My age is19!!\n"
     ]
    }
   ],
   "source": [
    "student_age = 19\n",
    "print(\"My age is \" + str(student_age) + \" !!\")"
   ]
  },
  {
   "cell_type": "code",
   "execution_count": 39,
   "id": "04d80357-ce77-424f-b0b0-2b95e030910e",
   "metadata": {},
   "outputs": [
    {
     "data": {
      "text/plain": [
       "int"
      ]
     },
     "execution_count": 39,
     "metadata": {},
     "output_type": "execute_result"
    }
   ],
   "source": [
    "type(student_age)"
   ]
  },
  {
   "cell_type": "code",
   "execution_count": 41,
   "id": "945c3ba8-0d07-40f0-94db-599209ccee63",
   "metadata": {},
   "outputs": [
    {
     "name": "stdout",
     "output_type": "stream",
     "text": [
      "My age is 19 !!\n"
     ]
    }
   ],
   "source": [
    "print(\"My age is \" + str(student_age) + \" !!\")"
   ]
  },
  {
   "cell_type": "code",
   "execution_count": 45,
   "id": "f4f9e104-d6e0-46bf-85d9-bec3a6505427",
   "metadata": {},
   "outputs": [
    {
     "name": "stdout",
     "output_type": "stream",
     "text": [
      "my name is Alice !!\n"
     ]
    }
   ],
   "source": [
    "student_name = \"Alice\"\n",
    "print(f\"my name is {student_name} !!\")"
   ]
  },
  {
   "cell_type": "code",
   "execution_count": 46,
   "id": "082f022d-1e96-4585-9a05-86740e2ad711",
   "metadata": {},
   "outputs": [
    {
     "name": "stdout",
     "output_type": "stream",
     "text": [
      "The discount rate is 12.5% !!\n"
     ]
    }
   ],
   "source": [
    "discount_rate = 0.125\n",
    "print(f\"The discount rate is {discount_rate:.1%} !!\")"
   ]
  },
  {
   "cell_type": "code",
   "execution_count": 47,
   "id": "41239f31-0c15-45df-8ba2-e37d33fb23a1",
   "metadata": {},
   "outputs": [
    {
     "name": "stdout",
     "output_type": "stream",
     "text": [
      "Python\n"
     ]
    }
   ],
   "source": [
    "print(\"python\".capitalize())"
   ]
  },
  {
   "cell_type": "code",
   "execution_count": 49,
   "id": "7837d1ee-aece-4adb-9650-e7603464213a",
   "metadata": {},
   "outputs": [
    {
     "name": "stdout",
     "output_type": "stream",
     "text": [
      "The average temperature for each month is 22 degrees in June and 27 degrees in July.\n"
     ]
    }
   ],
   "source": [
    "monthly_average_temperatures = [6, 7, 9, 15, 20, 22, 27, 26, 23, 17, 12, 7]\n",
    "print(\"The average temperature for each month is {} degrees in June and {} degrees in July.\".format(monthly_average_temperatures[5], monthly_average_temperatures[6]))"
   ]
  },
  {
   "cell_type": "code",
   "execution_count": 63,
   "id": "47b87089-0273-48a6-97a1-cc375eb00307",
   "metadata": {},
   "outputs": [
    {
     "data": {
      "text/plain": [
       "[6, 15, 27]"
      ]
     },
     "execution_count": 63,
     "metadata": {},
     "output_type": "execute_result"
    }
   ],
   "source": [
    "monthly_average_temperatures[0:7:3]"
   ]
  },
  {
   "cell_type": "code",
   "execution_count": 64,
   "id": "e0cd365c-47ac-4422-b59a-6ae877401297",
   "metadata": {},
   "outputs": [
    {
     "name": "stdout",
     "output_type": "stream",
     "text": [
      "['alpha', 'beta']\n"
     ]
    }
   ],
   "source": [
    "texts = []\n",
    "texts.append(\"alpha\")\n",
    "texts.append(\"beta\")\n",
    "print(texts)"
   ]
  },
  {
   "cell_type": "code",
   "execution_count": 66,
   "id": "bf696167-af0a-44f3-bf24-1519adf7ac9e",
   "metadata": {},
   "outputs": [
    {
     "data": {
      "text/plain": [
       "'beta'"
      ]
     },
     "execution_count": 66,
     "metadata": {},
     "output_type": "execute_result"
    }
   ],
   "source": [
    "texts.pop()"
   ]
  },
  {
   "cell_type": "code",
   "execution_count": 67,
   "id": "41cf5675-bac9-403c-b9c7-b3d41c627d50",
   "metadata": {},
   "outputs": [
    {
     "data": {
      "text/plain": [
       "['alpha']"
      ]
     },
     "execution_count": 67,
     "metadata": {},
     "output_type": "execute_result"
    }
   ],
   "source": [
    "texts"
   ]
  },
  {
   "cell_type": "code",
   "execution_count": 68,
   "id": "892c9f37-fa3d-46e6-8625-7223e4643b9b",
   "metadata": {},
   "outputs": [
    {
     "data": {
      "text/plain": [
       "[6, 7, 9, 15, 20, 22, 27, 26, 23, 17, 12, 7]"
      ]
     },
     "execution_count": 68,
     "metadata": {},
     "output_type": "execute_result"
    }
   ],
   "source": [
    "monthly_average_temperatures"
   ]
  },
  {
   "cell_type": "code",
   "execution_count": 69,
   "id": "15f27e9f-899a-4a52-9857-bbe1b87077a9",
   "metadata": {},
   "outputs": [],
   "source": [
    "monthly_average_temperatures.remove(27)"
   ]
  },
  {
   "cell_type": "code",
   "execution_count": 70,
   "id": "8687fdfb-9735-4e0a-9cc0-ec7fb1f1ee50",
   "metadata": {},
   "outputs": [
    {
     "data": {
      "text/plain": [
       "[6, 7, 9, 15, 20, 22, 26, 23, 17, 12, 7]"
      ]
     },
     "execution_count": 70,
     "metadata": {},
     "output_type": "execute_result"
    }
   ],
   "source": [
    "monthly_average_temperatures"
   ]
  },
  {
   "cell_type": "code",
   "execution_count": 71,
   "id": "70098892-28ea-484d-ae03-f80f2c33ce5c",
   "metadata": {},
   "outputs": [
    {
     "name": "stdout",
     "output_type": "stream",
     "text": [
      "[1, 2, 3, 4, 5, 6]\n"
     ]
    }
   ],
   "source": [
    "print([1, 2, 3] + [4, 5, 6])"
   ]
  },
  {
   "cell_type": "code",
   "execution_count": 74,
   "id": "ce7fd4f4-b170-44b8-bbb5-74a8b7fe0b1d",
   "metadata": {},
   "outputs": [
    {
     "name": "stdout",
     "output_type": "stream",
     "text": [
      "[1, 2, 3, [4, 5, 6]]\n"
     ]
    }
   ],
   "source": [
    "a = [1, 2, 3]\n",
    "a.append([4, 5, 6])\n",
    "print(a)"
   ]
  },
  {
   "cell_type": "code",
   "execution_count": 90,
   "id": "1fa68aed-51ab-48fe-8c5f-7213244a307a",
   "metadata": {},
   "outputs": [],
   "source": [
    "temperature = 20"
   ]
  },
  {
   "cell_type": "code",
   "execution_count": 91,
   "id": "0d1f2787-e29c-49b0-8689-3dfbe467c041",
   "metadata": {},
   "outputs": [
    {
     "name": "stdout",
     "output_type": "stream",
     "text": [
      "I am going to buy nothing\n"
     ]
    }
   ],
   "source": [
    "if temperature>30:\n",
    "    print(\"I am going to buy an ice-cream\")\n",
    "else:\n",
    "    print(\"I am going to buy nothing\")"
   ]
  },
  {
   "cell_type": "code",
   "execution_count": 94,
   "id": "6fe5263f-579e-4f55-bc2b-241843582e59",
   "metadata": {},
   "outputs": [
    {
     "name": "stdout",
     "output_type": "stream",
     "text": [
      "I am going to buy an ice-cream\n"
     ]
    }
   ],
   "source": [
    "if temperature==20:\n",
    "    print(\"I am going to buy an ice-cream\")\n",
    "elif temperature<=15:\n",
    "    print(\"I am going to buy cola\")\n",
    "else:\n",
    "    print(\"I am going to buy nothing\")"
   ]
  },
  {
   "cell_type": "code",
   "execution_count": 95,
   "id": "a900740e-e1cc-4309-9667-6d05f2348708",
   "metadata": {},
   "outputs": [
    {
     "name": "stdout",
     "output_type": "stream",
     "text": [
      "False\n"
     ]
    }
   ],
   "source": [
    "print(22 < 20)"
   ]
  },
  {
   "cell_type": "code",
   "execution_count": 96,
   "id": "c46afb9f-e8bf-4d5b-9d6f-2bcec31eb5a7",
   "metadata": {},
   "outputs": [
    {
     "name": "stdout",
     "output_type": "stream",
     "text": [
      "True\n"
     ]
    }
   ],
   "source": [
    "print(19 < 20)"
   ]
  },
  {
   "cell_type": "code",
   "execution_count": 97,
   "id": "cc1ce441-45a2-42de-9252-76486f7cb67f",
   "metadata": {},
   "outputs": [
    {
     "name": "stdout",
     "output_type": "stream",
     "text": [
      "<class 'bool'>\n"
     ]
    }
   ],
   "source": [
    "print(type(19 < 20))"
   ]
  },
  {
   "cell_type": "code",
   "execution_count": 101,
   "id": "14756e50-a9e6-44a8-bb08-73af78d41ac1",
   "metadata": {},
   "outputs": [],
   "source": [
    "DEBUG=False"
   ]
  },
  {
   "cell_type": "code",
   "execution_count": 102,
   "id": "423de0d3-68f3-46ef-b9c7-743c72edcb0a",
   "metadata": {},
   "outputs": [
    {
     "data": {
      "text/plain": [
       "False"
      ]
     },
     "execution_count": 102,
     "metadata": {},
     "output_type": "execute_result"
    }
   ],
   "source": [
    "DEBUG"
   ]
  },
  {
   "cell_type": "code",
   "execution_count": 103,
   "id": "26de91d6-ea3f-47af-b8e7-5f78cd2d0c3a",
   "metadata": {},
   "outputs": [
    {
     "name": "stdout",
     "output_type": "stream",
     "text": [
      "full dataset\n"
     ]
    }
   ],
   "source": [
    "if DEBUG:\n",
    "    print(\"reduce dataset\")\n",
    "else:\n",
    "    print(\"full dataset\")"
   ]
  },
  {
   "cell_type": "code",
   "execution_count": 111,
   "id": "faa5a592-ba1e-434c-92b7-136e2bfdb742",
   "metadata": {},
   "outputs": [],
   "source": [
    "student_name = \"Alice\"\n",
    "student_age = 15\n",
    "if not (student_age >= 10) or (student_age > 20):\n",
    "  print(\"{}は10代です。\".format(student_name))"
   ]
  },
  {
   "cell_type": "code",
   "execution_count": 113,
   "id": "2251b089-3b0b-4a33-8993-d1bf4c8a588b",
   "metadata": {},
   "outputs": [
    {
     "name": "stdout",
     "output_type": "stream",
     "text": [
      "Aliceは20歳未満です。\n"
     ]
    }
   ],
   "source": [
    "no_judgement = False\n",
    "student_name = \"Alice\"\n",
    "student_age = 19\n",
    "\n",
    "if not(no_judgement):\n",
    "    if student_age < 20:\n",
    "        print(\"{}は20歳未満です。\".format(student_name))\n",
    "    else:\n",
    "        print(\"{}は20歳以上です。\".format(student_name))\n",
    "else:\n",
    "    print(\"年齢の判定はしません。\")"
   ]
  },
  {
   "cell_type": "code",
   "execution_count": 122,
   "id": "bad8d9bd-0df2-44b3-bcc1-411de7250ab4",
   "metadata": {},
   "outputs": [
    {
     "name": "stdout",
     "output_type": "stream",
     "text": [
      "1\n",
      "10\n",
      "20\n",
      "30\n",
      "40\n",
      "50\n",
      "60\n",
      "70\n",
      "80\n",
      "90\n"
     ]
    }
   ],
   "source": [
    "for number in numbers:\n",
    "  print(number)"
   ]
  },
  {
   "cell_type": "code",
   "execution_count": 120,
   "id": "182f3467-5e28-48b9-8b8c-80cbd2b4d767",
   "metadata": {},
   "outputs": [],
   "source": [
    "numbers = [1, 10, 20, 30, 40, 50, 60, 70, 80, 90]"
   ]
  },
  {
   "cell_type": "code",
   "execution_count": 121,
   "id": "4b84949c-cc78-4148-80ac-56c16b184e7b",
   "metadata": {},
   "outputs": [
    {
     "name": "stdout",
     "output_type": "stream",
     "text": [
      "0 1\n",
      "1 10\n",
      "2 20\n",
      "3 30\n",
      "4 40\n",
      "5 50\n",
      "6 60\n",
      "7 70\n",
      "8 80\n",
      "9 90\n"
     ]
    }
   ],
   "source": [
    "for i in range(len(numbers)):\n",
    "    print(i, numbers[i])"
   ]
  },
  {
   "cell_type": "code",
   "execution_count": 118,
   "id": "11dc3ae9-74f5-4657-80ef-0aa9055a5faa",
   "metadata": {},
   "outputs": [
    {
     "data": {
      "text/plain": [
       "10"
      ]
     },
     "execution_count": 118,
     "metadata": {},
     "output_type": "execute_result"
    }
   ],
   "source": [
    "len(numbers)"
   ]
  },
  {
   "cell_type": "code",
   "execution_count": 123,
   "id": "6156c887-6078-4b18-8632-63bf25c7bd7b",
   "metadata": {},
   "outputs": [
    {
     "name": "stdout",
     "output_type": "stream",
     "text": [
      "A081\n",
      "A114\n",
      "A186\n"
     ]
    }
   ],
   "source": [
    "user_ids = (\"A081\", \"A114\", \"A186\")\n",
    "for user_id in user_ids:\n",
    "  print(user_id)"
   ]
  },
  {
   "cell_type": "code",
   "execution_count": 124,
   "id": "2d8cc238-aaab-4f27-8aad-8c7eb2e7fa44",
   "metadata": {},
   "outputs": [
    {
     "name": "stdout",
     "output_type": "stream",
     "text": [
      "P\n",
      "y\n",
      "t\n",
      "h\n",
      "o\n",
      "n\n"
     ]
    }
   ],
   "source": [
    "text = \"Python\"\n",
    "for character in text:\n",
    "  print(character)"
   ]
  },
  {
   "cell_type": "code",
   "execution_count": 125,
   "id": "af8a8c0d-6b7f-4d5a-a65c-8523d4ac3f3f",
   "metadata": {},
   "outputs": [
    {
     "name": "stdout",
     "output_type": "stream",
     "text": [
      "5\n",
      "7\n",
      "9\n"
     ]
    }
   ],
   "source": [
    "for i in range(5, 10, 2):\n",
    "  print(i)"
   ]
  },
  {
   "cell_type": "code",
   "execution_count": 126,
   "id": "5f9459af-d24e-4079-b5d5-5d59f1dc616a",
   "metadata": {},
   "outputs": [
    {
     "name": "stdout",
     "output_type": "stream",
     "text": [
      "9\n",
      "8\n",
      "7\n",
      "6\n",
      "5\n",
      "4\n",
      "3\n",
      "2\n",
      "1\n",
      "0\n"
     ]
    }
   ],
   "source": [
    "for i in range(9, -1, -1):\n",
    "  print(i)"
   ]
  },
  {
   "cell_type": "code",
   "execution_count": 127,
   "id": "5443c76b-ee8f-4d8b-b0c3-9d985c90e1d9",
   "metadata": {},
   "outputs": [
    {
     "name": "stdout",
     "output_type": "stream",
     "text": [
      "9\n",
      "8\n",
      "7\n",
      "6\n",
      "5\n",
      "4\n",
      "3\n",
      "2\n",
      "1\n",
      "0\n"
     ]
    }
   ],
   "source": [
    "for i in reversed(range(10)):\n",
    "  print(i)"
   ]
  },
  {
   "cell_type": "code",
   "execution_count": 128,
   "id": "ee001659-a6cc-4369-91e7-8f8c51e9cf0b",
   "metadata": {},
   "outputs": [
    {
     "name": "stdout",
     "output_type": "stream",
     "text": [
      "1月の平均気温は6度です。\n",
      "2月の平均気温は7度です。\n",
      "3月の平均気温は9度です。\n",
      "4月の平均気温は15度です。\n",
      "5月の平均気温は20度です。\n",
      "6月の平均気温は22度です。\n",
      "7月の平均気温は27度です。\n",
      "8月の平均気温は26度です。\n",
      "9月の平均気温は23度です。\n",
      "10月の平均気温は17度です。\n",
      "11月の平均気温は12度です。\n",
      "12月の平均気温は7度です。\n"
     ]
    }
   ],
   "source": [
    "monthly_average_temperatures = [6, 7, 9, 15, 20, 22, 27, 26, 23, 17, 12, 7]\n",
    "for i, temperature in enumerate(monthly_average_temperatures):\n",
    "  print(\"{}月の平均気温は{}度です。\".format(i+1, temperature))"
   ]
  },
  {
   "cell_type": "code",
   "execution_count": 129,
   "id": "a459992c-23fd-4ead-8445-09deb84693c3",
   "metadata": {},
   "outputs": [
    {
     "name": "stdout",
     "output_type": "stream",
     "text": [
      "1月の平均気温は6度です。\n",
      "2月の平均気温は7度です。\n",
      "3月の平均気温は9度です。\n",
      "4月の平均気温は15度です。\n",
      "5月の平均気温は20度です。\n",
      "6月の平均気温は22度です。\n",
      "7月の平均気温は27度です。\n",
      "8月の平均気温は26度です。\n",
      "9月の平均気温は23度です。\n",
      "10月の平均気温は17度です。\n",
      "11月の平均気温は12度です。\n",
      "12月の平均気温は7度です。\n"
     ]
    }
   ],
   "source": [
    "MONTH_NUMBERS = list(range(1,13))\n",
    "monthly_average_temperatures = [6, 7, 9, 15, 20, 22, 27, 26, 23, 17, 12, 7]\n",
    "for month_number, temperature in zip(MONTH_NUMBERS, monthly_average_temperatures):\n",
    "  print(\"{}月の平均気温は{}度です。\".format(month_number, temperature))"
   ]
  },
  {
   "cell_type": "code",
   "execution_count": 130,
   "id": "c8e8126e-7ec6-4028-bef1-325c586ca419",
   "metadata": {},
   "outputs": [
    {
     "name": "stdout",
     "output_type": "stream",
     "text": [
      "0\n",
      "3\n",
      "6\n",
      "9\n"
     ]
    }
   ],
   "source": [
    "num = 0\n",
    "while num < 10:\n",
    "  print(num)\n",
    "  num += 3"
   ]
  },
  {
   "cell_type": "code",
   "execution_count": 133,
   "id": "f8131ae7-c7a8-4274-9c05-acd8df03b985",
   "metadata": {},
   "outputs": [
    {
     "name": "stdout",
     "output_type": "stream",
     "text": [
      "0\n",
      "3\n",
      "6\n",
      "9\n"
     ]
    }
   ],
   "source": [
    "num = 0\n",
    "while True:\n",
    "  print(num)\n",
    "  num += 3\n",
    "  if num >= 10:\n",
    "    break"
   ]
  },
  {
   "cell_type": "markdown",
   "id": "32fcb0b5-b1e6-4da2-b326-fa5f8a0e68af",
   "metadata": {},
   "source": []
  }
 ],
 "metadata": {
  "kernelspec": {
   "display_name": "Python 3 (ipykernel)",
   "language": "python",
   "name": "python3"
  },
  "language_info": {
   "codemirror_mode": {
    "name": "ipython",
    "version": 3
   },
   "file_extension": ".py",
   "mimetype": "text/x-python",
   "name": "python",
   "nbconvert_exporter": "python",
   "pygments_lexer": "ipython3",
   "version": "3.10.11"
  }
 },
 "nbformat": 4,
 "nbformat_minor": 5
}
