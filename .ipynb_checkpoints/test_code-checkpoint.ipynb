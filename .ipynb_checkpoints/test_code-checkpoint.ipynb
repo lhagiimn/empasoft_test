{
 "cells": [
  {
   "cell_type": "code",
   "execution_count": 1,
   "id": "8d40e6cc-337b-4045-b5c5-5f2d4323ad5a",
   "metadata": {},
   "outputs": [
    {
     "name": "stdout",
     "output_type": "stream",
     "text": [
      "Requirement already satisfied: keras in c:\\users\\keun ho ryu\\appdata\\local\\programs\\python\\python310\\lib\\site-packages (2.15.0)\n"
     ]
    },
    {
     "name": "stderr",
     "output_type": "stream",
     "text": [
      "\n",
      "[notice] A new release of pip is available: 23.3.1 -> 24.0\n",
      "[notice] To update, run: python.exe -m pip install --upgrade pip\n"
     ]
    }
   ],
   "source": [
    "!pip install keras"
   ]
  },
  {
   "cell_type": "code",
   "execution_count": 11,
   "id": "3126fbf5-5847-423d-8293-f2d967177d0e",
   "metadata": {},
   "outputs": [
    {
     "data": {
      "text/plain": [
       "2"
      ]
     },
     "execution_count": 11,
     "metadata": {},
     "output_type": "execute_result"
    }
   ],
   "source": [
    "50%3"
   ]
  },
  {
   "cell_type": "code",
   "execution_count": 12,
   "id": "f56aad2b-e040-4dea-be01-ff54c1a44fd5",
   "metadata": {},
   "outputs": [
    {
     "name": "stdout",
     "output_type": "stream",
     "text": [
      "8\n"
     ]
    }
   ],
   "source": [
    "print(2**3)"
   ]
  },
  {
   "cell_type": "code",
   "execution_count": 16,
   "id": "1bc80afe-5a35-4101-bb23-4c9f83caad92",
   "metadata": {},
   "outputs": [
    {
     "data": {
      "text/plain": [
       "750"
      ]
     },
     "execution_count": 16,
     "metadata": {},
     "output_type": "execute_result"
    }
   ],
   "source": [
    "250 + 100 + 400"
   ]
  },
  {
   "cell_type": "code",
   "execution_count": 19,
   "id": "2f28510f-e995-4d5d-8cec-16feeb55d11e",
   "metadata": {},
   "outputs": [],
   "source": [
    "b = 250 + 100 + 400"
   ]
  },
  {
   "cell_type": "code",
   "execution_count": 22,
   "id": "a026de88-a19d-44ea-901d-157e33e68f44",
   "metadata": {},
   "outputs": [
    {
     "data": {
      "text/plain": [
       "375.0"
      ]
     },
     "execution_count": 22,
     "metadata": {},
     "output_type": "execute_result"
    }
   ],
   "source": [
    "b/2"
   ]
  },
  {
   "cell_type": "code",
   "execution_count": 23,
   "id": "fd2f566c-8138-4c8d-a5be-ccd002802997",
   "metadata": {},
   "outputs": [],
   "source": [
    "s = 'Bold'"
   ]
  },
  {
   "cell_type": "code",
   "execution_count": 24,
   "id": "4856ac19-809f-4929-a07d-e25ae07c15d9",
   "metadata": {},
   "outputs": [
    {
     "data": {
      "text/plain": [
       "'Bold'"
      ]
     },
     "execution_count": 24,
     "metadata": {},
     "output_type": "execute_result"
    }
   ],
   "source": [
    "s"
   ]
  },
  {
   "cell_type": "code",
   "execution_count": 26,
   "id": "00e4ba99-a254-46f9-a741-d225949cf3ef",
   "metadata": {},
   "outputs": [
    {
     "data": {
      "text/plain": [
       "('My name is', 'Bold')"
      ]
     },
     "execution_count": 26,
     "metadata": {},
     "output_type": "execute_result"
    }
   ],
   "source": [
    "'My name is', s"
   ]
  },
  {
   "cell_type": "code",
   "execution_count": null,
   "id": "c94f190d-5ade-4c13-a218-6f5ca97ec22d",
   "metadata": {},
   "outputs": [],
   "source": []
  }
 ],
 "metadata": {
  "kernelspec": {
   "display_name": "Python 3 (ipykernel)",
   "language": "python",
   "name": "python3"
  },
  "language_info": {
   "codemirror_mode": {
    "name": "ipython",
    "version": 3
   },
   "file_extension": ".py",
   "mimetype": "text/x-python",
   "name": "python",
   "nbconvert_exporter": "python",
   "pygments_lexer": "ipython3",
   "version": "3.10.11"
  }
 },
 "nbformat": 4,
 "nbformat_minor": 5
}
