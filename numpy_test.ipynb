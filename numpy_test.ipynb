{
 "cells": [
  {
   "cell_type": "code",
   "execution_count": 1,
   "id": "c4993446-e497-457d-9c9d-9ffabda23c65",
   "metadata": {},
   "outputs": [
    {
     "name": "stdout",
     "output_type": "stream",
     "text": [
      "Requirement already satisfied: numpy in c:\\users\\keun ho ryu\\appdata\\local\\programs\\python\\python310\\lib\\site-packages (1.26.1)\n"
     ]
    },
    {
     "name": "stderr",
     "output_type": "stream",
     "text": [
      "\n",
      "[notice] A new release of pip is available: 23.3.1 -> 24.0\n",
      "[notice] To update, run: python.exe -m pip install --upgrade pip\n"
     ]
    }
   ],
   "source": [
    "!pip install numpy"
   ]
  },
  {
   "cell_type": "code",
   "execution_count": 2,
   "id": "61253f80-781e-43bb-afa4-65ae710b433a",
   "metadata": {},
   "outputs": [],
   "source": [
    "import numpy as np"
   ]
  },
  {
   "cell_type": "code",
   "execution_count": 3,
   "id": "42063b08-cd2c-4c98-89fa-92f7f1b88c3a",
   "metadata": {},
   "outputs": [
    {
     "data": {
      "text/plain": [
       "5"
      ]
     },
     "execution_count": 3,
     "metadata": {},
     "output_type": "execute_result"
    }
   ],
   "source": [
    "np.sum(2+3)"
   ]
  },
  {
   "cell_type": "code",
   "execution_count": 4,
   "id": "870550e3-f0c3-4a8e-973d-6a8cc0a04ee9",
   "metadata": {},
   "outputs": [
    {
     "data": {
      "text/plain": [
       "array([1, 2, 3])"
      ]
     },
     "execution_count": 4,
     "metadata": {},
     "output_type": "execute_result"
    }
   ],
   "source": [
    "a = np.array([1, 2, 3])\n",
    "a"
   ]
  },
  {
   "cell_type": "code",
   "execution_count": 5,
   "id": "164de572-9685-4aeb-bc8c-7560bf65f34f",
   "metadata": {},
   "outputs": [
    {
     "data": {
      "text/plain": [
       "numpy.ndarray"
      ]
     },
     "execution_count": 5,
     "metadata": {},
     "output_type": "execute_result"
    }
   ],
   "source": [
    "type(a)"
   ]
  },
  {
   "cell_type": "code",
   "execution_count": 7,
   "id": "f85497d5-322c-4ec4-987f-362d90121b15",
   "metadata": {},
   "outputs": [
    {
     "data": {
      "text/plain": [
       "list"
      ]
     },
     "execution_count": 7,
     "metadata": {},
     "output_type": "execute_result"
    }
   ],
   "source": [
    "type([1, 2, 3])"
   ]
  },
  {
   "cell_type": "code",
   "execution_count": 8,
   "id": "e10de611-85bd-413f-9746-b850c251a03c",
   "metadata": {},
   "outputs": [],
   "source": [
    "a = [1, 2, 3]"
   ]
  },
  {
   "cell_type": "code",
   "execution_count": 9,
   "id": "8c782f41-514c-4626-ae42-fcd1a46eecca",
   "metadata": {},
   "outputs": [
    {
     "data": {
      "text/plain": [
       "[1, 2, 3]"
      ]
     },
     "execution_count": 9,
     "metadata": {},
     "output_type": "execute_result"
    }
   ],
   "source": [
    "a"
   ]
  },
  {
   "cell_type": "code",
   "execution_count": 10,
   "id": "65173ae9-fed9-4af5-9383-1ccf8dbfe4ee",
   "metadata": {},
   "outputs": [
    {
     "data": {
      "text/plain": [
       "list"
      ]
     },
     "execution_count": 10,
     "metadata": {},
     "output_type": "execute_result"
    }
   ],
   "source": [
    "type(a)"
   ]
  },
  {
   "cell_type": "code",
   "execution_count": 11,
   "id": "63e42c1b-ef81-4f94-a000-192f4050fe07",
   "metadata": {},
   "outputs": [
    {
     "data": {
      "text/plain": [
       "array([1, 2, 3])"
      ]
     },
     "execution_count": 11,
     "metadata": {},
     "output_type": "execute_result"
    }
   ],
   "source": [
    "np.asarray(a)"
   ]
  },
  {
   "cell_type": "code",
   "execution_count": 12,
   "id": "395d973d-e3d0-4562-9b9d-cf773000ca9c",
   "metadata": {},
   "outputs": [],
   "source": [
    "b = np.array([2 , 3, 4])"
   ]
  },
  {
   "cell_type": "code",
   "execution_count": 13,
   "id": "e465b2b6-3277-4105-b360-9789b3ae26a4",
   "metadata": {},
   "outputs": [
    {
     "data": {
      "text/plain": [
       "array([3, 5, 7])"
      ]
     },
     "execution_count": 13,
     "metadata": {},
     "output_type": "execute_result"
    }
   ],
   "source": [
    "a+b"
   ]
  },
  {
   "cell_type": "code",
   "execution_count": 15,
   "id": "6080e204-fb02-4b41-8695-249b95ddd0b1",
   "metadata": {},
   "outputs": [
    {
     "data": {
      "text/plain": [
       "(3,)"
      ]
     },
     "execution_count": 15,
     "metadata": {},
     "output_type": "execute_result"
    }
   ],
   "source": [
    "b.shape"
   ]
  },
  {
   "cell_type": "code",
   "execution_count": 18,
   "id": "affe1d7c-24ef-4ea5-943e-ed579c0ddd76",
   "metadata": {},
   "outputs": [],
   "source": [
    "b = np.array([a, a])"
   ]
  },
  {
   "cell_type": "code",
   "execution_count": 19,
   "id": "6b0f20b0-a7a2-47d8-b0f3-cf78a842df5d",
   "metadata": {},
   "outputs": [
    {
     "data": {
      "text/plain": [
       "array([[1, 2, 3],\n",
       "       [1, 2, 3]])"
      ]
     },
     "execution_count": 19,
     "metadata": {},
     "output_type": "execute_result"
    }
   ],
   "source": [
    "b"
   ]
  },
  {
   "cell_type": "code",
   "execution_count": 20,
   "id": "02dcb5ba-0227-417c-bcd1-d53e30ac43a3",
   "metadata": {},
   "outputs": [
    {
     "data": {
      "text/plain": [
       "(2, 3)"
      ]
     },
     "execution_count": 20,
     "metadata": {},
     "output_type": "execute_result"
    }
   ],
   "source": [
    "b.shape"
   ]
  },
  {
   "cell_type": "code",
   "execution_count": 21,
   "id": "a21d5eca-a428-4d3b-af8e-164e77481243",
   "metadata": {},
   "outputs": [],
   "source": [
    "b = np.array([a, a, a])"
   ]
  },
  {
   "cell_type": "code",
   "execution_count": 22,
   "id": "a54968d7-ac52-4799-a8f8-dbbb2a97d819",
   "metadata": {},
   "outputs": [
    {
     "data": {
      "text/plain": [
       "(3, 3)"
      ]
     },
     "execution_count": 22,
     "metadata": {},
     "output_type": "execute_result"
    }
   ],
   "source": [
    "b.shape"
   ]
  },
  {
   "cell_type": "code",
   "execution_count": 23,
   "id": "9129b016-635c-4175-9dc6-d8179794d952",
   "metadata": {},
   "outputs": [],
   "source": [
    "b = np.array([[a, a], [a, a]])"
   ]
  },
  {
   "cell_type": "code",
   "execution_count": 24,
   "id": "222ac3c7-ff50-423b-835f-b92d1095c21c",
   "metadata": {},
   "outputs": [
    {
     "data": {
      "text/plain": [
       "(2, 2, 3)"
      ]
     },
     "execution_count": 24,
     "metadata": {},
     "output_type": "execute_result"
    }
   ],
   "source": [
    "b.shape"
   ]
  },
  {
   "cell_type": "code",
   "execution_count": 26,
   "id": "43cd31e3-bb4c-402e-a435-e0554f9e9ab6",
   "metadata": {},
   "outputs": [
    {
     "data": {
      "text/plain": [
       "3"
      ]
     },
     "execution_count": 26,
     "metadata": {},
     "output_type": "execute_result"
    }
   ],
   "source": [
    "b.ndim"
   ]
  },
  {
   "cell_type": "code",
   "execution_count": 27,
   "id": "a8b6f5ea-31ca-49a7-bbb5-ff039a029d5f",
   "metadata": {},
   "outputs": [
    {
     "data": {
      "text/plain": [
       "array([[[1, 2, 3],\n",
       "        [1, 2, 3]],\n",
       "\n",
       "       [[1, 2, 3],\n",
       "        [1, 2, 3]]])"
      ]
     },
     "execution_count": 27,
     "metadata": {},
     "output_type": "execute_result"
    }
   ],
   "source": [
    "b"
   ]
  },
  {
   "cell_type": "code",
   "execution_count": 28,
   "id": "8d935feb-7c49-4041-baf7-cdc4901910c0",
   "metadata": {},
   "outputs": [
    {
     "data": {
      "text/plain": [
       "2"
      ]
     },
     "execution_count": 28,
     "metadata": {},
     "output_type": "execute_result"
    }
   ],
   "source": [
    "b[1, 0, 1]"
   ]
  },
  {
   "cell_type": "code",
   "execution_count": 29,
   "id": "15e9b909-126c-4ac9-ac9d-bc893b8749d4",
   "metadata": {},
   "outputs": [
    {
     "data": {
      "text/plain": [
       "array([[1, 2, 3],\n",
       "       [1, 2, 3]])"
      ]
     },
     "execution_count": 29,
     "metadata": {},
     "output_type": "execute_result"
    }
   ],
   "source": [
    "b[0, :, :]"
   ]
  },
  {
   "cell_type": "code",
   "execution_count": 33,
   "id": "a4c79586-f7f3-40c1-9933-7ae2462890d1",
   "metadata": {},
   "outputs": [
    {
     "data": {
      "text/plain": [
       "(2, 2)"
      ]
     },
     "execution_count": 33,
     "metadata": {},
     "output_type": "execute_result"
    }
   ],
   "source": [
    "b[:, :, -1].shape"
   ]
  },
  {
   "cell_type": "code",
   "execution_count": 32,
   "id": "ed429fe7-cf2c-4220-b5cb-9336ebbf9d34",
   "metadata": {},
   "outputs": [
    {
     "data": {
      "text/plain": [
       "(2, 2, 1)"
      ]
     },
     "execution_count": 32,
     "metadata": {},
     "output_type": "execute_result"
    }
   ],
   "source": [
    "b[:, :, 1:2].shape"
   ]
  },
  {
   "cell_type": "code",
   "execution_count": 34,
   "id": "051b2a06-8f5a-441a-8109-3563a303b74e",
   "metadata": {},
   "outputs": [],
   "source": [
    "a = np.array([1, 2, 3])"
   ]
  },
  {
   "cell_type": "code",
   "execution_count": 35,
   "id": "37f8d750-766d-4b4a-8786-f9f88bb35049",
   "metadata": {},
   "outputs": [
    {
     "data": {
      "text/plain": [
       "array([1, 2, 3])"
      ]
     },
     "execution_count": 35,
     "metadata": {},
     "output_type": "execute_result"
    }
   ],
   "source": [
    "a"
   ]
  },
  {
   "cell_type": "code",
   "execution_count": 36,
   "id": "5a77b3e9-d0a3-4afe-b03a-5ea62ced8deb",
   "metadata": {},
   "outputs": [
    {
     "data": {
      "text/plain": [
       "array([1, 2, 4])"
      ]
     },
     "execution_count": 36,
     "metadata": {},
     "output_type": "execute_result"
    }
   ],
   "source": [
    "a[2] = 4\n",
    "a"
   ]
  },
  {
   "cell_type": "code",
   "execution_count": 37,
   "id": "8dccfa90-46c5-4eab-bb60-f78ce0d357f8",
   "metadata": {},
   "outputs": [],
   "source": [
    "b = np.array([[1, 2, 3], [4, 5, 6]])"
   ]
  },
  {
   "cell_type": "code",
   "execution_count": 38,
   "id": "9b0641fa-2110-40b5-946d-ab86fbd43cdf",
   "metadata": {},
   "outputs": [],
   "source": [
    "b[1, 2] = 7"
   ]
  },
  {
   "cell_type": "code",
   "execution_count": 39,
   "id": "96841e42-1626-45e8-92ec-1c1b887dc5a1",
   "metadata": {},
   "outputs": [
    {
     "data": {
      "text/plain": [
       "array([[1, 2, 3],\n",
       "       [4, 5, 7]])"
      ]
     },
     "execution_count": 39,
     "metadata": {},
     "output_type": "execute_result"
    }
   ],
   "source": [
    "b"
   ]
  },
  {
   "cell_type": "code",
   "execution_count": 40,
   "id": "a9c853df-c247-4922-bf83-3ff42bcf4503",
   "metadata": {},
   "outputs": [
    {
     "data": {
      "text/plain": [
       "array([[1, 2, 8],\n",
       "       [4, 5, 8]])"
      ]
     },
     "execution_count": 40,
     "metadata": {},
     "output_type": "execute_result"
    }
   ],
   "source": [
    "b[:, 2] = 8\n",
    "b"
   ]
  },
  {
   "cell_type": "markdown",
   "id": "275e97c5-91fb-49d4-8780-76f3fc965ff0",
   "metadata": {},
   "source": [
    "# Numpy operations"
   ]
  },
  {
   "cell_type": "code",
   "execution_count": 41,
   "id": "b4108e3b-31c7-4392-81bc-55825288a2c2",
   "metadata": {},
   "outputs": [
    {
     "data": {
      "text/plain": [
       "6"
      ]
     },
     "execution_count": 41,
     "metadata": {},
     "output_type": "execute_result"
    }
   ],
   "source": [
    "a = np.array([1, 2, 3])\n",
    "np.sum(a)"
   ]
  },
  {
   "cell_type": "code",
   "execution_count": 42,
   "id": "0b06b02d-826c-4e4d-9d61-133f48c8362c",
   "metadata": {},
   "outputs": [
    {
     "data": {
      "text/plain": [
       "6"
      ]
     },
     "execution_count": 42,
     "metadata": {},
     "output_type": "execute_result"
    }
   ],
   "source": [
    "a.sum()"
   ]
  },
  {
   "cell_type": "code",
   "execution_count": 43,
   "id": "9119ff7b-e61c-4141-aefd-25af46b66056",
   "metadata": {},
   "outputs": [
    {
     "data": {
      "text/plain": [
       "array([[1, 2, 8],\n",
       "       [4, 5, 8]])"
      ]
     },
     "execution_count": 43,
     "metadata": {},
     "output_type": "execute_result"
    }
   ],
   "source": [
    "b"
   ]
  },
  {
   "cell_type": "code",
   "execution_count": 44,
   "id": "48a0a415-0bac-46dc-9a0e-42bdcffa0e3f",
   "metadata": {},
   "outputs": [
    {
     "data": {
      "text/plain": [
       "array([11, 17])"
      ]
     },
     "execution_count": 44,
     "metadata": {},
     "output_type": "execute_result"
    }
   ],
   "source": [
    "b.sum(axis=1)"
   ]
  },
  {
   "cell_type": "code",
   "execution_count": 45,
   "id": "4124c928-4688-4675-bc55-7c0344087279",
   "metadata": {},
   "outputs": [
    {
     "data": {
      "text/plain": [
       "array([ 5,  7, 16])"
      ]
     },
     "execution_count": 45,
     "metadata": {},
     "output_type": "execute_result"
    }
   ],
   "source": [
    "b.sum(axis=0)"
   ]
  },
  {
   "cell_type": "code",
   "execution_count": 46,
   "id": "e97ad861-7f4e-4e25-bf48-3386bf4b23c6",
   "metadata": {},
   "outputs": [
    {
     "data": {
      "text/plain": [
       "dtype('int32')"
      ]
     },
     "execution_count": 46,
     "metadata": {},
     "output_type": "execute_result"
    }
   ],
   "source": [
    "b.dtype"
   ]
  },
  {
   "cell_type": "code",
   "execution_count": 47,
   "id": "3548b90e-b6df-488d-89ea-33ca322f5b6b",
   "metadata": {},
   "outputs": [
    {
     "data": {
      "text/plain": [
       "array([[1., 2., 8.],\n",
       "       [4., 5., 8.]])"
      ]
     },
     "execution_count": 47,
     "metadata": {},
     "output_type": "execute_result"
    }
   ],
   "source": [
    "b.astype(\"float\")"
   ]
  },
  {
   "cell_type": "code",
   "execution_count": 48,
   "id": "110a8a34-b33b-43df-bc70-857270a59fa8",
   "metadata": {},
   "outputs": [
    {
     "data": {
      "text/plain": [
       "array([[1., 2., 8.],\n",
       "       [4., 5., 8.]], dtype=float16)"
      ]
     },
     "execution_count": 48,
     "metadata": {},
     "output_type": "execute_result"
    }
   ],
   "source": [
    "b.astype(\"float16\")"
   ]
  },
  {
   "cell_type": "code",
   "execution_count": 51,
   "id": "bb19d2e7-41e7-457b-8bb7-991c5b5b8ed3",
   "metadata": {},
   "outputs": [
    {
     "data": {
      "text/plain": [
       "array([1, 2, 3, 4, 5, 6])"
      ]
     },
     "execution_count": 51,
     "metadata": {},
     "output_type": "execute_result"
    }
   ],
   "source": [
    "c1 = np.array([1, 2, 3, 4, 5, 6])\n",
    "c1"
   ]
  },
  {
   "cell_type": "code",
   "execution_count": 52,
   "id": "db07d849-d1ef-4148-8729-12a17d93d2f5",
   "metadata": {},
   "outputs": [
    {
     "data": {
      "text/plain": [
       "(6,)"
      ]
     },
     "execution_count": 52,
     "metadata": {},
     "output_type": "execute_result"
    }
   ],
   "source": [
    "c1.shape"
   ]
  },
  {
   "cell_type": "code",
   "execution_count": 53,
   "id": "ed89c52c-846b-43a8-9467-25407cf3c1ed",
   "metadata": {},
   "outputs": [
    {
     "data": {
      "text/plain": [
       "array([[1, 2, 3],\n",
       "       [4, 5, 6]])"
      ]
     },
     "execution_count": 53,
     "metadata": {},
     "output_type": "execute_result"
    }
   ],
   "source": [
    "c2 = c1.reshape((2, 3))\n",
    "c2"
   ]
  },
  {
   "cell_type": "code",
   "execution_count": 56,
   "id": "acad3fda-6e39-4d8a-b447-a03a5ce605ad",
   "metadata": {},
   "outputs": [
    {
     "data": {
      "text/plain": [
       "array([[1, 2, 3, 4],\n",
       "       [5, 6, 7, 8]])"
      ]
     },
     "execution_count": 56,
     "metadata": {},
     "output_type": "execute_result"
    }
   ],
   "source": [
    "c3 = c1.reshape((2, 4))\n",
    "c3"
   ]
  },
  {
   "cell_type": "code",
   "execution_count": 55,
   "id": "2fc882f4-4dfd-4d42-add1-dd8b7eb5fc32",
   "metadata": {},
   "outputs": [],
   "source": [
    "c1 = np.array([1, 2, 3, 4, 5, 6, 7, 8])"
   ]
  },
  {
   "cell_type": "code",
   "execution_count": 59,
   "id": "38c9064d-bbcb-4d84-98c4-4e46bfa993ba",
   "metadata": {},
   "outputs": [
    {
     "data": {
      "text/plain": [
       "array([1, 2, 3, 4, 5, 6, 7, 8])"
      ]
     },
     "execution_count": 59,
     "metadata": {},
     "output_type": "execute_result"
    }
   ],
   "source": [
    "c4 = c3.ravel()\n",
    "c4"
   ]
  },
  {
   "cell_type": "code",
   "execution_count": 60,
   "id": "a5282174-25b3-4c4b-aee3-153b5447d61b",
   "metadata": {},
   "outputs": [
    {
     "data": {
      "text/plain": [
       "array([1, 2, 3, 4, 5, 6])"
      ]
     },
     "execution_count": 60,
     "metadata": {},
     "output_type": "execute_result"
    }
   ],
   "source": [
    "c5 = c2.flatten()\n",
    "c5"
   ]
  },
  {
   "cell_type": "code",
   "execution_count": 61,
   "id": "c67bf02b-5053-4e32-b54d-20dc6c100a93",
   "metadata": {},
   "outputs": [
    {
     "data": {
      "text/plain": [
       "array([1, 2, 3])"
      ]
     },
     "execution_count": 61,
     "metadata": {},
     "output_type": "execute_result"
    }
   ],
   "source": [
    "a = np.array([1, 2, 3])\n",
    "a"
   ]
  },
  {
   "cell_type": "code",
   "execution_count": 67,
   "id": "56ae3aa7-5a65-41d7-9892-e3d1658934a5",
   "metadata": {},
   "outputs": [],
   "source": [
    "a1 = a.copy()"
   ]
  },
  {
   "cell_type": "code",
   "execution_count": 68,
   "id": "028a774f-2c5b-41e5-ae38-8329f0df69fb",
   "metadata": {},
   "outputs": [
    {
     "data": {
      "text/plain": [
       "array([10,  2,  3])"
      ]
     },
     "execution_count": 68,
     "metadata": {},
     "output_type": "execute_result"
    }
   ],
   "source": [
    "a1"
   ]
  },
  {
   "cell_type": "code",
   "execution_count": 69,
   "id": "c822a1b0-8c9e-4206-988a-da17a6293219",
   "metadata": {},
   "outputs": [],
   "source": [
    "a[0] = 1"
   ]
  },
  {
   "cell_type": "code",
   "execution_count": 70,
   "id": "aa6bea8b-c556-4a0d-ba95-6b19c5b4871b",
   "metadata": {},
   "outputs": [
    {
     "data": {
      "text/plain": [
       "array([1, 2, 3])"
      ]
     },
     "execution_count": 70,
     "metadata": {},
     "output_type": "execute_result"
    }
   ],
   "source": [
    "a"
   ]
  },
  {
   "cell_type": "code",
   "execution_count": 71,
   "id": "77450989-8e17-4811-8a1b-b2e2d2c6099a",
   "metadata": {},
   "outputs": [
    {
     "data": {
      "text/plain": [
       "array([10,  2,  3])"
      ]
     },
     "execution_count": 71,
     "metadata": {},
     "output_type": "execute_result"
    }
   ],
   "source": [
    "a1"
   ]
  },
  {
   "cell_type": "code",
   "execution_count": 72,
   "id": "3b9fd3f0-4bbc-48f3-80e7-628cb3fb1c85",
   "metadata": {},
   "outputs": [
    {
     "data": {
      "text/plain": [
       "array([0, 1, 2, 3, 4, 5, 6, 7, 8, 9])"
      ]
     },
     "execution_count": 72,
     "metadata": {},
     "output_type": "execute_result"
    }
   ],
   "source": [
    "np.arange(10)"
   ]
  },
  {
   "cell_type": "code",
   "execution_count": 76,
   "id": "e0f2260f-5537-49e9-928f-8a7cdf7d53c9",
   "metadata": {},
   "outputs": [
    {
     "data": {
      "text/plain": [
       "array([2, 4, 6, 8])"
      ]
     },
     "execution_count": 76,
     "metadata": {},
     "output_type": "execute_result"
    }
   ],
   "source": [
    "np.arange(2, 10, 2)"
   ]
  },
  {
   "cell_type": "code",
   "execution_count": 81,
   "id": "9a9a50b9-6e1a-496a-b1b1-47cc214a91c3",
   "metadata": {},
   "outputs": [
    {
     "data": {
      "text/plain": [
       "array([[0.80804439, 0.41291803],\n",
       "       [0.97176569, 0.97706287],\n",
       "       [0.4013512 , 0.5793742 ],\n",
       "       [0.36687388, 0.36195288]])"
      ]
     },
     "execution_count": 81,
     "metadata": {},
     "output_type": "execute_result"
    }
   ],
   "source": [
    "f_array = np.random.random((4, 2))\n",
    "f_array"
   ]
  },
  {
   "cell_type": "code",
   "execution_count": 97,
   "id": "6c190aaa-a7e9-43c2-933c-d487943faba1",
   "metadata": {},
   "outputs": [],
   "source": [
    "np.random.seed(53)"
   ]
  },
  {
   "cell_type": "code",
   "execution_count": 99,
   "id": "1908ec18-0e14-4c25-8a85-6c62a145585c",
   "metadata": {},
   "outputs": [
    {
     "data": {
      "text/plain": [
       "array([[0.47837906, 0.34778502],\n",
       "       [0.13447832, 0.25997735],\n",
       "       [0.04763468, 0.3942933 ],\n",
       "       [0.37161619, 0.55673292]])"
      ]
     },
     "execution_count": 99,
     "metadata": {},
     "output_type": "execute_result"
    }
   ],
   "source": [
    "f_array = np.random.random((4, 2))\n",
    "f_array"
   ]
  },
  {
   "cell_type": "code",
   "execution_count": 104,
   "id": "1715df63-284b-435b-930a-06003a472089",
   "metadata": {},
   "outputs": [
    {
     "data": {
      "text/plain": [
       "array([[1, 6, 6, 6, 1],\n",
       "       [8, 7, 7, 5, 9],\n",
       "       [9, 2, 9, 3, 1]])"
      ]
     },
     "execution_count": 104,
     "metadata": {},
     "output_type": "execute_result"
    }
   ],
   "source": [
    "np.random.randint(1, 10, (3, 5))"
   ]
  },
  {
   "cell_type": "code",
   "execution_count": 105,
   "id": "a3567763-9c2c-44aa-aad8-1dbe2a8977bc",
   "metadata": {},
   "outputs": [
    {
     "data": {
      "text/plain": [
       "array([[3.88589967, 1.22858693],\n",
       "       [3.55539826, 1.33842452],\n",
       "       [4.33347794, 1.1639771 ],\n",
       "       [1.10423301, 0.14177432]])"
      ]
     },
     "execution_count": 105,
     "metadata": {},
     "output_type": "execute_result"
    }
   ],
   "source": [
    "np.random.uniform(0.0, 5.0, size=(4, 2))"
   ]
  },
  {
   "cell_type": "code",
   "execution_count": 133,
   "id": "2e5a2e82-fedd-4716-ae17-f575375d7f0b",
   "metadata": {},
   "outputs": [
    {
     "data": {
      "image/png": "[encoded data removed]",
      "text/plain": [
       "<Figure size 640x480 with 1 Axes>"
      ]
     },
     "metadata": {},
     "output_type": "display_data"
    }
   ],
   "source": [
    "import matplotlib.pyplot as plt\n",
    "\n",
    "a = np.random.randn(10000)\n",
    "plt.hist(a)\n",
    "plt.show()"
   ]
  },
  {
   "cell_type": "code",
   "execution_count": 107,
   "id": "dbf1bf43-88c9-4357-9649-fa90197bfee5",
   "metadata": {},
   "outputs": [
    {
     "data": {
      "text/plain": [
       "array([[ 0.12339039, -0.42238716,  0.92782162],\n",
       "       [ 1.10396234,  0.54008761,  0.85048229],\n",
       "       [ 2.11901803,  0.73680517, -0.55318564],\n",
       "       [ 0.17214225, -0.2385059 ,  1.9735036 ]])"
      ]
     },
     "execution_count": 107,
     "metadata": {},
     "output_type": "execute_result"
    }
   ],
   "source": [
    "np.random.randn(4, 3)"
   ]
  },
  {
   "cell_type": "code",
   "execution_count": 111,
   "id": "221c458d-50e2-46c6-ba3b-d63e91fc471d",
   "metadata": {},
   "outputs": [
    {
     "data": {
      "text/plain": [
       "array([[[1., 1., 1., 1., 1.],\n",
       "        [1., 1., 1., 1., 1.],\n",
       "        [1., 1., 1., 1., 1.],\n",
       "        [1., 1., 1., 1., 1.]],\n",
       "\n",
       "       [[1., 1., 1., 1., 1.],\n",
       "        [1., 1., 1., 1., 1.],\n",
       "        [1., 1., 1., 1., 1.],\n",
       "        [1., 1., 1., 1., 1.]],\n",
       "\n",
       "       [[1., 1., 1., 1., 1.],\n",
       "        [1., 1., 1., 1., 1.],\n",
       "        [1., 1., 1., 1., 1.],\n",
       "        [1., 1., 1., 1., 1.]]])"
      ]
     },
     "execution_count": 111,
     "metadata": {},
     "output_type": "execute_result"
    }
   ],
   "source": [
    "np.ones((3, 4, 5))"
   ]
  },
  {
   "cell_type": "code",
   "execution_count": 112,
   "id": "cb30ffed-4d2d-43ab-8cc9-3de54677ac47",
   "metadata": {},
   "outputs": [
    {
     "data": {
      "text/plain": [
       "array([[1., 0., 0., 0.],\n",
       "       [0., 1., 0., 0.],\n",
       "       [0., 0., 1., 0.],\n",
       "       [0., 0., 0., 1.]])"
      ]
     },
     "execution_count": 112,
     "metadata": {},
     "output_type": "execute_result"
    }
   ],
   "source": [
    "np.eye(4)"
   ]
  },
  {
   "cell_type": "code",
   "execution_count": 115,
   "id": "bf4a5156-fc99-4a71-a2e9-5ea2e2cac530",
   "metadata": {},
   "outputs": [
    {
     "data": {
      "text/plain": [
       "array([[5., 5., 5., 5.],\n",
       "       [5., 5., 5., 5.],\n",
       "       [5., 5., 5., 5.]], dtype=float32)"
      ]
     },
     "execution_count": 115,
     "metadata": {},
     "output_type": "execute_result"
    }
   ],
   "source": [
    "np.full((3, 4), 5).astype(\"float32\")"
   ]
  },
  {
   "cell_type": "code",
   "execution_count": 117,
   "id": "4586cd15-ba54-48d3-a461-3ad417e4fb75",
   "metadata": {},
   "outputs": [],
   "source": [
    "a = np.array([1, 2, 3, np.nan])"
   ]
  },
  {
   "cell_type": "code",
   "execution_count": 118,
   "id": "a9668511-dd2b-4e45-9b14-29492c3ed9f9",
   "metadata": {},
   "outputs": [
    {
     "data": {
      "text/plain": [
       "array([ 1.,  2.,  3., nan])"
      ]
     },
     "execution_count": 118,
     "metadata": {},
     "output_type": "execute_result"
    }
   ],
   "source": [
    "a"
   ]
  },
  {
   "cell_type": "code",
   "execution_count": 119,
   "id": "b6a45047-d0b0-4a7d-8849-95f464766e28",
   "metadata": {},
   "outputs": [
    {
     "data": {
      "text/plain": [
       "nan"
      ]
     },
     "execution_count": 119,
     "metadata": {},
     "output_type": "execute_result"
    }
   ],
   "source": [
    "np.sum(a)"
   ]
  },
  {
   "cell_type": "code",
   "execution_count": 120,
   "id": "baffb3ad-b63e-4a7e-85b4-5466ad399fe7",
   "metadata": {},
   "outputs": [
    {
     "data": {
      "text/plain": [
       "6.0"
      ]
     },
     "execution_count": 120,
     "metadata": {},
     "output_type": "execute_result"
    }
   ],
   "source": [
    "np.nansum(a)"
   ]
  },
  {
   "cell_type": "code",
   "execution_count": 121,
   "id": "c33b6bd5-6068-47e7-a984-5f45facb748b",
   "metadata": {},
   "outputs": [
    {
     "data": {
      "text/plain": [
       "nan"
      ]
     },
     "execution_count": 121,
     "metadata": {},
     "output_type": "execute_result"
    }
   ],
   "source": [
    "np.mean(a)"
   ]
  },
  {
   "cell_type": "code",
   "execution_count": 122,
   "id": "7503cb62-cd73-4084-b7c4-5e92b8dfedf9",
   "metadata": {},
   "outputs": [
    {
     "data": {
      "text/plain": [
       "2.0"
      ]
     },
     "execution_count": 122,
     "metadata": {},
     "output_type": "execute_result"
    }
   ],
   "source": [
    "np.nanmean(a)"
   ]
  },
  {
   "cell_type": "code",
   "execution_count": 123,
   "id": "99df92c4-9d20-401d-bb33-fcb79ed7f850",
   "metadata": {},
   "outputs": [
    {
     "data": {
      "text/plain": [
       "3.0"
      ]
     },
     "execution_count": 123,
     "metadata": {},
     "output_type": "execute_result"
    }
   ],
   "source": [
    "np.nanmax(a)"
   ]
  },
  {
   "cell_type": "code",
   "execution_count": 124,
   "id": "f075db85-f99a-4d9b-945c-55bdacc1e46f",
   "metadata": {},
   "outputs": [
    {
     "data": {
      "text/plain": [
       "0.816496580927726"
      ]
     },
     "execution_count": 124,
     "metadata": {},
     "output_type": "execute_result"
    }
   ],
   "source": [
    "np.nanstd(a)"
   ]
  },
  {
   "cell_type": "code",
   "execution_count": 127,
   "id": "2174d050-fe03-484a-9fb2-4f1a9c0b2084",
   "metadata": {},
   "outputs": [
    {
     "data": {
      "text/plain": [
       "array([ 0.        ,  1.11111111,  2.22222222,  3.33333333,  4.44444444,\n",
       "        5.55555556,  6.66666667,  7.77777778,  8.88888889, 10.        ])"
      ]
     },
     "execution_count": 127,
     "metadata": {},
     "output_type": "execute_result"
    }
   ],
   "source": [
    "np.linspace(0, 10, 10)"
   ]
  },
  {
   "cell_type": "code",
   "execution_count": 134,
   "id": "4507c7d9-2ddd-436e-9183-14d85a2f6247",
   "metadata": {},
   "outputs": [
    {
     "data": {
      "text/plain": [
       "array([ 0,  4, -3,  2])"
      ]
     },
     "execution_count": 134,
     "metadata": {},
     "output_type": "execute_result"
    }
   ],
   "source": [
    "l = np.array([1, 1, 5, 2, 4])\n",
    "np.diff(l)"
   ]
  },
  {
   "cell_type": "code",
   "execution_count": 140,
   "id": "f354d8c7-a5c1-44da-9dcc-e9813d8dcae6",
   "metadata": {},
   "outputs": [
    {
     "data": {
      "text/plain": [
       "array([[3, 3, 0]])"
      ]
     },
     "execution_count": 140,
     "metadata": {},
     "output_type": "execute_result"
    }
   ],
   "source": [
    "np.diff(b, axis=0)"
   ]
  },
  {
   "cell_type": "code",
   "execution_count": 138,
   "id": "961d8d2c-0f40-435c-b186-4c420416c0ec",
   "metadata": {},
   "outputs": [
    {
     "data": {
      "text/plain": [
       "array([[1, 2, 8],\n",
       "       [4, 5, 8]])"
      ]
     },
     "execution_count": 138,
     "metadata": {},
     "output_type": "execute_result"
    }
   ],
   "source": [
    "b"
   ]
  },
  {
   "cell_type": "code",
   "execution_count": 141,
   "id": "2cc9f92a-2093-4693-86e5-b1984be0c4ca",
   "metadata": {},
   "outputs": [],
   "source": [
    "a = np.array([1, 2, 3])\n",
    "b = np.array([4, 5, 6])"
   ]
  },
  {
   "cell_type": "code",
   "execution_count": 142,
   "id": "ae5ad07e-b8c9-4782-8d3f-04d43240dd44",
   "metadata": {},
   "outputs": [
    {
     "data": {
      "text/plain": [
       "(array([1, 2, 3]), array([4, 5, 6]))"
      ]
     },
     "execution_count": 142,
     "metadata": {},
     "output_type": "execute_result"
    }
   ],
   "source": [
    "a, b"
   ]
  },
  {
   "cell_type": "code",
   "execution_count": 143,
   "id": "2559683f-d03a-4939-816d-a364b7f401ce",
   "metadata": {},
   "outputs": [
    {
     "data": {
      "text/plain": [
       "array([1, 2, 3, 4, 5, 6])"
      ]
     },
     "execution_count": 143,
     "metadata": {},
     "output_type": "execute_result"
    }
   ],
   "source": [
    "np.concatenate([a, b])"
   ]
  },
  {
   "cell_type": "code",
   "execution_count": 144,
   "id": "407ac4e2-4513-4fa5-bf4e-089359048d55",
   "metadata": {},
   "outputs": [
    {
     "data": {
      "text/plain": [
       "(array([[1, 2, 3],\n",
       "        [4, 5, 6]]),\n",
       " array([[10, 20],\n",
       "        [30, 40]]))"
      ]
     },
     "execution_count": 144,
     "metadata": {},
     "output_type": "execute_result"
    }
   ],
   "source": [
    "c = np.array([[1, 2, 3], [4, 5, 6]])\n",
    "d = np.array([[10, 20], [30, 40]])\n",
    "c, d"
   ]
  },
  {
   "cell_type": "code",
   "execution_count": 147,
   "id": "7374eb2f-a72b-4f14-aad9-77db172bb140",
   "metadata": {},
   "outputs": [
    {
     "data": {
      "text/plain": [
       "array([[ 1,  2,  3, 10, 20],\n",
       "       [ 4,  5,  6, 30, 40]])"
      ]
     },
     "execution_count": 147,
     "metadata": {},
     "output_type": "execute_result"
    }
   ],
   "source": [
    "np.concatenate([c, d], axis=1)"
   ]
  },
  {
   "cell_type": "code",
   "execution_count": 148,
   "id": "601feefd-02f5-4648-8ec2-ee19f5acdfd6",
   "metadata": {},
   "outputs": [],
   "source": [
    "e = np.array([[1, 2, 3], [4, 5, 6]])\n",
    "f = np.array([[10, 20, 30], [40, 50, 60]])"
   ]
  },
  {
   "cell_type": "code",
   "execution_count": 149,
   "id": "d18deda1-e658-4c7c-aeec-4698c04990a8",
   "metadata": {},
   "outputs": [
    {
     "data": {
      "text/plain": [
       "array([[ 1,  2,  3],\n",
       "       [ 4,  5,  6],\n",
       "       [10, 20, 30],\n",
       "       [40, 50, 60]])"
      ]
     },
     "execution_count": 149,
     "metadata": {},
     "output_type": "execute_result"
    }
   ],
   "source": [
    "np.vstack([e, f])"
   ]
  },
  {
   "cell_type": "code",
   "execution_count": 150,
   "id": "78267051-77d3-423f-abf8-da4d32cdb6fb",
   "metadata": {},
   "outputs": [
    {
     "data": {
      "text/plain": [
       "array([[ 1,  2,  3, 10, 20, 30],\n",
       "       [ 4,  5,  6, 40, 50, 60]])"
      ]
     },
     "execution_count": 150,
     "metadata": {},
     "output_type": "execute_result"
    }
   ],
   "source": [
    "np.hstack([e, f])"
   ]
  },
  {
   "cell_type": "code",
   "execution_count": 151,
   "id": "2e942ffe-a4a1-465c-98c1-67d701da4056",
   "metadata": {},
   "outputs": [
    {
     "data": {
      "text/plain": [
       "array([[ 1,  2, 10],\n",
       "       [ 3,  4, 20],\n",
       "       [ 5,  6, 30],\n",
       "       [ 7,  8, 40]])"
      ]
     },
     "execution_count": 151,
     "metadata": {},
     "output_type": "execute_result"
    }
   ],
   "source": [
    "a = np.array([[1, 2, 10], [3, 4, 20], [5, 6, 30], [7, 8, 40]])\n",
    "a"
   ]
  },
  {
   "cell_type": "code",
   "execution_count": 152,
   "id": "6341f19b-a203-4a5b-bab7-1bf9afda09ca",
   "metadata": {},
   "outputs": [],
   "source": [
    "col1, col2 = np.hsplit(a, [2])"
   ]
  },
  {
   "cell_type": "code",
   "execution_count": 153,
   "id": "ee5023d5-7343-45bc-a361-5ba6e0c65a89",
   "metadata": {},
   "outputs": [
    {
     "data": {
      "text/plain": [
       "array([[1, 2],\n",
       "       [3, 4],\n",
       "       [5, 6],\n",
       "       [7, 8]])"
      ]
     },
     "execution_count": 153,
     "metadata": {},
     "output_type": "execute_result"
    }
   ],
   "source": [
    "col1"
   ]
  },
  {
   "cell_type": "code",
   "execution_count": 154,
   "id": "ed7366c1-7ae8-46b6-9efb-c3fb45307c36",
   "metadata": {},
   "outputs": [
    {
     "data": {
      "text/plain": [
       "array([[10],\n",
       "       [20],\n",
       "       [30],\n",
       "       [40]])"
      ]
     },
     "execution_count": 154,
     "metadata": {},
     "output_type": "execute_result"
    }
   ],
   "source": [
    "col2"
   ]
  },
  {
   "cell_type": "code",
   "execution_count": 158,
   "id": "5062eb79-0417-4915-90f8-66991913bd1c",
   "metadata": {},
   "outputs": [
    {
     "data": {
      "text/plain": [
       "(array([[ 1,  2, 10]]),\n",
       " array([[ 3,  4, 20],\n",
       "        [ 5,  6, 30],\n",
       "        [ 7,  8, 40]]))"
      ]
     },
     "execution_count": 158,
     "metadata": {},
     "output_type": "execute_result"
    }
   ],
   "source": [
    "row1, row2 = np.vsplit(a, [1])\n",
    "row1, row2"
   ]
  },
  {
   "cell_type": "code",
   "execution_count": 159,
   "id": "b8450eae-2b9b-4bd9-80c8-63b8b234096d",
   "metadata": {},
   "outputs": [],
   "source": [
    "a = np.array([[1, 2, 3], [4, 5, 6], [7, 8, 9]])"
   ]
  },
  {
   "cell_type": "code",
   "execution_count": 160,
   "id": "4239ae21-aef3-44e0-a29c-e539e2e1e86b",
   "metadata": {},
   "outputs": [
    {
     "data": {
      "text/plain": [
       "array([[1, 2, 3],\n",
       "       [4, 5, 6],\n",
       "       [7, 8, 9]])"
      ]
     },
     "execution_count": 160,
     "metadata": {},
     "output_type": "execute_result"
    }
   ],
   "source": [
    "a"
   ]
  },
  {
   "cell_type": "code",
   "execution_count": 161,
   "id": "4bf7352e-926a-4b2f-9899-8715a8ba61cf",
   "metadata": {},
   "outputs": [
    {
     "data": {
      "text/plain": [
       "array([[1, 4, 7],\n",
       "       [2, 5, 8],\n",
       "       [3, 6, 9]])"
      ]
     },
     "execution_count": 161,
     "metadata": {},
     "output_type": "execute_result"
    }
   ],
   "source": [
    "a.T"
   ]
  },
  {
   "cell_type": "code",
   "execution_count": 162,
   "id": "28370095-eccb-4eef-98a5-0d4dd8b77902",
   "metadata": {},
   "outputs": [
    {
     "data": {
      "text/plain": [
       "array([1, 2, 3])"
      ]
     },
     "execution_count": 162,
     "metadata": {},
     "output_type": "execute_result"
    }
   ],
   "source": [
    "a = np.array([1, 2, 3])\n",
    "a"
   ]
  },
  {
   "cell_type": "code",
   "execution_count": 163,
   "id": "48050e76-3186-4169-9b24-ecc3d3829c47",
   "metadata": {},
   "outputs": [
    {
     "data": {
      "text/plain": [
       "(3,)"
      ]
     },
     "execution_count": 163,
     "metadata": {},
     "output_type": "execute_result"
    }
   ],
   "source": [
    "a.shape"
   ]
  },
  {
   "cell_type": "code",
   "execution_count": 166,
   "id": "57d555ea-8b9c-468a-aa50-bab1ba63ce34",
   "metadata": {},
   "outputs": [],
   "source": [
    "a = a[np.newaxis, :]"
   ]
  },
  {
   "cell_type": "code",
   "execution_count": 167,
   "id": "2f8224da-2014-4535-a760-5479520a2f5a",
   "metadata": {},
   "outputs": [
    {
     "data": {
      "text/plain": [
       "(1, 3)"
      ]
     },
     "execution_count": 167,
     "metadata": {},
     "output_type": "execute_result"
    }
   ],
   "source": [
    "a.shape"
   ]
  },
  {
   "cell_type": "code",
   "execution_count": 168,
   "id": "1107b106-dfd9-48ff-8293-9b2f2c5653fe",
   "metadata": {},
   "outputs": [],
   "source": [
    "a = a[:, :, np.newaxis]"
   ]
  },
  {
   "cell_type": "code",
   "execution_count": 169,
   "id": "0a65d1ad-a589-429b-9e9c-e0d73f86ab6e",
   "metadata": {},
   "outputs": [
    {
     "data": {
      "text/plain": [
       "(1, 3, 1)"
      ]
     },
     "execution_count": 169,
     "metadata": {},
     "output_type": "execute_result"
    }
   ],
   "source": [
    "a.shape"
   ]
  },
  {
   "cell_type": "code",
   "execution_count": 170,
   "id": "e0258d0e-8d13-4551-a62c-865d410d6239",
   "metadata": {},
   "outputs": [
    {
     "data": {
      "text/plain": [
       "array([[[1],\n",
       "        [2],\n",
       "        [3]]])"
      ]
     },
     "execution_count": 170,
     "metadata": {},
     "output_type": "execute_result"
    }
   ],
   "source": [
    "a"
   ]
  },
  {
   "cell_type": "code",
   "execution_count": 171,
   "id": "bc943b8f-40ed-4cab-862f-87b3f41a2784",
   "metadata": {},
   "outputs": [],
   "source": [
    "x = np.array([1, 2, 3, 4])\n",
    "y = np.array([5, 6, 7])"
   ]
  },
  {
   "cell_type": "code",
   "execution_count": 172,
   "id": "cea4809f-4e3e-4502-ad5d-5aa64a833ad1",
   "metadata": {},
   "outputs": [
    {
     "data": {
      "text/plain": [
       "(array([1, 2, 3, 4]), array([5, 6, 7]))"
      ]
     },
     "execution_count": 172,
     "metadata": {},
     "output_type": "execute_result"
    }
   ],
   "source": [
    "x, y"
   ]
  },
  {
   "cell_type": "code",
   "execution_count": 173,
   "id": "66aa39c4-f113-450f-aa85-cbcdf6ae74ed",
   "metadata": {},
   "outputs": [],
   "source": [
    "xx, yy = np.meshgrid(x, y)"
   ]
  },
  {
   "cell_type": "code",
   "execution_count": 174,
   "id": "936e53c9-087b-40af-b063-9551c5260e5f",
   "metadata": {},
   "outputs": [
    {
     "data": {
      "text/plain": [
       "array([[1, 2, 3, 4],\n",
       "       [1, 2, 3, 4],\n",
       "       [1, 2, 3, 4]])"
      ]
     },
     "execution_count": 174,
     "metadata": {},
     "output_type": "execute_result"
    }
   ],
   "source": [
    "xx"
   ]
  },
  {
   "cell_type": "code",
   "execution_count": 175,
   "id": "07c28448-c6b1-4e88-b0d6-89c81ade32c9",
   "metadata": {},
   "outputs": [
    {
     "data": {
      "text/plain": [
       "array([[5, 5, 5, 5],\n",
       "       [6, 6, 6, 6],\n",
       "       [7, 7, 7, 7]])"
      ]
     },
     "execution_count": 175,
     "metadata": {},
     "output_type": "execute_result"
    }
   ],
   "source": [
    "yy"
   ]
  },
  {
   "cell_type": "code",
   "execution_count": 176,
   "id": "4d3c8ce3-9055-4b42-abf9-51a5bd432627",
   "metadata": {},
   "outputs": [],
   "source": [
    "a = np.array([[-1, -2, -3, 4, 5], [6, 7, -8, -9, -10]])"
   ]
  },
  {
   "cell_type": "code",
   "execution_count": 177,
   "id": "71acb502-f466-49a0-b0f3-caf172ddc7d6",
   "metadata": {},
   "outputs": [
    {
     "data": {
      "text/plain": [
       "array([[ -1,  -2,  -3,   4,   5],\n",
       "       [  6,   7,  -8,  -9, -10]])"
      ]
     },
     "execution_count": 177,
     "metadata": {},
     "output_type": "execute_result"
    }
   ],
   "source": [
    "a"
   ]
  },
  {
   "cell_type": "code",
   "execution_count": 179,
   "id": "fe8e6e45-1512-4a2b-a03e-c6e86594fdf9",
   "metadata": {},
   "outputs": [],
   "source": [
    "a = np.abs(a)"
   ]
  },
  {
   "cell_type": "code",
   "execution_count": 180,
   "id": "8697f8b2-1f29-42e5-991d-7f75342248f0",
   "metadata": {},
   "outputs": [
    {
     "data": {
      "text/plain": [
       "array([[ 1,  2,  3,  4,  5],\n",
       "       [ 6,  7,  8,  9, 10]])"
      ]
     },
     "execution_count": 180,
     "metadata": {},
     "output_type": "execute_result"
    }
   ],
   "source": [
    "a"
   ]
  },
  {
   "cell_type": "code",
   "execution_count": 187,
   "id": "e1a0d51a-6844-4682-9f66-3ad4747b0786",
   "metadata": {},
   "outputs": [
    {
     "name": "stderr",
     "output_type": "stream",
     "text": [
      "C:\\Users\\Keun Ho Ryu\\AppData\\Local\\Temp\\ipykernel_6872\\4227813043.py:1: RuntimeWarning: divide by zero encountered in log10\n",
      "  plt.plot(np.log10(np.arange(100).flatten()))\n"
     ]
    },
    {
     "data": {
      "text/plain": [
       "[<matplotlib.lines.Line2D at 0x248b975f640>]"
      ]
     },
     "execution_count": 187,
     "metadata": {},
     "output_type": "execute_result"
    },
    {
     "data": {
      "image/png": "[encoded data removed]",
      "text/plain": [
       "<Figure size 640x480 with 1 Axes>"
      ]
     },
     "metadata": {},
     "output_type": "display_data"
    }
   ],
   "source": [
    "plt.plot(np.log10(np.arange(100).flatten()))"
   ]
  },
  {
   "cell_type": "code",
   "execution_count": 188,
   "id": "30c693bb-62e4-4b5a-a58a-a6ec50907711",
   "metadata": {},
   "outputs": [
    {
     "data": {
      "text/plain": [
       "array([1, 2, 3])"
      ]
     },
     "execution_count": 188,
     "metadata": {},
     "output_type": "execute_result"
    }
   ],
   "source": [
    "a = np.array([1, 2, 3])\n",
    "a"
   ]
  },
  {
   "cell_type": "code",
   "execution_count": 189,
   "id": "c90c5ccc-517e-4f55-85b1-aa21bc0d4242",
   "metadata": {},
   "outputs": [
    {
     "data": {
      "text/plain": [
       "array([11, 12, 13])"
      ]
     },
     "execution_count": 189,
     "metadata": {},
     "output_type": "execute_result"
    }
   ],
   "source": [
    "a+10"
   ]
  },
  {
   "cell_type": "code",
   "execution_count": 190,
   "id": "fd48d809-81a9-4784-b7d0-69399113a3e0",
   "metadata": {},
   "outputs": [],
   "source": [
    "b = np.array([4, 5, 6])"
   ]
  },
  {
   "cell_type": "code",
   "execution_count": 191,
   "id": "f91beb02-bbce-42bc-a575-ca7c50185f08",
   "metadata": {},
   "outputs": [
    {
     "data": {
      "text/plain": [
       "(array([1, 2, 3]), array([4, 5, 6]))"
      ]
     },
     "execution_count": 191,
     "metadata": {},
     "output_type": "execute_result"
    }
   ],
   "source": [
    "a, b"
   ]
  },
  {
   "cell_type": "code",
   "execution_count": 192,
   "id": "ac367088-ea1c-4dae-a56f-cdc1d10b68a2",
   "metadata": {},
   "outputs": [
    {
     "data": {
      "text/plain": [
       "array([5, 7, 9])"
      ]
     },
     "execution_count": 192,
     "metadata": {},
     "output_type": "execute_result"
    }
   ],
   "source": [
    "a+b"
   ]
  },
  {
   "cell_type": "code",
   "execution_count": 194,
   "id": "068d5ef7-0fa6-4994-8f8b-4b64ca268043",
   "metadata": {},
   "outputs": [],
   "source": [
    "c = np.array([[10, 20, 30], [40, 50, 60]])\n",
    "d = np.array([[1], [2], [3]])"
   ]
  },
  {
   "cell_type": "code",
   "execution_count": 195,
   "id": "544a6ab9-4adb-4387-9829-3f1e93d0c823",
   "metadata": {},
   "outputs": [
    {
     "data": {
      "text/plain": [
       "(3, 1)"
      ]
     },
     "execution_count": 195,
     "metadata": {},
     "output_type": "execute_result"
    }
   ],
   "source": [
    "d.shape"
   ]
  },
  {
   "cell_type": "code",
   "execution_count": 196,
   "id": "be3f6533-423b-44b8-8819-f6a7c5c24c3d",
   "metadata": {},
   "outputs": [
    {
     "data": {
      "text/plain": [
       "(3,)"
      ]
     },
     "execution_count": 196,
     "metadata": {},
     "output_type": "execute_result"
    }
   ],
   "source": [
    "a.shape"
   ]
  },
  {
   "cell_type": "code",
   "execution_count": 197,
   "id": "2d467481-80e6-481e-b9b9-e7c37f21ab79",
   "metadata": {},
   "outputs": [
    {
     "data": {
      "text/plain": [
       "array([[2, 3, 4],\n",
       "       [3, 4, 5],\n",
       "       [4, 5, 6]])"
      ]
     },
     "execution_count": 197,
     "metadata": {},
     "output_type": "execute_result"
    }
   ],
   "source": [
    "a + d"
   ]
  },
  {
   "cell_type": "code",
   "execution_count": 198,
   "id": "8ca11325-800d-4825-9530-9853d397f92c",
   "metadata": {},
   "outputs": [
    {
     "data": {
      "text/plain": [
       "array([1, 2, 3])"
      ]
     },
     "execution_count": 198,
     "metadata": {},
     "output_type": "execute_result"
    }
   ],
   "source": [
    "a"
   ]
  },
  {
   "cell_type": "code",
   "execution_count": 199,
   "id": "b7eed846-b699-45c1-a607-c52b92b8ab3e",
   "metadata": {},
   "outputs": [
    {
     "data": {
      "text/plain": [
       "array([[1],\n",
       "       [2],\n",
       "       [3]])"
      ]
     },
     "execution_count": 199,
     "metadata": {},
     "output_type": "execute_result"
    }
   ],
   "source": [
    "d"
   ]
  },
  {
   "cell_type": "code",
   "execution_count": 200,
   "id": "b73825c8-7f5c-4384-bc29-41676f7f5f3f",
   "metadata": {},
   "outputs": [
    {
     "data": {
      "text/plain": [
       "(2, 3)"
      ]
     },
     "execution_count": 200,
     "metadata": {},
     "output_type": "execute_result"
    }
   ],
   "source": [
    "c.shape"
   ]
  },
  {
   "cell_type": "code",
   "execution_count": 201,
   "id": "d05bc083-061f-4629-9aeb-278c069532d4",
   "metadata": {},
   "outputs": [
    {
     "data": {
      "text/plain": [
       "array([[11, 22, 33],\n",
       "       [41, 52, 63]])"
      ]
     },
     "execution_count": 201,
     "metadata": {},
     "output_type": "execute_result"
    }
   ],
   "source": [
    "a + c"
   ]
  },
  {
   "cell_type": "code",
   "execution_count": 202,
   "id": "542e464e-7999-4bc6-8aa4-220bc7d4895d",
   "metadata": {},
   "outputs": [
    {
     "name": "stderr",
     "output_type": "stream",
     "text": [
      "C:\\Users\\Keun Ho Ryu\\AppData\\Local\\Temp\\ipykernel_6872\\1354053637.py:3: RuntimeWarning: divide by zero encountered in divide\n",
      "  a / a_inf\n"
     ]
    },
    {
     "data": {
      "text/plain": [
       "array([inf,  1., inf])"
      ]
     },
     "execution_count": 202,
     "metadata": {},
     "output_type": "execute_result"
    }
   ],
   "source": [
    "a = np.array([1, 2, 3])\n",
    "a_inf = np.array([0, 2, 0])\n",
    "a / a_inf"
   ]
  },
  {
   "cell_type": "code",
   "execution_count": 204,
   "id": "23c24b75-ff5a-43ef-affc-9a7a4df37b30",
   "metadata": {},
   "outputs": [
    {
     "data": {
      "text/plain": [
       "(nan, inf)"
      ]
     },
     "execution_count": 204,
     "metadata": {},
     "output_type": "execute_result"
    }
   ],
   "source": [
    "np.nan, np.inf"
   ]
  },
  {
   "cell_type": "code",
   "execution_count": 206,
   "id": "0182b807-09d2-470f-87ee-8fd5452bb626",
   "metadata": {},
   "outputs": [
    {
     "data": {
      "text/plain": [
       "array([1.000000e+06, 9.999995e-01, 3.000000e+06])"
      ]
     },
     "execution_count": 206,
     "metadata": {},
     "output_type": "execute_result"
    }
   ],
   "source": [
    "a / (a_inf+1e-6)"
   ]
  },
  {
   "cell_type": "code",
   "execution_count": 207,
   "id": "7d8663b3-0f6e-409b-a955-db6ca8808638",
   "metadata": {},
   "outputs": [],
   "source": [
    "a = np.array([1, 2, 3])\n",
    "b = np.array([[-1, -2, -3], [4, 5, 6]])"
   ]
  },
  {
   "cell_type": "code",
   "execution_count": 208,
   "id": "89e5b3aa-933b-4fbb-b860-8573652b1484",
   "metadata": {},
   "outputs": [
    {
     "data": {
      "text/plain": [
       "array([-14,  32])"
      ]
     },
     "execution_count": 208,
     "metadata": {},
     "output_type": "execute_result"
    }
   ],
   "source": [
    "np.dot(b, a)"
   ]
  },
  {
   "cell_type": "code",
   "execution_count": 210,
   "id": "8112d56b-4f7f-4c45-b985-d9d09f316654",
   "metadata": {},
   "outputs": [
    {
     "data": {
      "text/plain": [
       "array([-14,  32])"
      ]
     },
     "execution_count": 210,
     "metadata": {},
     "output_type": "execute_result"
    }
   ],
   "source": [
    "b @ a"
   ]
  },
  {
   "cell_type": "code",
   "execution_count": 211,
   "id": "92bb4eaf-2699-497e-b162-0b9ee0048c63",
   "metadata": {},
   "outputs": [
    {
     "data": {
      "text/plain": [
       "((2, 3), (3, 2))"
      ]
     },
     "execution_count": 211,
     "metadata": {},
     "output_type": "execute_result"
    }
   ],
   "source": [
    "a = np.array([[1, 2, 3], [4, 5, 6]])\n",
    "b = np.array([[-1, -2], [3, 4], [5, 6]])\n",
    "a.shape, b.shape"
   ]
  },
  {
   "cell_type": "code",
   "execution_count": 212,
   "id": "6d8300db-90bf-42ab-b9ec-ff8395f5a5ad",
   "metadata": {},
   "outputs": [
    {
     "data": {
      "text/plain": [
       "array([[20, 24],\n",
       "       [41, 48]])"
      ]
     },
     "execution_count": 212,
     "metadata": {},
     "output_type": "execute_result"
    }
   ],
   "source": [
    "a@b"
   ]
  },
  {
   "cell_type": "code",
   "execution_count": 213,
   "id": "e0861750-b514-4473-aade-c23ffbcf7bab",
   "metadata": {},
   "outputs": [
    {
     "data": {
      "text/plain": [
       "array([[ -9, -12, -15],\n",
       "       [ 19,  26,  33],\n",
       "       [ 29,  40,  51]])"
      ]
     },
     "execution_count": 213,
     "metadata": {},
     "output_type": "execute_result"
    }
   ],
   "source": [
    "b@a"
   ]
  },
  {
   "cell_type": "code",
   "execution_count": 215,
   "id": "ea283c07-2008-4d02-9856-b5fe2f741ecd",
   "metadata": {},
   "outputs": [],
   "source": [
    "a = np.array([[-1, -2], [3, 4], [5, 6]])\n",
    "b = a>0"
   ]
  },
  {
   "cell_type": "code",
   "execution_count": 216,
   "id": "466a0b3c-dd95-4016-b6d5-29b6fdee5a8b",
   "metadata": {},
   "outputs": [
    {
     "data": {
      "text/plain": [
       "array([[False, False],\n",
       "       [ True,  True],\n",
       "       [ True,  True]])"
      ]
     },
     "execution_count": 216,
     "metadata": {},
     "output_type": "execute_result"
    }
   ],
   "source": [
    "b"
   ]
  },
  {
   "cell_type": "code",
   "execution_count": 217,
   "id": "ad528c17-5454-439b-b3d3-6530d0a517dd",
   "metadata": {},
   "outputs": [
    {
     "data": {
      "text/plain": [
       "array([3, 4, 5, 6])"
      ]
     },
     "execution_count": 217,
     "metadata": {},
     "output_type": "execute_result"
    }
   ],
   "source": [
    "a[b==True]"
   ]
  },
  {
   "cell_type": "code",
   "execution_count": 218,
   "id": "455c49c7-321f-4fe5-a6d8-8a4d93aa6f77",
   "metadata": {},
   "outputs": [
    {
     "data": {
      "text/plain": [
       "array([3, 4, 5, 6])"
      ]
     },
     "execution_count": 218,
     "metadata": {},
     "output_type": "execute_result"
    }
   ],
   "source": [
    "a[a>0]"
   ]
  },
  {
   "cell_type": "code",
   "execution_count": 220,
   "id": "1b6dd1eb-9489-457e-a5a4-b25b91de5201",
   "metadata": {},
   "outputs": [
    {
     "data": {
      "text/plain": [
       "5"
      ]
     },
     "execution_count": 220,
     "metadata": {},
     "output_type": "execute_result"
    }
   ],
   "source": [
    "np.count_nonzero(a > -2)"
   ]
  },
  {
   "cell_type": "code",
   "execution_count": 221,
   "id": "f54c33d6-56e4-4cd3-bb12-bf788392db52",
   "metadata": {},
   "outputs": [
    {
     "data": {
      "text/plain": [
       "4"
      ]
     },
     "execution_count": 221,
     "metadata": {},
     "output_type": "execute_result"
    }
   ],
   "source": [
    "np.sum(a > 0)"
   ]
  },
  {
   "cell_type": "code",
   "execution_count": 226,
   "id": "3eeb9370-5e42-47ea-aa04-4b01e5d63d9c",
   "metadata": {},
   "outputs": [
    {
     "data": {
      "text/plain": [
       "True"
      ]
     },
     "execution_count": 226,
     "metadata": {},
     "output_type": "execute_result"
    }
   ],
   "source": [
    "np.all(a >= -3)"
   ]
  },
  {
   "cell_type": "code",
   "execution_count": 227,
   "id": "425e4895-38d1-4436-bbb3-0349c8aadcfe",
   "metadata": {},
   "outputs": [],
   "source": [
    "a = np.array([[1, 2, 3], [4, 5, 6]])\n",
    "b = np.array([[1, 3, 5], [2, 4, 6]])\n",
    "c = np.array([1, 2, 3])"
   ]
  },
  {
   "cell_type": "code",
   "execution_count": 228,
   "id": "ad33eac2-b8fa-4f99-bc70-2d5aa3b36187",
   "metadata": {},
   "outputs": [
    {
     "data": {
      "text/plain": [
       "array([[ True, False, False],\n",
       "       [False, False,  True]])"
      ]
     },
     "execution_count": 228,
     "metadata": {},
     "output_type": "execute_result"
    }
   ],
   "source": [
    "a == b"
   ]
  },
  {
   "cell_type": "code",
   "execution_count": 229,
   "id": "82b33b3a-05f7-496d-885e-2b49518b2cc7",
   "metadata": {},
   "outputs": [
    {
     "data": {
      "text/plain": [
       "array([[ True,  True,  True],\n",
       "       [False, False, False]])"
      ]
     },
     "execution_count": 229,
     "metadata": {},
     "output_type": "execute_result"
    }
   ],
   "source": [
    "a == c"
   ]
  },
  {
   "cell_type": "code",
   "execution_count": 230,
   "id": "980eb054-3af0-4f81-a20d-6c7e4e796fe6",
   "metadata": {},
   "outputs": [
    {
     "data": {
      "text/plain": [
       "False"
      ]
     },
     "execution_count": 230,
     "metadata": {},
     "output_type": "execute_result"
    }
   ],
   "source": [
    "np.allclose(a, b)"
   ]
  },
  {
   "cell_type": "code",
   "execution_count": 233,
   "id": "7b940f53-6252-41f6-b93a-0efd3514e009",
   "metadata": {},
   "outputs": [
    {
     "data": {
      "text/plain": [
       "True"
      ]
     },
     "execution_count": 233,
     "metadata": {},
     "output_type": "execute_result"
    }
   ],
   "source": [
    "np.allclose(a, b, atol=3)"
   ]
  },
  {
   "cell_type": "markdown",
   "id": "085ad9d8-38ee-4964-8537-b0e9b8e2c759",
   "metadata": {},
   "source": [
    "# Pandas"
   ]
  },
  {
   "cell_type": "code",
   "execution_count": 234,
   "id": "ad6d80dc-bad3-4ede-b67c-ce219cc3e017",
   "metadata": {},
   "outputs": [
    {
     "name": "stdout",
     "output_type": "stream",
     "text": [
      "Requirement already satisfied: pandas in c:\\users\\keun ho ryu\\appdata\\local\\programs\\python\\python310\\lib\\site-packages (2.1.1)\n",
      "Requirement already satisfied: numpy>=1.22.4 in c:\\users\\keun ho ryu\\appdata\\local\\programs\\python\\python310\\lib\\site-packages (from pandas) (1.26.1)\n",
      "Requirement already satisfied: python-dateutil>=2.8.2 in c:\\users\\keun ho ryu\\appdata\\local\\programs\\python\\python310\\lib\\site-packages (from pandas) (2.8.2)\n",
      "Requirement already satisfied: pytz>=2020.1 in c:\\users\\keun ho ryu\\appdata\\local\\programs\\python\\python310\\lib\\site-packages (from pandas) (2023.3.post1)\n",
      "Requirement already satisfied: tzdata>=2022.1 in c:\\users\\keun ho ryu\\appdata\\local\\programs\\python\\python310\\lib\\site-packages (from pandas) (2023.3)\n",
      "Requirement already satisfied: six>=1.5 in c:\\users\\keun ho ryu\\appdata\\local\\programs\\python\\python310\\lib\\site-packages (from python-dateutil>=2.8.2->pandas) (1.16.0)\n"
     ]
    },
    {
     "name": "stderr",
     "output_type": "stream",
     "text": [
      "\n",
      "[notice] A new release of pip is available: 23.3.1 -> 24.0\n",
      "[notice] To update, run: python.exe -m pip install --upgrade pip\n"
     ]
    }
   ],
   "source": [
    "!pip install pandas"
   ]
  },
  {
   "cell_type": "code",
   "execution_count": 235,
   "id": "46065361-7872-40e1-9ed8-46e48286dd23",
   "metadata": {},
   "outputs": [],
   "source": [
    "import pandas as pd"
   ]
  },
  {
   "cell_type": "code",
   "execution_count": 237,
   "id": "c79a1635-a69c-4400-aefe-10b5aaf185fe",
   "metadata": {},
   "outputs": [
    {
     "data": {
      "text/plain": [
       "0    10\n",
       "1    20\n",
       "2    30\n",
       "3    40\n",
       "4    50\n",
       "dtype: int64"
      ]
     },
     "execution_count": 237,
     "metadata": {},
     "output_type": "execute_result"
    }
   ],
   "source": [
    "series = pd.Series([10, 20, 30, 40, 50])\n",
    "series"
   ]
  },
  {
   "cell_type": "code",
   "execution_count": 238,
   "id": "f7430ffd-5adb-44f3-b50d-5fe5b2f37d57",
   "metadata": {},
   "outputs": [
    {
     "data": {
      "text/html": [
       "<div>\n",
       "<style scoped>\n",
       "    .dataframe tbody tr th:only-of-type {\n",
       "        vertical-align: middle;\n",
       "    }\n",
       "\n",
       "    .dataframe tbody tr th {\n",
       "        vertical-align: top;\n",
       "    }\n",
       "\n",
       "    .dataframe thead th {\n",
       "        text-align: right;\n",
       "    }\n",
       "</style>\n",
       "<table border=\"1\" class=\"dataframe\">\n",
       "  <thead>\n",
       "    <tr style=\"text-align: right;\">\n",
       "      <th></th>\n",
       "      <th>0</th>\n",
       "      <th>1</th>\n",
       "      <th>2</th>\n",
       "    </tr>\n",
       "  </thead>\n",
       "  <tbody>\n",
       "    <tr>\n",
       "      <th>0</th>\n",
       "      <td>10</td>\n",
       "      <td>ten</td>\n",
       "      <td>True</td>\n",
       "    </tr>\n",
       "    <tr>\n",
       "      <th>1</th>\n",
       "      <td>20</td>\n",
       "      <td>twenty</td>\n",
       "      <td>False</td>\n",
       "    </tr>\n",
       "    <tr>\n",
       "      <th>2</th>\n",
       "      <td>30</td>\n",
       "      <td>thirty</td>\n",
       "      <td>True</td>\n",
       "    </tr>\n",
       "    <tr>\n",
       "      <th>3</th>\n",
       "      <td>40</td>\n",
       "      <td>forty</td>\n",
       "      <td>False</td>\n",
       "    </tr>\n",
       "    <tr>\n",
       "      <th>4</th>\n",
       "      <td>50</td>\n",
       "      <td>fifty</td>\n",
       "      <td>False</td>\n",
       "    </tr>\n",
       "  </tbody>\n",
       "</table>\n",
       "</div>"
      ],
      "text/plain": [
       "    0       1      2\n",
       "0  10     ten   True\n",
       "1  20  twenty  False\n",
       "2  30  thirty   True\n",
       "3  40   forty  False\n",
       "4  50   fifty  False"
      ]
     },
     "execution_count": 238,
     "metadata": {},
     "output_type": "execute_result"
    }
   ],
   "source": [
    "df = pd.DataFrame([[10, \"ten\", True],\n",
    "                   [20, \"twenty\", False],\n",
    "                   [30, \"thirty\", True],\n",
    "                   [40, \"forty\", False],\n",
    "                   [50, \"fifty\", False]])\n",
    "df"
   ]
  },
  {
   "cell_type": "code",
   "execution_count": 239,
   "id": "ae4062e6-bced-4f3b-a325-779ebb887eab",
   "metadata": {},
   "outputs": [],
   "source": [
    "df.columns = [\"price\", \"price_in_txt\", \"binary\"]"
   ]
  },
  {
   "cell_type": "code",
   "execution_count": 240,
   "id": "ee24d467-4258-4840-b006-36cb9fd6576c",
   "metadata": {},
   "outputs": [
    {
     "data": {
      "text/html": [
       "<div>\n",
       "<style scoped>\n",
       "    .dataframe tbody tr th:only-of-type {\n",
       "        vertical-align: middle;\n",
       "    }\n",
       "\n",
       "    .dataframe tbody tr th {\n",
       "        vertical-align: top;\n",
       "    }\n",
       "\n",
       "    .dataframe thead th {\n",
       "        text-align: right;\n",
       "    }\n",
       "</style>\n",
       "<table border=\"1\" class=\"dataframe\">\n",
       "  <thead>\n",
       "    <tr style=\"text-align: right;\">\n",
       "      <th></th>\n",
       "      <th>price</th>\n",
       "      <th>price_in_txt</th>\n",
       "      <th>binary</th>\n",
       "    </tr>\n",
       "  </thead>\n",
       "  <tbody>\n",
       "    <tr>\n",
       "      <th>0</th>\n",
       "      <td>10</td>\n",
       "      <td>ten</td>\n",
       "      <td>True</td>\n",
       "    </tr>\n",
       "    <tr>\n",
       "      <th>1</th>\n",
       "      <td>20</td>\n",
       "      <td>twenty</td>\n",
       "      <td>False</td>\n",
       "    </tr>\n",
       "    <tr>\n",
       "      <th>2</th>\n",
       "      <td>30</td>\n",
       "      <td>thirty</td>\n",
       "      <td>True</td>\n",
       "    </tr>\n",
       "    <tr>\n",
       "      <th>3</th>\n",
       "      <td>40</td>\n",
       "      <td>forty</td>\n",
       "      <td>False</td>\n",
       "    </tr>\n",
       "    <tr>\n",
       "      <th>4</th>\n",
       "      <td>50</td>\n",
       "      <td>fifty</td>\n",
       "      <td>False</td>\n",
       "    </tr>\n",
       "  </tbody>\n",
       "</table>\n",
       "</div>"
      ],
      "text/plain": [
       "   price price_in_txt  binary\n",
       "0     10          ten    True\n",
       "1     20       twenty   False\n",
       "2     30       thirty    True\n",
       "3     40        forty   False\n",
       "4     50        fifty   False"
      ]
     },
     "execution_count": 240,
     "metadata": {},
     "output_type": "execute_result"
    }
   ],
   "source": [
    "df"
   ]
  },
  {
   "cell_type": "code",
   "execution_count": 242,
   "id": "0eb145e9-dc98-43dc-8b50-6d6c88ef7fc5",
   "metadata": {},
   "outputs": [
    {
     "data": {
      "text/plain": [
       "0       ten\n",
       "1    twenty\n",
       "2    thirty\n",
       "3     forty\n",
       "4     fifty\n",
       "Name: price_in_txt, dtype: object"
      ]
     },
     "execution_count": 242,
     "metadata": {},
     "output_type": "execute_result"
    }
   ],
   "source": [
    "df[\"price_in_txt\"]"
   ]
  },
  {
   "cell_type": "code",
   "execution_count": 243,
   "id": "73bb0001-a8e0-4f3f-84d1-990b13e929a0",
   "metadata": {},
   "outputs": [
    {
     "data": {
      "text/html": [
       "<div>\n",
       "<style scoped>\n",
       "    .dataframe tbody tr th:only-of-type {\n",
       "        vertical-align: middle;\n",
       "    }\n",
       "\n",
       "    .dataframe tbody tr th {\n",
       "        vertical-align: top;\n",
       "    }\n",
       "\n",
       "    .dataframe thead th {\n",
       "        text-align: right;\n",
       "    }\n",
       "</style>\n",
       "<table border=\"1\" class=\"dataframe\">\n",
       "  <thead>\n",
       "    <tr style=\"text-align: right;\">\n",
       "      <th></th>\n",
       "      <th>price</th>\n",
       "      <th>price_in_txt</th>\n",
       "    </tr>\n",
       "  </thead>\n",
       "  <tbody>\n",
       "    <tr>\n",
       "      <th>0</th>\n",
       "      <td>10</td>\n",
       "      <td>ten</td>\n",
       "    </tr>\n",
       "    <tr>\n",
       "      <th>1</th>\n",
       "      <td>20</td>\n",
       "      <td>twenty</td>\n",
       "    </tr>\n",
       "    <tr>\n",
       "      <th>2</th>\n",
       "      <td>30</td>\n",
       "      <td>thirty</td>\n",
       "    </tr>\n",
       "    <tr>\n",
       "      <th>3</th>\n",
       "      <td>40</td>\n",
       "      <td>forty</td>\n",
       "    </tr>\n",
       "    <tr>\n",
       "      <th>4</th>\n",
       "      <td>50</td>\n",
       "      <td>fifty</td>\n",
       "    </tr>\n",
       "  </tbody>\n",
       "</table>\n",
       "</div>"
      ],
      "text/plain": [
       "   price price_in_txt\n",
       "0     10          ten\n",
       "1     20       twenty\n",
       "2     30       thirty\n",
       "3     40        forty\n",
       "4     50        fifty"
      ]
     },
     "execution_count": 243,
     "metadata": {},
     "output_type": "execute_result"
    }
   ],
   "source": [
    "df[[\"price\", \"price_in_txt\"]]"
   ]
  },
  {
   "cell_type": "code",
   "execution_count": 244,
   "id": "8017de3f-fa07-4f7c-b639-aa792e4143cc",
   "metadata": {},
   "outputs": [
    {
     "data": {
      "text/html": [
       "<div>\n",
       "<style scoped>\n",
       "    .dataframe tbody tr th:only-of-type {\n",
       "        vertical-align: middle;\n",
       "    }\n",
       "\n",
       "    .dataframe tbody tr th {\n",
       "        vertical-align: top;\n",
       "    }\n",
       "\n",
       "    .dataframe thead th {\n",
       "        text-align: right;\n",
       "    }\n",
       "</style>\n",
       "<table border=\"1\" class=\"dataframe\">\n",
       "  <thead>\n",
       "    <tr style=\"text-align: right;\">\n",
       "      <th></th>\n",
       "      <th>0</th>\n",
       "      <th>1</th>\n",
       "      <th>2</th>\n",
       "      <th>3</th>\n",
       "      <th>4</th>\n",
       "    </tr>\n",
       "  </thead>\n",
       "  <tbody>\n",
       "    <tr>\n",
       "      <th>0</th>\n",
       "      <td>0</td>\n",
       "      <td>1</td>\n",
       "      <td>2</td>\n",
       "      <td>3</td>\n",
       "      <td>4</td>\n",
       "    </tr>\n",
       "    <tr>\n",
       "      <th>1</th>\n",
       "      <td>5</td>\n",
       "      <td>6</td>\n",
       "      <td>7</td>\n",
       "      <td>8</td>\n",
       "      <td>9</td>\n",
       "    </tr>\n",
       "    <tr>\n",
       "      <th>2</th>\n",
       "      <td>10</td>\n",
       "      <td>11</td>\n",
       "      <td>12</td>\n",
       "      <td>13</td>\n",
       "      <td>14</td>\n",
       "    </tr>\n",
       "    <tr>\n",
       "      <th>3</th>\n",
       "      <td>15</td>\n",
       "      <td>16</td>\n",
       "      <td>17</td>\n",
       "      <td>18</td>\n",
       "      <td>19</td>\n",
       "    </tr>\n",
       "    <tr>\n",
       "      <th>4</th>\n",
       "      <td>20</td>\n",
       "      <td>21</td>\n",
       "      <td>22</td>\n",
       "      <td>23</td>\n",
       "      <td>24</td>\n",
       "    </tr>\n",
       "    <tr>\n",
       "      <th>5</th>\n",
       "      <td>25</td>\n",
       "      <td>26</td>\n",
       "      <td>27</td>\n",
       "      <td>28</td>\n",
       "      <td>29</td>\n",
       "    </tr>\n",
       "    <tr>\n",
       "      <th>6</th>\n",
       "      <td>30</td>\n",
       "      <td>31</td>\n",
       "      <td>32</td>\n",
       "      <td>33</td>\n",
       "      <td>34</td>\n",
       "    </tr>\n",
       "    <tr>\n",
       "      <th>7</th>\n",
       "      <td>35</td>\n",
       "      <td>36</td>\n",
       "      <td>37</td>\n",
       "      <td>38</td>\n",
       "      <td>39</td>\n",
       "    </tr>\n",
       "    <tr>\n",
       "      <th>8</th>\n",
       "      <td>40</td>\n",
       "      <td>41</td>\n",
       "      <td>42</td>\n",
       "      <td>43</td>\n",
       "      <td>44</td>\n",
       "    </tr>\n",
       "    <tr>\n",
       "      <th>9</th>\n",
       "      <td>45</td>\n",
       "      <td>46</td>\n",
       "      <td>47</td>\n",
       "      <td>48</td>\n",
       "      <td>49</td>\n",
       "    </tr>\n",
       "    <tr>\n",
       "      <th>10</th>\n",
       "      <td>50</td>\n",
       "      <td>51</td>\n",
       "      <td>52</td>\n",
       "      <td>53</td>\n",
       "      <td>54</td>\n",
       "    </tr>\n",
       "    <tr>\n",
       "      <th>11</th>\n",
       "      <td>55</td>\n",
       "      <td>56</td>\n",
       "      <td>57</td>\n",
       "      <td>58</td>\n",
       "      <td>59</td>\n",
       "    </tr>\n",
       "    <tr>\n",
       "      <th>12</th>\n",
       "      <td>60</td>\n",
       "      <td>61</td>\n",
       "      <td>62</td>\n",
       "      <td>63</td>\n",
       "      <td>64</td>\n",
       "    </tr>\n",
       "    <tr>\n",
       "      <th>13</th>\n",
       "      <td>65</td>\n",
       "      <td>66</td>\n",
       "      <td>67</td>\n",
       "      <td>68</td>\n",
       "      <td>69</td>\n",
       "    </tr>\n",
       "    <tr>\n",
       "      <th>14</th>\n",
       "      <td>70</td>\n",
       "      <td>71</td>\n",
       "      <td>72</td>\n",
       "      <td>73</td>\n",
       "      <td>74</td>\n",
       "    </tr>\n",
       "    <tr>\n",
       "      <th>15</th>\n",
       "      <td>75</td>\n",
       "      <td>76</td>\n",
       "      <td>77</td>\n",
       "      <td>78</td>\n",
       "      <td>79</td>\n",
       "    </tr>\n",
       "    <tr>\n",
       "      <th>16</th>\n",
       "      <td>80</td>\n",
       "      <td>81</td>\n",
       "      <td>82</td>\n",
       "      <td>83</td>\n",
       "      <td>84</td>\n",
       "    </tr>\n",
       "    <tr>\n",
       "      <th>17</th>\n",
       "      <td>85</td>\n",
       "      <td>86</td>\n",
       "      <td>87</td>\n",
       "      <td>88</td>\n",
       "      <td>89</td>\n",
       "    </tr>\n",
       "    <tr>\n",
       "      <th>18</th>\n",
       "      <td>90</td>\n",
       "      <td>91</td>\n",
       "      <td>92</td>\n",
       "      <td>93</td>\n",
       "      <td>94</td>\n",
       "    </tr>\n",
       "    <tr>\n",
       "      <th>19</th>\n",
       "      <td>95</td>\n",
       "      <td>96</td>\n",
       "      <td>97</td>\n",
       "      <td>98</td>\n",
       "      <td>99</td>\n",
       "    </tr>\n",
       "  </tbody>\n",
       "</table>\n",
       "</div>"
      ],
      "text/plain": [
       "     0   1   2   3   4\n",
       "0    0   1   2   3   4\n",
       "1    5   6   7   8   9\n",
       "2   10  11  12  13  14\n",
       "3   15  16  17  18  19\n",
       "4   20  21  22  23  24\n",
       "5   25  26  27  28  29\n",
       "6   30  31  32  33  34\n",
       "7   35  36  37  38  39\n",
       "8   40  41  42  43  44\n",
       "9   45  46  47  48  49\n",
       "10  50  51  52  53  54\n",
       "11  55  56  57  58  59\n",
       "12  60  61  62  63  64\n",
       "13  65  66  67  68  69\n",
       "14  70  71  72  73  74\n",
       "15  75  76  77  78  79\n",
       "16  80  81  82  83  84\n",
       "17  85  86  87  88  89\n",
       "18  90  91  92  93  94\n",
       "19  95  96  97  98  99"
      ]
     },
     "execution_count": 244,
     "metadata": {},
     "output_type": "execute_result"
    }
   ],
   "source": [
    "df = pd.DataFrame(np.arange(100).reshape((20, 5)))\n",
    "df"
   ]
  },
  {
   "cell_type": "code",
   "execution_count": 245,
   "id": "c3ce0440-19e6-4f16-a812-216e7fbef54d",
   "metadata": {},
   "outputs": [
    {
     "data": {
      "text/plain": [
       "<Axes: >"
      ]
     },
     "execution_count": 245,
     "metadata": {},
     "output_type": "execute_result"
    },
    {
     "data": {
      "image/png": "[encoded data removed]",
      "text/plain": [
       "<Figure size 640x480 with 1 Axes>"
      ]
     },
     "metadata": {},
     "output_type": "display_data"
    }
   ],
   "source": [
    "df.plot()"
   ]
  },
  {
   "cell_type": "code",
   "execution_count": 247,
   "id": "3e257a5c-56fb-4183-85ca-99de326cf42f",
   "metadata": {},
   "outputs": [
    {
     "data": {
      "text/html": [
       "<div>\n",
       "<style scoped>\n",
       "    .dataframe tbody tr th:only-of-type {\n",
       "        vertical-align: middle;\n",
       "    }\n",
       "\n",
       "    .dataframe tbody tr th {\n",
       "        vertical-align: top;\n",
       "    }\n",
       "\n",
       "    .dataframe thead th {\n",
       "        text-align: right;\n",
       "    }\n",
       "</style>\n",
       "<table border=\"1\" class=\"dataframe\">\n",
       "  <thead>\n",
       "    <tr style=\"text-align: right;\">\n",
       "      <th></th>\n",
       "      <th>0</th>\n",
       "      <th>1</th>\n",
       "      <th>2</th>\n",
       "      <th>3</th>\n",
       "      <th>4</th>\n",
       "    </tr>\n",
       "  </thead>\n",
       "  <tbody>\n",
       "    <tr>\n",
       "      <th>0</th>\n",
       "      <td>0</td>\n",
       "      <td>1</td>\n",
       "      <td>2</td>\n",
       "      <td>3</td>\n",
       "      <td>4</td>\n",
       "    </tr>\n",
       "    <tr>\n",
       "      <th>1</th>\n",
       "      <td>5</td>\n",
       "      <td>6</td>\n",
       "      <td>7</td>\n",
       "      <td>8</td>\n",
       "      <td>9</td>\n",
       "    </tr>\n",
       "    <tr>\n",
       "      <th>2</th>\n",
       "      <td>10</td>\n",
       "      <td>11</td>\n",
       "      <td>12</td>\n",
       "      <td>13</td>\n",
       "      <td>14</td>\n",
       "    </tr>\n",
       "    <tr>\n",
       "      <th>3</th>\n",
       "      <td>15</td>\n",
       "      <td>16</td>\n",
       "      <td>17</td>\n",
       "      <td>18</td>\n",
       "      <td>19</td>\n",
       "    </tr>\n",
       "    <tr>\n",
       "      <th>4</th>\n",
       "      <td>20</td>\n",
       "      <td>21</td>\n",
       "      <td>22</td>\n",
       "      <td>23</td>\n",
       "      <td>24</td>\n",
       "    </tr>\n",
       "    <tr>\n",
       "      <th>5</th>\n",
       "      <td>25</td>\n",
       "      <td>26</td>\n",
       "      <td>27</td>\n",
       "      <td>28</td>\n",
       "      <td>29</td>\n",
       "    </tr>\n",
       "    <tr>\n",
       "      <th>6</th>\n",
       "      <td>30</td>\n",
       "      <td>31</td>\n",
       "      <td>32</td>\n",
       "      <td>33</td>\n",
       "      <td>34</td>\n",
       "    </tr>\n",
       "    <tr>\n",
       "      <th>7</th>\n",
       "      <td>35</td>\n",
       "      <td>36</td>\n",
       "      <td>37</td>\n",
       "      <td>38</td>\n",
       "      <td>39</td>\n",
       "    </tr>\n",
       "    <tr>\n",
       "      <th>8</th>\n",
       "      <td>40</td>\n",
       "      <td>41</td>\n",
       "      <td>42</td>\n",
       "      <td>43</td>\n",
       "      <td>44</td>\n",
       "    </tr>\n",
       "    <tr>\n",
       "      <th>9</th>\n",
       "      <td>45</td>\n",
       "      <td>46</td>\n",
       "      <td>47</td>\n",
       "      <td>48</td>\n",
       "      <td>49</td>\n",
       "    </tr>\n",
       "  </tbody>\n",
       "</table>\n",
       "</div>"
      ],
      "text/plain": [
       "    0   1   2   3   4\n",
       "0   0   1   2   3   4\n",
       "1   5   6   7   8   9\n",
       "2  10  11  12  13  14\n",
       "3  15  16  17  18  19\n",
       "4  20  21  22  23  24\n",
       "5  25  26  27  28  29\n",
       "6  30  31  32  33  34\n",
       "7  35  36  37  38  39\n",
       "8  40  41  42  43  44\n",
       "9  45  46  47  48  49"
      ]
     },
     "execution_count": 247,
     "metadata": {},
     "output_type": "execute_result"
    }
   ],
   "source": [
    "df.head(10)"
   ]
  },
  {
   "cell_type": "code",
   "execution_count": 249,
   "id": "ab0df358-0d7b-4def-a781-f4503272db79",
   "metadata": {},
   "outputs": [
    {
     "data": {
      "text/html": [
       "<div>\n",
       "<style scoped>\n",
       "    .dataframe tbody tr th:only-of-type {\n",
       "        vertical-align: middle;\n",
       "    }\n",
       "\n",
       "    .dataframe tbody tr th {\n",
       "        vertical-align: top;\n",
       "    }\n",
       "\n",
       "    .dataframe thead th {\n",
       "        text-align: right;\n",
       "    }\n",
       "</style>\n",
       "<table border=\"1\" class=\"dataframe\">\n",
       "  <thead>\n",
       "    <tr style=\"text-align: right;\">\n",
       "      <th></th>\n",
       "      <th>0</th>\n",
       "      <th>1</th>\n",
       "      <th>2</th>\n",
       "      <th>3</th>\n",
       "      <th>4</th>\n",
       "    </tr>\n",
       "  </thead>\n",
       "  <tbody>\n",
       "    <tr>\n",
       "      <th>18</th>\n",
       "      <td>90</td>\n",
       "      <td>91</td>\n",
       "      <td>92</td>\n",
       "      <td>93</td>\n",
       "      <td>94</td>\n",
       "    </tr>\n",
       "    <tr>\n",
       "      <th>19</th>\n",
       "      <td>95</td>\n",
       "      <td>96</td>\n",
       "      <td>97</td>\n",
       "      <td>98</td>\n",
       "      <td>99</td>\n",
       "    </tr>\n",
       "  </tbody>\n",
       "</table>\n",
       "</div>"
      ],
      "text/plain": [
       "     0   1   2   3   4\n",
       "18  90  91  92  93  94\n",
       "19  95  96  97  98  99"
      ]
     },
     "execution_count": 249,
     "metadata": {},
     "output_type": "execute_result"
    }
   ],
   "source": [
    "df.tail(2)"
   ]
  },
  {
   "cell_type": "code",
   "execution_count": 250,
   "id": "9012bd83-a3b3-4668-b6ee-9eb68fd17378",
   "metadata": {},
   "outputs": [
    {
     "data": {
      "text/plain": [
       "(20, 5)"
      ]
     },
     "execution_count": 250,
     "metadata": {},
     "output_type": "execute_result"
    }
   ],
   "source": [
    "df.shape"
   ]
  },
  {
   "cell_type": "code",
   "execution_count": 253,
   "id": "2d2b9b48-4c01-43ce-8517-1568cd4a4c41",
   "metadata": {
    "scrolled": true
   },
   "outputs": [
    {
     "data": {
      "text/html": [
       "<div>\n",
       "<style scoped>\n",
       "    .dataframe tbody tr th:only-of-type {\n",
       "        vertical-align: middle;\n",
       "    }\n",
       "\n",
       "    .dataframe tbody tr th {\n",
       "        vertical-align: top;\n",
       "    }\n",
       "\n",
       "    .dataframe thead th {\n",
       "        text-align: right;\n",
       "    }\n",
       "</style>\n",
       "<table border=\"1\" class=\"dataframe\">\n",
       "  <thead>\n",
       "    <tr style=\"text-align: right;\">\n",
       "      <th></th>\n",
       "      <th>0</th>\n",
       "      <th>1</th>\n",
       "      <th>2</th>\n",
       "      <th>3</th>\n",
       "      <th>4</th>\n",
       "    </tr>\n",
       "  </thead>\n",
       "  <tbody>\n",
       "    <tr>\n",
       "      <th>0</th>\n",
       "      <td>0</td>\n",
       "      <td>1</td>\n",
       "      <td>2</td>\n",
       "      <td>3</td>\n",
       "      <td>4</td>\n",
       "    </tr>\n",
       "    <tr>\n",
       "      <th>1</th>\n",
       "      <td>5</td>\n",
       "      <td>6</td>\n",
       "      <td>7</td>\n",
       "      <td>8</td>\n",
       "      <td>9</td>\n",
       "    </tr>\n",
       "    <tr>\n",
       "      <th>2</th>\n",
       "      <td>10</td>\n",
       "      <td>11</td>\n",
       "      <td>12</td>\n",
       "      <td>13</td>\n",
       "      <td>14</td>\n",
       "    </tr>\n",
       "    <tr>\n",
       "      <th>3</th>\n",
       "      <td>15</td>\n",
       "      <td>16</td>\n",
       "      <td>17</td>\n",
       "      <td>18</td>\n",
       "      <td>19</td>\n",
       "    </tr>\n",
       "    <tr>\n",
       "      <th>4</th>\n",
       "      <td>20</td>\n",
       "      <td>21</td>\n",
       "      <td>22</td>\n",
       "      <td>23</td>\n",
       "      <td>24</td>\n",
       "    </tr>\n",
       "    <tr>\n",
       "      <th>5</th>\n",
       "      <td>25</td>\n",
       "      <td>26</td>\n",
       "      <td>27</td>\n",
       "      <td>28</td>\n",
       "      <td>29</td>\n",
       "    </tr>\n",
       "    <tr>\n",
       "      <th>6</th>\n",
       "      <td>30</td>\n",
       "      <td>31</td>\n",
       "      <td>32</td>\n",
       "      <td>33</td>\n",
       "      <td>34</td>\n",
       "    </tr>\n",
       "    <tr>\n",
       "      <th>7</th>\n",
       "      <td>35</td>\n",
       "      <td>36</td>\n",
       "      <td>37</td>\n",
       "      <td>38</td>\n",
       "      <td>39</td>\n",
       "    </tr>\n",
       "    <tr>\n",
       "      <th>8</th>\n",
       "      <td>40</td>\n",
       "      <td>41</td>\n",
       "      <td>42</td>\n",
       "      <td>43</td>\n",
       "      <td>44</td>\n",
       "    </tr>\n",
       "    <tr>\n",
       "      <th>9</th>\n",
       "      <td>45</td>\n",
       "      <td>46</td>\n",
       "      <td>47</td>\n",
       "      <td>48</td>\n",
       "      <td>49</td>\n",
       "    </tr>\n",
       "    <tr>\n",
       "      <th>10</th>\n",
       "      <td>50</td>\n",
       "      <td>51</td>\n",
       "      <td>52</td>\n",
       "      <td>53</td>\n",
       "      <td>54</td>\n",
       "    </tr>\n",
       "    <tr>\n",
       "      <th>11</th>\n",
       "      <td>55</td>\n",
       "      <td>56</td>\n",
       "      <td>57</td>\n",
       "      <td>58</td>\n",
       "      <td>59</td>\n",
       "    </tr>\n",
       "    <tr>\n",
       "      <th>12</th>\n",
       "      <td>60</td>\n",
       "      <td>61</td>\n",
       "      <td>62</td>\n",
       "      <td>63</td>\n",
       "      <td>64</td>\n",
       "    </tr>\n",
       "    <tr>\n",
       "      <th>13</th>\n",
       "      <td>65</td>\n",
       "      <td>66</td>\n",
       "      <td>67</td>\n",
       "      <td>68</td>\n",
       "      <td>69</td>\n",
       "    </tr>\n",
       "    <tr>\n",
       "      <th>14</th>\n",
       "      <td>70</td>\n",
       "      <td>71</td>\n",
       "      <td>72</td>\n",
       "      <td>73</td>\n",
       "      <td>74</td>\n",
       "    </tr>\n",
       "    <tr>\n",
       "      <th>15</th>\n",
       "      <td>75</td>\n",
       "      <td>76</td>\n",
       "      <td>77</td>\n",
       "      <td>78</td>\n",
       "      <td>79</td>\n",
       "    </tr>\n",
       "    <tr>\n",
       "      <th>16</th>\n",
       "      <td>80</td>\n",
       "      <td>81</td>\n",
       "      <td>82</td>\n",
       "      <td>83</td>\n",
       "      <td>84</td>\n",
       "    </tr>\n",
       "    <tr>\n",
       "      <th>17</th>\n",
       "      <td>85</td>\n",
       "      <td>86</td>\n",
       "      <td>87</td>\n",
       "      <td>88</td>\n",
       "      <td>89</td>\n",
       "    </tr>\n",
       "    <tr>\n",
       "      <th>18</th>\n",
       "      <td>90</td>\n",
       "      <td>91</td>\n",
       "      <td>92</td>\n",
       "      <td>93</td>\n",
       "      <td>94</td>\n",
       "    </tr>\n",
       "    <tr>\n",
       "      <th>19</th>\n",
       "      <td>95</td>\n",
       "      <td>96</td>\n",
       "      <td>97</td>\n",
       "      <td>98</td>\n",
       "      <td>99</td>\n",
       "    </tr>\n",
       "  </tbody>\n",
       "</table>\n",
       "</div>"
      ],
      "text/plain": [
       "     0   1   2   3   4\n",
       "0    0   1   2   3   4\n",
       "1    5   6   7   8   9\n",
       "2   10  11  12  13  14\n",
       "3   15  16  17  18  19\n",
       "4   20  21  22  23  24\n",
       "5   25  26  27  28  29\n",
       "6   30  31  32  33  34\n",
       "7   35  36  37  38  39\n",
       "8   40  41  42  43  44\n",
       "9   45  46  47  48  49\n",
       "10  50  51  52  53  54\n",
       "11  55  56  57  58  59\n",
       "12  60  61  62  63  64\n",
       "13  65  66  67  68  69\n",
       "14  70  71  72  73  74\n",
       "15  75  76  77  78  79\n",
       "16  80  81  82  83  84\n",
       "17  85  86  87  88  89\n",
       "18  90  91  92  93  94\n",
       "19  95  96  97  98  99"
      ]
     },
     "execution_count": 253,
     "metadata": {},
     "output_type": "execute_result"
    }
   ],
   "source": [
    "df"
   ]
  },
  {
   "cell_type": "code",
   "execution_count": 254,
   "id": "cdec5c0b-fb90-43ee-8c9f-44fc7987301b",
   "metadata": {},
   "outputs": [
    {
     "data": {
      "text/html": [
       "<div>\n",
       "<style scoped>\n",
       "    .dataframe tbody tr th:only-of-type {\n",
       "        vertical-align: middle;\n",
       "    }\n",
       "\n",
       "    .dataframe tbody tr th {\n",
       "        vertical-align: top;\n",
       "    }\n",
       "\n",
       "    .dataframe thead th {\n",
       "        text-align: right;\n",
       "    }\n",
       "</style>\n",
       "<table border=\"1\" class=\"dataframe\">\n",
       "  <thead>\n",
       "    <tr style=\"text-align: right;\">\n",
       "      <th></th>\n",
       "      <th>0</th>\n",
       "      <th>1</th>\n",
       "      <th>2</th>\n",
       "    </tr>\n",
       "  </thead>\n",
       "  <tbody>\n",
       "    <tr>\n",
       "      <th>0</th>\n",
       "      <td>0</td>\n",
       "      <td>1</td>\n",
       "      <td>2</td>\n",
       "    </tr>\n",
       "    <tr>\n",
       "      <th>1</th>\n",
       "      <td>3</td>\n",
       "      <td>4</td>\n",
       "      <td>5</td>\n",
       "    </tr>\n",
       "    <tr>\n",
       "      <th>2</th>\n",
       "      <td>6</td>\n",
       "      <td>7</td>\n",
       "      <td>8</td>\n",
       "    </tr>\n",
       "  </tbody>\n",
       "</table>\n",
       "</div>"
      ],
      "text/plain": [
       "   0  1  2\n",
       "0  0  1  2\n",
       "1  3  4  5\n",
       "2  6  7  8"
      ]
     },
     "execution_count": 254,
     "metadata": {},
     "output_type": "execute_result"
    }
   ],
   "source": [
    "df = pd.DataFrame(np.arange(9).reshape((3, 3)))\n",
    "df"
   ]
  },
  {
   "cell_type": "code",
   "execution_count": 255,
   "id": "6eddfdd1-e9b4-4764-b496-b2a7f2be831d",
   "metadata": {},
   "outputs": [],
   "source": [
    "df.index = [\"1行目\", \"2行目\", \"3行目\"]\n",
    "df.columns = [\"A列\", \"B列\", \"C列\"]"
   ]
  },
  {
   "cell_type": "code",
   "execution_count": 257,
   "id": "191ab066-c0d2-4d0b-a300-889d31804fc5",
   "metadata": {},
   "outputs": [
    {
     "data": {
      "text/html": [
       "<div>\n",
       "<style scoped>\n",
       "    .dataframe tbody tr th:only-of-type {\n",
       "        vertical-align: middle;\n",
       "    }\n",
       "\n",
       "    .dataframe tbody tr th {\n",
       "        vertical-align: top;\n",
       "    }\n",
       "\n",
       "    .dataframe thead th {\n",
       "        text-align: right;\n",
       "    }\n",
       "</style>\n",
       "<table border=\"1\" class=\"dataframe\">\n",
       "  <thead>\n",
       "    <tr style=\"text-align: right;\">\n",
       "      <th></th>\n",
       "      <th>A列</th>\n",
       "      <th>B列</th>\n",
       "      <th>C列</th>\n",
       "    </tr>\n",
       "  </thead>\n",
       "  <tbody>\n",
       "    <tr>\n",
       "      <th>1行目</th>\n",
       "      <td>0</td>\n",
       "      <td>1</td>\n",
       "      <td>2</td>\n",
       "    </tr>\n",
       "    <tr>\n",
       "      <th>2行目</th>\n",
       "      <td>3</td>\n",
       "      <td>4</td>\n",
       "      <td>5</td>\n",
       "    </tr>\n",
       "    <tr>\n",
       "      <th>3行目</th>\n",
       "      <td>6</td>\n",
       "      <td>7</td>\n",
       "      <td>8</td>\n",
       "    </tr>\n",
       "  </tbody>\n",
       "</table>\n",
       "</div>"
      ],
      "text/plain": [
       "     A列  B列  C列\n",
       "1行目   0   1   2\n",
       "2行目   3   4   5\n",
       "3行目   6   7   8"
      ]
     },
     "execution_count": 257,
     "metadata": {},
     "output_type": "execute_result"
    }
   ],
   "source": [
    "df"
   ]
  },
  {
   "cell_type": "code",
   "execution_count": 258,
   "id": "b816af6c-d0ee-474e-b6b6-56b7c744fdf5",
   "metadata": {},
   "outputs": [
    {
     "data": {
      "text/html": [
       "<div>\n",
       "<style scoped>\n",
       "    .dataframe tbody tr th:only-of-type {\n",
       "        vertical-align: middle;\n",
       "    }\n",
       "\n",
       "    .dataframe tbody tr th {\n",
       "        vertical-align: top;\n",
       "    }\n",
       "\n",
       "    .dataframe thead th {\n",
       "        text-align: right;\n",
       "    }\n",
       "</style>\n",
       "<table border=\"1\" class=\"dataframe\">\n",
       "  <thead>\n",
       "    <tr style=\"text-align: right;\">\n",
       "      <th></th>\n",
       "      <th>A列</th>\n",
       "      <th>B列</th>\n",
       "      <th>C列</th>\n",
       "    </tr>\n",
       "  </thead>\n",
       "  <tbody>\n",
       "    <tr>\n",
       "      <th>1行目</th>\n",
       "      <td>0</td>\n",
       "      <td>1</td>\n",
       "      <td>2</td>\n",
       "    </tr>\n",
       "    <tr>\n",
       "      <th>2行目</th>\n",
       "      <td>3</td>\n",
       "      <td>4</td>\n",
       "      <td>5</td>\n",
       "    </tr>\n",
       "    <tr>\n",
       "      <th>3行目</th>\n",
       "      <td>6</td>\n",
       "      <td>7</td>\n",
       "      <td>8</td>\n",
       "    </tr>\n",
       "  </tbody>\n",
       "</table>\n",
       "</div>"
      ],
      "text/plain": [
       "     A列  B列  C列\n",
       "1行目   0   1   2\n",
       "2行目   3   4   5\n",
       "3行目   6   7   8"
      ]
     },
     "execution_count": 258,
     "metadata": {},
     "output_type": "execute_result"
    }
   ],
   "source": [
    "df2 = pd.DataFrame(np.arange(9).reshape((3, 3)),\n",
    "                   index=[\"1行目\", \"2行目\", \"3行目\"],\n",
    "                   columns=[\"A列\", \"B列\", \"C列\"])\n",
    "df2"
   ]
  },
  {
   "cell_type": "code",
   "execution_count": 259,
   "id": "6547f60f-917b-45e5-b011-0034fb7ec14b",
   "metadata": {},
   "outputs": [
    {
     "data": {
      "text/plain": [
       "1行目    0\n",
       "2行目    3\n",
       "3行目    6\n",
       "Name: A列, dtype: int32"
      ]
     },
     "execution_count": 259,
     "metadata": {},
     "output_type": "execute_result"
    }
   ],
   "source": [
    "df[\"A列\"]"
   ]
  },
  {
   "cell_type": "code",
   "execution_count": 260,
   "id": "d0f43d61-ae18-4844-ba64-05857f9722f4",
   "metadata": {},
   "outputs": [
    {
     "data": {
      "text/html": [
       "<div>\n",
       "<style scoped>\n",
       "    .dataframe tbody tr th:only-of-type {\n",
       "        vertical-align: middle;\n",
       "    }\n",
       "\n",
       "    .dataframe tbody tr th {\n",
       "        vertical-align: top;\n",
       "    }\n",
       "\n",
       "    .dataframe thead th {\n",
       "        text-align: right;\n",
       "    }\n",
       "</style>\n",
       "<table border=\"1\" class=\"dataframe\">\n",
       "  <thead>\n",
       "    <tr style=\"text-align: right;\">\n",
       "      <th></th>\n",
       "      <th>A列</th>\n",
       "      <th>C列</th>\n",
       "    </tr>\n",
       "  </thead>\n",
       "  <tbody>\n",
       "    <tr>\n",
       "      <th>1行目</th>\n",
       "      <td>0</td>\n",
       "      <td>2</td>\n",
       "    </tr>\n",
       "    <tr>\n",
       "      <th>2行目</th>\n",
       "      <td>3</td>\n",
       "      <td>5</td>\n",
       "    </tr>\n",
       "    <tr>\n",
       "      <th>3行目</th>\n",
       "      <td>6</td>\n",
       "      <td>8</td>\n",
       "    </tr>\n",
       "  </tbody>\n",
       "</table>\n",
       "</div>"
      ],
      "text/plain": [
       "     A列  C列\n",
       "1行目   0   2\n",
       "2行目   3   5\n",
       "3行目   6   8"
      ]
     },
     "execution_count": 260,
     "metadata": {},
     "output_type": "execute_result"
    }
   ],
   "source": [
    "df[[\"A列\", \"C列\"]]"
   ]
  },
  {
   "cell_type": "code",
   "execution_count": 261,
   "id": "5e9dc692-e2a3-48b4-9d76-5cbc96b88a38",
   "metadata": {},
   "outputs": [
    {
     "data": {
      "text/html": [
       "<div>\n",
       "<style scoped>\n",
       "    .dataframe tbody tr th:only-of-type {\n",
       "        vertical-align: middle;\n",
       "    }\n",
       "\n",
       "    .dataframe tbody tr th {\n",
       "        vertical-align: top;\n",
       "    }\n",
       "\n",
       "    .dataframe thead th {\n",
       "        text-align: right;\n",
       "    }\n",
       "</style>\n",
       "<table border=\"1\" class=\"dataframe\">\n",
       "  <thead>\n",
       "    <tr style=\"text-align: right;\">\n",
       "      <th></th>\n",
       "      <th>A列</th>\n",
       "      <th>B列</th>\n",
       "      <th>C列</th>\n",
       "    </tr>\n",
       "  </thead>\n",
       "  <tbody>\n",
       "    <tr>\n",
       "      <th>1行目</th>\n",
       "      <td>0</td>\n",
       "      <td>1</td>\n",
       "      <td>2</td>\n",
       "    </tr>\n",
       "  </tbody>\n",
       "</table>\n",
       "</div>"
      ],
      "text/plain": [
       "     A列  B列  C列\n",
       "1行目   0   1   2"
      ]
     },
     "execution_count": 261,
     "metadata": {},
     "output_type": "execute_result"
    }
   ],
   "source": [
    "df[:\"1行目\"]"
   ]
  },
  {
   "cell_type": "code",
   "execution_count": 262,
   "id": "95d3a6b5-68b9-4ded-975d-65f3217ebaf6",
   "metadata": {},
   "outputs": [
    {
     "data": {
      "text/plain": [
       "1行目    0\n",
       "2行目    3\n",
       "3行目    6\n",
       "Name: A列, dtype: int32"
      ]
     },
     "execution_count": 262,
     "metadata": {},
     "output_type": "execute_result"
    }
   ],
   "source": [
    "df.loc[:, \"A列\"]"
   ]
  },
  {
   "cell_type": "code",
   "execution_count": 265,
   "id": "d84040cd-f305-46ec-82a6-f37948366e99",
   "metadata": {},
   "outputs": [
    {
     "data": {
      "text/plain": [
       "A列    3\n",
       "B列    4\n",
       "Name: 2行目, dtype: int32"
      ]
     },
     "execution_count": 265,
     "metadata": {},
     "output_type": "execute_result"
    }
   ],
   "source": [
    "df.loc[\"2行目\", [\"A列\", \"B列\"]]"
   ]
  },
  {
   "cell_type": "code",
   "execution_count": 266,
   "id": "3eb137b5-e847-442b-a7be-f2692479eb12",
   "metadata": {},
   "outputs": [
    {
     "data": {
      "text/html": [
       "<div>\n",
       "<style scoped>\n",
       "    .dataframe tbody tr th:only-of-type {\n",
       "        vertical-align: middle;\n",
       "    }\n",
       "\n",
       "    .dataframe tbody tr th {\n",
       "        vertical-align: top;\n",
       "    }\n",
       "\n",
       "    .dataframe thead th {\n",
       "        text-align: right;\n",
       "    }\n",
       "</style>\n",
       "<table border=\"1\" class=\"dataframe\">\n",
       "  <thead>\n",
       "    <tr style=\"text-align: right;\">\n",
       "      <th></th>\n",
       "      <th>A列</th>\n",
       "      <th>C列</th>\n",
       "    </tr>\n",
       "  </thead>\n",
       "  <tbody>\n",
       "    <tr>\n",
       "      <th>1行目</th>\n",
       "      <td>0</td>\n",
       "      <td>2</td>\n",
       "    </tr>\n",
       "    <tr>\n",
       "      <th>2行目</th>\n",
       "      <td>3</td>\n",
       "      <td>5</td>\n",
       "    </tr>\n",
       "    <tr>\n",
       "      <th>3行目</th>\n",
       "      <td>6</td>\n",
       "      <td>8</td>\n",
       "    </tr>\n",
       "  </tbody>\n",
       "</table>\n",
       "</div>"
      ],
      "text/plain": [
       "     A列  C列\n",
       "1行目   0   2\n",
       "2行目   3   5\n",
       "3行目   6   8"
      ]
     },
     "execution_count": 266,
     "metadata": {},
     "output_type": "execute_result"
    }
   ],
   "source": [
    "df.loc[:, [\"A列\", \"C列\"]]"
   ]
  },
  {
   "cell_type": "code",
   "execution_count": 269,
   "id": "7b0e2fd2-712a-43a2-9c0f-3775ac46b4cf",
   "metadata": {},
   "outputs": [
    {
     "data": {
      "text/html": [
       "<div>\n",
       "<style scoped>\n",
       "    .dataframe tbody tr th:only-of-type {\n",
       "        vertical-align: middle;\n",
       "    }\n",
       "\n",
       "    .dataframe tbody tr th {\n",
       "        vertical-align: top;\n",
       "    }\n",
       "\n",
       "    .dataframe thead th {\n",
       "        text-align: right;\n",
       "    }\n",
       "</style>\n",
       "<table border=\"1\" class=\"dataframe\">\n",
       "  <thead>\n",
       "    <tr style=\"text-align: right;\">\n",
       "      <th></th>\n",
       "      <th>B列</th>\n",
       "    </tr>\n",
       "  </thead>\n",
       "  <tbody>\n",
       "    <tr>\n",
       "      <th>1行目</th>\n",
       "      <td>1</td>\n",
       "    </tr>\n",
       "    <tr>\n",
       "      <th>2行目</th>\n",
       "      <td>4</td>\n",
       "    </tr>\n",
       "  </tbody>\n",
       "</table>\n",
       "</div>"
      ],
      "text/plain": [
       "     B列\n",
       "1行目   1\n",
       "2行目   4"
      ]
     },
     "execution_count": 269,
     "metadata": {},
     "output_type": "execute_result"
    }
   ],
   "source": [
    "df.iloc[0:2, 1:2]"
   ]
  },
  {
   "cell_type": "markdown",
   "id": "f32632f7-4291-4c6f-9942-a61b59202b2b",
   "metadata": {},
   "source": [
    "## Pandas CSV and EXCEL read"
   ]
  },
  {
   "cell_type": "code",
   "execution_count": 270,
   "id": "903859f3-ecf8-4579-a33c-70ec10e9fde9",
   "metadata": {},
   "outputs": [],
   "source": [
    "data_path_csv = \"data/c01.csv\"\n",
    "data_path_xlsx = \"data/c01.xlsx\""
   ]
  },
  {
   "cell_type": "code",
   "execution_count": 273,
   "id": "ce9ceb61-a661-466a-b309-89513f088ca1",
   "metadata": {},
   "outputs": [
    {
     "data": {
      "text/html": [
       "<div>\n",
       "<style scoped>\n",
       "    .dataframe tbody tr th:only-of-type {\n",
       "        vertical-align: middle;\n",
       "    }\n",
       "\n",
       "    .dataframe tbody tr th {\n",
       "        vertical-align: top;\n",
       "    }\n",
       "\n",
       "    .dataframe thead th {\n",
       "        text-align: right;\n",
       "    }\n",
       "</style>\n",
       "<table border=\"1\" class=\"dataframe\">\n",
       "  <thead>\n",
       "    <tr style=\"text-align: right;\">\n",
       "      <th></th>\n",
       "      <th>都道府県コード</th>\n",
       "      <th>都道府県名</th>\n",
       "      <th>元号</th>\n",
       "      <th>和暦（年）</th>\n",
       "      <th>西暦（年）</th>\n",
       "      <th>注</th>\n",
       "      <th>人口（総数）</th>\n",
       "      <th>人口（男）</th>\n",
       "      <th>人口（女）</th>\n",
       "    </tr>\n",
       "  </thead>\n",
       "  <tbody>\n",
       "    <tr>\n",
       "      <th>0</th>\n",
       "      <td>00</td>\n",
       "      <td>全国</td>\n",
       "      <td>大正</td>\n",
       "      <td>9.0</td>\n",
       "      <td>1920.0</td>\n",
       "      <td>NaN</td>\n",
       "      <td>55963053</td>\n",
       "      <td>28044185</td>\n",
       "      <td>27918868</td>\n",
       "    </tr>\n",
       "    <tr>\n",
       "      <th>1</th>\n",
       "      <td>01</td>\n",
       "      <td>北海道</td>\n",
       "      <td>大正</td>\n",
       "      <td>9.0</td>\n",
       "      <td>1920.0</td>\n",
       "      <td>NaN</td>\n",
       "      <td>2359183</td>\n",
       "      <td>1244322</td>\n",
       "      <td>1114861</td>\n",
       "    </tr>\n",
       "    <tr>\n",
       "      <th>2</th>\n",
       "      <td>02</td>\n",
       "      <td>青森県</td>\n",
       "      <td>大正</td>\n",
       "      <td>9.0</td>\n",
       "      <td>1920.0</td>\n",
       "      <td>NaN</td>\n",
       "      <td>756454</td>\n",
       "      <td>381293</td>\n",
       "      <td>375161</td>\n",
       "    </tr>\n",
       "    <tr>\n",
       "      <th>3</th>\n",
       "      <td>03</td>\n",
       "      <td>岩手県</td>\n",
       "      <td>大正</td>\n",
       "      <td>9.0</td>\n",
       "      <td>1920.0</td>\n",
       "      <td>NaN</td>\n",
       "      <td>845540</td>\n",
       "      <td>421069</td>\n",
       "      <td>424471</td>\n",
       "    </tr>\n",
       "    <tr>\n",
       "      <th>4</th>\n",
       "      <td>04</td>\n",
       "      <td>宮城県</td>\n",
       "      <td>大正</td>\n",
       "      <td>9.0</td>\n",
       "      <td>1920.0</td>\n",
       "      <td>NaN</td>\n",
       "      <td>961768</td>\n",
       "      <td>485309</td>\n",
       "      <td>476459</td>\n",
       "    </tr>\n",
       "  </tbody>\n",
       "</table>\n",
       "</div>"
      ],
      "text/plain": [
       "  都道府県コード 都道府県名  元号  和暦（年）   西暦（年）    注    人口（総数）     人口（男）     人口（女）\n",
       "0      00    全国  大正    9.0  1920.0  NaN  55963053  28044185  27918868\n",
       "1      01   北海道  大正    9.0  1920.0  NaN   2359183   1244322   1114861\n",
       "2      02   青森県  大正    9.0  1920.0  NaN    756454    381293    375161\n",
       "3      03   岩手県  大正    9.0  1920.0  NaN    845540    421069    424471\n",
       "4      04   宮城県  大正    9.0  1920.0  NaN    961768    485309    476459"
      ]
     },
     "execution_count": 273,
     "metadata": {},
     "output_type": "execute_result"
    }
   ],
   "source": [
    "df = pd.read_csv(data_path_csv, encoding=\"shift-jis\")\n",
    "df.head()"
   ]
  },
  {
   "cell_type": "code",
   "execution_count": 274,
   "id": "8f91f158-543a-4b46-9151-cf1d19a909db",
   "metadata": {},
   "outputs": [
    {
     "data": {
      "text/plain": [
       "(982, 9)"
      ]
     },
     "execution_count": 274,
     "metadata": {},
     "output_type": "execute_result"
    }
   ],
   "source": [
    "df.shape"
   ]
  },
  {
   "cell_type": "code",
   "execution_count": 275,
   "id": "f635faf9-aa32-47a5-bb1a-2ccb5918a185",
   "metadata": {},
   "outputs": [
    {
     "data": {
      "text/plain": [
       "Index(['都道府県コード', '都道府県名', '元号', '和暦（年）', '西暦（年）', '注', '人口（総数）', '人口（男）',\n",
       "       '人口（女）'],\n",
       "      dtype='object')"
      ]
     },
     "execution_count": 275,
     "metadata": {},
     "output_type": "execute_result"
    }
   ],
   "source": [
    "df.columns"
   ]
  },
  {
   "cell_type": "code",
   "execution_count": 282,
   "id": "6c3e4b68-7ab9-459a-a2b4-002a84d9fd03",
   "metadata": {},
   "outputs": [
    {
     "data": {
      "text/html": [
       "<div>\n",
       "<style scoped>\n",
       "    .dataframe tbody tr th:only-of-type {\n",
       "        vertical-align: middle;\n",
       "    }\n",
       "\n",
       "    .dataframe tbody tr th {\n",
       "        vertical-align: top;\n",
       "    }\n",
       "\n",
       "    .dataframe thead th {\n",
       "        text-align: right;\n",
       "    }\n",
       "</style>\n",
       "<table border=\"1\" class=\"dataframe\">\n",
       "  <thead>\n",
       "    <tr style=\"text-align: right;\">\n",
       "      <th></th>\n",
       "      <th>Unnamed: 0</th>\n",
       "      <th>都道府県コード</th>\n",
       "      <th>都道府県名</th>\n",
       "      <th>元号</th>\n",
       "      <th>和暦（年）</th>\n",
       "      <th>西暦（年）</th>\n",
       "      <th>注</th>\n",
       "      <th>人口（総数）</th>\n",
       "      <th>人口（男）</th>\n",
       "      <th>人口（女）</th>\n",
       "    </tr>\n",
       "  </thead>\n",
       "  <tbody>\n",
       "    <tr>\n",
       "      <th>0</th>\n",
       "      <td>0</td>\n",
       "      <td>00</td>\n",
       "      <td>全国</td>\n",
       "      <td>大正</td>\n",
       "      <td>9</td>\n",
       "      <td>1920</td>\n",
       "      <td>NaN</td>\n",
       "      <td>55963053</td>\n",
       "      <td>28044185</td>\n",
       "      <td>27918868</td>\n",
       "    </tr>\n",
       "    <tr>\n",
       "      <th>1</th>\n",
       "      <td>1</td>\n",
       "      <td>01</td>\n",
       "      <td>北海道</td>\n",
       "      <td>大正</td>\n",
       "      <td>9</td>\n",
       "      <td>1920</td>\n",
       "      <td>NaN</td>\n",
       "      <td>2359183</td>\n",
       "      <td>1244322</td>\n",
       "      <td>1114861</td>\n",
       "    </tr>\n",
       "    <tr>\n",
       "      <th>2</th>\n",
       "      <td>2</td>\n",
       "      <td>02</td>\n",
       "      <td>青森県</td>\n",
       "      <td>大正</td>\n",
       "      <td>9</td>\n",
       "      <td>1920</td>\n",
       "      <td>NaN</td>\n",
       "      <td>756454</td>\n",
       "      <td>381293</td>\n",
       "      <td>375161</td>\n",
       "    </tr>\n",
       "    <tr>\n",
       "      <th>3</th>\n",
       "      <td>3</td>\n",
       "      <td>03</td>\n",
       "      <td>岩手県</td>\n",
       "      <td>大正</td>\n",
       "      <td>9</td>\n",
       "      <td>1920</td>\n",
       "      <td>NaN</td>\n",
       "      <td>845540</td>\n",
       "      <td>421069</td>\n",
       "      <td>424471</td>\n",
       "    </tr>\n",
       "    <tr>\n",
       "      <th>4</th>\n",
       "      <td>4</td>\n",
       "      <td>04</td>\n",
       "      <td>宮城県</td>\n",
       "      <td>大正</td>\n",
       "      <td>9</td>\n",
       "      <td>1920</td>\n",
       "      <td>NaN</td>\n",
       "      <td>961768</td>\n",
       "      <td>485309</td>\n",
       "      <td>476459</td>\n",
       "    </tr>\n",
       "  </tbody>\n",
       "</table>\n",
       "</div>"
      ],
      "text/plain": [
       "   Unnamed: 0 都道府県コード 都道府県名  元号  和暦（年）  西暦（年）    注    人口（総数）     人口（男）  \\\n",
       "0           0      00    全国  大正      9   1920  NaN  55963053  28044185   \n",
       "1           1      01   北海道  大正      9   1920  NaN   2359183   1244322   \n",
       "2           2      02   青森県  大正      9   1920  NaN    756454    381293   \n",
       "3           3      03   岩手県  大正      9   1920  NaN    845540    421069   \n",
       "4           4      04   宮城県  大正      9   1920  NaN    961768    485309   \n",
       "\n",
       "      人口（女）  \n",
       "0  27918868  \n",
       "1   1114861  \n",
       "2    375161  \n",
       "3    424471  \n",
       "4    476459  "
      ]
     },
     "execution_count": 282,
     "metadata": {},
     "output_type": "execute_result"
    }
   ],
   "source": [
    "df = pd.read_excel(data_path_xlsx, nrows=980)\n",
    "df.head()"
   ]
  },
  {
   "cell_type": "code",
   "execution_count": 284,
   "id": "2d81f780-d1bd-40d7-9d3a-9301d681c322",
   "metadata": {},
   "outputs": [
    {
     "data": {
      "text/html": [
       "<div>\n",
       "<style scoped>\n",
       "    .dataframe tbody tr th:only-of-type {\n",
       "        vertical-align: middle;\n",
       "    }\n",
       "\n",
       "    .dataframe tbody tr th {\n",
       "        vertical-align: top;\n",
       "    }\n",
       "\n",
       "    .dataframe thead th {\n",
       "        text-align: right;\n",
       "    }\n",
       "</style>\n",
       "<table border=\"1\" class=\"dataframe\">\n",
       "  <thead>\n",
       "    <tr style=\"text-align: right;\">\n",
       "      <th></th>\n",
       "      <th>Unnamed: 0</th>\n",
       "      <th>都道府県コード</th>\n",
       "      <th>都道府県名</th>\n",
       "      <th>元号</th>\n",
       "      <th>和暦（年）</th>\n",
       "      <th>西暦（年）</th>\n",
       "      <th>注</th>\n",
       "      <th>人口（総数）</th>\n",
       "      <th>人口（男）</th>\n",
       "      <th>人口（女）</th>\n",
       "    </tr>\n",
       "  </thead>\n",
       "  <tbody>\n",
       "    <tr>\n",
       "      <th>975</th>\n",
       "      <td>975</td>\n",
       "      <td>43</td>\n",
       "      <td>熊本県</td>\n",
       "      <td>平成</td>\n",
       "      <td>27</td>\n",
       "      <td>2015</td>\n",
       "      <td>NaN</td>\n",
       "      <td>1786170</td>\n",
       "      <td>841046</td>\n",
       "      <td>945124</td>\n",
       "    </tr>\n",
       "    <tr>\n",
       "      <th>976</th>\n",
       "      <td>976</td>\n",
       "      <td>44</td>\n",
       "      <td>大分県</td>\n",
       "      <td>平成</td>\n",
       "      <td>27</td>\n",
       "      <td>2015</td>\n",
       "      <td>NaN</td>\n",
       "      <td>1166338</td>\n",
       "      <td>551932</td>\n",
       "      <td>614406</td>\n",
       "    </tr>\n",
       "    <tr>\n",
       "      <th>977</th>\n",
       "      <td>977</td>\n",
       "      <td>45</td>\n",
       "      <td>宮崎県</td>\n",
       "      <td>平成</td>\n",
       "      <td>27</td>\n",
       "      <td>2015</td>\n",
       "      <td>NaN</td>\n",
       "      <td>1104069</td>\n",
       "      <td>519242</td>\n",
       "      <td>584827</td>\n",
       "    </tr>\n",
       "    <tr>\n",
       "      <th>978</th>\n",
       "      <td>978</td>\n",
       "      <td>46</td>\n",
       "      <td>鹿児島県</td>\n",
       "      <td>平成</td>\n",
       "      <td>27</td>\n",
       "      <td>2015</td>\n",
       "      <td>NaN</td>\n",
       "      <td>1648177</td>\n",
       "      <td>773061</td>\n",
       "      <td>875116</td>\n",
       "    </tr>\n",
       "    <tr>\n",
       "      <th>979</th>\n",
       "      <td>979</td>\n",
       "      <td>47</td>\n",
       "      <td>沖縄県</td>\n",
       "      <td>平成</td>\n",
       "      <td>27</td>\n",
       "      <td>2015</td>\n",
       "      <td>NaN</td>\n",
       "      <td>1433566</td>\n",
       "      <td>704619</td>\n",
       "      <td>728947</td>\n",
       "    </tr>\n",
       "  </tbody>\n",
       "</table>\n",
       "</div>"
      ],
      "text/plain": [
       "     Unnamed: 0 都道府県コード 都道府県名  元号  和暦（年）  西暦（年）    注   人口（総数）   人口（男）   人口（女）\n",
       "975         975      43   熊本県  平成     27   2015  NaN  1786170  841046  945124\n",
       "976         976      44   大分県  平成     27   2015  NaN  1166338  551932  614406\n",
       "977         977      45   宮崎県  平成     27   2015  NaN  1104069  519242  584827\n",
       "978         978      46  鹿児島県  平成     27   2015  NaN  1648177  773061  875116\n",
       "979         979      47   沖縄県  平成     27   2015  NaN  1433566  704619  728947"
      ]
     },
     "execution_count": 284,
     "metadata": {},
     "output_type": "execute_result"
    }
   ],
   "source": [
    "df.tail()"
   ]
  },
  {
   "cell_type": "code",
   "execution_count": 279,
   "id": "ea6c72d7-33a9-4b99-ad9d-7af3829d0763",
   "metadata": {},
   "outputs": [
    {
     "data": {
      "text/html": [
       "<div>\n",
       "<style scoped>\n",
       "    .dataframe tbody tr th:only-of-type {\n",
       "        vertical-align: middle;\n",
       "    }\n",
       "\n",
       "    .dataframe tbody tr th {\n",
       "        vertical-align: top;\n",
       "    }\n",
       "\n",
       "    .dataframe thead th {\n",
       "        text-align: right;\n",
       "    }\n",
       "</style>\n",
       "<table border=\"1\" class=\"dataframe\">\n",
       "  <thead>\n",
       "    <tr style=\"text-align: right;\">\n",
       "      <th></th>\n",
       "      <th>A列</th>\n",
       "      <th>B列</th>\n",
       "      <th>C列</th>\n",
       "      <th>D列</th>\n",
       "    </tr>\n",
       "  </thead>\n",
       "  <tbody>\n",
       "    <tr>\n",
       "      <th>1行目</th>\n",
       "      <td>0</td>\n",
       "      <td>1</td>\n",
       "      <td>2</td>\n",
       "      <td>3</td>\n",
       "    </tr>\n",
       "    <tr>\n",
       "      <th>2行目</th>\n",
       "      <td>4</td>\n",
       "      <td>5</td>\n",
       "      <td>6</td>\n",
       "      <td>7</td>\n",
       "    </tr>\n",
       "    <tr>\n",
       "      <th>3行目</th>\n",
       "      <td>8</td>\n",
       "      <td>9</td>\n",
       "      <td>10</td>\n",
       "      <td>11</td>\n",
       "    </tr>\n",
       "    <tr>\n",
       "      <th>4行目</th>\n",
       "      <td>12</td>\n",
       "      <td>13</td>\n",
       "      <td>14</td>\n",
       "      <td>15</td>\n",
       "    </tr>\n",
       "    <tr>\n",
       "      <th>5行目</th>\n",
       "      <td>16</td>\n",
       "      <td>17</td>\n",
       "      <td>18</td>\n",
       "      <td>19</td>\n",
       "    </tr>\n",
       "  </tbody>\n",
       "</table>\n",
       "</div>"
      ],
      "text/plain": [
       "     A列  B列  C列  D列\n",
       "1行目   0   1   2   3\n",
       "2行目   4   5   6   7\n",
       "3行目   8   9  10  11\n",
       "4行目  12  13  14  15\n",
       "5行目  16  17  18  19"
      ]
     },
     "execution_count": 279,
     "metadata": {},
     "output_type": "execute_result"
    }
   ],
   "source": [
    "sample_df = pd.DataFrame(np.arange(20).reshape((5, 4)),\n",
    "                  index=[\"1行目\", \"2行目\", \"3行目\", \"4行目\", \"5行目\"],\n",
    "                  columns=[\"A列\", \"B列\", \"C列\", \"D列\"])\n",
    "sample_df"
   ]
  },
  {
   "cell_type": "code",
   "execution_count": 281,
   "id": "2dc6517f-7593-430e-855a-9fba99f12ab3",
   "metadata": {},
   "outputs": [],
   "source": [
    "sample_df.to_excel(\"data/sample_df_idx.xlsx\", index=True)\n",
    "sample_df.to_excel(\"data/sample_df_no_idx.xlsx\", index=False)"
   ]
  },
  {
   "cell_type": "code",
   "execution_count": 285,
   "id": "e0af7c81-ac25-4e97-9c83-6c7d43db2e5b",
   "metadata": {},
   "outputs": [
    {
     "data": {
      "text/plain": [
       "[            0                                                  1    2\n",
       " 0       政府統計名                                               人口推計   詳細\n",
       " 1     政府統計コード                                           00200524  NaN\n",
       " 2       調査の概要  人口推計は、国勢調査による人口を基に、その後の各月における出生・死亡、入国・出国などの人口の...  NaN\n",
       " 3       提供統計名                                               人口推計  NaN\n",
       " 4       提供分類1                                           各月1日現在人口  NaN\n",
       " 5        統計表名  年齢(5歳階級)、男女別人口(2021年5月平成27年国勢調査を基準とする推計値、2021年...  NaN\n",
       " 6   データセットの概要                                                NaN  NaN\n",
       " 7   統計分野（大分類）                                              人口・世帯  NaN\n",
       " 8   統計分野（小分類）                                                 人口  NaN\n",
       " 9        担当機関                                                総務省  NaN\n",
       " 10       担当課室                                      統計局統計調査部国勢統計課  NaN\n",
       " 11    政府統計URL        http://www.stat.go.jp/data/jinsui/index.htm  NaN\n",
       " 12      統計の種類                                               基幹統計  NaN\n",
       " 13       調査年月                                          2021年 10月  NaN\n",
       " 14    公開年月日時分                                   2021-10-20 14:00  NaN\n",
       " 15       提供周期                                                 月次  NaN\n",
       " 16     集計地域区分                                               該当なし  NaN,\n",
       "            0   1\n",
       " 0      政府統計名 NaN\n",
       " 1  ホームページURL NaN\n",
       " 2  担当機関名（課室） NaN\n",
       " 3    メールアドレス NaN\n",
       " 4       電話番号 NaN,\n",
       "         0   1\n",
       " 0  ファイル形式 NaN,\n",
       "         0                   1\n",
       " 0  ファイル形式  XML形式 JSON形式 CSV形式]"
      ]
     },
     "execution_count": 285,
     "metadata": {},
     "output_type": "execute_result"
    }
   ],
   "source": [
    "url = \"https://www.e-stat.go.jp/stat-search/files?page=1&query=%E4%BA%BA%E5%8F%A3&layout=dataset&stat_infid=000032126213&metadata=1&data=1\"\n",
    "tables = pd.read_html(url)\n",
    "tables"
   ]
  },
  {
   "cell_type": "code",
   "execution_count": 286,
   "id": "b6185e6d-7a3c-4ee5-8ef7-042a8e28fc69",
   "metadata": {},
   "outputs": [
    {
     "data": {
      "text/html": [
       "<div>\n",
       "<style scoped>\n",
       "    .dataframe tbody tr th:only-of-type {\n",
       "        vertical-align: middle;\n",
       "    }\n",
       "\n",
       "    .dataframe tbody tr th {\n",
       "        vertical-align: top;\n",
       "    }\n",
       "\n",
       "    .dataframe thead th {\n",
       "        text-align: right;\n",
       "    }\n",
       "</style>\n",
       "<table border=\"1\" class=\"dataframe\">\n",
       "  <thead>\n",
       "    <tr style=\"text-align: right;\">\n",
       "      <th></th>\n",
       "      <th>日付</th>\n",
       "      <th>売り上げ</th>\n",
       "      <th>客数</th>\n",
       "      <th>客単価</th>\n",
       "    </tr>\n",
       "  </thead>\n",
       "  <tbody>\n",
       "    <tr>\n",
       "      <th>0</th>\n",
       "      <td>2021-01-01</td>\n",
       "      <td>549342</td>\n",
       "      <td>125</td>\n",
       "      <td>4395</td>\n",
       "    </tr>\n",
       "    <tr>\n",
       "      <th>1</th>\n",
       "      <td>2021-01-02</td>\n",
       "      <td>577869</td>\n",
       "      <td>150</td>\n",
       "      <td>3852</td>\n",
       "    </tr>\n",
       "    <tr>\n",
       "      <th>2</th>\n",
       "      <td>2021-01-03</td>\n",
       "      <td>328030</td>\n",
       "      <td>184</td>\n",
       "      <td>1783</td>\n",
       "    </tr>\n",
       "    <tr>\n",
       "      <th>3</th>\n",
       "      <td>2021-01-04</td>\n",
       "      <td>317730</td>\n",
       "      <td>156</td>\n",
       "      <td>2037</td>\n",
       "    </tr>\n",
       "    <tr>\n",
       "      <th>4</th>\n",
       "      <td>2021-01-05</td>\n",
       "      <td>492476</td>\n",
       "      <td>149</td>\n",
       "      <td>3305</td>\n",
       "    </tr>\n",
       "    <tr>\n",
       "      <th>5</th>\n",
       "      <td>2021-01-06</td>\n",
       "      <td>494278</td>\n",
       "      <td>112</td>\n",
       "      <td>4413</td>\n",
       "    </tr>\n",
       "    <tr>\n",
       "      <th>6</th>\n",
       "      <td>2021-01-07</td>\n",
       "      <td>446449</td>\n",
       "      <td>118</td>\n",
       "      <td>3783</td>\n",
       "    </tr>\n",
       "    <tr>\n",
       "      <th>7</th>\n",
       "      <td>2021-01-08</td>\n",
       "      <td>429130</td>\n",
       "      <td>181</td>\n",
       "      <td>2371</td>\n",
       "    </tr>\n",
       "    <tr>\n",
       "      <th>8</th>\n",
       "      <td>2021-01-09</td>\n",
       "      <td>346203</td>\n",
       "      <td>101</td>\n",
       "      <td>3428</td>\n",
       "    </tr>\n",
       "    <tr>\n",
       "      <th>9</th>\n",
       "      <td>2021-01-10</td>\n",
       "      <td>520374</td>\n",
       "      <td>151</td>\n",
       "      <td>3446</td>\n",
       "    </tr>\n",
       "    <tr>\n",
       "      <th>10</th>\n",
       "      <td>2021-01-11</td>\n",
       "      <td>453313</td>\n",
       "      <td>144</td>\n",
       "      <td>3148</td>\n",
       "    </tr>\n",
       "    <tr>\n",
       "      <th>11</th>\n",
       "      <td>2021-01-12</td>\n",
       "      <td>365632</td>\n",
       "      <td>148</td>\n",
       "      <td>2470</td>\n",
       "    </tr>\n",
       "    <tr>\n",
       "      <th>12</th>\n",
       "      <td>2021-01-13</td>\n",
       "      <td>549903</td>\n",
       "      <td>156</td>\n",
       "      <td>3525</td>\n",
       "    </tr>\n",
       "    <tr>\n",
       "      <th>13</th>\n",
       "      <td>2021-01-14</td>\n",
       "      <td>418857</td>\n",
       "      <td>191</td>\n",
       "      <td>2193</td>\n",
       "    </tr>\n",
       "    <tr>\n",
       "      <th>14</th>\n",
       "      <td>2021-01-15</td>\n",
       "      <td>371200</td>\n",
       "      <td>149</td>\n",
       "      <td>2491</td>\n",
       "    </tr>\n",
       "    <tr>\n",
       "      <th>15</th>\n",
       "      <td>2021-01-16</td>\n",
       "      <td>464782</td>\n",
       "      <td>186</td>\n",
       "      <td>2499</td>\n",
       "    </tr>\n",
       "    <tr>\n",
       "      <th>16</th>\n",
       "      <td>2021-01-17</td>\n",
       "      <td>496719</td>\n",
       "      <td>103</td>\n",
       "      <td>4823</td>\n",
       "    </tr>\n",
       "    <tr>\n",
       "      <th>17</th>\n",
       "      <td>2021-01-18</td>\n",
       "      <td>532857</td>\n",
       "      <td>167</td>\n",
       "      <td>3191</td>\n",
       "    </tr>\n",
       "    <tr>\n",
       "      <th>18</th>\n",
       "      <td>2021-01-19</td>\n",
       "      <td>335662</td>\n",
       "      <td>111</td>\n",
       "      <td>3024</td>\n",
       "    </tr>\n",
       "    <tr>\n",
       "      <th>19</th>\n",
       "      <td>2021-01-20</td>\n",
       "      <td>527748</td>\n",
       "      <td>121</td>\n",
       "      <td>4362</td>\n",
       "    </tr>\n",
       "    <tr>\n",
       "      <th>20</th>\n",
       "      <td>2021-01-21</td>\n",
       "      <td>430256</td>\n",
       "      <td>189</td>\n",
       "      <td>2276</td>\n",
       "    </tr>\n",
       "    <tr>\n",
       "      <th>21</th>\n",
       "      <td>2021-01-22</td>\n",
       "      <td>457698</td>\n",
       "      <td>198</td>\n",
       "      <td>2312</td>\n",
       "    </tr>\n",
       "    <tr>\n",
       "      <th>22</th>\n",
       "      <td>2021-01-23</td>\n",
       "      <td>545799</td>\n",
       "      <td>103</td>\n",
       "      <td>5299</td>\n",
       "    </tr>\n",
       "    <tr>\n",
       "      <th>23</th>\n",
       "      <td>2021-01-24</td>\n",
       "      <td>514338</td>\n",
       "      <td>111</td>\n",
       "      <td>4634</td>\n",
       "    </tr>\n",
       "    <tr>\n",
       "      <th>24</th>\n",
       "      <td>2021-01-25</td>\n",
       "      <td>330255</td>\n",
       "      <td>103</td>\n",
       "      <td>3206</td>\n",
       "    </tr>\n",
       "    <tr>\n",
       "      <th>25</th>\n",
       "      <td>2021-01-26</td>\n",
       "      <td>306648</td>\n",
       "      <td>194</td>\n",
       "      <td>1581</td>\n",
       "    </tr>\n",
       "    <tr>\n",
       "      <th>26</th>\n",
       "      <td>2021-01-27</td>\n",
       "      <td>519069</td>\n",
       "      <td>106</td>\n",
       "      <td>4897</td>\n",
       "    </tr>\n",
       "    <tr>\n",
       "      <th>27</th>\n",
       "      <td>2021-01-28</td>\n",
       "      <td>585872</td>\n",
       "      <td>109</td>\n",
       "      <td>5375</td>\n",
       "    </tr>\n",
       "    <tr>\n",
       "      <th>28</th>\n",
       "      <td>2021-01-29</td>\n",
       "      <td>383079</td>\n",
       "      <td>187</td>\n",
       "      <td>2049</td>\n",
       "    </tr>\n",
       "    <tr>\n",
       "      <th>29</th>\n",
       "      <td>2021-01-30</td>\n",
       "      <td>566339</td>\n",
       "      <td>114</td>\n",
       "      <td>4968</td>\n",
       "    </tr>\n",
       "    <tr>\n",
       "      <th>30</th>\n",
       "      <td>2021-01-31</td>\n",
       "      <td>564572</td>\n",
       "      <td>183</td>\n",
       "      <td>3085</td>\n",
       "    </tr>\n",
       "  </tbody>\n",
       "</table>\n",
       "</div>"
      ],
      "text/plain": [
       "            日付    売り上げ   客数   客単価\n",
       "0   2021-01-01  549342  125  4395\n",
       "1   2021-01-02  577869  150  3852\n",
       "2   2021-01-03  328030  184  1783\n",
       "3   2021-01-04  317730  156  2037\n",
       "4   2021-01-05  492476  149  3305\n",
       "5   2021-01-06  494278  112  4413\n",
       "6   2021-01-07  446449  118  3783\n",
       "7   2021-01-08  429130  181  2371\n",
       "8   2021-01-09  346203  101  3428\n",
       "9   2021-01-10  520374  151  3446\n",
       "10  2021-01-11  453313  144  3148\n",
       "11  2021-01-12  365632  148  2470\n",
       "12  2021-01-13  549903  156  3525\n",
       "13  2021-01-14  418857  191  2193\n",
       "14  2021-01-15  371200  149  2491\n",
       "15  2021-01-16  464782  186  2499\n",
       "16  2021-01-17  496719  103  4823\n",
       "17  2021-01-18  532857  167  3191\n",
       "18  2021-01-19  335662  111  3024\n",
       "19  2021-01-20  527748  121  4362\n",
       "20  2021-01-21  430256  189  2276\n",
       "21  2021-01-22  457698  198  2312\n",
       "22  2021-01-23  545799  103  5299\n",
       "23  2021-01-24  514338  111  4634\n",
       "24  2021-01-25  330255  103  3206\n",
       "25  2021-01-26  306648  194  1581\n",
       "26  2021-01-27  519069  106  4897\n",
       "27  2021-01-28  585872  109  5375\n",
       "28  2021-01-29  383079  187  2049\n",
       "29  2021-01-30  566339  114  4968\n",
       "30  2021-01-31  564572  183  3085"
      ]
     },
     "execution_count": 286,
     "metadata": {},
     "output_type": "execute_result"
    }
   ],
   "source": [
    "df = pd.read_csv(\"data/sales_data.csv\")\n",
    "df"
   ]
  },
  {
   "cell_type": "code",
   "execution_count": 287,
   "id": "80dfea94-1876-438b-b266-2eaba7700cd4",
   "metadata": {},
   "outputs": [
    {
     "data": {
      "text/plain": [
       "0      True\n",
       "1      True\n",
       "2     False\n",
       "3     False\n",
       "4     False\n",
       "5     False\n",
       "6     False\n",
       "7     False\n",
       "8     False\n",
       "9      True\n",
       "10    False\n",
       "11    False\n",
       "12     True\n",
       "13    False\n",
       "14    False\n",
       "15    False\n",
       "16    False\n",
       "17     True\n",
       "18    False\n",
       "19     True\n",
       "20    False\n",
       "21    False\n",
       "22     True\n",
       "23     True\n",
       "24    False\n",
       "25    False\n",
       "26     True\n",
       "27     True\n",
       "28    False\n",
       "29     True\n",
       "30     True\n",
       "Name: 売り上げ, dtype: bool"
      ]
     },
     "execution_count": 287,
     "metadata": {},
     "output_type": "execute_result"
    }
   ],
   "source": [
    "df[\"売り上げ\"] >= 500000"
   ]
  },
  {
   "cell_type": "code",
   "execution_count": 288,
   "id": "7053ce61-f81e-4466-aa9a-292d95907c14",
   "metadata": {},
   "outputs": [
    {
     "data": {
      "text/html": [
       "<div>\n",
       "<style scoped>\n",
       "    .dataframe tbody tr th:only-of-type {\n",
       "        vertical-align: middle;\n",
       "    }\n",
       "\n",
       "    .dataframe tbody tr th {\n",
       "        vertical-align: top;\n",
       "    }\n",
       "\n",
       "    .dataframe thead th {\n",
       "        text-align: right;\n",
       "    }\n",
       "</style>\n",
       "<table border=\"1\" class=\"dataframe\">\n",
       "  <thead>\n",
       "    <tr style=\"text-align: right;\">\n",
       "      <th></th>\n",
       "      <th>日付</th>\n",
       "      <th>売り上げ</th>\n",
       "      <th>客数</th>\n",
       "      <th>客単価</th>\n",
       "    </tr>\n",
       "  </thead>\n",
       "  <tbody>\n",
       "    <tr>\n",
       "      <th>0</th>\n",
       "      <td>2021-01-01</td>\n",
       "      <td>549342</td>\n",
       "      <td>125</td>\n",
       "      <td>4395</td>\n",
       "    </tr>\n",
       "    <tr>\n",
       "      <th>1</th>\n",
       "      <td>2021-01-02</td>\n",
       "      <td>577869</td>\n",
       "      <td>150</td>\n",
       "      <td>3852</td>\n",
       "    </tr>\n",
       "    <tr>\n",
       "      <th>9</th>\n",
       "      <td>2021-01-10</td>\n",
       "      <td>520374</td>\n",
       "      <td>151</td>\n",
       "      <td>3446</td>\n",
       "    </tr>\n",
       "    <tr>\n",
       "      <th>12</th>\n",
       "      <td>2021-01-13</td>\n",
       "      <td>549903</td>\n",
       "      <td>156</td>\n",
       "      <td>3525</td>\n",
       "    </tr>\n",
       "    <tr>\n",
       "      <th>17</th>\n",
       "      <td>2021-01-18</td>\n",
       "      <td>532857</td>\n",
       "      <td>167</td>\n",
       "      <td>3191</td>\n",
       "    </tr>\n",
       "    <tr>\n",
       "      <th>19</th>\n",
       "      <td>2021-01-20</td>\n",
       "      <td>527748</td>\n",
       "      <td>121</td>\n",
       "      <td>4362</td>\n",
       "    </tr>\n",
       "    <tr>\n",
       "      <th>22</th>\n",
       "      <td>2021-01-23</td>\n",
       "      <td>545799</td>\n",
       "      <td>103</td>\n",
       "      <td>5299</td>\n",
       "    </tr>\n",
       "    <tr>\n",
       "      <th>23</th>\n",
       "      <td>2021-01-24</td>\n",
       "      <td>514338</td>\n",
       "      <td>111</td>\n",
       "      <td>4634</td>\n",
       "    </tr>\n",
       "    <tr>\n",
       "      <th>26</th>\n",
       "      <td>2021-01-27</td>\n",
       "      <td>519069</td>\n",
       "      <td>106</td>\n",
       "      <td>4897</td>\n",
       "    </tr>\n",
       "    <tr>\n",
       "      <th>27</th>\n",
       "      <td>2021-01-28</td>\n",
       "      <td>585872</td>\n",
       "      <td>109</td>\n",
       "      <td>5375</td>\n",
       "    </tr>\n",
       "    <tr>\n",
       "      <th>29</th>\n",
       "      <td>2021-01-30</td>\n",
       "      <td>566339</td>\n",
       "      <td>114</td>\n",
       "      <td>4968</td>\n",
       "    </tr>\n",
       "    <tr>\n",
       "      <th>30</th>\n",
       "      <td>2021-01-31</td>\n",
       "      <td>564572</td>\n",
       "      <td>183</td>\n",
       "      <td>3085</td>\n",
       "    </tr>\n",
       "  </tbody>\n",
       "</table>\n",
       "</div>"
      ],
      "text/plain": [
       "            日付    売り上げ   客数   客単価\n",
       "0   2021-01-01  549342  125  4395\n",
       "1   2021-01-02  577869  150  3852\n",
       "9   2021-01-10  520374  151  3446\n",
       "12  2021-01-13  549903  156  3525\n",
       "17  2021-01-18  532857  167  3191\n",
       "19  2021-01-20  527748  121  4362\n",
       "22  2021-01-23  545799  103  5299\n",
       "23  2021-01-24  514338  111  4634\n",
       "26  2021-01-27  519069  106  4897\n",
       "27  2021-01-28  585872  109  5375\n",
       "29  2021-01-30  566339  114  4968\n",
       "30  2021-01-31  564572  183  3085"
      ]
     },
     "execution_count": 288,
     "metadata": {},
     "output_type": "execute_result"
    }
   ],
   "source": [
    "df.loc[df[\"売り上げ\"] >= 500000]"
   ]
  },
  {
   "cell_type": "code",
   "execution_count": 293,
   "id": "4f71dba5-af0c-4312-b9df-742060e17116",
   "metadata": {},
   "outputs": [
    {
     "name": "stdout",
     "output_type": "stream",
     "text": [
      "日付 datetime64[ns]\n",
      "売り上げ int64\n",
      "客数 int64\n",
      "客単価 int64\n"
     ]
    }
   ],
   "source": [
    "for col in df.columns:\n",
    "    print(col, df[col].dtype)"
   ]
  },
  {
   "cell_type": "code",
   "execution_count": 292,
   "id": "75dd1e5d-d05b-4ffe-84c8-477d715e9b04",
   "metadata": {},
   "outputs": [],
   "source": [
    "df[\"日付\"] = pd.to_datetime(df[\"日付\"])"
   ]
  },
  {
   "cell_type": "code",
   "execution_count": 296,
   "id": "f7f0fa6d-a7cc-4e0b-8b4e-8400f40ba24e",
   "metadata": {},
   "outputs": [
    {
     "data": {
      "text/html": [
       "<div>\n",
       "<style scoped>\n",
       "    .dataframe tbody tr th:only-of-type {\n",
       "        vertical-align: middle;\n",
       "    }\n",
       "\n",
       "    .dataframe tbody tr th {\n",
       "        vertical-align: top;\n",
       "    }\n",
       "\n",
       "    .dataframe thead th {\n",
       "        text-align: right;\n",
       "    }\n",
       "</style>\n",
       "<table border=\"1\" class=\"dataframe\">\n",
       "  <thead>\n",
       "    <tr style=\"text-align: right;\">\n",
       "      <th></th>\n",
       "      <th>日付</th>\n",
       "      <th>売り上げ</th>\n",
       "      <th>客数</th>\n",
       "      <th>客単価</th>\n",
       "    </tr>\n",
       "  </thead>\n",
       "  <tbody>\n",
       "    <tr>\n",
       "      <th>23</th>\n",
       "      <td>2021-01-24</td>\n",
       "      <td>514338</td>\n",
       "      <td>111</td>\n",
       "      <td>4634</td>\n",
       "    </tr>\n",
       "    <tr>\n",
       "      <th>24</th>\n",
       "      <td>2021-01-25</td>\n",
       "      <td>330255</td>\n",
       "      <td>103</td>\n",
       "      <td>3206</td>\n",
       "    </tr>\n",
       "    <tr>\n",
       "      <th>25</th>\n",
       "      <td>2021-01-26</td>\n",
       "      <td>306648</td>\n",
       "      <td>194</td>\n",
       "      <td>1581</td>\n",
       "    </tr>\n",
       "    <tr>\n",
       "      <th>26</th>\n",
       "      <td>2021-01-27</td>\n",
       "      <td>519069</td>\n",
       "      <td>106</td>\n",
       "      <td>4897</td>\n",
       "    </tr>\n",
       "    <tr>\n",
       "      <th>27</th>\n",
       "      <td>2021-01-28</td>\n",
       "      <td>585872</td>\n",
       "      <td>109</td>\n",
       "      <td>5375</td>\n",
       "    </tr>\n",
       "    <tr>\n",
       "      <th>28</th>\n",
       "      <td>2021-01-29</td>\n",
       "      <td>383079</td>\n",
       "      <td>187</td>\n",
       "      <td>2049</td>\n",
       "    </tr>\n",
       "    <tr>\n",
       "      <th>29</th>\n",
       "      <td>2021-01-30</td>\n",
       "      <td>566339</td>\n",
       "      <td>114</td>\n",
       "      <td>4968</td>\n",
       "    </tr>\n",
       "    <tr>\n",
       "      <th>30</th>\n",
       "      <td>2021-01-31</td>\n",
       "      <td>564572</td>\n",
       "      <td>183</td>\n",
       "      <td>3085</td>\n",
       "    </tr>\n",
       "  </tbody>\n",
       "</table>\n",
       "</div>"
      ],
      "text/plain": [
       "           日付    売り上げ   客数   客単価\n",
       "23 2021-01-24  514338  111  4634\n",
       "24 2021-01-25  330255  103  3206\n",
       "25 2021-01-26  306648  194  1581\n",
       "26 2021-01-27  519069  106  4897\n",
       "27 2021-01-28  585872  109  5375\n",
       "28 2021-01-29  383079  187  2049\n",
       "29 2021-01-30  566339  114  4968\n",
       "30 2021-01-31  564572  183  3085"
      ]
     },
     "execution_count": 296,
     "metadata": {},
     "output_type": "execute_result"
    }
   ],
   "source": [
    "df.loc[df[\"日付\"]>=\"2021-01-24\"]"
   ]
  },
  {
   "cell_type": "code",
   "execution_count": 297,
   "id": "4e6b3120-fc33-47a6-b31e-b9969a733d96",
   "metadata": {},
   "outputs": [
    {
     "data": {
      "text/html": [
       "<div>\n",
       "<style scoped>\n",
       "    .dataframe tbody tr th:only-of-type {\n",
       "        vertical-align: middle;\n",
       "    }\n",
       "\n",
       "    .dataframe tbody tr th {\n",
       "        vertical-align: top;\n",
       "    }\n",
       "\n",
       "    .dataframe thead th {\n",
       "        text-align: right;\n",
       "    }\n",
       "</style>\n",
       "<table border=\"1\" class=\"dataframe\">\n",
       "  <thead>\n",
       "    <tr style=\"text-align: right;\">\n",
       "      <th></th>\n",
       "      <th>日付</th>\n",
       "      <th>売り上げ</th>\n",
       "      <th>客数</th>\n",
       "      <th>客単価</th>\n",
       "    </tr>\n",
       "  </thead>\n",
       "  <tbody>\n",
       "    <tr>\n",
       "      <th>0</th>\n",
       "      <td>2021-01-01</td>\n",
       "      <td>549342</td>\n",
       "      <td>125</td>\n",
       "      <td>4395</td>\n",
       "    </tr>\n",
       "    <tr>\n",
       "      <th>1</th>\n",
       "      <td>2021-01-02</td>\n",
       "      <td>577869</td>\n",
       "      <td>150</td>\n",
       "      <td>3852</td>\n",
       "    </tr>\n",
       "    <tr>\n",
       "      <th>9</th>\n",
       "      <td>2021-01-10</td>\n",
       "      <td>520374</td>\n",
       "      <td>151</td>\n",
       "      <td>3446</td>\n",
       "    </tr>\n",
       "    <tr>\n",
       "      <th>12</th>\n",
       "      <td>2021-01-13</td>\n",
       "      <td>549903</td>\n",
       "      <td>156</td>\n",
       "      <td>3525</td>\n",
       "    </tr>\n",
       "    <tr>\n",
       "      <th>17</th>\n",
       "      <td>2021-01-18</td>\n",
       "      <td>532857</td>\n",
       "      <td>167</td>\n",
       "      <td>3191</td>\n",
       "    </tr>\n",
       "    <tr>\n",
       "      <th>19</th>\n",
       "      <td>2021-01-20</td>\n",
       "      <td>527748</td>\n",
       "      <td>121</td>\n",
       "      <td>4362</td>\n",
       "    </tr>\n",
       "    <tr>\n",
       "      <th>22</th>\n",
       "      <td>2021-01-23</td>\n",
       "      <td>545799</td>\n",
       "      <td>103</td>\n",
       "      <td>5299</td>\n",
       "    </tr>\n",
       "    <tr>\n",
       "      <th>23</th>\n",
       "      <td>2021-01-24</td>\n",
       "      <td>514338</td>\n",
       "      <td>111</td>\n",
       "      <td>4634</td>\n",
       "    </tr>\n",
       "    <tr>\n",
       "      <th>26</th>\n",
       "      <td>2021-01-27</td>\n",
       "      <td>519069</td>\n",
       "      <td>106</td>\n",
       "      <td>4897</td>\n",
       "    </tr>\n",
       "    <tr>\n",
       "      <th>27</th>\n",
       "      <td>2021-01-28</td>\n",
       "      <td>585872</td>\n",
       "      <td>109</td>\n",
       "      <td>5375</td>\n",
       "    </tr>\n",
       "    <tr>\n",
       "      <th>29</th>\n",
       "      <td>2021-01-30</td>\n",
       "      <td>566339</td>\n",
       "      <td>114</td>\n",
       "      <td>4968</td>\n",
       "    </tr>\n",
       "    <tr>\n",
       "      <th>30</th>\n",
       "      <td>2021-01-31</td>\n",
       "      <td>564572</td>\n",
       "      <td>183</td>\n",
       "      <td>3085</td>\n",
       "    </tr>\n",
       "  </tbody>\n",
       "</table>\n",
       "</div>"
      ],
      "text/plain": [
       "           日付    売り上げ   客数   客単価\n",
       "0  2021-01-01  549342  125  4395\n",
       "1  2021-01-02  577869  150  3852\n",
       "9  2021-01-10  520374  151  3446\n",
       "12 2021-01-13  549903  156  3525\n",
       "17 2021-01-18  532857  167  3191\n",
       "19 2021-01-20  527748  121  4362\n",
       "22 2021-01-23  545799  103  5299\n",
       "23 2021-01-24  514338  111  4634\n",
       "26 2021-01-27  519069  106  4897\n",
       "27 2021-01-28  585872  109  5375\n",
       "29 2021-01-30  566339  114  4968\n",
       "30 2021-01-31  564572  183  3085"
      ]
     },
     "execution_count": 297,
     "metadata": {},
     "output_type": "execute_result"
    }
   ],
   "source": [
    "df.query('売り上げ >= 500000')"
   ]
  },
  {
   "cell_type": "code",
   "execution_count": 298,
   "id": "9f228526-c8de-4e30-9ee1-89824ca3efec",
   "metadata": {},
   "outputs": [
    {
     "data": {
      "text/html": [
       "<div>\n",
       "<style scoped>\n",
       "    .dataframe tbody tr th:only-of-type {\n",
       "        vertical-align: middle;\n",
       "    }\n",
       "\n",
       "    .dataframe tbody tr th {\n",
       "        vertical-align: top;\n",
       "    }\n",
       "\n",
       "    .dataframe thead th {\n",
       "        text-align: right;\n",
       "    }\n",
       "</style>\n",
       "<table border=\"1\" class=\"dataframe\">\n",
       "  <thead>\n",
       "    <tr style=\"text-align: right;\">\n",
       "      <th></th>\n",
       "      <th>日付</th>\n",
       "      <th>売り上げ</th>\n",
       "      <th>客数</th>\n",
       "      <th>客単価</th>\n",
       "    </tr>\n",
       "  </thead>\n",
       "  <tbody>\n",
       "    <tr>\n",
       "      <th>1</th>\n",
       "      <td>2021-01-02</td>\n",
       "      <td>577869</td>\n",
       "      <td>150</td>\n",
       "      <td>3852</td>\n",
       "    </tr>\n",
       "    <tr>\n",
       "      <th>12</th>\n",
       "      <td>2021-01-13</td>\n",
       "      <td>549903</td>\n",
       "      <td>156</td>\n",
       "      <td>3525</td>\n",
       "    </tr>\n",
       "  </tbody>\n",
       "</table>\n",
       "</div>"
      ],
      "text/plain": [
       "           日付    売り上げ   客数   客単価\n",
       "1  2021-01-02  577869  150  3852\n",
       "12 2021-01-13  549903  156  3525"
      ]
     },
     "execution_count": 298,
     "metadata": {},
     "output_type": "execute_result"
    }
   ],
   "source": [
    "df.query('客数 >= 150 and 客単価 >= 3500')"
   ]
  },
  {
   "cell_type": "code",
   "execution_count": 299,
   "id": "05dc4922-ff9d-4212-859f-4db585f75e6e",
   "metadata": {},
   "outputs": [
    {
     "data": {
      "text/plain": [
       "日付      datetime64[ns]\n",
       "売り上げ             int64\n",
       "客数               int64\n",
       "客単価              int64\n",
       "dtype: object"
      ]
     },
     "execution_count": 299,
     "metadata": {},
     "output_type": "execute_result"
    }
   ],
   "source": [
    "df.dtypes"
   ]
  },
  {
   "cell_type": "code",
   "execution_count": 301,
   "id": "666d1d7b-2aef-4ad3-94b3-f0d50802349f",
   "metadata": {},
   "outputs": [
    {
     "data": {
      "text/plain": [
       "日付      datetime64[ns]\n",
       "売り上げ             int64\n",
       "客数               int64\n",
       "客単価            float32\n",
       "dtype: object"
      ]
     },
     "execution_count": 301,
     "metadata": {},
     "output_type": "execute_result"
    }
   ],
   "source": [
    "df['客単価'] = df['客単価'].astype(np.float32)\n",
    "df.dtypes"
   ]
  },
  {
   "cell_type": "code",
   "execution_count": null,
   "id": "7d4527ff-a379-484e-9b39-857564b2e4d9",
   "metadata": {},
   "outputs": [],
   "source": [
    "#df.loc[:, '日付'] = df.loc[:, '日付'].apply(pd.to_datetime)"
   ]
  },
  {
   "cell_type": "code",
   "execution_count": 302,
   "id": "d6c6ba63-f060-4b7e-bd75-6c9327ecb87a",
   "metadata": {},
   "outputs": [
    {
     "data": {
      "text/html": [
       "<div>\n",
       "<style scoped>\n",
       "    .dataframe tbody tr th:only-of-type {\n",
       "        vertical-align: middle;\n",
       "    }\n",
       "\n",
       "    .dataframe tbody tr th {\n",
       "        vertical-align: top;\n",
       "    }\n",
       "\n",
       "    .dataframe thead th {\n",
       "        text-align: right;\n",
       "    }\n",
       "</style>\n",
       "<table border=\"1\" class=\"dataframe\">\n",
       "  <thead>\n",
       "    <tr style=\"text-align: right;\">\n",
       "      <th></th>\n",
       "      <th>日付</th>\n",
       "      <th>売り上げ</th>\n",
       "      <th>客数</th>\n",
       "      <th>客単価</th>\n",
       "    </tr>\n",
       "  </thead>\n",
       "  <tbody>\n",
       "    <tr>\n",
       "      <th>0</th>\n",
       "      <td>2021-01-01</td>\n",
       "      <td>549342</td>\n",
       "      <td>125</td>\n",
       "      <td>4395.0</td>\n",
       "    </tr>\n",
       "    <tr>\n",
       "      <th>1</th>\n",
       "      <td>2021-01-02</td>\n",
       "      <td>577869</td>\n",
       "      <td>150</td>\n",
       "      <td>3852.0</td>\n",
       "    </tr>\n",
       "    <tr>\n",
       "      <th>2</th>\n",
       "      <td>2021-01-03</td>\n",
       "      <td>328030</td>\n",
       "      <td>184</td>\n",
       "      <td>1783.0</td>\n",
       "    </tr>\n",
       "    <tr>\n",
       "      <th>3</th>\n",
       "      <td>2021-01-04</td>\n",
       "      <td>317730</td>\n",
       "      <td>156</td>\n",
       "      <td>2037.0</td>\n",
       "    </tr>\n",
       "    <tr>\n",
       "      <th>4</th>\n",
       "      <td>2021-01-05</td>\n",
       "      <td>492476</td>\n",
       "      <td>149</td>\n",
       "      <td>3305.0</td>\n",
       "    </tr>\n",
       "    <tr>\n",
       "      <th>5</th>\n",
       "      <td>2021-01-06</td>\n",
       "      <td>494278</td>\n",
       "      <td>112</td>\n",
       "      <td>4413.0</td>\n",
       "    </tr>\n",
       "    <tr>\n",
       "      <th>6</th>\n",
       "      <td>2021-01-07</td>\n",
       "      <td>446449</td>\n",
       "      <td>118</td>\n",
       "      <td>3783.0</td>\n",
       "    </tr>\n",
       "    <tr>\n",
       "      <th>7</th>\n",
       "      <td>2021-01-08</td>\n",
       "      <td>429130</td>\n",
       "      <td>181</td>\n",
       "      <td>2371.0</td>\n",
       "    </tr>\n",
       "    <tr>\n",
       "      <th>8</th>\n",
       "      <td>2021-01-09</td>\n",
       "      <td>346203</td>\n",
       "      <td>101</td>\n",
       "      <td>3428.0</td>\n",
       "    </tr>\n",
       "    <tr>\n",
       "      <th>9</th>\n",
       "      <td>2021-01-10</td>\n",
       "      <td>520374</td>\n",
       "      <td>151</td>\n",
       "      <td>3446.0</td>\n",
       "    </tr>\n",
       "    <tr>\n",
       "      <th>10</th>\n",
       "      <td>2021-01-11</td>\n",
       "      <td>453313</td>\n",
       "      <td>144</td>\n",
       "      <td>3148.0</td>\n",
       "    </tr>\n",
       "    <tr>\n",
       "      <th>11</th>\n",
       "      <td>2021-01-12</td>\n",
       "      <td>365632</td>\n",
       "      <td>148</td>\n",
       "      <td>2470.0</td>\n",
       "    </tr>\n",
       "    <tr>\n",
       "      <th>12</th>\n",
       "      <td>2021-01-13</td>\n",
       "      <td>549903</td>\n",
       "      <td>156</td>\n",
       "      <td>3525.0</td>\n",
       "    </tr>\n",
       "    <tr>\n",
       "      <th>13</th>\n",
       "      <td>2021-01-14</td>\n",
       "      <td>418857</td>\n",
       "      <td>191</td>\n",
       "      <td>2193.0</td>\n",
       "    </tr>\n",
       "    <tr>\n",
       "      <th>14</th>\n",
       "      <td>2021-01-15</td>\n",
       "      <td>371200</td>\n",
       "      <td>149</td>\n",
       "      <td>2491.0</td>\n",
       "    </tr>\n",
       "    <tr>\n",
       "      <th>15</th>\n",
       "      <td>2021-01-16</td>\n",
       "      <td>464782</td>\n",
       "      <td>186</td>\n",
       "      <td>2499.0</td>\n",
       "    </tr>\n",
       "    <tr>\n",
       "      <th>16</th>\n",
       "      <td>2021-01-17</td>\n",
       "      <td>496719</td>\n",
       "      <td>103</td>\n",
       "      <td>4823.0</td>\n",
       "    </tr>\n",
       "    <tr>\n",
       "      <th>17</th>\n",
       "      <td>2021-01-18</td>\n",
       "      <td>532857</td>\n",
       "      <td>167</td>\n",
       "      <td>3191.0</td>\n",
       "    </tr>\n",
       "    <tr>\n",
       "      <th>18</th>\n",
       "      <td>2021-01-19</td>\n",
       "      <td>335662</td>\n",
       "      <td>111</td>\n",
       "      <td>3024.0</td>\n",
       "    </tr>\n",
       "    <tr>\n",
       "      <th>19</th>\n",
       "      <td>2021-01-20</td>\n",
       "      <td>527748</td>\n",
       "      <td>121</td>\n",
       "      <td>4362.0</td>\n",
       "    </tr>\n",
       "    <tr>\n",
       "      <th>20</th>\n",
       "      <td>2021-01-21</td>\n",
       "      <td>430256</td>\n",
       "      <td>189</td>\n",
       "      <td>2276.0</td>\n",
       "    </tr>\n",
       "    <tr>\n",
       "      <th>21</th>\n",
       "      <td>2021-01-22</td>\n",
       "      <td>457698</td>\n",
       "      <td>198</td>\n",
       "      <td>2312.0</td>\n",
       "    </tr>\n",
       "    <tr>\n",
       "      <th>22</th>\n",
       "      <td>2021-01-23</td>\n",
       "      <td>545799</td>\n",
       "      <td>103</td>\n",
       "      <td>5299.0</td>\n",
       "    </tr>\n",
       "    <tr>\n",
       "      <th>23</th>\n",
       "      <td>2021-01-24</td>\n",
       "      <td>514338</td>\n",
       "      <td>111</td>\n",
       "      <td>4634.0</td>\n",
       "    </tr>\n",
       "    <tr>\n",
       "      <th>24</th>\n",
       "      <td>2021-01-25</td>\n",
       "      <td>330255</td>\n",
       "      <td>103</td>\n",
       "      <td>3206.0</td>\n",
       "    </tr>\n",
       "    <tr>\n",
       "      <th>25</th>\n",
       "      <td>2021-01-26</td>\n",
       "      <td>306648</td>\n",
       "      <td>194</td>\n",
       "      <td>1581.0</td>\n",
       "    </tr>\n",
       "    <tr>\n",
       "      <th>26</th>\n",
       "      <td>2021-01-27</td>\n",
       "      <td>519069</td>\n",
       "      <td>106</td>\n",
       "      <td>4897.0</td>\n",
       "    </tr>\n",
       "    <tr>\n",
       "      <th>27</th>\n",
       "      <td>2021-01-28</td>\n",
       "      <td>585872</td>\n",
       "      <td>109</td>\n",
       "      <td>5375.0</td>\n",
       "    </tr>\n",
       "    <tr>\n",
       "      <th>28</th>\n",
       "      <td>2021-01-29</td>\n",
       "      <td>383079</td>\n",
       "      <td>187</td>\n",
       "      <td>2049.0</td>\n",
       "    </tr>\n",
       "    <tr>\n",
       "      <th>29</th>\n",
       "      <td>2021-01-30</td>\n",
       "      <td>566339</td>\n",
       "      <td>114</td>\n",
       "      <td>4968.0</td>\n",
       "    </tr>\n",
       "    <tr>\n",
       "      <th>30</th>\n",
       "      <td>2021-01-31</td>\n",
       "      <td>564572</td>\n",
       "      <td>183</td>\n",
       "      <td>3085.0</td>\n",
       "    </tr>\n",
       "  </tbody>\n",
       "</table>\n",
       "</div>"
      ],
      "text/plain": [
       "           日付    売り上げ   客数     客単価\n",
       "0  2021-01-01  549342  125  4395.0\n",
       "1  2021-01-02  577869  150  3852.0\n",
       "2  2021-01-03  328030  184  1783.0\n",
       "3  2021-01-04  317730  156  2037.0\n",
       "4  2021-01-05  492476  149  3305.0\n",
       "5  2021-01-06  494278  112  4413.0\n",
       "6  2021-01-07  446449  118  3783.0\n",
       "7  2021-01-08  429130  181  2371.0\n",
       "8  2021-01-09  346203  101  3428.0\n",
       "9  2021-01-10  520374  151  3446.0\n",
       "10 2021-01-11  453313  144  3148.0\n",
       "11 2021-01-12  365632  148  2470.0\n",
       "12 2021-01-13  549903  156  3525.0\n",
       "13 2021-01-14  418857  191  2193.0\n",
       "14 2021-01-15  371200  149  2491.0\n",
       "15 2021-01-16  464782  186  2499.0\n",
       "16 2021-01-17  496719  103  4823.0\n",
       "17 2021-01-18  532857  167  3191.0\n",
       "18 2021-01-19  335662  111  3024.0\n",
       "19 2021-01-20  527748  121  4362.0\n",
       "20 2021-01-21  430256  189  2276.0\n",
       "21 2021-01-22  457698  198  2312.0\n",
       "22 2021-01-23  545799  103  5299.0\n",
       "23 2021-01-24  514338  111  4634.0\n",
       "24 2021-01-25  330255  103  3206.0\n",
       "25 2021-01-26  306648  194  1581.0\n",
       "26 2021-01-27  519069  106  4897.0\n",
       "27 2021-01-28  585872  109  5375.0\n",
       "28 2021-01-29  383079  187  2049.0\n",
       "29 2021-01-30  566339  114  4968.0\n",
       "30 2021-01-31  564572  183  3085.0"
      ]
     },
     "execution_count": 302,
     "metadata": {},
     "output_type": "execute_result"
    }
   ],
   "source": [
    "df"
   ]
  },
  {
   "cell_type": "code",
   "execution_count": 303,
   "id": "54348561-6609-483f-9376-6958089060a3",
   "metadata": {},
   "outputs": [
    {
     "data": {
      "text/html": [
       "<div>\n",
       "<style scoped>\n",
       "    .dataframe tbody tr th:only-of-type {\n",
       "        vertical-align: middle;\n",
       "    }\n",
       "\n",
       "    .dataframe tbody tr th {\n",
       "        vertical-align: top;\n",
       "    }\n",
       "\n",
       "    .dataframe thead th {\n",
       "        text-align: right;\n",
       "    }\n",
       "</style>\n",
       "<table border=\"1\" class=\"dataframe\">\n",
       "  <thead>\n",
       "    <tr style=\"text-align: right;\">\n",
       "      <th></th>\n",
       "      <th>日付</th>\n",
       "      <th>売り上げ</th>\n",
       "      <th>客数</th>\n",
       "    </tr>\n",
       "  </thead>\n",
       "  <tbody>\n",
       "    <tr>\n",
       "      <th>0</th>\n",
       "      <td>2021-01-01</td>\n",
       "      <td>549342</td>\n",
       "      <td>125</td>\n",
       "    </tr>\n",
       "    <tr>\n",
       "      <th>1</th>\n",
       "      <td>2021-01-02</td>\n",
       "      <td>577869</td>\n",
       "      <td>150</td>\n",
       "    </tr>\n",
       "    <tr>\n",
       "      <th>2</th>\n",
       "      <td>2021-01-03</td>\n",
       "      <td>328030</td>\n",
       "      <td>184</td>\n",
       "    </tr>\n",
       "    <tr>\n",
       "      <th>3</th>\n",
       "      <td>2021-01-04</td>\n",
       "      <td>317730</td>\n",
       "      <td>156</td>\n",
       "    </tr>\n",
       "    <tr>\n",
       "      <th>4</th>\n",
       "      <td>2021-01-05</td>\n",
       "      <td>492476</td>\n",
       "      <td>149</td>\n",
       "    </tr>\n",
       "    <tr>\n",
       "      <th>5</th>\n",
       "      <td>2021-01-06</td>\n",
       "      <td>494278</td>\n",
       "      <td>112</td>\n",
       "    </tr>\n",
       "    <tr>\n",
       "      <th>6</th>\n",
       "      <td>2021-01-07</td>\n",
       "      <td>446449</td>\n",
       "      <td>118</td>\n",
       "    </tr>\n",
       "    <tr>\n",
       "      <th>7</th>\n",
       "      <td>2021-01-08</td>\n",
       "      <td>429130</td>\n",
       "      <td>181</td>\n",
       "    </tr>\n",
       "    <tr>\n",
       "      <th>8</th>\n",
       "      <td>2021-01-09</td>\n",
       "      <td>346203</td>\n",
       "      <td>101</td>\n",
       "    </tr>\n",
       "    <tr>\n",
       "      <th>9</th>\n",
       "      <td>2021-01-10</td>\n",
       "      <td>520374</td>\n",
       "      <td>151</td>\n",
       "    </tr>\n",
       "    <tr>\n",
       "      <th>10</th>\n",
       "      <td>2021-01-11</td>\n",
       "      <td>453313</td>\n",
       "      <td>144</td>\n",
       "    </tr>\n",
       "    <tr>\n",
       "      <th>11</th>\n",
       "      <td>2021-01-12</td>\n",
       "      <td>365632</td>\n",
       "      <td>148</td>\n",
       "    </tr>\n",
       "    <tr>\n",
       "      <th>12</th>\n",
       "      <td>2021-01-13</td>\n",
       "      <td>549903</td>\n",
       "      <td>156</td>\n",
       "    </tr>\n",
       "    <tr>\n",
       "      <th>13</th>\n",
       "      <td>2021-01-14</td>\n",
       "      <td>418857</td>\n",
       "      <td>191</td>\n",
       "    </tr>\n",
       "    <tr>\n",
       "      <th>14</th>\n",
       "      <td>2021-01-15</td>\n",
       "      <td>371200</td>\n",
       "      <td>149</td>\n",
       "    </tr>\n",
       "    <tr>\n",
       "      <th>15</th>\n",
       "      <td>2021-01-16</td>\n",
       "      <td>464782</td>\n",
       "      <td>186</td>\n",
       "    </tr>\n",
       "    <tr>\n",
       "      <th>16</th>\n",
       "      <td>2021-01-17</td>\n",
       "      <td>496719</td>\n",
       "      <td>103</td>\n",
       "    </tr>\n",
       "    <tr>\n",
       "      <th>17</th>\n",
       "      <td>2021-01-18</td>\n",
       "      <td>532857</td>\n",
       "      <td>167</td>\n",
       "    </tr>\n",
       "    <tr>\n",
       "      <th>18</th>\n",
       "      <td>2021-01-19</td>\n",
       "      <td>335662</td>\n",
       "      <td>111</td>\n",
       "    </tr>\n",
       "    <tr>\n",
       "      <th>19</th>\n",
       "      <td>2021-01-20</td>\n",
       "      <td>527748</td>\n",
       "      <td>121</td>\n",
       "    </tr>\n",
       "    <tr>\n",
       "      <th>20</th>\n",
       "      <td>2021-01-21</td>\n",
       "      <td>430256</td>\n",
       "      <td>189</td>\n",
       "    </tr>\n",
       "    <tr>\n",
       "      <th>21</th>\n",
       "      <td>2021-01-22</td>\n",
       "      <td>457698</td>\n",
       "      <td>198</td>\n",
       "    </tr>\n",
       "    <tr>\n",
       "      <th>22</th>\n",
       "      <td>2021-01-23</td>\n",
       "      <td>545799</td>\n",
       "      <td>103</td>\n",
       "    </tr>\n",
       "    <tr>\n",
       "      <th>23</th>\n",
       "      <td>2021-01-24</td>\n",
       "      <td>514338</td>\n",
       "      <td>111</td>\n",
       "    </tr>\n",
       "    <tr>\n",
       "      <th>24</th>\n",
       "      <td>2021-01-25</td>\n",
       "      <td>330255</td>\n",
       "      <td>103</td>\n",
       "    </tr>\n",
       "    <tr>\n",
       "      <th>25</th>\n",
       "      <td>2021-01-26</td>\n",
       "      <td>306648</td>\n",
       "      <td>194</td>\n",
       "    </tr>\n",
       "    <tr>\n",
       "      <th>26</th>\n",
       "      <td>2021-01-27</td>\n",
       "      <td>519069</td>\n",
       "      <td>106</td>\n",
       "    </tr>\n",
       "    <tr>\n",
       "      <th>27</th>\n",
       "      <td>2021-01-28</td>\n",
       "      <td>585872</td>\n",
       "      <td>109</td>\n",
       "    </tr>\n",
       "    <tr>\n",
       "      <th>28</th>\n",
       "      <td>2021-01-29</td>\n",
       "      <td>383079</td>\n",
       "      <td>187</td>\n",
       "    </tr>\n",
       "    <tr>\n",
       "      <th>29</th>\n",
       "      <td>2021-01-30</td>\n",
       "      <td>566339</td>\n",
       "      <td>114</td>\n",
       "    </tr>\n",
       "    <tr>\n",
       "      <th>30</th>\n",
       "      <td>2021-01-31</td>\n",
       "      <td>564572</td>\n",
       "      <td>183</td>\n",
       "    </tr>\n",
       "  </tbody>\n",
       "</table>\n",
       "</div>"
      ],
      "text/plain": [
       "           日付    売り上げ   客数\n",
       "0  2021-01-01  549342  125\n",
       "1  2021-01-02  577869  150\n",
       "2  2021-01-03  328030  184\n",
       "3  2021-01-04  317730  156\n",
       "4  2021-01-05  492476  149\n",
       "5  2021-01-06  494278  112\n",
       "6  2021-01-07  446449  118\n",
       "7  2021-01-08  429130  181\n",
       "8  2021-01-09  346203  101\n",
       "9  2021-01-10  520374  151\n",
       "10 2021-01-11  453313  144\n",
       "11 2021-01-12  365632  148\n",
       "12 2021-01-13  549903  156\n",
       "13 2021-01-14  418857  191\n",
       "14 2021-01-15  371200  149\n",
       "15 2021-01-16  464782  186\n",
       "16 2021-01-17  496719  103\n",
       "17 2021-01-18  532857  167\n",
       "18 2021-01-19  335662  111\n",
       "19 2021-01-20  527748  121\n",
       "20 2021-01-21  430256  189\n",
       "21 2021-01-22  457698  198\n",
       "22 2021-01-23  545799  103\n",
       "23 2021-01-24  514338  111\n",
       "24 2021-01-25  330255  103\n",
       "25 2021-01-26  306648  194\n",
       "26 2021-01-27  519069  106\n",
       "27 2021-01-28  585872  109\n",
       "28 2021-01-29  383079  187\n",
       "29 2021-01-30  566339  114\n",
       "30 2021-01-31  564572  183"
      ]
     },
     "execution_count": 303,
     "metadata": {},
     "output_type": "execute_result"
    }
   ],
   "source": [
    "df = df.drop(\"客単価\", axis=1)\n",
    "df"
   ]
  },
  {
   "cell_type": "code",
   "execution_count": 304,
   "id": "c08a5999-adc3-4a5f-81b8-1c2e0de32d7f",
   "metadata": {},
   "outputs": [],
   "source": [
    "df = df.drop(0, axis=0)"
   ]
  },
  {
   "cell_type": "code",
   "execution_count": 305,
   "id": "8c1606ab-1894-41db-8787-aa21fc469fe4",
   "metadata": {},
   "outputs": [
    {
     "data": {
      "text/html": [
       "<div>\n",
       "<style scoped>\n",
       "    .dataframe tbody tr th:only-of-type {\n",
       "        vertical-align: middle;\n",
       "    }\n",
       "\n",
       "    .dataframe tbody tr th {\n",
       "        vertical-align: top;\n",
       "    }\n",
       "\n",
       "    .dataframe thead th {\n",
       "        text-align: right;\n",
       "    }\n",
       "</style>\n",
       "<table border=\"1\" class=\"dataframe\">\n",
       "  <thead>\n",
       "    <tr style=\"text-align: right;\">\n",
       "      <th></th>\n",
       "      <th>日付</th>\n",
       "      <th>売り上げ</th>\n",
       "      <th>客数</th>\n",
       "    </tr>\n",
       "  </thead>\n",
       "  <tbody>\n",
       "    <tr>\n",
       "      <th>1</th>\n",
       "      <td>2021-01-02</td>\n",
       "      <td>577869</td>\n",
       "      <td>150</td>\n",
       "    </tr>\n",
       "    <tr>\n",
       "      <th>2</th>\n",
       "      <td>2021-01-03</td>\n",
       "      <td>328030</td>\n",
       "      <td>184</td>\n",
       "    </tr>\n",
       "    <tr>\n",
       "      <th>3</th>\n",
       "      <td>2021-01-04</td>\n",
       "      <td>317730</td>\n",
       "      <td>156</td>\n",
       "    </tr>\n",
       "    <tr>\n",
       "      <th>4</th>\n",
       "      <td>2021-01-05</td>\n",
       "      <td>492476</td>\n",
       "      <td>149</td>\n",
       "    </tr>\n",
       "    <tr>\n",
       "      <th>5</th>\n",
       "      <td>2021-01-06</td>\n",
       "      <td>494278</td>\n",
       "      <td>112</td>\n",
       "    </tr>\n",
       "    <tr>\n",
       "      <th>6</th>\n",
       "      <td>2021-01-07</td>\n",
       "      <td>446449</td>\n",
       "      <td>118</td>\n",
       "    </tr>\n",
       "    <tr>\n",
       "      <th>7</th>\n",
       "      <td>2021-01-08</td>\n",
       "      <td>429130</td>\n",
       "      <td>181</td>\n",
       "    </tr>\n",
       "    <tr>\n",
       "      <th>8</th>\n",
       "      <td>2021-01-09</td>\n",
       "      <td>346203</td>\n",
       "      <td>101</td>\n",
       "    </tr>\n",
       "    <tr>\n",
       "      <th>9</th>\n",
       "      <td>2021-01-10</td>\n",
       "      <td>520374</td>\n",
       "      <td>151</td>\n",
       "    </tr>\n",
       "    <tr>\n",
       "      <th>10</th>\n",
       "      <td>2021-01-11</td>\n",
       "      <td>453313</td>\n",
       "      <td>144</td>\n",
       "    </tr>\n",
       "    <tr>\n",
       "      <th>11</th>\n",
       "      <td>2021-01-12</td>\n",
       "      <td>365632</td>\n",
       "      <td>148</td>\n",
       "    </tr>\n",
       "    <tr>\n",
       "      <th>12</th>\n",
       "      <td>2021-01-13</td>\n",
       "      <td>549903</td>\n",
       "      <td>156</td>\n",
       "    </tr>\n",
       "    <tr>\n",
       "      <th>13</th>\n",
       "      <td>2021-01-14</td>\n",
       "      <td>418857</td>\n",
       "      <td>191</td>\n",
       "    </tr>\n",
       "    <tr>\n",
       "      <th>14</th>\n",
       "      <td>2021-01-15</td>\n",
       "      <td>371200</td>\n",
       "      <td>149</td>\n",
       "    </tr>\n",
       "    <tr>\n",
       "      <th>15</th>\n",
       "      <td>2021-01-16</td>\n",
       "      <td>464782</td>\n",
       "      <td>186</td>\n",
       "    </tr>\n",
       "    <tr>\n",
       "      <th>16</th>\n",
       "      <td>2021-01-17</td>\n",
       "      <td>496719</td>\n",
       "      <td>103</td>\n",
       "    </tr>\n",
       "    <tr>\n",
       "      <th>17</th>\n",
       "      <td>2021-01-18</td>\n",
       "      <td>532857</td>\n",
       "      <td>167</td>\n",
       "    </tr>\n",
       "    <tr>\n",
       "      <th>18</th>\n",
       "      <td>2021-01-19</td>\n",
       "      <td>335662</td>\n",
       "      <td>111</td>\n",
       "    </tr>\n",
       "    <tr>\n",
       "      <th>19</th>\n",
       "      <td>2021-01-20</td>\n",
       "      <td>527748</td>\n",
       "      <td>121</td>\n",
       "    </tr>\n",
       "    <tr>\n",
       "      <th>20</th>\n",
       "      <td>2021-01-21</td>\n",
       "      <td>430256</td>\n",
       "      <td>189</td>\n",
       "    </tr>\n",
       "    <tr>\n",
       "      <th>21</th>\n",
       "      <td>2021-01-22</td>\n",
       "      <td>457698</td>\n",
       "      <td>198</td>\n",
       "    </tr>\n",
       "    <tr>\n",
       "      <th>22</th>\n",
       "      <td>2021-01-23</td>\n",
       "      <td>545799</td>\n",
       "      <td>103</td>\n",
       "    </tr>\n",
       "    <tr>\n",
       "      <th>23</th>\n",
       "      <td>2021-01-24</td>\n",
       "      <td>514338</td>\n",
       "      <td>111</td>\n",
       "    </tr>\n",
       "    <tr>\n",
       "      <th>24</th>\n",
       "      <td>2021-01-25</td>\n",
       "      <td>330255</td>\n",
       "      <td>103</td>\n",
       "    </tr>\n",
       "    <tr>\n",
       "      <th>25</th>\n",
       "      <td>2021-01-26</td>\n",
       "      <td>306648</td>\n",
       "      <td>194</td>\n",
       "    </tr>\n",
       "    <tr>\n",
       "      <th>26</th>\n",
       "      <td>2021-01-27</td>\n",
       "      <td>519069</td>\n",
       "      <td>106</td>\n",
       "    </tr>\n",
       "    <tr>\n",
       "      <th>27</th>\n",
       "      <td>2021-01-28</td>\n",
       "      <td>585872</td>\n",
       "      <td>109</td>\n",
       "    </tr>\n",
       "    <tr>\n",
       "      <th>28</th>\n",
       "      <td>2021-01-29</td>\n",
       "      <td>383079</td>\n",
       "      <td>187</td>\n",
       "    </tr>\n",
       "    <tr>\n",
       "      <th>29</th>\n",
       "      <td>2021-01-30</td>\n",
       "      <td>566339</td>\n",
       "      <td>114</td>\n",
       "    </tr>\n",
       "    <tr>\n",
       "      <th>30</th>\n",
       "      <td>2021-01-31</td>\n",
       "      <td>564572</td>\n",
       "      <td>183</td>\n",
       "    </tr>\n",
       "  </tbody>\n",
       "</table>\n",
       "</div>"
      ],
      "text/plain": [
       "           日付    売り上げ   客数\n",
       "1  2021-01-02  577869  150\n",
       "2  2021-01-03  328030  184\n",
       "3  2021-01-04  317730  156\n",
       "4  2021-01-05  492476  149\n",
       "5  2021-01-06  494278  112\n",
       "6  2021-01-07  446449  118\n",
       "7  2021-01-08  429130  181\n",
       "8  2021-01-09  346203  101\n",
       "9  2021-01-10  520374  151\n",
       "10 2021-01-11  453313  144\n",
       "11 2021-01-12  365632  148\n",
       "12 2021-01-13  549903  156\n",
       "13 2021-01-14  418857  191\n",
       "14 2021-01-15  371200  149\n",
       "15 2021-01-16  464782  186\n",
       "16 2021-01-17  496719  103\n",
       "17 2021-01-18  532857  167\n",
       "18 2021-01-19  335662  111\n",
       "19 2021-01-20  527748  121\n",
       "20 2021-01-21  430256  189\n",
       "21 2021-01-22  457698  198\n",
       "22 2021-01-23  545799  103\n",
       "23 2021-01-24  514338  111\n",
       "24 2021-01-25  330255  103\n",
       "25 2021-01-26  306648  194\n",
       "26 2021-01-27  519069  106\n",
       "27 2021-01-28  585872  109\n",
       "28 2021-01-29  383079  187\n",
       "29 2021-01-30  566339  114\n",
       "30 2021-01-31  564572  183"
      ]
     },
     "execution_count": 305,
     "metadata": {},
     "output_type": "execute_result"
    }
   ],
   "source": [
    "df"
   ]
  },
  {
   "cell_type": "code",
   "execution_count": 306,
   "id": "13254dbb-cdad-4864-af05-01f2977605f2",
   "metadata": {},
   "outputs": [
    {
     "data": {
      "text/html": [
       "<div>\n",
       "<style scoped>\n",
       "    .dataframe tbody tr th:only-of-type {\n",
       "        vertical-align: middle;\n",
       "    }\n",
       "\n",
       "    .dataframe tbody tr th {\n",
       "        vertical-align: top;\n",
       "    }\n",
       "\n",
       "    .dataframe thead th {\n",
       "        text-align: right;\n",
       "    }\n",
       "</style>\n",
       "<table border=\"1\" class=\"dataframe\">\n",
       "  <thead>\n",
       "    <tr style=\"text-align: right;\">\n",
       "      <th></th>\n",
       "      <th>日付</th>\n",
       "      <th>売り上げ</th>\n",
       "      <th>客数</th>\n",
       "      <th>客単価</th>\n",
       "    </tr>\n",
       "  </thead>\n",
       "  <tbody>\n",
       "    <tr>\n",
       "      <th>1</th>\n",
       "      <td>2021-01-02</td>\n",
       "      <td>577869</td>\n",
       "      <td>150</td>\n",
       "      <td>3852.460000</td>\n",
       "    </tr>\n",
       "    <tr>\n",
       "      <th>2</th>\n",
       "      <td>2021-01-03</td>\n",
       "      <td>328030</td>\n",
       "      <td>184</td>\n",
       "      <td>1782.771739</td>\n",
       "    </tr>\n",
       "    <tr>\n",
       "      <th>3</th>\n",
       "      <td>2021-01-04</td>\n",
       "      <td>317730</td>\n",
       "      <td>156</td>\n",
       "      <td>2036.730769</td>\n",
       "    </tr>\n",
       "    <tr>\n",
       "      <th>4</th>\n",
       "      <td>2021-01-05</td>\n",
       "      <td>492476</td>\n",
       "      <td>149</td>\n",
       "      <td>3305.208054</td>\n",
       "    </tr>\n",
       "    <tr>\n",
       "      <th>5</th>\n",
       "      <td>2021-01-06</td>\n",
       "      <td>494278</td>\n",
       "      <td>112</td>\n",
       "      <td>4413.196429</td>\n",
       "    </tr>\n",
       "    <tr>\n",
       "      <th>6</th>\n",
       "      <td>2021-01-07</td>\n",
       "      <td>446449</td>\n",
       "      <td>118</td>\n",
       "      <td>3783.466102</td>\n",
       "    </tr>\n",
       "    <tr>\n",
       "      <th>7</th>\n",
       "      <td>2021-01-08</td>\n",
       "      <td>429130</td>\n",
       "      <td>181</td>\n",
       "      <td>2370.883978</td>\n",
       "    </tr>\n",
       "    <tr>\n",
       "      <th>8</th>\n",
       "      <td>2021-01-09</td>\n",
       "      <td>346203</td>\n",
       "      <td>101</td>\n",
       "      <td>3427.752475</td>\n",
       "    </tr>\n",
       "    <tr>\n",
       "      <th>9</th>\n",
       "      <td>2021-01-10</td>\n",
       "      <td>520374</td>\n",
       "      <td>151</td>\n",
       "      <td>3446.185430</td>\n",
       "    </tr>\n",
       "    <tr>\n",
       "      <th>10</th>\n",
       "      <td>2021-01-11</td>\n",
       "      <td>453313</td>\n",
       "      <td>144</td>\n",
       "      <td>3148.006944</td>\n",
       "    </tr>\n",
       "    <tr>\n",
       "      <th>11</th>\n",
       "      <td>2021-01-12</td>\n",
       "      <td>365632</td>\n",
       "      <td>148</td>\n",
       "      <td>2470.486486</td>\n",
       "    </tr>\n",
       "    <tr>\n",
       "      <th>12</th>\n",
       "      <td>2021-01-13</td>\n",
       "      <td>549903</td>\n",
       "      <td>156</td>\n",
       "      <td>3525.019231</td>\n",
       "    </tr>\n",
       "    <tr>\n",
       "      <th>13</th>\n",
       "      <td>2021-01-14</td>\n",
       "      <td>418857</td>\n",
       "      <td>191</td>\n",
       "      <td>2192.968586</td>\n",
       "    </tr>\n",
       "    <tr>\n",
       "      <th>14</th>\n",
       "      <td>2021-01-15</td>\n",
       "      <td>371200</td>\n",
       "      <td>149</td>\n",
       "      <td>2491.275168</td>\n",
       "    </tr>\n",
       "    <tr>\n",
       "      <th>15</th>\n",
       "      <td>2021-01-16</td>\n",
       "      <td>464782</td>\n",
       "      <td>186</td>\n",
       "      <td>2498.827957</td>\n",
       "    </tr>\n",
       "    <tr>\n",
       "      <th>16</th>\n",
       "      <td>2021-01-17</td>\n",
       "      <td>496719</td>\n",
       "      <td>103</td>\n",
       "      <td>4822.514563</td>\n",
       "    </tr>\n",
       "    <tr>\n",
       "      <th>17</th>\n",
       "      <td>2021-01-18</td>\n",
       "      <td>532857</td>\n",
       "      <td>167</td>\n",
       "      <td>3190.760479</td>\n",
       "    </tr>\n",
       "    <tr>\n",
       "      <th>18</th>\n",
       "      <td>2021-01-19</td>\n",
       "      <td>335662</td>\n",
       "      <td>111</td>\n",
       "      <td>3023.981982</td>\n",
       "    </tr>\n",
       "    <tr>\n",
       "      <th>19</th>\n",
       "      <td>2021-01-20</td>\n",
       "      <td>527748</td>\n",
       "      <td>121</td>\n",
       "      <td>4361.553719</td>\n",
       "    </tr>\n",
       "    <tr>\n",
       "      <th>20</th>\n",
       "      <td>2021-01-21</td>\n",
       "      <td>430256</td>\n",
       "      <td>189</td>\n",
       "      <td>2276.486772</td>\n",
       "    </tr>\n",
       "    <tr>\n",
       "      <th>21</th>\n",
       "      <td>2021-01-22</td>\n",
       "      <td>457698</td>\n",
       "      <td>198</td>\n",
       "      <td>2311.606061</td>\n",
       "    </tr>\n",
       "    <tr>\n",
       "      <th>22</th>\n",
       "      <td>2021-01-23</td>\n",
       "      <td>545799</td>\n",
       "      <td>103</td>\n",
       "      <td>5299.019417</td>\n",
       "    </tr>\n",
       "    <tr>\n",
       "      <th>23</th>\n",
       "      <td>2021-01-24</td>\n",
       "      <td>514338</td>\n",
       "      <td>111</td>\n",
       "      <td>4633.675676</td>\n",
       "    </tr>\n",
       "    <tr>\n",
       "      <th>24</th>\n",
       "      <td>2021-01-25</td>\n",
       "      <td>330255</td>\n",
       "      <td>103</td>\n",
       "      <td>3206.359223</td>\n",
       "    </tr>\n",
       "    <tr>\n",
       "      <th>25</th>\n",
       "      <td>2021-01-26</td>\n",
       "      <td>306648</td>\n",
       "      <td>194</td>\n",
       "      <td>1580.659794</td>\n",
       "    </tr>\n",
       "    <tr>\n",
       "      <th>26</th>\n",
       "      <td>2021-01-27</td>\n",
       "      <td>519069</td>\n",
       "      <td>106</td>\n",
       "      <td>4896.877358</td>\n",
       "    </tr>\n",
       "    <tr>\n",
       "      <th>27</th>\n",
       "      <td>2021-01-28</td>\n",
       "      <td>585872</td>\n",
       "      <td>109</td>\n",
       "      <td>5374.972477</td>\n",
       "    </tr>\n",
       "    <tr>\n",
       "      <th>28</th>\n",
       "      <td>2021-01-29</td>\n",
       "      <td>383079</td>\n",
       "      <td>187</td>\n",
       "      <td>2048.550802</td>\n",
       "    </tr>\n",
       "    <tr>\n",
       "      <th>29</th>\n",
       "      <td>2021-01-30</td>\n",
       "      <td>566339</td>\n",
       "      <td>114</td>\n",
       "      <td>4967.885965</td>\n",
       "    </tr>\n",
       "    <tr>\n",
       "      <th>30</th>\n",
       "      <td>2021-01-31</td>\n",
       "      <td>564572</td>\n",
       "      <td>183</td>\n",
       "      <td>3085.092896</td>\n",
       "    </tr>\n",
       "  </tbody>\n",
       "</table>\n",
       "</div>"
      ],
      "text/plain": [
       "           日付    売り上げ   客数          客単価\n",
       "1  2021-01-02  577869  150  3852.460000\n",
       "2  2021-01-03  328030  184  1782.771739\n",
       "3  2021-01-04  317730  156  2036.730769\n",
       "4  2021-01-05  492476  149  3305.208054\n",
       "5  2021-01-06  494278  112  4413.196429\n",
       "6  2021-01-07  446449  118  3783.466102\n",
       "7  2021-01-08  429130  181  2370.883978\n",
       "8  2021-01-09  346203  101  3427.752475\n",
       "9  2021-01-10  520374  151  3446.185430\n",
       "10 2021-01-11  453313  144  3148.006944\n",
       "11 2021-01-12  365632  148  2470.486486\n",
       "12 2021-01-13  549903  156  3525.019231\n",
       "13 2021-01-14  418857  191  2192.968586\n",
       "14 2021-01-15  371200  149  2491.275168\n",
       "15 2021-01-16  464782  186  2498.827957\n",
       "16 2021-01-17  496719  103  4822.514563\n",
       "17 2021-01-18  532857  167  3190.760479\n",
       "18 2021-01-19  335662  111  3023.981982\n",
       "19 2021-01-20  527748  121  4361.553719\n",
       "20 2021-01-21  430256  189  2276.486772\n",
       "21 2021-01-22  457698  198  2311.606061\n",
       "22 2021-01-23  545799  103  5299.019417\n",
       "23 2021-01-24  514338  111  4633.675676\n",
       "24 2021-01-25  330255  103  3206.359223\n",
       "25 2021-01-26  306648  194  1580.659794\n",
       "26 2021-01-27  519069  106  4896.877358\n",
       "27 2021-01-28  585872  109  5374.972477\n",
       "28 2021-01-29  383079  187  2048.550802\n",
       "29 2021-01-30  566339  114  4967.885965\n",
       "30 2021-01-31  564572  183  3085.092896"
      ]
     },
     "execution_count": 306,
     "metadata": {},
     "output_type": "execute_result"
    }
   ],
   "source": [
    "df.loc[:, \"客単価\"] = df.loc[:, \"売り上げ\"] / df.loc[:, \"客数\"]\n",
    "df"
   ]
  },
  {
   "cell_type": "code",
   "execution_count": 307,
   "id": "e33c3099-0061-4c63-acb2-27738b5686db",
   "metadata": {},
   "outputs": [
    {
     "data": {
      "text/html": [
       "<div>\n",
       "<style scoped>\n",
       "    .dataframe tbody tr th:only-of-type {\n",
       "        vertical-align: middle;\n",
       "    }\n",
       "\n",
       "    .dataframe tbody tr th {\n",
       "        vertical-align: top;\n",
       "    }\n",
       "\n",
       "    .dataframe thead th {\n",
       "        text-align: right;\n",
       "    }\n",
       "</style>\n",
       "<table border=\"1\" class=\"dataframe\">\n",
       "  <thead>\n",
       "    <tr style=\"text-align: right;\">\n",
       "      <th></th>\n",
       "      <th>日付</th>\n",
       "      <th>売り上げ</th>\n",
       "      <th>客数</th>\n",
       "      <th>客単価</th>\n",
       "    </tr>\n",
       "  </thead>\n",
       "  <tbody>\n",
       "    <tr>\n",
       "      <th>1</th>\n",
       "      <td>2021-01-02</td>\n",
       "      <td>577869</td>\n",
       "      <td>150</td>\n",
       "      <td>3852.0</td>\n",
       "    </tr>\n",
       "    <tr>\n",
       "      <th>2</th>\n",
       "      <td>2021-01-03</td>\n",
       "      <td>328030</td>\n",
       "      <td>184</td>\n",
       "      <td>1783.0</td>\n",
       "    </tr>\n",
       "    <tr>\n",
       "      <th>3</th>\n",
       "      <td>2021-01-04</td>\n",
       "      <td>317730</td>\n",
       "      <td>156</td>\n",
       "      <td>2037.0</td>\n",
       "    </tr>\n",
       "    <tr>\n",
       "      <th>4</th>\n",
       "      <td>2021-01-05</td>\n",
       "      <td>492476</td>\n",
       "      <td>149</td>\n",
       "      <td>3305.0</td>\n",
       "    </tr>\n",
       "    <tr>\n",
       "      <th>5</th>\n",
       "      <td>2021-01-06</td>\n",
       "      <td>494278</td>\n",
       "      <td>112</td>\n",
       "      <td>4413.0</td>\n",
       "    </tr>\n",
       "    <tr>\n",
       "      <th>6</th>\n",
       "      <td>2021-01-07</td>\n",
       "      <td>446449</td>\n",
       "      <td>118</td>\n",
       "      <td>3783.0</td>\n",
       "    </tr>\n",
       "    <tr>\n",
       "      <th>7</th>\n",
       "      <td>2021-01-08</td>\n",
       "      <td>429130</td>\n",
       "      <td>181</td>\n",
       "      <td>2371.0</td>\n",
       "    </tr>\n",
       "    <tr>\n",
       "      <th>8</th>\n",
       "      <td>2021-01-09</td>\n",
       "      <td>346203</td>\n",
       "      <td>101</td>\n",
       "      <td>3428.0</td>\n",
       "    </tr>\n",
       "    <tr>\n",
       "      <th>9</th>\n",
       "      <td>2021-01-10</td>\n",
       "      <td>520374</td>\n",
       "      <td>151</td>\n",
       "      <td>3446.0</td>\n",
       "    </tr>\n",
       "    <tr>\n",
       "      <th>10</th>\n",
       "      <td>2021-01-11</td>\n",
       "      <td>453313</td>\n",
       "      <td>144</td>\n",
       "      <td>3148.0</td>\n",
       "    </tr>\n",
       "    <tr>\n",
       "      <th>11</th>\n",
       "      <td>2021-01-12</td>\n",
       "      <td>365632</td>\n",
       "      <td>148</td>\n",
       "      <td>2470.0</td>\n",
       "    </tr>\n",
       "    <tr>\n",
       "      <th>12</th>\n",
       "      <td>2021-01-13</td>\n",
       "      <td>549903</td>\n",
       "      <td>156</td>\n",
       "      <td>3525.0</td>\n",
       "    </tr>\n",
       "    <tr>\n",
       "      <th>13</th>\n",
       "      <td>2021-01-14</td>\n",
       "      <td>418857</td>\n",
       "      <td>191</td>\n",
       "      <td>2193.0</td>\n",
       "    </tr>\n",
       "    <tr>\n",
       "      <th>14</th>\n",
       "      <td>2021-01-15</td>\n",
       "      <td>371200</td>\n",
       "      <td>149</td>\n",
       "      <td>2491.0</td>\n",
       "    </tr>\n",
       "    <tr>\n",
       "      <th>15</th>\n",
       "      <td>2021-01-16</td>\n",
       "      <td>464782</td>\n",
       "      <td>186</td>\n",
       "      <td>2499.0</td>\n",
       "    </tr>\n",
       "    <tr>\n",
       "      <th>16</th>\n",
       "      <td>2021-01-17</td>\n",
       "      <td>496719</td>\n",
       "      <td>103</td>\n",
       "      <td>4823.0</td>\n",
       "    </tr>\n",
       "    <tr>\n",
       "      <th>17</th>\n",
       "      <td>2021-01-18</td>\n",
       "      <td>532857</td>\n",
       "      <td>167</td>\n",
       "      <td>3191.0</td>\n",
       "    </tr>\n",
       "    <tr>\n",
       "      <th>18</th>\n",
       "      <td>2021-01-19</td>\n",
       "      <td>335662</td>\n",
       "      <td>111</td>\n",
       "      <td>3024.0</td>\n",
       "    </tr>\n",
       "    <tr>\n",
       "      <th>19</th>\n",
       "      <td>2021-01-20</td>\n",
       "      <td>527748</td>\n",
       "      <td>121</td>\n",
       "      <td>4362.0</td>\n",
       "    </tr>\n",
       "    <tr>\n",
       "      <th>20</th>\n",
       "      <td>2021-01-21</td>\n",
       "      <td>430256</td>\n",
       "      <td>189</td>\n",
       "      <td>2276.0</td>\n",
       "    </tr>\n",
       "    <tr>\n",
       "      <th>21</th>\n",
       "      <td>2021-01-22</td>\n",
       "      <td>457698</td>\n",
       "      <td>198</td>\n",
       "      <td>2312.0</td>\n",
       "    </tr>\n",
       "    <tr>\n",
       "      <th>22</th>\n",
       "      <td>2021-01-23</td>\n",
       "      <td>545799</td>\n",
       "      <td>103</td>\n",
       "      <td>5299.0</td>\n",
       "    </tr>\n",
       "    <tr>\n",
       "      <th>23</th>\n",
       "      <td>2021-01-24</td>\n",
       "      <td>514338</td>\n",
       "      <td>111</td>\n",
       "      <td>4634.0</td>\n",
       "    </tr>\n",
       "    <tr>\n",
       "      <th>24</th>\n",
       "      <td>2021-01-25</td>\n",
       "      <td>330255</td>\n",
       "      <td>103</td>\n",
       "      <td>3206.0</td>\n",
       "    </tr>\n",
       "    <tr>\n",
       "      <th>25</th>\n",
       "      <td>2021-01-26</td>\n",
       "      <td>306648</td>\n",
       "      <td>194</td>\n",
       "      <td>1581.0</td>\n",
       "    </tr>\n",
       "    <tr>\n",
       "      <th>26</th>\n",
       "      <td>2021-01-27</td>\n",
       "      <td>519069</td>\n",
       "      <td>106</td>\n",
       "      <td>4897.0</td>\n",
       "    </tr>\n",
       "    <tr>\n",
       "      <th>27</th>\n",
       "      <td>2021-01-28</td>\n",
       "      <td>585872</td>\n",
       "      <td>109</td>\n",
       "      <td>5375.0</td>\n",
       "    </tr>\n",
       "    <tr>\n",
       "      <th>28</th>\n",
       "      <td>2021-01-29</td>\n",
       "      <td>383079</td>\n",
       "      <td>187</td>\n",
       "      <td>2049.0</td>\n",
       "    </tr>\n",
       "    <tr>\n",
       "      <th>29</th>\n",
       "      <td>2021-01-30</td>\n",
       "      <td>566339</td>\n",
       "      <td>114</td>\n",
       "      <td>4968.0</td>\n",
       "    </tr>\n",
       "    <tr>\n",
       "      <th>30</th>\n",
       "      <td>2021-01-31</td>\n",
       "      <td>564572</td>\n",
       "      <td>183</td>\n",
       "      <td>3085.0</td>\n",
       "    </tr>\n",
       "  </tbody>\n",
       "</table>\n",
       "</div>"
      ],
      "text/plain": [
       "           日付    売り上げ   客数     客単価\n",
       "1  2021-01-02  577869  150  3852.0\n",
       "2  2021-01-03  328030  184  1783.0\n",
       "3  2021-01-04  317730  156  2037.0\n",
       "4  2021-01-05  492476  149  3305.0\n",
       "5  2021-01-06  494278  112  4413.0\n",
       "6  2021-01-07  446449  118  3783.0\n",
       "7  2021-01-08  429130  181  2371.0\n",
       "8  2021-01-09  346203  101  3428.0\n",
       "9  2021-01-10  520374  151  3446.0\n",
       "10 2021-01-11  453313  144  3148.0\n",
       "11 2021-01-12  365632  148  2470.0\n",
       "12 2021-01-13  549903  156  3525.0\n",
       "13 2021-01-14  418857  191  2193.0\n",
       "14 2021-01-15  371200  149  2491.0\n",
       "15 2021-01-16  464782  186  2499.0\n",
       "16 2021-01-17  496719  103  4823.0\n",
       "17 2021-01-18  532857  167  3191.0\n",
       "18 2021-01-19  335662  111  3024.0\n",
       "19 2021-01-20  527748  121  4362.0\n",
       "20 2021-01-21  430256  189  2276.0\n",
       "21 2021-01-22  457698  198  2312.0\n",
       "22 2021-01-23  545799  103  5299.0\n",
       "23 2021-01-24  514338  111  4634.0\n",
       "24 2021-01-25  330255  103  3206.0\n",
       "25 2021-01-26  306648  194  1581.0\n",
       "26 2021-01-27  519069  106  4897.0\n",
       "27 2021-01-28  585872  109  5375.0\n",
       "28 2021-01-29  383079  187  2049.0\n",
       "29 2021-01-30  566339  114  4968.0\n",
       "30 2021-01-31  564572  183  3085.0"
      ]
     },
     "execution_count": 307,
     "metadata": {},
     "output_type": "execute_result"
    }
   ],
   "source": [
    "df.loc[:, \"客単価\"] = df.loc[:, \"客単価\"].round().astype(int)\n",
    "df"
   ]
  },
  {
   "cell_type": "code",
   "execution_count": 308,
   "id": "3346bc9c-bba6-4606-8142-8692b00ca238",
   "metadata": {},
   "outputs": [
    {
     "data": {
      "text/plain": [
       "array([[Timestamp('2021-01-02 00:00:00'), 577869, 150, 3852.0],\n",
       "       [Timestamp('2021-01-03 00:00:00'), 328030, 184, 1783.0],\n",
       "       [Timestamp('2021-01-04 00:00:00'), 317730, 156, 2037.0],\n",
       "       [Timestamp('2021-01-05 00:00:00'), 492476, 149, 3305.0],\n",
       "       [Timestamp('2021-01-06 00:00:00'), 494278, 112, 4413.0],\n",
       "       [Timestamp('2021-01-07 00:00:00'), 446449, 118, 3783.0],\n",
       "       [Timestamp('2021-01-08 00:00:00'), 429130, 181, 2371.0],\n",
       "       [Timestamp('2021-01-09 00:00:00'), 346203, 101, 3428.0],\n",
       "       [Timestamp('2021-01-10 00:00:00'), 520374, 151, 3446.0],\n",
       "       [Timestamp('2021-01-11 00:00:00'), 453313, 144, 3148.0],\n",
       "       [Timestamp('2021-01-12 00:00:00'), 365632, 148, 2470.0],\n",
       "       [Timestamp('2021-01-13 00:00:00'), 549903, 156, 3525.0],\n",
       "       [Timestamp('2021-01-14 00:00:00'), 418857, 191, 2193.0],\n",
       "       [Timestamp('2021-01-15 00:00:00'), 371200, 149, 2491.0],\n",
       "       [Timestamp('2021-01-16 00:00:00'), 464782, 186, 2499.0],\n",
       "       [Timestamp('2021-01-17 00:00:00'), 496719, 103, 4823.0],\n",
       "       [Timestamp('2021-01-18 00:00:00'), 532857, 167, 3191.0],\n",
       "       [Timestamp('2021-01-19 00:00:00'), 335662, 111, 3024.0],\n",
       "       [Timestamp('2021-01-20 00:00:00'), 527748, 121, 4362.0],\n",
       "       [Timestamp('2021-01-21 00:00:00'), 430256, 189, 2276.0],\n",
       "       [Timestamp('2021-01-22 00:00:00'), 457698, 198, 2312.0],\n",
       "       [Timestamp('2021-01-23 00:00:00'), 545799, 103, 5299.0],\n",
       "       [Timestamp('2021-01-24 00:00:00'), 514338, 111, 4634.0],\n",
       "       [Timestamp('2021-01-25 00:00:00'), 330255, 103, 3206.0],\n",
       "       [Timestamp('2021-01-26 00:00:00'), 306648, 194, 1581.0],\n",
       "       [Timestamp('2021-01-27 00:00:00'), 519069, 106, 4897.0],\n",
       "       [Timestamp('2021-01-28 00:00:00'), 585872, 109, 5375.0],\n",
       "       [Timestamp('2021-01-29 00:00:00'), 383079, 187, 2049.0],\n",
       "       [Timestamp('2021-01-30 00:00:00'), 566339, 114, 4968.0],\n",
       "       [Timestamp('2021-01-31 00:00:00'), 564572, 183, 3085.0]],\n",
       "      dtype=object)"
      ]
     },
     "execution_count": 308,
     "metadata": {},
     "output_type": "execute_result"
    }
   ],
   "source": [
    "df.values"
   ]
  },
  {
   "cell_type": "code",
   "execution_count": 311,
   "id": "6740d046-d03b-4f86-bdfd-3d73e5c80db7",
   "metadata": {},
   "outputs": [],
   "source": [
    "df = df.sort_values(by=\"日付\")"
   ]
  },
  {
   "cell_type": "code",
   "execution_count": 312,
   "id": "e55839d8-b3d6-40e0-a3de-92b964bce651",
   "metadata": {},
   "outputs": [
    {
     "data": {
      "text/html": [
       "<div>\n",
       "<style scoped>\n",
       "    .dataframe tbody tr th:only-of-type {\n",
       "        vertical-align: middle;\n",
       "    }\n",
       "\n",
       "    .dataframe tbody tr th {\n",
       "        vertical-align: top;\n",
       "    }\n",
       "\n",
       "    .dataframe thead th {\n",
       "        text-align: right;\n",
       "    }\n",
       "</style>\n",
       "<table border=\"1\" class=\"dataframe\">\n",
       "  <thead>\n",
       "    <tr style=\"text-align: right;\">\n",
       "      <th></th>\n",
       "      <th>日付</th>\n",
       "      <th>売り上げ</th>\n",
       "      <th>客数</th>\n",
       "      <th>客単価</th>\n",
       "    </tr>\n",
       "  </thead>\n",
       "  <tbody>\n",
       "    <tr>\n",
       "      <th>1</th>\n",
       "      <td>2021-01-02</td>\n",
       "      <td>577869</td>\n",
       "      <td>150</td>\n",
       "      <td>3852.0</td>\n",
       "    </tr>\n",
       "    <tr>\n",
       "      <th>2</th>\n",
       "      <td>2021-01-03</td>\n",
       "      <td>328030</td>\n",
       "      <td>184</td>\n",
       "      <td>1783.0</td>\n",
       "    </tr>\n",
       "    <tr>\n",
       "      <th>3</th>\n",
       "      <td>2021-01-04</td>\n",
       "      <td>317730</td>\n",
       "      <td>156</td>\n",
       "      <td>2037.0</td>\n",
       "    </tr>\n",
       "    <tr>\n",
       "      <th>4</th>\n",
       "      <td>2021-01-05</td>\n",
       "      <td>492476</td>\n",
       "      <td>149</td>\n",
       "      <td>3305.0</td>\n",
       "    </tr>\n",
       "    <tr>\n",
       "      <th>5</th>\n",
       "      <td>2021-01-06</td>\n",
       "      <td>494278</td>\n",
       "      <td>112</td>\n",
       "      <td>4413.0</td>\n",
       "    </tr>\n",
       "    <tr>\n",
       "      <th>6</th>\n",
       "      <td>2021-01-07</td>\n",
       "      <td>446449</td>\n",
       "      <td>118</td>\n",
       "      <td>3783.0</td>\n",
       "    </tr>\n",
       "    <tr>\n",
       "      <th>7</th>\n",
       "      <td>2021-01-08</td>\n",
       "      <td>429130</td>\n",
       "      <td>181</td>\n",
       "      <td>2371.0</td>\n",
       "    </tr>\n",
       "    <tr>\n",
       "      <th>8</th>\n",
       "      <td>2021-01-09</td>\n",
       "      <td>346203</td>\n",
       "      <td>101</td>\n",
       "      <td>3428.0</td>\n",
       "    </tr>\n",
       "    <tr>\n",
       "      <th>9</th>\n",
       "      <td>2021-01-10</td>\n",
       "      <td>520374</td>\n",
       "      <td>151</td>\n",
       "      <td>3446.0</td>\n",
       "    </tr>\n",
       "    <tr>\n",
       "      <th>10</th>\n",
       "      <td>2021-01-11</td>\n",
       "      <td>453313</td>\n",
       "      <td>144</td>\n",
       "      <td>3148.0</td>\n",
       "    </tr>\n",
       "    <tr>\n",
       "      <th>11</th>\n",
       "      <td>2021-01-12</td>\n",
       "      <td>365632</td>\n",
       "      <td>148</td>\n",
       "      <td>2470.0</td>\n",
       "    </tr>\n",
       "    <tr>\n",
       "      <th>12</th>\n",
       "      <td>2021-01-13</td>\n",
       "      <td>549903</td>\n",
       "      <td>156</td>\n",
       "      <td>3525.0</td>\n",
       "    </tr>\n",
       "    <tr>\n",
       "      <th>13</th>\n",
       "      <td>2021-01-14</td>\n",
       "      <td>418857</td>\n",
       "      <td>191</td>\n",
       "      <td>2193.0</td>\n",
       "    </tr>\n",
       "    <tr>\n",
       "      <th>14</th>\n",
       "      <td>2021-01-15</td>\n",
       "      <td>371200</td>\n",
       "      <td>149</td>\n",
       "      <td>2491.0</td>\n",
       "    </tr>\n",
       "    <tr>\n",
       "      <th>15</th>\n",
       "      <td>2021-01-16</td>\n",
       "      <td>464782</td>\n",
       "      <td>186</td>\n",
       "      <td>2499.0</td>\n",
       "    </tr>\n",
       "    <tr>\n",
       "      <th>16</th>\n",
       "      <td>2021-01-17</td>\n",
       "      <td>496719</td>\n",
       "      <td>103</td>\n",
       "      <td>4823.0</td>\n",
       "    </tr>\n",
       "    <tr>\n",
       "      <th>17</th>\n",
       "      <td>2021-01-18</td>\n",
       "      <td>532857</td>\n",
       "      <td>167</td>\n",
       "      <td>3191.0</td>\n",
       "    </tr>\n",
       "    <tr>\n",
       "      <th>18</th>\n",
       "      <td>2021-01-19</td>\n",
       "      <td>335662</td>\n",
       "      <td>111</td>\n",
       "      <td>3024.0</td>\n",
       "    </tr>\n",
       "    <tr>\n",
       "      <th>19</th>\n",
       "      <td>2021-01-20</td>\n",
       "      <td>527748</td>\n",
       "      <td>121</td>\n",
       "      <td>4362.0</td>\n",
       "    </tr>\n",
       "    <tr>\n",
       "      <th>20</th>\n",
       "      <td>2021-01-21</td>\n",
       "      <td>430256</td>\n",
       "      <td>189</td>\n",
       "      <td>2276.0</td>\n",
       "    </tr>\n",
       "    <tr>\n",
       "      <th>21</th>\n",
       "      <td>2021-01-22</td>\n",
       "      <td>457698</td>\n",
       "      <td>198</td>\n",
       "      <td>2312.0</td>\n",
       "    </tr>\n",
       "    <tr>\n",
       "      <th>22</th>\n",
       "      <td>2021-01-23</td>\n",
       "      <td>545799</td>\n",
       "      <td>103</td>\n",
       "      <td>5299.0</td>\n",
       "    </tr>\n",
       "    <tr>\n",
       "      <th>23</th>\n",
       "      <td>2021-01-24</td>\n",
       "      <td>514338</td>\n",
       "      <td>111</td>\n",
       "      <td>4634.0</td>\n",
       "    </tr>\n",
       "    <tr>\n",
       "      <th>24</th>\n",
       "      <td>2021-01-25</td>\n",
       "      <td>330255</td>\n",
       "      <td>103</td>\n",
       "      <td>3206.0</td>\n",
       "    </tr>\n",
       "    <tr>\n",
       "      <th>25</th>\n",
       "      <td>2021-01-26</td>\n",
       "      <td>306648</td>\n",
       "      <td>194</td>\n",
       "      <td>1581.0</td>\n",
       "    </tr>\n",
       "    <tr>\n",
       "      <th>26</th>\n",
       "      <td>2021-01-27</td>\n",
       "      <td>519069</td>\n",
       "      <td>106</td>\n",
       "      <td>4897.0</td>\n",
       "    </tr>\n",
       "    <tr>\n",
       "      <th>27</th>\n",
       "      <td>2021-01-28</td>\n",
       "      <td>585872</td>\n",
       "      <td>109</td>\n",
       "      <td>5375.0</td>\n",
       "    </tr>\n",
       "    <tr>\n",
       "      <th>28</th>\n",
       "      <td>2021-01-29</td>\n",
       "      <td>383079</td>\n",
       "      <td>187</td>\n",
       "      <td>2049.0</td>\n",
       "    </tr>\n",
       "    <tr>\n",
       "      <th>29</th>\n",
       "      <td>2021-01-30</td>\n",
       "      <td>566339</td>\n",
       "      <td>114</td>\n",
       "      <td>4968.0</td>\n",
       "    </tr>\n",
       "    <tr>\n",
       "      <th>30</th>\n",
       "      <td>2021-01-31</td>\n",
       "      <td>564572</td>\n",
       "      <td>183</td>\n",
       "      <td>3085.0</td>\n",
       "    </tr>\n",
       "  </tbody>\n",
       "</table>\n",
       "</div>"
      ],
      "text/plain": [
       "           日付    売り上げ   客数     客単価\n",
       "1  2021-01-02  577869  150  3852.0\n",
       "2  2021-01-03  328030  184  1783.0\n",
       "3  2021-01-04  317730  156  2037.0\n",
       "4  2021-01-05  492476  149  3305.0\n",
       "5  2021-01-06  494278  112  4413.0\n",
       "6  2021-01-07  446449  118  3783.0\n",
       "7  2021-01-08  429130  181  2371.0\n",
       "8  2021-01-09  346203  101  3428.0\n",
       "9  2021-01-10  520374  151  3446.0\n",
       "10 2021-01-11  453313  144  3148.0\n",
       "11 2021-01-12  365632  148  2470.0\n",
       "12 2021-01-13  549903  156  3525.0\n",
       "13 2021-01-14  418857  191  2193.0\n",
       "14 2021-01-15  371200  149  2491.0\n",
       "15 2021-01-16  464782  186  2499.0\n",
       "16 2021-01-17  496719  103  4823.0\n",
       "17 2021-01-18  532857  167  3191.0\n",
       "18 2021-01-19  335662  111  3024.0\n",
       "19 2021-01-20  527748  121  4362.0\n",
       "20 2021-01-21  430256  189  2276.0\n",
       "21 2021-01-22  457698  198  2312.0\n",
       "22 2021-01-23  545799  103  5299.0\n",
       "23 2021-01-24  514338  111  4634.0\n",
       "24 2021-01-25  330255  103  3206.0\n",
       "25 2021-01-26  306648  194  1581.0\n",
       "26 2021-01-27  519069  106  4897.0\n",
       "27 2021-01-28  585872  109  5375.0\n",
       "28 2021-01-29  383079  187  2049.0\n",
       "29 2021-01-30  566339  114  4968.0\n",
       "30 2021-01-31  564572  183  3085.0"
      ]
     },
     "execution_count": 312,
     "metadata": {},
     "output_type": "execute_result"
    }
   ],
   "source": [
    "df"
   ]
  },
  {
   "cell_type": "code",
   "execution_count": 313,
   "id": "8e6b1c20-4526-4da8-9a71-5512f017484d",
   "metadata": {},
   "outputs": [
    {
     "data": {
      "text/plain": [
       "DatetimeIndex(['2021-01-01', '2021-01-02', '2021-01-03', '2021-01-04',\n",
       "               '2021-01-05', '2021-01-06', '2021-01-07', '2021-01-08',\n",
       "               '2021-01-09', '2021-01-10',\n",
       "               ...\n",
       "               '2021-12-22', '2021-12-23', '2021-12-24', '2021-12-25',\n",
       "               '2021-12-26', '2021-12-27', '2021-12-28', '2021-12-29',\n",
       "               '2021-12-30', '2021-12-31'],\n",
       "              dtype='datetime64[ns]', length=365, freq='D')"
      ]
     },
     "execution_count": 313,
     "metadata": {},
     "output_type": "execute_result"
    }
   ],
   "source": [
    "dates = pd.date_range(start=\"2021-01-01\", end=\"2021-12-31\")\n",
    "dates"
   ]
  },
  {
   "cell_type": "code",
   "execution_count": 314,
   "id": "d0c6a5ef-bfac-432d-87ae-8691115f46ef",
   "metadata": {},
   "outputs": [
    {
     "data": {
      "text/html": [
       "<div>\n",
       "<style scoped>\n",
       "    .dataframe tbody tr th:only-of-type {\n",
       "        vertical-align: middle;\n",
       "    }\n",
       "\n",
       "    .dataframe tbody tr th {\n",
       "        vertical-align: top;\n",
       "    }\n",
       "\n",
       "    .dataframe thead th {\n",
       "        text-align: right;\n",
       "    }\n",
       "</style>\n",
       "<table border=\"1\" class=\"dataframe\">\n",
       "  <thead>\n",
       "    <tr style=\"text-align: right;\">\n",
       "      <th></th>\n",
       "      <th>ランダムな値</th>\n",
       "    </tr>\n",
       "  </thead>\n",
       "  <tbody>\n",
       "    <tr>\n",
       "      <th>2021-01-01</th>\n",
       "      <td>2</td>\n",
       "    </tr>\n",
       "    <tr>\n",
       "      <th>2021-01-02</th>\n",
       "      <td>16</td>\n",
       "    </tr>\n",
       "    <tr>\n",
       "      <th>2021-01-03</th>\n",
       "      <td>17</td>\n",
       "    </tr>\n",
       "    <tr>\n",
       "      <th>2021-01-04</th>\n",
       "      <td>81</td>\n",
       "    </tr>\n",
       "    <tr>\n",
       "      <th>2021-01-05</th>\n",
       "      <td>27</td>\n",
       "    </tr>\n",
       "    <tr>\n",
       "      <th>...</th>\n",
       "      <td>...</td>\n",
       "    </tr>\n",
       "    <tr>\n",
       "      <th>2021-12-27</th>\n",
       "      <td>25</td>\n",
       "    </tr>\n",
       "    <tr>\n",
       "      <th>2021-12-28</th>\n",
       "      <td>42</td>\n",
       "    </tr>\n",
       "    <tr>\n",
       "      <th>2021-12-29</th>\n",
       "      <td>87</td>\n",
       "    </tr>\n",
       "    <tr>\n",
       "      <th>2021-12-30</th>\n",
       "      <td>29</td>\n",
       "    </tr>\n",
       "    <tr>\n",
       "      <th>2021-12-31</th>\n",
       "      <td>10</td>\n",
       "    </tr>\n",
       "  </tbody>\n",
       "</table>\n",
       "<p>365 rows × 1 columns</p>\n",
       "</div>"
      ],
      "text/plain": [
       "            ランダムな値\n",
       "2021-01-01       2\n",
       "2021-01-02      16\n",
       "2021-01-03      17\n",
       "2021-01-04      81\n",
       "2021-01-05      27\n",
       "...            ...\n",
       "2021-12-27      25\n",
       "2021-12-28      42\n",
       "2021-12-29      87\n",
       "2021-12-30      29\n",
       "2021-12-31      10\n",
       "\n",
       "[365 rows x 1 columns]"
      ]
     },
     "execution_count": 314,
     "metadata": {},
     "output_type": "execute_result"
    }
   ],
   "source": [
    "df = pd.DataFrame(np.random.randint(1, 100, 365), index=dates, columns=[\"ランダムな値\"])\n",
    "df"
   ]
  },
  {
   "cell_type": "code",
   "execution_count": 315,
   "id": "9428bfe4-99a8-46e6-9f8e-30fbad4939bc",
   "metadata": {},
   "outputs": [
    {
     "data": {
      "text/html": [
       "<div>\n",
       "<style scoped>\n",
       "    .dataframe tbody tr th:only-of-type {\n",
       "        vertical-align: middle;\n",
       "    }\n",
       "\n",
       "    .dataframe tbody tr th {\n",
       "        vertical-align: top;\n",
       "    }\n",
       "\n",
       "    .dataframe thead th {\n",
       "        text-align: right;\n",
       "    }\n",
       "</style>\n",
       "<table border=\"1\" class=\"dataframe\">\n",
       "  <thead>\n",
       "    <tr style=\"text-align: right;\">\n",
       "      <th></th>\n",
       "      <th>ランダムな値</th>\n",
       "    </tr>\n",
       "  </thead>\n",
       "  <tbody>\n",
       "    <tr>\n",
       "      <th>2021-01-31</th>\n",
       "      <td>52.225806</td>\n",
       "    </tr>\n",
       "    <tr>\n",
       "      <th>2021-02-28</th>\n",
       "      <td>51.357143</td>\n",
       "    </tr>\n",
       "    <tr>\n",
       "      <th>2021-03-31</th>\n",
       "      <td>48.806452</td>\n",
       "    </tr>\n",
       "    <tr>\n",
       "      <th>2021-04-30</th>\n",
       "      <td>48.133333</td>\n",
       "    </tr>\n",
       "    <tr>\n",
       "      <th>2021-05-31</th>\n",
       "      <td>52.354839</td>\n",
       "    </tr>\n",
       "    <tr>\n",
       "      <th>2021-06-30</th>\n",
       "      <td>41.433333</td>\n",
       "    </tr>\n",
       "    <tr>\n",
       "      <th>2021-07-31</th>\n",
       "      <td>47.645161</td>\n",
       "    </tr>\n",
       "    <tr>\n",
       "      <th>2021-08-31</th>\n",
       "      <td>47.870968</td>\n",
       "    </tr>\n",
       "    <tr>\n",
       "      <th>2021-09-30</th>\n",
       "      <td>62.066667</td>\n",
       "    </tr>\n",
       "    <tr>\n",
       "      <th>2021-10-31</th>\n",
       "      <td>40.032258</td>\n",
       "    </tr>\n",
       "    <tr>\n",
       "      <th>2021-11-30</th>\n",
       "      <td>44.166667</td>\n",
       "    </tr>\n",
       "    <tr>\n",
       "      <th>2021-12-31</th>\n",
       "      <td>49.290323</td>\n",
       "    </tr>\n",
       "  </tbody>\n",
       "</table>\n",
       "</div>"
      ],
      "text/plain": [
       "               ランダムな値\n",
       "2021-01-31  52.225806\n",
       "2021-02-28  51.357143\n",
       "2021-03-31  48.806452\n",
       "2021-04-30  48.133333\n",
       "2021-05-31  52.354839\n",
       "2021-06-30  41.433333\n",
       "2021-07-31  47.645161\n",
       "2021-08-31  47.870968\n",
       "2021-09-30  62.066667\n",
       "2021-10-31  40.032258\n",
       "2021-11-30  44.166667\n",
       "2021-12-31  49.290323"
      ]
     },
     "execution_count": 315,
     "metadata": {},
     "output_type": "execute_result"
    }
   ],
   "source": [
    "df.groupby(pd.Grouper(freq='M')).mean()"
   ]
  },
  {
   "cell_type": "code",
   "execution_count": 317,
   "id": "c605166e-b441-4cee-bc57-9b10a321c8da",
   "metadata": {},
   "outputs": [
    {
     "data": {
      "text/html": [
       "<div>\n",
       "<style scoped>\n",
       "    .dataframe tbody tr th:only-of-type {\n",
       "        vertical-align: middle;\n",
       "    }\n",
       "\n",
       "    .dataframe tbody tr th {\n",
       "        vertical-align: top;\n",
       "    }\n",
       "\n",
       "    .dataframe thead th {\n",
       "        text-align: right;\n",
       "    }\n",
       "</style>\n",
       "<table border=\"1\" class=\"dataframe\">\n",
       "  <thead>\n",
       "    <tr style=\"text-align: right;\">\n",
       "      <th></th>\n",
       "      <th>ランダムな値</th>\n",
       "    </tr>\n",
       "  </thead>\n",
       "  <tbody>\n",
       "    <tr>\n",
       "      <th>2021-01-03</th>\n",
       "      <td>11.666667</td>\n",
       "    </tr>\n",
       "    <tr>\n",
       "      <th>2021-01-10</th>\n",
       "      <td>59.142857</td>\n",
       "    </tr>\n",
       "    <tr>\n",
       "      <th>2021-01-17</th>\n",
       "      <td>47.000000</td>\n",
       "    </tr>\n",
       "    <tr>\n",
       "      <th>2021-01-24</th>\n",
       "      <td>67.571429</td>\n",
       "    </tr>\n",
       "    <tr>\n",
       "      <th>2021-01-31</th>\n",
       "      <td>52.571429</td>\n",
       "    </tr>\n",
       "    <tr>\n",
       "      <th>2021-02-07</th>\n",
       "      <td>52.714286</td>\n",
       "    </tr>\n",
       "    <tr>\n",
       "      <th>2021-02-14</th>\n",
       "      <td>50.428571</td>\n",
       "    </tr>\n",
       "    <tr>\n",
       "      <th>2021-02-21</th>\n",
       "      <td>60.285714</td>\n",
       "    </tr>\n",
       "    <tr>\n",
       "      <th>2021-02-28</th>\n",
       "      <td>42.000000</td>\n",
       "    </tr>\n",
       "    <tr>\n",
       "      <th>2021-03-07</th>\n",
       "      <td>36.285714</td>\n",
       "    </tr>\n",
       "    <tr>\n",
       "      <th>2021-03-14</th>\n",
       "      <td>46.000000</td>\n",
       "    </tr>\n",
       "    <tr>\n",
       "      <th>2021-03-21</th>\n",
       "      <td>43.714286</td>\n",
       "    </tr>\n",
       "    <tr>\n",
       "      <th>2021-03-28</th>\n",
       "      <td>64.857143</td>\n",
       "    </tr>\n",
       "    <tr>\n",
       "      <th>2021-04-04</th>\n",
       "      <td>56.428571</td>\n",
       "    </tr>\n",
       "    <tr>\n",
       "      <th>2021-04-11</th>\n",
       "      <td>37.714286</td>\n",
       "    </tr>\n",
       "    <tr>\n",
       "      <th>2021-04-18</th>\n",
       "      <td>54.571429</td>\n",
       "    </tr>\n",
       "    <tr>\n",
       "      <th>2021-04-25</th>\n",
       "      <td>57.857143</td>\n",
       "    </tr>\n",
       "    <tr>\n",
       "      <th>2021-05-02</th>\n",
       "      <td>39.857143</td>\n",
       "    </tr>\n",
       "    <tr>\n",
       "      <th>2021-05-09</th>\n",
       "      <td>43.142857</td>\n",
       "    </tr>\n",
       "    <tr>\n",
       "      <th>2021-05-16</th>\n",
       "      <td>64.714286</td>\n",
       "    </tr>\n",
       "    <tr>\n",
       "      <th>2021-05-23</th>\n",
       "      <td>55.000000</td>\n",
       "    </tr>\n",
       "    <tr>\n",
       "      <th>2021-05-30</th>\n",
       "      <td>48.000000</td>\n",
       "    </tr>\n",
       "    <tr>\n",
       "      <th>2021-06-06</th>\n",
       "      <td>53.571429</td>\n",
       "    </tr>\n",
       "    <tr>\n",
       "      <th>2021-06-13</th>\n",
       "      <td>42.000000</td>\n",
       "    </tr>\n",
       "    <tr>\n",
       "      <th>2021-06-20</th>\n",
       "      <td>42.000000</td>\n",
       "    </tr>\n",
       "    <tr>\n",
       "      <th>2021-06-27</th>\n",
       "      <td>37.285714</td>\n",
       "    </tr>\n",
       "    <tr>\n",
       "      <th>2021-07-04</th>\n",
       "      <td>43.142857</td>\n",
       "    </tr>\n",
       "    <tr>\n",
       "      <th>2021-07-11</th>\n",
       "      <td>54.285714</td>\n",
       "    </tr>\n",
       "    <tr>\n",
       "      <th>2021-07-18</th>\n",
       "      <td>34.000000</td>\n",
       "    </tr>\n",
       "    <tr>\n",
       "      <th>2021-07-25</th>\n",
       "      <td>46.000000</td>\n",
       "    </tr>\n",
       "    <tr>\n",
       "      <th>2021-08-01</th>\n",
       "      <td>46.142857</td>\n",
       "    </tr>\n",
       "    <tr>\n",
       "      <th>2021-08-08</th>\n",
       "      <td>58.571429</td>\n",
       "    </tr>\n",
       "    <tr>\n",
       "      <th>2021-08-15</th>\n",
       "      <td>54.000000</td>\n",
       "    </tr>\n",
       "    <tr>\n",
       "      <th>2021-08-22</th>\n",
       "      <td>39.000000</td>\n",
       "    </tr>\n",
       "    <tr>\n",
       "      <th>2021-08-29</th>\n",
       "      <td>39.428571</td>\n",
       "    </tr>\n",
       "    <tr>\n",
       "      <th>2021-09-05</th>\n",
       "      <td>65.857143</td>\n",
       "    </tr>\n",
       "    <tr>\n",
       "      <th>2021-09-12</th>\n",
       "      <td>65.714286</td>\n",
       "    </tr>\n",
       "    <tr>\n",
       "      <th>2021-09-19</th>\n",
       "      <td>43.714286</td>\n",
       "    </tr>\n",
       "    <tr>\n",
       "      <th>2021-09-26</th>\n",
       "      <td>89.714286</td>\n",
       "    </tr>\n",
       "    <tr>\n",
       "      <th>2021-10-03</th>\n",
       "      <td>31.285714</td>\n",
       "    </tr>\n",
       "    <tr>\n",
       "      <th>2021-10-10</th>\n",
       "      <td>31.142857</td>\n",
       "    </tr>\n",
       "    <tr>\n",
       "      <th>2021-10-17</th>\n",
       "      <td>33.142857</td>\n",
       "    </tr>\n",
       "    <tr>\n",
       "      <th>2021-10-24</th>\n",
       "      <td>58.714286</td>\n",
       "    </tr>\n",
       "    <tr>\n",
       "      <th>2021-10-31</th>\n",
       "      <td>41.285714</td>\n",
       "    </tr>\n",
       "    <tr>\n",
       "      <th>2021-11-07</th>\n",
       "      <td>35.428571</td>\n",
       "    </tr>\n",
       "    <tr>\n",
       "      <th>2021-11-14</th>\n",
       "      <td>38.142857</td>\n",
       "    </tr>\n",
       "    <tr>\n",
       "      <th>2021-11-21</th>\n",
       "      <td>56.714286</td>\n",
       "    </tr>\n",
       "    <tr>\n",
       "      <th>2021-11-28</th>\n",
       "      <td>51.428571</td>\n",
       "    </tr>\n",
       "    <tr>\n",
       "      <th>2021-12-05</th>\n",
       "      <td>61.571429</td>\n",
       "    </tr>\n",
       "    <tr>\n",
       "      <th>2021-12-12</th>\n",
       "      <td>44.714286</td>\n",
       "    </tr>\n",
       "    <tr>\n",
       "      <th>2021-12-19</th>\n",
       "      <td>36.000000</td>\n",
       "    </tr>\n",
       "    <tr>\n",
       "      <th>2021-12-26</th>\n",
       "      <td>56.000000</td>\n",
       "    </tr>\n",
       "    <tr>\n",
       "      <th>2022-01-02</th>\n",
       "      <td>38.600000</td>\n",
       "    </tr>\n",
       "  </tbody>\n",
       "</table>\n",
       "</div>"
      ],
      "text/plain": [
       "               ランダムな値\n",
       "2021-01-03  11.666667\n",
       "2021-01-10  59.142857\n",
       "2021-01-17  47.000000\n",
       "2021-01-24  67.571429\n",
       "2021-01-31  52.571429\n",
       "2021-02-07  52.714286\n",
       "2021-02-14  50.428571\n",
       "2021-02-21  60.285714\n",
       "2021-02-28  42.000000\n",
       "2021-03-07  36.285714\n",
       "2021-03-14  46.000000\n",
       "2021-03-21  43.714286\n",
       "2021-03-28  64.857143\n",
       "2021-04-04  56.428571\n",
       "2021-04-11  37.714286\n",
       "2021-04-18  54.571429\n",
       "2021-04-25  57.857143\n",
       "2021-05-02  39.857143\n",
       "2021-05-09  43.142857\n",
       "2021-05-16  64.714286\n",
       "2021-05-23  55.000000\n",
       "2021-05-30  48.000000\n",
       "2021-06-06  53.571429\n",
       "2021-06-13  42.000000\n",
       "2021-06-20  42.000000\n",
       "2021-06-27  37.285714\n",
       "2021-07-04  43.142857\n",
       "2021-07-11  54.285714\n",
       "2021-07-18  34.000000\n",
       "2021-07-25  46.000000\n",
       "2021-08-01  46.142857\n",
       "2021-08-08  58.571429\n",
       "2021-08-15  54.000000\n",
       "2021-08-22  39.000000\n",
       "2021-08-29  39.428571\n",
       "2021-09-05  65.857143\n",
       "2021-09-12  65.714286\n",
       "2021-09-19  43.714286\n",
       "2021-09-26  89.714286\n",
       "2021-10-03  31.285714\n",
       "2021-10-10  31.142857\n",
       "2021-10-17  33.142857\n",
       "2021-10-24  58.714286\n",
       "2021-10-31  41.285714\n",
       "2021-11-07  35.428571\n",
       "2021-11-14  38.142857\n",
       "2021-11-21  56.714286\n",
       "2021-11-28  51.428571\n",
       "2021-12-05  61.571429\n",
       "2021-12-12  44.714286\n",
       "2021-12-19  36.000000\n",
       "2021-12-26  56.000000\n",
       "2022-01-02  38.600000"
      ]
     },
     "execution_count": 317,
     "metadata": {},
     "output_type": "execute_result"
    }
   ],
   "source": [
    "df.resample('W').mean()"
   ]
  },
  {
   "cell_type": "markdown",
   "id": "bf53903e-1289-49ef-895c-f7dff40145be",
   "metadata": {},
   "source": [
    "# missing values"
   ]
  },
  {
   "cell_type": "code",
   "execution_count": 319,
   "id": "3662def4-7d96-4df5-90fb-21847fe3a2d6",
   "metadata": {},
   "outputs": [],
   "source": [
    "df = pd.read_csv(\"data/sales_data_contains_nan.csv\")"
   ]
  },
  {
   "cell_type": "code",
   "execution_count": 320,
   "id": "fcc7ded8-579c-4eba-9a58-e2c8095e1897",
   "metadata": {},
   "outputs": [
    {
     "data": {
      "text/html": [
       "<div>\n",
       "<style scoped>\n",
       "    .dataframe tbody tr th:only-of-type {\n",
       "        vertical-align: middle;\n",
       "    }\n",
       "\n",
       "    .dataframe tbody tr th {\n",
       "        vertical-align: top;\n",
       "    }\n",
       "\n",
       "    .dataframe thead th {\n",
       "        text-align: right;\n",
       "    }\n",
       "</style>\n",
       "<table border=\"1\" class=\"dataframe\">\n",
       "  <thead>\n",
       "    <tr style=\"text-align: right;\">\n",
       "      <th></th>\n",
       "      <th>日付</th>\n",
       "      <th>売り上げ</th>\n",
       "      <th>客数</th>\n",
       "      <th>客単価</th>\n",
       "    </tr>\n",
       "  </thead>\n",
       "  <tbody>\n",
       "    <tr>\n",
       "      <th>0</th>\n",
       "      <td>2021-01-01</td>\n",
       "      <td>549342.0</td>\n",
       "      <td>125.0</td>\n",
       "      <td>4395.0</td>\n",
       "    </tr>\n",
       "    <tr>\n",
       "      <th>1</th>\n",
       "      <td>2021-01-02</td>\n",
       "      <td>577869.0</td>\n",
       "      <td>150.0</td>\n",
       "      <td>3852.0</td>\n",
       "    </tr>\n",
       "    <tr>\n",
       "      <th>2</th>\n",
       "      <td>2021-01-03</td>\n",
       "      <td>328030.0</td>\n",
       "      <td>184.0</td>\n",
       "      <td>1783.0</td>\n",
       "    </tr>\n",
       "    <tr>\n",
       "      <th>3</th>\n",
       "      <td>2021-01-04</td>\n",
       "      <td>317730.0</td>\n",
       "      <td>156.0</td>\n",
       "      <td>2037.0</td>\n",
       "    </tr>\n",
       "    <tr>\n",
       "      <th>4</th>\n",
       "      <td>2021-01-05</td>\n",
       "      <td>492476.0</td>\n",
       "      <td>149.0</td>\n",
       "      <td>NaN</td>\n",
       "    </tr>\n",
       "    <tr>\n",
       "      <th>5</th>\n",
       "      <td>2021-01-06</td>\n",
       "      <td>494278.0</td>\n",
       "      <td>112.0</td>\n",
       "      <td>4413.0</td>\n",
       "    </tr>\n",
       "    <tr>\n",
       "      <th>6</th>\n",
       "      <td>2021-01-07</td>\n",
       "      <td>446449.0</td>\n",
       "      <td>NaN</td>\n",
       "      <td>3783.0</td>\n",
       "    </tr>\n",
       "    <tr>\n",
       "      <th>7</th>\n",
       "      <td>2021-01-08</td>\n",
       "      <td>429130.0</td>\n",
       "      <td>181.0</td>\n",
       "      <td>2371.0</td>\n",
       "    </tr>\n",
       "    <tr>\n",
       "      <th>8</th>\n",
       "      <td>2021-01-09</td>\n",
       "      <td>346203.0</td>\n",
       "      <td>101.0</td>\n",
       "      <td>NaN</td>\n",
       "    </tr>\n",
       "    <tr>\n",
       "      <th>9</th>\n",
       "      <td>2021-01-10</td>\n",
       "      <td>NaN</td>\n",
       "      <td>151.0</td>\n",
       "      <td>3446.0</td>\n",
       "    </tr>\n",
       "    <tr>\n",
       "      <th>10</th>\n",
       "      <td>2021-01-11</td>\n",
       "      <td>453313.0</td>\n",
       "      <td>144.0</td>\n",
       "      <td>3148.0</td>\n",
       "    </tr>\n",
       "    <tr>\n",
       "      <th>11</th>\n",
       "      <td>2021-01-12</td>\n",
       "      <td>365632.0</td>\n",
       "      <td>148.0</td>\n",
       "      <td>2470.0</td>\n",
       "    </tr>\n",
       "    <tr>\n",
       "      <th>12</th>\n",
       "      <td>2021-01-13</td>\n",
       "      <td>549903.0</td>\n",
       "      <td>156.0</td>\n",
       "      <td>3525.0</td>\n",
       "    </tr>\n",
       "    <tr>\n",
       "      <th>13</th>\n",
       "      <td>2021-01-14</td>\n",
       "      <td>NaN</td>\n",
       "      <td>191.0</td>\n",
       "      <td>2193.0</td>\n",
       "    </tr>\n",
       "    <tr>\n",
       "      <th>14</th>\n",
       "      <td>2021-01-15</td>\n",
       "      <td>371200.0</td>\n",
       "      <td>149.0</td>\n",
       "      <td>2491.0</td>\n",
       "    </tr>\n",
       "    <tr>\n",
       "      <th>15</th>\n",
       "      <td>2021-01-16</td>\n",
       "      <td>464782.0</td>\n",
       "      <td>186.0</td>\n",
       "      <td>2499.0</td>\n",
       "    </tr>\n",
       "    <tr>\n",
       "      <th>16</th>\n",
       "      <td>2021-01-17</td>\n",
       "      <td>496719.0</td>\n",
       "      <td>103.0</td>\n",
       "      <td>4823.0</td>\n",
       "    </tr>\n",
       "    <tr>\n",
       "      <th>17</th>\n",
       "      <td>2021-01-18</td>\n",
       "      <td>532857.0</td>\n",
       "      <td>NaN</td>\n",
       "      <td>3191.0</td>\n",
       "    </tr>\n",
       "    <tr>\n",
       "      <th>18</th>\n",
       "      <td>2021-01-19</td>\n",
       "      <td>335662.0</td>\n",
       "      <td>111.0</td>\n",
       "      <td>3024.0</td>\n",
       "    </tr>\n",
       "    <tr>\n",
       "      <th>19</th>\n",
       "      <td>2021-01-20</td>\n",
       "      <td>527748.0</td>\n",
       "      <td>121.0</td>\n",
       "      <td>4362.0</td>\n",
       "    </tr>\n",
       "    <tr>\n",
       "      <th>20</th>\n",
       "      <td>2021-01-21</td>\n",
       "      <td>430256.0</td>\n",
       "      <td>189.0</td>\n",
       "      <td>NaN</td>\n",
       "    </tr>\n",
       "    <tr>\n",
       "      <th>21</th>\n",
       "      <td>2021-01-22</td>\n",
       "      <td>457698.0</td>\n",
       "      <td>198.0</td>\n",
       "      <td>2312.0</td>\n",
       "    </tr>\n",
       "    <tr>\n",
       "      <th>22</th>\n",
       "      <td>2021-01-23</td>\n",
       "      <td>545799.0</td>\n",
       "      <td>103.0</td>\n",
       "      <td>5299.0</td>\n",
       "    </tr>\n",
       "    <tr>\n",
       "      <th>23</th>\n",
       "      <td>2021-01-24</td>\n",
       "      <td>514338.0</td>\n",
       "      <td>111.0</td>\n",
       "      <td>4634.0</td>\n",
       "    </tr>\n",
       "    <tr>\n",
       "      <th>24</th>\n",
       "      <td>2021-01-25</td>\n",
       "      <td>330255.0</td>\n",
       "      <td>103.0</td>\n",
       "      <td>3206.0</td>\n",
       "    </tr>\n",
       "    <tr>\n",
       "      <th>25</th>\n",
       "      <td>2021-01-26</td>\n",
       "      <td>NaN</td>\n",
       "      <td>194.0</td>\n",
       "      <td>1581.0</td>\n",
       "    </tr>\n",
       "    <tr>\n",
       "      <th>26</th>\n",
       "      <td>2021-01-27</td>\n",
       "      <td>519069.0</td>\n",
       "      <td>106.0</td>\n",
       "      <td>4897.0</td>\n",
       "    </tr>\n",
       "    <tr>\n",
       "      <th>27</th>\n",
       "      <td>2021-01-28</td>\n",
       "      <td>585872.0</td>\n",
       "      <td>NaN</td>\n",
       "      <td>5375.0</td>\n",
       "    </tr>\n",
       "    <tr>\n",
       "      <th>28</th>\n",
       "      <td>2021-01-29</td>\n",
       "      <td>383079.0</td>\n",
       "      <td>187.0</td>\n",
       "      <td>2049.0</td>\n",
       "    </tr>\n",
       "    <tr>\n",
       "      <th>29</th>\n",
       "      <td>2021-01-30</td>\n",
       "      <td>566339.0</td>\n",
       "      <td>114.0</td>\n",
       "      <td>4968.0</td>\n",
       "    </tr>\n",
       "    <tr>\n",
       "      <th>30</th>\n",
       "      <td>2021-01-31</td>\n",
       "      <td>564572.0</td>\n",
       "      <td>183.0</td>\n",
       "      <td>3085.0</td>\n",
       "    </tr>\n",
       "  </tbody>\n",
       "</table>\n",
       "</div>"
      ],
      "text/plain": [
       "            日付      売り上げ     客数     客単価\n",
       "0   2021-01-01  549342.0  125.0  4395.0\n",
       "1   2021-01-02  577869.0  150.0  3852.0\n",
       "2   2021-01-03  328030.0  184.0  1783.0\n",
       "3   2021-01-04  317730.0  156.0  2037.0\n",
       "4   2021-01-05  492476.0  149.0     NaN\n",
       "5   2021-01-06  494278.0  112.0  4413.0\n",
       "6   2021-01-07  446449.0    NaN  3783.0\n",
       "7   2021-01-08  429130.0  181.0  2371.0\n",
       "8   2021-01-09  346203.0  101.0     NaN\n",
       "9   2021-01-10       NaN  151.0  3446.0\n",
       "10  2021-01-11  453313.0  144.0  3148.0\n",
       "11  2021-01-12  365632.0  148.0  2470.0\n",
       "12  2021-01-13  549903.0  156.0  3525.0\n",
       "13  2021-01-14       NaN  191.0  2193.0\n",
       "14  2021-01-15  371200.0  149.0  2491.0\n",
       "15  2021-01-16  464782.0  186.0  2499.0\n",
       "16  2021-01-17  496719.0  103.0  4823.0\n",
       "17  2021-01-18  532857.0    NaN  3191.0\n",
       "18  2021-01-19  335662.0  111.0  3024.0\n",
       "19  2021-01-20  527748.0  121.0  4362.0\n",
       "20  2021-01-21  430256.0  189.0     NaN\n",
       "21  2021-01-22  457698.0  198.0  2312.0\n",
       "22  2021-01-23  545799.0  103.0  5299.0\n",
       "23  2021-01-24  514338.0  111.0  4634.0\n",
       "24  2021-01-25  330255.0  103.0  3206.0\n",
       "25  2021-01-26       NaN  194.0  1581.0\n",
       "26  2021-01-27  519069.0  106.0  4897.0\n",
       "27  2021-01-28  585872.0    NaN  5375.0\n",
       "28  2021-01-29  383079.0  187.0  2049.0\n",
       "29  2021-01-30  566339.0  114.0  4968.0\n",
       "30  2021-01-31  564572.0  183.0  3085.0"
      ]
     },
     "execution_count": 320,
     "metadata": {},
     "output_type": "execute_result"
    }
   ],
   "source": [
    "df"
   ]
  },
  {
   "cell_type": "code",
   "execution_count": 321,
   "id": "6d0b76bc-ebe2-481e-9367-c3c8faca4f25",
   "metadata": {},
   "outputs": [
    {
     "data": {
      "text/plain": [
       "日付      0\n",
       "売り上げ    3\n",
       "客数      3\n",
       "客単価     3\n",
       "dtype: int64"
      ]
     },
     "execution_count": 321,
     "metadata": {},
     "output_type": "execute_result"
    }
   ],
   "source": [
    "df.isnull().sum(axis=0)"
   ]
  },
  {
   "cell_type": "code",
   "execution_count": 322,
   "id": "9073f643-94ad-4384-bdfd-c1e6d38bbc29",
   "metadata": {},
   "outputs": [],
   "source": [
    "df[\"日付\"] = pd.to_datetime(df[\"日付\"])"
   ]
  },
  {
   "cell_type": "code",
   "execution_count": 323,
   "id": "c1dd1035-bfab-47d9-ac1e-d41ee0a28e04",
   "metadata": {},
   "outputs": [
    {
     "ename": "AttributeError",
     "evalue": "module 'pandas' has no attribute 'set_index'",
     "output_type": "error",
     "traceback": [
      "\u001b[1;31m---------------------------------------------------------------------------\u001b[0m",
      "\u001b[1;31mAttributeError\u001b[0m                            Traceback (most recent call last)",
      "Cell \u001b[1;32mIn[323], line 1\u001b[0m\n\u001b[1;32m----> 1\u001b[0m df \u001b[38;5;241m=\u001b[39m \u001b[43mpd\u001b[49m\u001b[38;5;241;43m.\u001b[39;49m\u001b[43mset_index\u001b[49m(\u001b[38;5;124m\"\u001b[39m\u001b[38;5;124m日付\u001b[39m\u001b[38;5;124m\"\u001b[39m)\n",
      "\u001b[1;31mAttributeError\u001b[0m: module 'pandas' has no attribute 'set_index'"
     ]
    }
   ],
   "source": [
    "df = pd.set_index(\"日付\")"
   ]
  },
  {
   "cell_type": "code",
   "execution_count": 324,
   "id": "e68878fb-2b9a-4633-aabc-e4e8f52ea671",
   "metadata": {},
   "outputs": [
    {
     "data": {
      "text/html": [
       "<div>\n",
       "<style scoped>\n",
       "    .dataframe tbody tr th:only-of-type {\n",
       "        vertical-align: middle;\n",
       "    }\n",
       "\n",
       "    .dataframe tbody tr th {\n",
       "        vertical-align: top;\n",
       "    }\n",
       "\n",
       "    .dataframe thead th {\n",
       "        text-align: right;\n",
       "    }\n",
       "</style>\n",
       "<table border=\"1\" class=\"dataframe\">\n",
       "  <thead>\n",
       "    <tr style=\"text-align: right;\">\n",
       "      <th></th>\n",
       "      <th>日付</th>\n",
       "      <th>売り上げ</th>\n",
       "      <th>客数</th>\n",
       "      <th>客単価</th>\n",
       "    </tr>\n",
       "  </thead>\n",
       "  <tbody>\n",
       "    <tr>\n",
       "      <th>0</th>\n",
       "      <td>2021-01-01</td>\n",
       "      <td>549342.0</td>\n",
       "      <td>125.0</td>\n",
       "      <td>4395.0</td>\n",
       "    </tr>\n",
       "    <tr>\n",
       "      <th>1</th>\n",
       "      <td>2021-01-02</td>\n",
       "      <td>577869.0</td>\n",
       "      <td>150.0</td>\n",
       "      <td>3852.0</td>\n",
       "    </tr>\n",
       "    <tr>\n",
       "      <th>2</th>\n",
       "      <td>2021-01-03</td>\n",
       "      <td>328030.0</td>\n",
       "      <td>184.0</td>\n",
       "      <td>1783.0</td>\n",
       "    </tr>\n",
       "    <tr>\n",
       "      <th>3</th>\n",
       "      <td>2021-01-04</td>\n",
       "      <td>317730.0</td>\n",
       "      <td>156.0</td>\n",
       "      <td>2037.0</td>\n",
       "    </tr>\n",
       "    <tr>\n",
       "      <th>5</th>\n",
       "      <td>2021-01-06</td>\n",
       "      <td>494278.0</td>\n",
       "      <td>112.0</td>\n",
       "      <td>4413.0</td>\n",
       "    </tr>\n",
       "    <tr>\n",
       "      <th>7</th>\n",
       "      <td>2021-01-08</td>\n",
       "      <td>429130.0</td>\n",
       "      <td>181.0</td>\n",
       "      <td>2371.0</td>\n",
       "    </tr>\n",
       "    <tr>\n",
       "      <th>10</th>\n",
       "      <td>2021-01-11</td>\n",
       "      <td>453313.0</td>\n",
       "      <td>144.0</td>\n",
       "      <td>3148.0</td>\n",
       "    </tr>\n",
       "    <tr>\n",
       "      <th>11</th>\n",
       "      <td>2021-01-12</td>\n",
       "      <td>365632.0</td>\n",
       "      <td>148.0</td>\n",
       "      <td>2470.0</td>\n",
       "    </tr>\n",
       "    <tr>\n",
       "      <th>12</th>\n",
       "      <td>2021-01-13</td>\n",
       "      <td>549903.0</td>\n",
       "      <td>156.0</td>\n",
       "      <td>3525.0</td>\n",
       "    </tr>\n",
       "    <tr>\n",
       "      <th>14</th>\n",
       "      <td>2021-01-15</td>\n",
       "      <td>371200.0</td>\n",
       "      <td>149.0</td>\n",
       "      <td>2491.0</td>\n",
       "    </tr>\n",
       "    <tr>\n",
       "      <th>15</th>\n",
       "      <td>2021-01-16</td>\n",
       "      <td>464782.0</td>\n",
       "      <td>186.0</td>\n",
       "      <td>2499.0</td>\n",
       "    </tr>\n",
       "    <tr>\n",
       "      <th>16</th>\n",
       "      <td>2021-01-17</td>\n",
       "      <td>496719.0</td>\n",
       "      <td>103.0</td>\n",
       "      <td>4823.0</td>\n",
       "    </tr>\n",
       "    <tr>\n",
       "      <th>18</th>\n",
       "      <td>2021-01-19</td>\n",
       "      <td>335662.0</td>\n",
       "      <td>111.0</td>\n",
       "      <td>3024.0</td>\n",
       "    </tr>\n",
       "    <tr>\n",
       "      <th>19</th>\n",
       "      <td>2021-01-20</td>\n",
       "      <td>527748.0</td>\n",
       "      <td>121.0</td>\n",
       "      <td>4362.0</td>\n",
       "    </tr>\n",
       "    <tr>\n",
       "      <th>21</th>\n",
       "      <td>2021-01-22</td>\n",
       "      <td>457698.0</td>\n",
       "      <td>198.0</td>\n",
       "      <td>2312.0</td>\n",
       "    </tr>\n",
       "    <tr>\n",
       "      <th>22</th>\n",
       "      <td>2021-01-23</td>\n",
       "      <td>545799.0</td>\n",
       "      <td>103.0</td>\n",
       "      <td>5299.0</td>\n",
       "    </tr>\n",
       "    <tr>\n",
       "      <th>23</th>\n",
       "      <td>2021-01-24</td>\n",
       "      <td>514338.0</td>\n",
       "      <td>111.0</td>\n",
       "      <td>4634.0</td>\n",
       "    </tr>\n",
       "    <tr>\n",
       "      <th>24</th>\n",
       "      <td>2021-01-25</td>\n",
       "      <td>330255.0</td>\n",
       "      <td>103.0</td>\n",
       "      <td>3206.0</td>\n",
       "    </tr>\n",
       "    <tr>\n",
       "      <th>26</th>\n",
       "      <td>2021-01-27</td>\n",
       "      <td>519069.0</td>\n",
       "      <td>106.0</td>\n",
       "      <td>4897.0</td>\n",
       "    </tr>\n",
       "    <tr>\n",
       "      <th>28</th>\n",
       "      <td>2021-01-29</td>\n",
       "      <td>383079.0</td>\n",
       "      <td>187.0</td>\n",
       "      <td>2049.0</td>\n",
       "    </tr>\n",
       "    <tr>\n",
       "      <th>29</th>\n",
       "      <td>2021-01-30</td>\n",
       "      <td>566339.0</td>\n",
       "      <td>114.0</td>\n",
       "      <td>4968.0</td>\n",
       "    </tr>\n",
       "    <tr>\n",
       "      <th>30</th>\n",
       "      <td>2021-01-31</td>\n",
       "      <td>564572.0</td>\n",
       "      <td>183.0</td>\n",
       "      <td>3085.0</td>\n",
       "    </tr>\n",
       "  </tbody>\n",
       "</table>\n",
       "</div>"
      ],
      "text/plain": [
       "           日付      売り上げ     客数     客単価\n",
       "0  2021-01-01  549342.0  125.0  4395.0\n",
       "1  2021-01-02  577869.0  150.0  3852.0\n",
       "2  2021-01-03  328030.0  184.0  1783.0\n",
       "3  2021-01-04  317730.0  156.0  2037.0\n",
       "5  2021-01-06  494278.0  112.0  4413.0\n",
       "7  2021-01-08  429130.0  181.0  2371.0\n",
       "10 2021-01-11  453313.0  144.0  3148.0\n",
       "11 2021-01-12  365632.0  148.0  2470.0\n",
       "12 2021-01-13  549903.0  156.0  3525.0\n",
       "14 2021-01-15  371200.0  149.0  2491.0\n",
       "15 2021-01-16  464782.0  186.0  2499.0\n",
       "16 2021-01-17  496719.0  103.0  4823.0\n",
       "18 2021-01-19  335662.0  111.0  3024.0\n",
       "19 2021-01-20  527748.0  121.0  4362.0\n",
       "21 2021-01-22  457698.0  198.0  2312.0\n",
       "22 2021-01-23  545799.0  103.0  5299.0\n",
       "23 2021-01-24  514338.0  111.0  4634.0\n",
       "24 2021-01-25  330255.0  103.0  3206.0\n",
       "26 2021-01-27  519069.0  106.0  4897.0\n",
       "28 2021-01-29  383079.0  187.0  2049.0\n",
       "29 2021-01-30  566339.0  114.0  4968.0\n",
       "30 2021-01-31  564572.0  183.0  3085.0"
      ]
     },
     "execution_count": 324,
     "metadata": {},
     "output_type": "execute_result"
    }
   ],
   "source": [
    "dropna_df = df.dropna()\n",
    "dropna_df"
   ]
  },
  {
   "cell_type": "code",
   "execution_count": 325,
   "id": "e3af98ab-6cbb-4259-b39a-3cba599d83f6",
   "metadata": {},
   "outputs": [
    {
     "data": {
      "text/html": [
       "<div>\n",
       "<style scoped>\n",
       "    .dataframe tbody tr th:only-of-type {\n",
       "        vertical-align: middle;\n",
       "    }\n",
       "\n",
       "    .dataframe tbody tr th {\n",
       "        vertical-align: top;\n",
       "    }\n",
       "\n",
       "    .dataframe thead th {\n",
       "        text-align: right;\n",
       "    }\n",
       "</style>\n",
       "<table border=\"1\" class=\"dataframe\">\n",
       "  <thead>\n",
       "    <tr style=\"text-align: right;\">\n",
       "      <th></th>\n",
       "      <th>日付</th>\n",
       "      <th>売り上げ</th>\n",
       "      <th>客数</th>\n",
       "      <th>客単価</th>\n",
       "    </tr>\n",
       "  </thead>\n",
       "  <tbody>\n",
       "    <tr>\n",
       "      <th>0</th>\n",
       "      <td>2021-01-01</td>\n",
       "      <td>549342.0</td>\n",
       "      <td>125.0</td>\n",
       "      <td>4395.0</td>\n",
       "    </tr>\n",
       "    <tr>\n",
       "      <th>1</th>\n",
       "      <td>2021-01-02</td>\n",
       "      <td>577869.0</td>\n",
       "      <td>150.0</td>\n",
       "      <td>3852.0</td>\n",
       "    </tr>\n",
       "    <tr>\n",
       "      <th>2</th>\n",
       "      <td>2021-01-03</td>\n",
       "      <td>328030.0</td>\n",
       "      <td>184.0</td>\n",
       "      <td>1783.0</td>\n",
       "    </tr>\n",
       "    <tr>\n",
       "      <th>3</th>\n",
       "      <td>2021-01-04</td>\n",
       "      <td>317730.0</td>\n",
       "      <td>156.0</td>\n",
       "      <td>2037.0</td>\n",
       "    </tr>\n",
       "    <tr>\n",
       "      <th>4</th>\n",
       "      <td>2021-01-05</td>\n",
       "      <td>492476.0</td>\n",
       "      <td>149.0</td>\n",
       "      <td>0.0</td>\n",
       "    </tr>\n",
       "    <tr>\n",
       "      <th>5</th>\n",
       "      <td>2021-01-06</td>\n",
       "      <td>494278.0</td>\n",
       "      <td>112.0</td>\n",
       "      <td>4413.0</td>\n",
       "    </tr>\n",
       "    <tr>\n",
       "      <th>6</th>\n",
       "      <td>2021-01-07</td>\n",
       "      <td>446449.0</td>\n",
       "      <td>0.0</td>\n",
       "      <td>3783.0</td>\n",
       "    </tr>\n",
       "    <tr>\n",
       "      <th>7</th>\n",
       "      <td>2021-01-08</td>\n",
       "      <td>429130.0</td>\n",
       "      <td>181.0</td>\n",
       "      <td>2371.0</td>\n",
       "    </tr>\n",
       "    <tr>\n",
       "      <th>8</th>\n",
       "      <td>2021-01-09</td>\n",
       "      <td>346203.0</td>\n",
       "      <td>101.0</td>\n",
       "      <td>0.0</td>\n",
       "    </tr>\n",
       "    <tr>\n",
       "      <th>9</th>\n",
       "      <td>2021-01-10</td>\n",
       "      <td>0.0</td>\n",
       "      <td>151.0</td>\n",
       "      <td>3446.0</td>\n",
       "    </tr>\n",
       "    <tr>\n",
       "      <th>10</th>\n",
       "      <td>2021-01-11</td>\n",
       "      <td>453313.0</td>\n",
       "      <td>144.0</td>\n",
       "      <td>3148.0</td>\n",
       "    </tr>\n",
       "    <tr>\n",
       "      <th>11</th>\n",
       "      <td>2021-01-12</td>\n",
       "      <td>365632.0</td>\n",
       "      <td>148.0</td>\n",
       "      <td>2470.0</td>\n",
       "    </tr>\n",
       "    <tr>\n",
       "      <th>12</th>\n",
       "      <td>2021-01-13</td>\n",
       "      <td>549903.0</td>\n",
       "      <td>156.0</td>\n",
       "      <td>3525.0</td>\n",
       "    </tr>\n",
       "    <tr>\n",
       "      <th>13</th>\n",
       "      <td>2021-01-14</td>\n",
       "      <td>0.0</td>\n",
       "      <td>191.0</td>\n",
       "      <td>2193.0</td>\n",
       "    </tr>\n",
       "    <tr>\n",
       "      <th>14</th>\n",
       "      <td>2021-01-15</td>\n",
       "      <td>371200.0</td>\n",
       "      <td>149.0</td>\n",
       "      <td>2491.0</td>\n",
       "    </tr>\n",
       "    <tr>\n",
       "      <th>15</th>\n",
       "      <td>2021-01-16</td>\n",
       "      <td>464782.0</td>\n",
       "      <td>186.0</td>\n",
       "      <td>2499.0</td>\n",
       "    </tr>\n",
       "    <tr>\n",
       "      <th>16</th>\n",
       "      <td>2021-01-17</td>\n",
       "      <td>496719.0</td>\n",
       "      <td>103.0</td>\n",
       "      <td>4823.0</td>\n",
       "    </tr>\n",
       "    <tr>\n",
       "      <th>17</th>\n",
       "      <td>2021-01-18</td>\n",
       "      <td>532857.0</td>\n",
       "      <td>0.0</td>\n",
       "      <td>3191.0</td>\n",
       "    </tr>\n",
       "    <tr>\n",
       "      <th>18</th>\n",
       "      <td>2021-01-19</td>\n",
       "      <td>335662.0</td>\n",
       "      <td>111.0</td>\n",
       "      <td>3024.0</td>\n",
       "    </tr>\n",
       "    <tr>\n",
       "      <th>19</th>\n",
       "      <td>2021-01-20</td>\n",
       "      <td>527748.0</td>\n",
       "      <td>121.0</td>\n",
       "      <td>4362.0</td>\n",
       "    </tr>\n",
       "    <tr>\n",
       "      <th>20</th>\n",
       "      <td>2021-01-21</td>\n",
       "      <td>430256.0</td>\n",
       "      <td>189.0</td>\n",
       "      <td>0.0</td>\n",
       "    </tr>\n",
       "    <tr>\n",
       "      <th>21</th>\n",
       "      <td>2021-01-22</td>\n",
       "      <td>457698.0</td>\n",
       "      <td>198.0</td>\n",
       "      <td>2312.0</td>\n",
       "    </tr>\n",
       "    <tr>\n",
       "      <th>22</th>\n",
       "      <td>2021-01-23</td>\n",
       "      <td>545799.0</td>\n",
       "      <td>103.0</td>\n",
       "      <td>5299.0</td>\n",
       "    </tr>\n",
       "    <tr>\n",
       "      <th>23</th>\n",
       "      <td>2021-01-24</td>\n",
       "      <td>514338.0</td>\n",
       "      <td>111.0</td>\n",
       "      <td>4634.0</td>\n",
       "    </tr>\n",
       "    <tr>\n",
       "      <th>24</th>\n",
       "      <td>2021-01-25</td>\n",
       "      <td>330255.0</td>\n",
       "      <td>103.0</td>\n",
       "      <td>3206.0</td>\n",
       "    </tr>\n",
       "    <tr>\n",
       "      <th>25</th>\n",
       "      <td>2021-01-26</td>\n",
       "      <td>0.0</td>\n",
       "      <td>194.0</td>\n",
       "      <td>1581.0</td>\n",
       "    </tr>\n",
       "    <tr>\n",
       "      <th>26</th>\n",
       "      <td>2021-01-27</td>\n",
       "      <td>519069.0</td>\n",
       "      <td>106.0</td>\n",
       "      <td>4897.0</td>\n",
       "    </tr>\n",
       "    <tr>\n",
       "      <th>27</th>\n",
       "      <td>2021-01-28</td>\n",
       "      <td>585872.0</td>\n",
       "      <td>0.0</td>\n",
       "      <td>5375.0</td>\n",
       "    </tr>\n",
       "    <tr>\n",
       "      <th>28</th>\n",
       "      <td>2021-01-29</td>\n",
       "      <td>383079.0</td>\n",
       "      <td>187.0</td>\n",
       "      <td>2049.0</td>\n",
       "    </tr>\n",
       "    <tr>\n",
       "      <th>29</th>\n",
       "      <td>2021-01-30</td>\n",
       "      <td>566339.0</td>\n",
       "      <td>114.0</td>\n",
       "      <td>4968.0</td>\n",
       "    </tr>\n",
       "    <tr>\n",
       "      <th>30</th>\n",
       "      <td>2021-01-31</td>\n",
       "      <td>564572.0</td>\n",
       "      <td>183.0</td>\n",
       "      <td>3085.0</td>\n",
       "    </tr>\n",
       "  </tbody>\n",
       "</table>\n",
       "</div>"
      ],
      "text/plain": [
       "           日付      売り上げ     客数     客単価\n",
       "0  2021-01-01  549342.0  125.0  4395.0\n",
       "1  2021-01-02  577869.0  150.0  3852.0\n",
       "2  2021-01-03  328030.0  184.0  1783.0\n",
       "3  2021-01-04  317730.0  156.0  2037.0\n",
       "4  2021-01-05  492476.0  149.0     0.0\n",
       "5  2021-01-06  494278.0  112.0  4413.0\n",
       "6  2021-01-07  446449.0    0.0  3783.0\n",
       "7  2021-01-08  429130.0  181.0  2371.0\n",
       "8  2021-01-09  346203.0  101.0     0.0\n",
       "9  2021-01-10       0.0  151.0  3446.0\n",
       "10 2021-01-11  453313.0  144.0  3148.0\n",
       "11 2021-01-12  365632.0  148.0  2470.0\n",
       "12 2021-01-13  549903.0  156.0  3525.0\n",
       "13 2021-01-14       0.0  191.0  2193.0\n",
       "14 2021-01-15  371200.0  149.0  2491.0\n",
       "15 2021-01-16  464782.0  186.0  2499.0\n",
       "16 2021-01-17  496719.0  103.0  4823.0\n",
       "17 2021-01-18  532857.0    0.0  3191.0\n",
       "18 2021-01-19  335662.0  111.0  3024.0\n",
       "19 2021-01-20  527748.0  121.0  4362.0\n",
       "20 2021-01-21  430256.0  189.0     0.0\n",
       "21 2021-01-22  457698.0  198.0  2312.0\n",
       "22 2021-01-23  545799.0  103.0  5299.0\n",
       "23 2021-01-24  514338.0  111.0  4634.0\n",
       "24 2021-01-25  330255.0  103.0  3206.0\n",
       "25 2021-01-26       0.0  194.0  1581.0\n",
       "26 2021-01-27  519069.0  106.0  4897.0\n",
       "27 2021-01-28  585872.0    0.0  5375.0\n",
       "28 2021-01-29  383079.0  187.0  2049.0\n",
       "29 2021-01-30  566339.0  114.0  4968.0\n",
       "30 2021-01-31  564572.0  183.0  3085.0"
      ]
     },
     "execution_count": 325,
     "metadata": {},
     "output_type": "execute_result"
    }
   ],
   "source": [
    "fillna_df = df.fillna(0)\n",
    "fillna_df"
   ]
  },
  {
   "cell_type": "code",
   "execution_count": 326,
   "id": "75899e7b-42be-4409-bade-7ec104d74f47",
   "metadata": {},
   "outputs": [
    {
     "name": "stderr",
     "output_type": "stream",
     "text": [
      "C:\\Users\\Keun Ho Ryu\\AppData\\Local\\Temp\\ipykernel_6872\\2023556993.py:1: FutureWarning: DataFrame.fillna with 'method' is deprecated and will raise in a future version. Use obj.ffill() or obj.bfill() instead.\n",
      "  ffill_df = df.fillna(method = 'ffill')\n"
     ]
    },
    {
     "data": {
      "text/html": [
       "<div>\n",
       "<style scoped>\n",
       "    .dataframe tbody tr th:only-of-type {\n",
       "        vertical-align: middle;\n",
       "    }\n",
       "\n",
       "    .dataframe tbody tr th {\n",
       "        vertical-align: top;\n",
       "    }\n",
       "\n",
       "    .dataframe thead th {\n",
       "        text-align: right;\n",
       "    }\n",
       "</style>\n",
       "<table border=\"1\" class=\"dataframe\">\n",
       "  <thead>\n",
       "    <tr style=\"text-align: right;\">\n",
       "      <th></th>\n",
       "      <th>日付</th>\n",
       "      <th>売り上げ</th>\n",
       "      <th>客数</th>\n",
       "      <th>客単価</th>\n",
       "    </tr>\n",
       "  </thead>\n",
       "  <tbody>\n",
       "    <tr>\n",
       "      <th>0</th>\n",
       "      <td>2021-01-01</td>\n",
       "      <td>549342.0</td>\n",
       "      <td>125.0</td>\n",
       "      <td>4395.0</td>\n",
       "    </tr>\n",
       "    <tr>\n",
       "      <th>1</th>\n",
       "      <td>2021-01-02</td>\n",
       "      <td>577869.0</td>\n",
       "      <td>150.0</td>\n",
       "      <td>3852.0</td>\n",
       "    </tr>\n",
       "    <tr>\n",
       "      <th>2</th>\n",
       "      <td>2021-01-03</td>\n",
       "      <td>328030.0</td>\n",
       "      <td>184.0</td>\n",
       "      <td>1783.0</td>\n",
       "    </tr>\n",
       "    <tr>\n",
       "      <th>3</th>\n",
       "      <td>2021-01-04</td>\n",
       "      <td>317730.0</td>\n",
       "      <td>156.0</td>\n",
       "      <td>2037.0</td>\n",
       "    </tr>\n",
       "    <tr>\n",
       "      <th>4</th>\n",
       "      <td>2021-01-05</td>\n",
       "      <td>492476.0</td>\n",
       "      <td>149.0</td>\n",
       "      <td>2037.0</td>\n",
       "    </tr>\n",
       "    <tr>\n",
       "      <th>5</th>\n",
       "      <td>2021-01-06</td>\n",
       "      <td>494278.0</td>\n",
       "      <td>112.0</td>\n",
       "      <td>4413.0</td>\n",
       "    </tr>\n",
       "    <tr>\n",
       "      <th>6</th>\n",
       "      <td>2021-01-07</td>\n",
       "      <td>446449.0</td>\n",
       "      <td>112.0</td>\n",
       "      <td>3783.0</td>\n",
       "    </tr>\n",
       "    <tr>\n",
       "      <th>7</th>\n",
       "      <td>2021-01-08</td>\n",
       "      <td>429130.0</td>\n",
       "      <td>181.0</td>\n",
       "      <td>2371.0</td>\n",
       "    </tr>\n",
       "    <tr>\n",
       "      <th>8</th>\n",
       "      <td>2021-01-09</td>\n",
       "      <td>346203.0</td>\n",
       "      <td>101.0</td>\n",
       "      <td>2371.0</td>\n",
       "    </tr>\n",
       "    <tr>\n",
       "      <th>9</th>\n",
       "      <td>2021-01-10</td>\n",
       "      <td>346203.0</td>\n",
       "      <td>151.0</td>\n",
       "      <td>3446.0</td>\n",
       "    </tr>\n",
       "    <tr>\n",
       "      <th>10</th>\n",
       "      <td>2021-01-11</td>\n",
       "      <td>453313.0</td>\n",
       "      <td>144.0</td>\n",
       "      <td>3148.0</td>\n",
       "    </tr>\n",
       "    <tr>\n",
       "      <th>11</th>\n",
       "      <td>2021-01-12</td>\n",
       "      <td>365632.0</td>\n",
       "      <td>148.0</td>\n",
       "      <td>2470.0</td>\n",
       "    </tr>\n",
       "    <tr>\n",
       "      <th>12</th>\n",
       "      <td>2021-01-13</td>\n",
       "      <td>549903.0</td>\n",
       "      <td>156.0</td>\n",
       "      <td>3525.0</td>\n",
       "    </tr>\n",
       "    <tr>\n",
       "      <th>13</th>\n",
       "      <td>2021-01-14</td>\n",
       "      <td>549903.0</td>\n",
       "      <td>191.0</td>\n",
       "      <td>2193.0</td>\n",
       "    </tr>\n",
       "    <tr>\n",
       "      <th>14</th>\n",
       "      <td>2021-01-15</td>\n",
       "      <td>371200.0</td>\n",
       "      <td>149.0</td>\n",
       "      <td>2491.0</td>\n",
       "    </tr>\n",
       "    <tr>\n",
       "      <th>15</th>\n",
       "      <td>2021-01-16</td>\n",
       "      <td>464782.0</td>\n",
       "      <td>186.0</td>\n",
       "      <td>2499.0</td>\n",
       "    </tr>\n",
       "    <tr>\n",
       "      <th>16</th>\n",
       "      <td>2021-01-17</td>\n",
       "      <td>496719.0</td>\n",
       "      <td>103.0</td>\n",
       "      <td>4823.0</td>\n",
       "    </tr>\n",
       "    <tr>\n",
       "      <th>17</th>\n",
       "      <td>2021-01-18</td>\n",
       "      <td>532857.0</td>\n",
       "      <td>103.0</td>\n",
       "      <td>3191.0</td>\n",
       "    </tr>\n",
       "    <tr>\n",
       "      <th>18</th>\n",
       "      <td>2021-01-19</td>\n",
       "      <td>335662.0</td>\n",
       "      <td>111.0</td>\n",
       "      <td>3024.0</td>\n",
       "    </tr>\n",
       "    <tr>\n",
       "      <th>19</th>\n",
       "      <td>2021-01-20</td>\n",
       "      <td>527748.0</td>\n",
       "      <td>121.0</td>\n",
       "      <td>4362.0</td>\n",
       "    </tr>\n",
       "    <tr>\n",
       "      <th>20</th>\n",
       "      <td>2021-01-21</td>\n",
       "      <td>430256.0</td>\n",
       "      <td>189.0</td>\n",
       "      <td>4362.0</td>\n",
       "    </tr>\n",
       "    <tr>\n",
       "      <th>21</th>\n",
       "      <td>2021-01-22</td>\n",
       "      <td>457698.0</td>\n",
       "      <td>198.0</td>\n",
       "      <td>2312.0</td>\n",
       "    </tr>\n",
       "    <tr>\n",
       "      <th>22</th>\n",
       "      <td>2021-01-23</td>\n",
       "      <td>545799.0</td>\n",
       "      <td>103.0</td>\n",
       "      <td>5299.0</td>\n",
       "    </tr>\n",
       "    <tr>\n",
       "      <th>23</th>\n",
       "      <td>2021-01-24</td>\n",
       "      <td>514338.0</td>\n",
       "      <td>111.0</td>\n",
       "      <td>4634.0</td>\n",
       "    </tr>\n",
       "    <tr>\n",
       "      <th>24</th>\n",
       "      <td>2021-01-25</td>\n",
       "      <td>330255.0</td>\n",
       "      <td>103.0</td>\n",
       "      <td>3206.0</td>\n",
       "    </tr>\n",
       "    <tr>\n",
       "      <th>25</th>\n",
       "      <td>2021-01-26</td>\n",
       "      <td>330255.0</td>\n",
       "      <td>194.0</td>\n",
       "      <td>1581.0</td>\n",
       "    </tr>\n",
       "    <tr>\n",
       "      <th>26</th>\n",
       "      <td>2021-01-27</td>\n",
       "      <td>519069.0</td>\n",
       "      <td>106.0</td>\n",
       "      <td>4897.0</td>\n",
       "    </tr>\n",
       "    <tr>\n",
       "      <th>27</th>\n",
       "      <td>2021-01-28</td>\n",
       "      <td>585872.0</td>\n",
       "      <td>106.0</td>\n",
       "      <td>5375.0</td>\n",
       "    </tr>\n",
       "    <tr>\n",
       "      <th>28</th>\n",
       "      <td>2021-01-29</td>\n",
       "      <td>383079.0</td>\n",
       "      <td>187.0</td>\n",
       "      <td>2049.0</td>\n",
       "    </tr>\n",
       "    <tr>\n",
       "      <th>29</th>\n",
       "      <td>2021-01-30</td>\n",
       "      <td>566339.0</td>\n",
       "      <td>114.0</td>\n",
       "      <td>4968.0</td>\n",
       "    </tr>\n",
       "    <tr>\n",
       "      <th>30</th>\n",
       "      <td>2021-01-31</td>\n",
       "      <td>564572.0</td>\n",
       "      <td>183.0</td>\n",
       "      <td>3085.0</td>\n",
       "    </tr>\n",
       "  </tbody>\n",
       "</table>\n",
       "</div>"
      ],
      "text/plain": [
       "           日付      売り上げ     客数     客単価\n",
       "0  2021-01-01  549342.0  125.0  4395.0\n",
       "1  2021-01-02  577869.0  150.0  3852.0\n",
       "2  2021-01-03  328030.0  184.0  1783.0\n",
       "3  2021-01-04  317730.0  156.0  2037.0\n",
       "4  2021-01-05  492476.0  149.0  2037.0\n",
       "5  2021-01-06  494278.0  112.0  4413.0\n",
       "6  2021-01-07  446449.0  112.0  3783.0\n",
       "7  2021-01-08  429130.0  181.0  2371.0\n",
       "8  2021-01-09  346203.0  101.0  2371.0\n",
       "9  2021-01-10  346203.0  151.0  3446.0\n",
       "10 2021-01-11  453313.0  144.0  3148.0\n",
       "11 2021-01-12  365632.0  148.0  2470.0\n",
       "12 2021-01-13  549903.0  156.0  3525.0\n",
       "13 2021-01-14  549903.0  191.0  2193.0\n",
       "14 2021-01-15  371200.0  149.0  2491.0\n",
       "15 2021-01-16  464782.0  186.0  2499.0\n",
       "16 2021-01-17  496719.0  103.0  4823.0\n",
       "17 2021-01-18  532857.0  103.0  3191.0\n",
       "18 2021-01-19  335662.0  111.0  3024.0\n",
       "19 2021-01-20  527748.0  121.0  4362.0\n",
       "20 2021-01-21  430256.0  189.0  4362.0\n",
       "21 2021-01-22  457698.0  198.0  2312.0\n",
       "22 2021-01-23  545799.0  103.0  5299.0\n",
       "23 2021-01-24  514338.0  111.0  4634.0\n",
       "24 2021-01-25  330255.0  103.0  3206.0\n",
       "25 2021-01-26  330255.0  194.0  1581.0\n",
       "26 2021-01-27  519069.0  106.0  4897.0\n",
       "27 2021-01-28  585872.0  106.0  5375.0\n",
       "28 2021-01-29  383079.0  187.0  2049.0\n",
       "29 2021-01-30  566339.0  114.0  4968.0\n",
       "30 2021-01-31  564572.0  183.0  3085.0"
      ]
     },
     "execution_count": 326,
     "metadata": {},
     "output_type": "execute_result"
    }
   ],
   "source": [
    "ffill_df = df.fillna(method = 'ffill')\n",
    "ffill_df"
   ]
  },
  {
   "cell_type": "code",
   "execution_count": 327,
   "id": "faa90888-9529-4976-996a-fb5d950b4e07",
   "metadata": {},
   "outputs": [
    {
     "data": {
      "text/html": [
       "<div>\n",
       "<style scoped>\n",
       "    .dataframe tbody tr th:only-of-type {\n",
       "        vertical-align: middle;\n",
       "    }\n",
       "\n",
       "    .dataframe tbody tr th {\n",
       "        vertical-align: top;\n",
       "    }\n",
       "\n",
       "    .dataframe thead th {\n",
       "        text-align: right;\n",
       "    }\n",
       "</style>\n",
       "<table border=\"1\" class=\"dataframe\">\n",
       "  <thead>\n",
       "    <tr style=\"text-align: right;\">\n",
       "      <th></th>\n",
       "      <th>日付</th>\n",
       "      <th>売り上げ</th>\n",
       "      <th>客数</th>\n",
       "      <th>客単価</th>\n",
       "    </tr>\n",
       "  </thead>\n",
       "  <tbody>\n",
       "    <tr>\n",
       "      <th>0</th>\n",
       "      <td>2021-01-01</td>\n",
       "      <td>549342.0</td>\n",
       "      <td>125.000000</td>\n",
       "      <td>4395.000000</td>\n",
       "    </tr>\n",
       "    <tr>\n",
       "      <th>1</th>\n",
       "      <td>2021-01-02</td>\n",
       "      <td>577869.0</td>\n",
       "      <td>150.000000</td>\n",
       "      <td>3852.000000</td>\n",
       "    </tr>\n",
       "    <tr>\n",
       "      <th>2</th>\n",
       "      <td>2021-01-03</td>\n",
       "      <td>328030.0</td>\n",
       "      <td>184.000000</td>\n",
       "      <td>1783.000000</td>\n",
       "    </tr>\n",
       "    <tr>\n",
       "      <th>3</th>\n",
       "      <td>2021-01-04</td>\n",
       "      <td>317730.0</td>\n",
       "      <td>156.000000</td>\n",
       "      <td>2037.000000</td>\n",
       "    </tr>\n",
       "    <tr>\n",
       "      <th>4</th>\n",
       "      <td>2021-01-05</td>\n",
       "      <td>492476.0</td>\n",
       "      <td>149.000000</td>\n",
       "      <td>3400.428571</td>\n",
       "    </tr>\n",
       "    <tr>\n",
       "      <th>5</th>\n",
       "      <td>2021-01-06</td>\n",
       "      <td>494278.0</td>\n",
       "      <td>112.000000</td>\n",
       "      <td>4413.000000</td>\n",
       "    </tr>\n",
       "    <tr>\n",
       "      <th>6</th>\n",
       "      <td>2021-01-07</td>\n",
       "      <td>446449.0</td>\n",
       "      <td>146.642857</td>\n",
       "      <td>3783.000000</td>\n",
       "    </tr>\n",
       "    <tr>\n",
       "      <th>7</th>\n",
       "      <td>2021-01-08</td>\n",
       "      <td>429130.0</td>\n",
       "      <td>181.000000</td>\n",
       "      <td>2371.000000</td>\n",
       "    </tr>\n",
       "    <tr>\n",
       "      <th>8</th>\n",
       "      <td>2021-01-09</td>\n",
       "      <td>346203.0</td>\n",
       "      <td>101.000000</td>\n",
       "      <td>3400.428571</td>\n",
       "    </tr>\n",
       "    <tr>\n",
       "      <th>9</th>\n",
       "      <td>2021-01-10</td>\n",
       "      <td>463450.0</td>\n",
       "      <td>151.000000</td>\n",
       "      <td>3446.000000</td>\n",
       "    </tr>\n",
       "    <tr>\n",
       "      <th>10</th>\n",
       "      <td>2021-01-11</td>\n",
       "      <td>453313.0</td>\n",
       "      <td>144.000000</td>\n",
       "      <td>3148.000000</td>\n",
       "    </tr>\n",
       "    <tr>\n",
       "      <th>11</th>\n",
       "      <td>2021-01-12</td>\n",
       "      <td>365632.0</td>\n",
       "      <td>148.000000</td>\n",
       "      <td>2470.000000</td>\n",
       "    </tr>\n",
       "    <tr>\n",
       "      <th>12</th>\n",
       "      <td>2021-01-13</td>\n",
       "      <td>549903.0</td>\n",
       "      <td>156.000000</td>\n",
       "      <td>3525.000000</td>\n",
       "    </tr>\n",
       "    <tr>\n",
       "      <th>13</th>\n",
       "      <td>2021-01-14</td>\n",
       "      <td>463450.0</td>\n",
       "      <td>191.000000</td>\n",
       "      <td>2193.000000</td>\n",
       "    </tr>\n",
       "    <tr>\n",
       "      <th>14</th>\n",
       "      <td>2021-01-15</td>\n",
       "      <td>371200.0</td>\n",
       "      <td>149.000000</td>\n",
       "      <td>2491.000000</td>\n",
       "    </tr>\n",
       "    <tr>\n",
       "      <th>15</th>\n",
       "      <td>2021-01-16</td>\n",
       "      <td>464782.0</td>\n",
       "      <td>186.000000</td>\n",
       "      <td>2499.000000</td>\n",
       "    </tr>\n",
       "    <tr>\n",
       "      <th>16</th>\n",
       "      <td>2021-01-17</td>\n",
       "      <td>496719.0</td>\n",
       "      <td>103.000000</td>\n",
       "      <td>4823.000000</td>\n",
       "    </tr>\n",
       "    <tr>\n",
       "      <th>17</th>\n",
       "      <td>2021-01-18</td>\n",
       "      <td>532857.0</td>\n",
       "      <td>146.642857</td>\n",
       "      <td>3191.000000</td>\n",
       "    </tr>\n",
       "    <tr>\n",
       "      <th>18</th>\n",
       "      <td>2021-01-19</td>\n",
       "      <td>335662.0</td>\n",
       "      <td>111.000000</td>\n",
       "      <td>3024.000000</td>\n",
       "    </tr>\n",
       "    <tr>\n",
       "      <th>19</th>\n",
       "      <td>2021-01-20</td>\n",
       "      <td>527748.0</td>\n",
       "      <td>121.000000</td>\n",
       "      <td>4362.000000</td>\n",
       "    </tr>\n",
       "    <tr>\n",
       "      <th>20</th>\n",
       "      <td>2021-01-21</td>\n",
       "      <td>430256.0</td>\n",
       "      <td>189.000000</td>\n",
       "      <td>3400.428571</td>\n",
       "    </tr>\n",
       "    <tr>\n",
       "      <th>21</th>\n",
       "      <td>2021-01-22</td>\n",
       "      <td>457698.0</td>\n",
       "      <td>198.000000</td>\n",
       "      <td>2312.000000</td>\n",
       "    </tr>\n",
       "    <tr>\n",
       "      <th>22</th>\n",
       "      <td>2021-01-23</td>\n",
       "      <td>545799.0</td>\n",
       "      <td>103.000000</td>\n",
       "      <td>5299.000000</td>\n",
       "    </tr>\n",
       "    <tr>\n",
       "      <th>23</th>\n",
       "      <td>2021-01-24</td>\n",
       "      <td>514338.0</td>\n",
       "      <td>111.000000</td>\n",
       "      <td>4634.000000</td>\n",
       "    </tr>\n",
       "    <tr>\n",
       "      <th>24</th>\n",
       "      <td>2021-01-25</td>\n",
       "      <td>330255.0</td>\n",
       "      <td>103.000000</td>\n",
       "      <td>3206.000000</td>\n",
       "    </tr>\n",
       "    <tr>\n",
       "      <th>25</th>\n",
       "      <td>2021-01-26</td>\n",
       "      <td>463450.0</td>\n",
       "      <td>194.000000</td>\n",
       "      <td>1581.000000</td>\n",
       "    </tr>\n",
       "    <tr>\n",
       "      <th>26</th>\n",
       "      <td>2021-01-27</td>\n",
       "      <td>519069.0</td>\n",
       "      <td>106.000000</td>\n",
       "      <td>4897.000000</td>\n",
       "    </tr>\n",
       "    <tr>\n",
       "      <th>27</th>\n",
       "      <td>2021-01-28</td>\n",
       "      <td>585872.0</td>\n",
       "      <td>146.642857</td>\n",
       "      <td>5375.000000</td>\n",
       "    </tr>\n",
       "    <tr>\n",
       "      <th>28</th>\n",
       "      <td>2021-01-29</td>\n",
       "      <td>383079.0</td>\n",
       "      <td>187.000000</td>\n",
       "      <td>2049.000000</td>\n",
       "    </tr>\n",
       "    <tr>\n",
       "      <th>29</th>\n",
       "      <td>2021-01-30</td>\n",
       "      <td>566339.0</td>\n",
       "      <td>114.000000</td>\n",
       "      <td>4968.000000</td>\n",
       "    </tr>\n",
       "    <tr>\n",
       "      <th>30</th>\n",
       "      <td>2021-01-31</td>\n",
       "      <td>564572.0</td>\n",
       "      <td>183.000000</td>\n",
       "      <td>3085.000000</td>\n",
       "    </tr>\n",
       "  </tbody>\n",
       "</table>\n",
       "</div>"
      ],
      "text/plain": [
       "           日付      売り上げ          客数          客単価\n",
       "0  2021-01-01  549342.0  125.000000  4395.000000\n",
       "1  2021-01-02  577869.0  150.000000  3852.000000\n",
       "2  2021-01-03  328030.0  184.000000  1783.000000\n",
       "3  2021-01-04  317730.0  156.000000  2037.000000\n",
       "4  2021-01-05  492476.0  149.000000  3400.428571\n",
       "5  2021-01-06  494278.0  112.000000  4413.000000\n",
       "6  2021-01-07  446449.0  146.642857  3783.000000\n",
       "7  2021-01-08  429130.0  181.000000  2371.000000\n",
       "8  2021-01-09  346203.0  101.000000  3400.428571\n",
       "9  2021-01-10  463450.0  151.000000  3446.000000\n",
       "10 2021-01-11  453313.0  144.000000  3148.000000\n",
       "11 2021-01-12  365632.0  148.000000  2470.000000\n",
       "12 2021-01-13  549903.0  156.000000  3525.000000\n",
       "13 2021-01-14  463450.0  191.000000  2193.000000\n",
       "14 2021-01-15  371200.0  149.000000  2491.000000\n",
       "15 2021-01-16  464782.0  186.000000  2499.000000\n",
       "16 2021-01-17  496719.0  103.000000  4823.000000\n",
       "17 2021-01-18  532857.0  146.642857  3191.000000\n",
       "18 2021-01-19  335662.0  111.000000  3024.000000\n",
       "19 2021-01-20  527748.0  121.000000  4362.000000\n",
       "20 2021-01-21  430256.0  189.000000  3400.428571\n",
       "21 2021-01-22  457698.0  198.000000  2312.000000\n",
       "22 2021-01-23  545799.0  103.000000  5299.000000\n",
       "23 2021-01-24  514338.0  111.000000  4634.000000\n",
       "24 2021-01-25  330255.0  103.000000  3206.000000\n",
       "25 2021-01-26  463450.0  194.000000  1581.000000\n",
       "26 2021-01-27  519069.0  106.000000  4897.000000\n",
       "27 2021-01-28  585872.0  146.642857  5375.000000\n",
       "28 2021-01-29  383079.0  187.000000  2049.000000\n",
       "29 2021-01-30  566339.0  114.000000  4968.000000\n",
       "30 2021-01-31  564572.0  183.000000  3085.000000"
      ]
     },
     "execution_count": 327,
     "metadata": {},
     "output_type": "execute_result"
    }
   ],
   "source": [
    "fill_mean_df = df.fillna(df.mean())\n",
    "fill_mean_df"
   ]
  },
  {
   "cell_type": "code",
   "execution_count": 329,
   "id": "70158d7f-9bf0-41c2-9613-a67e8459dc90",
   "metadata": {},
   "outputs": [
    {
     "data": {
      "text/html": [
       "<div>\n",
       "<style scoped>\n",
       "    .dataframe tbody tr th:only-of-type {\n",
       "        vertical-align: middle;\n",
       "    }\n",
       "\n",
       "    .dataframe tbody tr th {\n",
       "        vertical-align: top;\n",
       "    }\n",
       "\n",
       "    .dataframe thead th {\n",
       "        text-align: right;\n",
       "    }\n",
       "</style>\n",
       "<table border=\"1\" class=\"dataframe\">\n",
       "  <thead>\n",
       "    <tr style=\"text-align: right;\">\n",
       "      <th></th>\n",
       "      <th>日付</th>\n",
       "      <th>売り上げ</th>\n",
       "      <th>客数</th>\n",
       "      <th>客単価</th>\n",
       "    </tr>\n",
       "  </thead>\n",
       "  <tbody>\n",
       "    <tr>\n",
       "      <th>0</th>\n",
       "      <td>2021-01-01</td>\n",
       "      <td>549342.0</td>\n",
       "      <td>125.0</td>\n",
       "      <td>4395.0</td>\n",
       "    </tr>\n",
       "    <tr>\n",
       "      <th>1</th>\n",
       "      <td>2021-01-02</td>\n",
       "      <td>577869.0</td>\n",
       "      <td>150.0</td>\n",
       "      <td>3852.0</td>\n",
       "    </tr>\n",
       "    <tr>\n",
       "      <th>2</th>\n",
       "      <td>2021-01-03</td>\n",
       "      <td>328030.0</td>\n",
       "      <td>184.0</td>\n",
       "      <td>1783.0</td>\n",
       "    </tr>\n",
       "    <tr>\n",
       "      <th>3</th>\n",
       "      <td>2021-01-04</td>\n",
       "      <td>317730.0</td>\n",
       "      <td>156.0</td>\n",
       "      <td>2037.0</td>\n",
       "    </tr>\n",
       "    <tr>\n",
       "      <th>4</th>\n",
       "      <td>2021-01-05</td>\n",
       "      <td>492476.0</td>\n",
       "      <td>149.0</td>\n",
       "      <td>1581.0</td>\n",
       "    </tr>\n",
       "    <tr>\n",
       "      <th>5</th>\n",
       "      <td>2021-01-06</td>\n",
       "      <td>494278.0</td>\n",
       "      <td>112.0</td>\n",
       "      <td>4413.0</td>\n",
       "    </tr>\n",
       "    <tr>\n",
       "      <th>6</th>\n",
       "      <td>2021-01-07</td>\n",
       "      <td>446449.0</td>\n",
       "      <td>103.0</td>\n",
       "      <td>3783.0</td>\n",
       "    </tr>\n",
       "    <tr>\n",
       "      <th>7</th>\n",
       "      <td>2021-01-08</td>\n",
       "      <td>429130.0</td>\n",
       "      <td>181.0</td>\n",
       "      <td>2371.0</td>\n",
       "    </tr>\n",
       "    <tr>\n",
       "      <th>8</th>\n",
       "      <td>2021-01-09</td>\n",
       "      <td>346203.0</td>\n",
       "      <td>101.0</td>\n",
       "      <td>1581.0</td>\n",
       "    </tr>\n",
       "    <tr>\n",
       "      <th>9</th>\n",
       "      <td>2021-01-10</td>\n",
       "      <td>317730.0</td>\n",
       "      <td>151.0</td>\n",
       "      <td>3446.0</td>\n",
       "    </tr>\n",
       "    <tr>\n",
       "      <th>10</th>\n",
       "      <td>2021-01-11</td>\n",
       "      <td>453313.0</td>\n",
       "      <td>144.0</td>\n",
       "      <td>3148.0</td>\n",
       "    </tr>\n",
       "    <tr>\n",
       "      <th>11</th>\n",
       "      <td>2021-01-12</td>\n",
       "      <td>365632.0</td>\n",
       "      <td>148.0</td>\n",
       "      <td>2470.0</td>\n",
       "    </tr>\n",
       "    <tr>\n",
       "      <th>12</th>\n",
       "      <td>2021-01-13</td>\n",
       "      <td>549903.0</td>\n",
       "      <td>156.0</td>\n",
       "      <td>3525.0</td>\n",
       "    </tr>\n",
       "    <tr>\n",
       "      <th>13</th>\n",
       "      <td>2021-01-14</td>\n",
       "      <td>317730.0</td>\n",
       "      <td>191.0</td>\n",
       "      <td>2193.0</td>\n",
       "    </tr>\n",
       "    <tr>\n",
       "      <th>14</th>\n",
       "      <td>2021-01-15</td>\n",
       "      <td>371200.0</td>\n",
       "      <td>149.0</td>\n",
       "      <td>2491.0</td>\n",
       "    </tr>\n",
       "    <tr>\n",
       "      <th>15</th>\n",
       "      <td>2021-01-16</td>\n",
       "      <td>464782.0</td>\n",
       "      <td>186.0</td>\n",
       "      <td>2499.0</td>\n",
       "    </tr>\n",
       "    <tr>\n",
       "      <th>16</th>\n",
       "      <td>2021-01-17</td>\n",
       "      <td>496719.0</td>\n",
       "      <td>103.0</td>\n",
       "      <td>4823.0</td>\n",
       "    </tr>\n",
       "    <tr>\n",
       "      <th>17</th>\n",
       "      <td>2021-01-18</td>\n",
       "      <td>532857.0</td>\n",
       "      <td>103.0</td>\n",
       "      <td>3191.0</td>\n",
       "    </tr>\n",
       "    <tr>\n",
       "      <th>18</th>\n",
       "      <td>2021-01-19</td>\n",
       "      <td>335662.0</td>\n",
       "      <td>111.0</td>\n",
       "      <td>3024.0</td>\n",
       "    </tr>\n",
       "    <tr>\n",
       "      <th>19</th>\n",
       "      <td>2021-01-20</td>\n",
       "      <td>527748.0</td>\n",
       "      <td>121.0</td>\n",
       "      <td>4362.0</td>\n",
       "    </tr>\n",
       "    <tr>\n",
       "      <th>20</th>\n",
       "      <td>2021-01-21</td>\n",
       "      <td>430256.0</td>\n",
       "      <td>189.0</td>\n",
       "      <td>1581.0</td>\n",
       "    </tr>\n",
       "    <tr>\n",
       "      <th>21</th>\n",
       "      <td>2021-01-22</td>\n",
       "      <td>457698.0</td>\n",
       "      <td>198.0</td>\n",
       "      <td>2312.0</td>\n",
       "    </tr>\n",
       "    <tr>\n",
       "      <th>22</th>\n",
       "      <td>2021-01-23</td>\n",
       "      <td>545799.0</td>\n",
       "      <td>103.0</td>\n",
       "      <td>5299.0</td>\n",
       "    </tr>\n",
       "    <tr>\n",
       "      <th>23</th>\n",
       "      <td>2021-01-24</td>\n",
       "      <td>514338.0</td>\n",
       "      <td>111.0</td>\n",
       "      <td>4634.0</td>\n",
       "    </tr>\n",
       "    <tr>\n",
       "      <th>24</th>\n",
       "      <td>2021-01-25</td>\n",
       "      <td>330255.0</td>\n",
       "      <td>103.0</td>\n",
       "      <td>3206.0</td>\n",
       "    </tr>\n",
       "    <tr>\n",
       "      <th>25</th>\n",
       "      <td>2021-01-26</td>\n",
       "      <td>317730.0</td>\n",
       "      <td>194.0</td>\n",
       "      <td>1581.0</td>\n",
       "    </tr>\n",
       "    <tr>\n",
       "      <th>26</th>\n",
       "      <td>2021-01-27</td>\n",
       "      <td>519069.0</td>\n",
       "      <td>106.0</td>\n",
       "      <td>4897.0</td>\n",
       "    </tr>\n",
       "    <tr>\n",
       "      <th>27</th>\n",
       "      <td>2021-01-28</td>\n",
       "      <td>585872.0</td>\n",
       "      <td>103.0</td>\n",
       "      <td>5375.0</td>\n",
       "    </tr>\n",
       "    <tr>\n",
       "      <th>28</th>\n",
       "      <td>2021-01-29</td>\n",
       "      <td>383079.0</td>\n",
       "      <td>187.0</td>\n",
       "      <td>2049.0</td>\n",
       "    </tr>\n",
       "    <tr>\n",
       "      <th>29</th>\n",
       "      <td>2021-01-30</td>\n",
       "      <td>566339.0</td>\n",
       "      <td>114.0</td>\n",
       "      <td>4968.0</td>\n",
       "    </tr>\n",
       "    <tr>\n",
       "      <th>30</th>\n",
       "      <td>2021-01-31</td>\n",
       "      <td>564572.0</td>\n",
       "      <td>183.0</td>\n",
       "      <td>3085.0</td>\n",
       "    </tr>\n",
       "  </tbody>\n",
       "</table>\n",
       "</div>"
      ],
      "text/plain": [
       "           日付      売り上げ     客数     客単価\n",
       "0  2021-01-01  549342.0  125.0  4395.0\n",
       "1  2021-01-02  577869.0  150.0  3852.0\n",
       "2  2021-01-03  328030.0  184.0  1783.0\n",
       "3  2021-01-04  317730.0  156.0  2037.0\n",
       "4  2021-01-05  492476.0  149.0  1581.0\n",
       "5  2021-01-06  494278.0  112.0  4413.0\n",
       "6  2021-01-07  446449.0  103.0  3783.0\n",
       "7  2021-01-08  429130.0  181.0  2371.0\n",
       "8  2021-01-09  346203.0  101.0  1581.0\n",
       "9  2021-01-10  317730.0  151.0  3446.0\n",
       "10 2021-01-11  453313.0  144.0  3148.0\n",
       "11 2021-01-12  365632.0  148.0  2470.0\n",
       "12 2021-01-13  549903.0  156.0  3525.0\n",
       "13 2021-01-14  317730.0  191.0  2193.0\n",
       "14 2021-01-15  371200.0  149.0  2491.0\n",
       "15 2021-01-16  464782.0  186.0  2499.0\n",
       "16 2021-01-17  496719.0  103.0  4823.0\n",
       "17 2021-01-18  532857.0  103.0  3191.0\n",
       "18 2021-01-19  335662.0  111.0  3024.0\n",
       "19 2021-01-20  527748.0  121.0  4362.0\n",
       "20 2021-01-21  430256.0  189.0  1581.0\n",
       "21 2021-01-22  457698.0  198.0  2312.0\n",
       "22 2021-01-23  545799.0  103.0  5299.0\n",
       "23 2021-01-24  514338.0  111.0  4634.0\n",
       "24 2021-01-25  330255.0  103.0  3206.0\n",
       "25 2021-01-26  317730.0  194.0  1581.0\n",
       "26 2021-01-27  519069.0  106.0  4897.0\n",
       "27 2021-01-28  585872.0  103.0  5375.0\n",
       "28 2021-01-29  383079.0  187.0  2049.0\n",
       "29 2021-01-30  566339.0  114.0  4968.0\n",
       "30 2021-01-31  564572.0  183.0  3085.0"
      ]
     },
     "execution_count": 329,
     "metadata": {},
     "output_type": "execute_result"
    }
   ],
   "source": [
    "fill_freq_df = df.fillna(df.mode().iloc[0, :])\n",
    "fill_freq_df"
   ]
  },
  {
   "cell_type": "markdown",
   "id": "e17c2a47-fef0-421a-9f08-a0e12b6934db",
   "metadata": {},
   "source": [
    "# pandas data merge "
   ]
  },
  {
   "cell_type": "code",
   "execution_count": 330,
   "id": "8502f97b-1f5d-43da-b259-25b1110fd494",
   "metadata": {},
   "outputs": [],
   "source": [
    "sales_df = pd.read_csv(\"data/pandas_task/sales_data.csv\", index_col=\"日付\", parse_dates=True)\n",
    "weather_df = pd.read_csv(\"data/pandas_task/weather_data.csv\", index_col=\"日付\", parse_dates=True)\n",
    "february_df = pd.read_csv(\"data/pandas_task/february_data.csv\", index_col=\"日付\", parse_dates=True)"
   ]
  },
  {
   "cell_type": "code",
   "execution_count": 335,
   "id": "df5cce54-7bac-4d14-bb98-7c29f375b273",
   "metadata": {},
   "outputs": [
    {
     "data": {
      "text/html": [
       "<div>\n",
       "<style scoped>\n",
       "    .dataframe tbody tr th:only-of-type {\n",
       "        vertical-align: middle;\n",
       "    }\n",
       "\n",
       "    .dataframe tbody tr th {\n",
       "        vertical-align: top;\n",
       "    }\n",
       "\n",
       "    .dataframe thead th {\n",
       "        text-align: right;\n",
       "    }\n",
       "</style>\n",
       "<table border=\"1\" class=\"dataframe\">\n",
       "  <thead>\n",
       "    <tr style=\"text-align: right;\">\n",
       "      <th></th>\n",
       "      <th>気温</th>\n",
       "      <th>天気</th>\n",
       "    </tr>\n",
       "    <tr>\n",
       "      <th>日付</th>\n",
       "      <th></th>\n",
       "      <th></th>\n",
       "    </tr>\n",
       "  </thead>\n",
       "  <tbody>\n",
       "    <tr>\n",
       "      <th>2021-01-01</th>\n",
       "      <td>22</td>\n",
       "      <td>曇</td>\n",
       "    </tr>\n",
       "    <tr>\n",
       "      <th>2021-01-02</th>\n",
       "      <td>20</td>\n",
       "      <td>晴</td>\n",
       "    </tr>\n",
       "    <tr>\n",
       "      <th>2021-01-03</th>\n",
       "      <td>23</td>\n",
       "      <td>雨</td>\n",
       "    </tr>\n",
       "    <tr>\n",
       "      <th>2021-01-04</th>\n",
       "      <td>23</td>\n",
       "      <td>曇</td>\n",
       "    </tr>\n",
       "    <tr>\n",
       "      <th>2021-01-05</th>\n",
       "      <td>18</td>\n",
       "      <td>雨</td>\n",
       "    </tr>\n",
       "    <tr>\n",
       "      <th>2021-01-06</th>\n",
       "      <td>15</td>\n",
       "      <td>晴</td>\n",
       "    </tr>\n",
       "    <tr>\n",
       "      <th>2021-01-07</th>\n",
       "      <td>15</td>\n",
       "      <td>曇</td>\n",
       "    </tr>\n",
       "    <tr>\n",
       "      <th>2021-01-08</th>\n",
       "      <td>22</td>\n",
       "      <td>晴</td>\n",
       "    </tr>\n",
       "    <tr>\n",
       "      <th>2021-01-09</th>\n",
       "      <td>17</td>\n",
       "      <td>晴</td>\n",
       "    </tr>\n",
       "    <tr>\n",
       "      <th>2021-01-10</th>\n",
       "      <td>18</td>\n",
       "      <td>晴</td>\n",
       "    </tr>\n",
       "    <tr>\n",
       "      <th>2021-01-11</th>\n",
       "      <td>19</td>\n",
       "      <td>晴</td>\n",
       "    </tr>\n",
       "    <tr>\n",
       "      <th>2021-01-12</th>\n",
       "      <td>23</td>\n",
       "      <td>雨</td>\n",
       "    </tr>\n",
       "    <tr>\n",
       "      <th>2021-01-13</th>\n",
       "      <td>18</td>\n",
       "      <td>雨</td>\n",
       "    </tr>\n",
       "    <tr>\n",
       "      <th>2021-01-14</th>\n",
       "      <td>21</td>\n",
       "      <td>晴</td>\n",
       "    </tr>\n",
       "    <tr>\n",
       "      <th>2021-01-15</th>\n",
       "      <td>16</td>\n",
       "      <td>曇</td>\n",
       "    </tr>\n",
       "    <tr>\n",
       "      <th>2021-01-16</th>\n",
       "      <td>16</td>\n",
       "      <td>曇</td>\n",
       "    </tr>\n",
       "    <tr>\n",
       "      <th>2021-01-17</th>\n",
       "      <td>16</td>\n",
       "      <td>雨</td>\n",
       "    </tr>\n",
       "    <tr>\n",
       "      <th>2021-01-18</th>\n",
       "      <td>22</td>\n",
       "      <td>雨</td>\n",
       "    </tr>\n",
       "    <tr>\n",
       "      <th>2021-01-19</th>\n",
       "      <td>23</td>\n",
       "      <td>晴</td>\n",
       "    </tr>\n",
       "    <tr>\n",
       "      <th>2021-01-20</th>\n",
       "      <td>15</td>\n",
       "      <td>雨</td>\n",
       "    </tr>\n",
       "    <tr>\n",
       "      <th>2021-01-21</th>\n",
       "      <td>17</td>\n",
       "      <td>晴</td>\n",
       "    </tr>\n",
       "    <tr>\n",
       "      <th>2021-01-22</th>\n",
       "      <td>15</td>\n",
       "      <td>晴</td>\n",
       "    </tr>\n",
       "    <tr>\n",
       "      <th>2021-01-23</th>\n",
       "      <td>15</td>\n",
       "      <td>曇</td>\n",
       "    </tr>\n",
       "    <tr>\n",
       "      <th>2021-01-24</th>\n",
       "      <td>20</td>\n",
       "      <td>雨</td>\n",
       "    </tr>\n",
       "    <tr>\n",
       "      <th>2021-01-25</th>\n",
       "      <td>24</td>\n",
       "      <td>雨</td>\n",
       "    </tr>\n",
       "    <tr>\n",
       "      <th>2021-01-26</th>\n",
       "      <td>24</td>\n",
       "      <td>雨</td>\n",
       "    </tr>\n",
       "    <tr>\n",
       "      <th>2021-01-27</th>\n",
       "      <td>23</td>\n",
       "      <td>晴</td>\n",
       "    </tr>\n",
       "    <tr>\n",
       "      <th>2021-01-28</th>\n",
       "      <td>21</td>\n",
       "      <td>雨</td>\n",
       "    </tr>\n",
       "    <tr>\n",
       "      <th>2021-01-29</th>\n",
       "      <td>19</td>\n",
       "      <td>晴</td>\n",
       "    </tr>\n",
       "    <tr>\n",
       "      <th>2021-01-30</th>\n",
       "      <td>15</td>\n",
       "      <td>晴</td>\n",
       "    </tr>\n",
       "    <tr>\n",
       "      <th>2021-01-31</th>\n",
       "      <td>23</td>\n",
       "      <td>曇</td>\n",
       "    </tr>\n",
       "  </tbody>\n",
       "</table>\n",
       "</div>"
      ],
      "text/plain": [
       "            気温 天気\n",
       "日付               \n",
       "2021-01-01  22  曇\n",
       "2021-01-02  20  晴\n",
       "2021-01-03  23  雨\n",
       "2021-01-04  23  曇\n",
       "2021-01-05  18  雨\n",
       "2021-01-06  15  晴\n",
       "2021-01-07  15  曇\n",
       "2021-01-08  22  晴\n",
       "2021-01-09  17  晴\n",
       "2021-01-10  18  晴\n",
       "2021-01-11  19  晴\n",
       "2021-01-12  23  雨\n",
       "2021-01-13  18  雨\n",
       "2021-01-14  21  晴\n",
       "2021-01-15  16  曇\n",
       "2021-01-16  16  曇\n",
       "2021-01-17  16  雨\n",
       "2021-01-18  22  雨\n",
       "2021-01-19  23  晴\n",
       "2021-01-20  15  雨\n",
       "2021-01-21  17  晴\n",
       "2021-01-22  15  晴\n",
       "2021-01-23  15  曇\n",
       "2021-01-24  20  雨\n",
       "2021-01-25  24  雨\n",
       "2021-01-26  24  雨\n",
       "2021-01-27  23  晴\n",
       "2021-01-28  21  雨\n",
       "2021-01-29  19  晴\n",
       "2021-01-30  15  晴\n",
       "2021-01-31  23  曇"
      ]
     },
     "execution_count": 335,
     "metadata": {},
     "output_type": "execute_result"
    }
   ],
   "source": [
    "weather_df"
   ]
  },
  {
   "cell_type": "code",
   "execution_count": 336,
   "id": "01e32a9e-de35-435f-87a2-e39c407b4b68",
   "metadata": {},
   "outputs": [
    {
     "data": {
      "text/html": [
       "<div>\n",
       "<style scoped>\n",
       "    .dataframe tbody tr th:only-of-type {\n",
       "        vertical-align: middle;\n",
       "    }\n",
       "\n",
       "    .dataframe tbody tr th {\n",
       "        vertical-align: top;\n",
       "    }\n",
       "\n",
       "    .dataframe thead th {\n",
       "        text-align: right;\n",
       "    }\n",
       "</style>\n",
       "<table border=\"1\" class=\"dataframe\">\n",
       "  <thead>\n",
       "    <tr style=\"text-align: right;\">\n",
       "      <th></th>\n",
       "      <th>売り上げ</th>\n",
       "      <th>客数</th>\n",
       "      <th>客単価</th>\n",
       "      <th>気温</th>\n",
       "      <th>天気</th>\n",
       "    </tr>\n",
       "    <tr>\n",
       "      <th>日付</th>\n",
       "      <th></th>\n",
       "      <th></th>\n",
       "      <th></th>\n",
       "      <th></th>\n",
       "      <th></th>\n",
       "    </tr>\n",
       "  </thead>\n",
       "  <tbody>\n",
       "    <tr>\n",
       "      <th>2021-01-01</th>\n",
       "      <td>549342</td>\n",
       "      <td>125</td>\n",
       "      <td>4395</td>\n",
       "      <td>22</td>\n",
       "      <td>曇</td>\n",
       "    </tr>\n",
       "    <tr>\n",
       "      <th>2021-01-02</th>\n",
       "      <td>577869</td>\n",
       "      <td>150</td>\n",
       "      <td>3852</td>\n",
       "      <td>20</td>\n",
       "      <td>晴</td>\n",
       "    </tr>\n",
       "    <tr>\n",
       "      <th>2021-01-03</th>\n",
       "      <td>328030</td>\n",
       "      <td>184</td>\n",
       "      <td>1783</td>\n",
       "      <td>23</td>\n",
       "      <td>雨</td>\n",
       "    </tr>\n",
       "    <tr>\n",
       "      <th>2021-01-04</th>\n",
       "      <td>317730</td>\n",
       "      <td>156</td>\n",
       "      <td>2037</td>\n",
       "      <td>23</td>\n",
       "      <td>曇</td>\n",
       "    </tr>\n",
       "    <tr>\n",
       "      <th>2021-01-05</th>\n",
       "      <td>492476</td>\n",
       "      <td>149</td>\n",
       "      <td>3305</td>\n",
       "      <td>18</td>\n",
       "      <td>雨</td>\n",
       "    </tr>\n",
       "    <tr>\n",
       "      <th>2021-01-06</th>\n",
       "      <td>494278</td>\n",
       "      <td>112</td>\n",
       "      <td>4413</td>\n",
       "      <td>15</td>\n",
       "      <td>晴</td>\n",
       "    </tr>\n",
       "    <tr>\n",
       "      <th>2021-01-07</th>\n",
       "      <td>446449</td>\n",
       "      <td>118</td>\n",
       "      <td>3783</td>\n",
       "      <td>15</td>\n",
       "      <td>曇</td>\n",
       "    </tr>\n",
       "    <tr>\n",
       "      <th>2021-01-08</th>\n",
       "      <td>429130</td>\n",
       "      <td>181</td>\n",
       "      <td>2371</td>\n",
       "      <td>22</td>\n",
       "      <td>晴</td>\n",
       "    </tr>\n",
       "    <tr>\n",
       "      <th>2021-01-09</th>\n",
       "      <td>346203</td>\n",
       "      <td>101</td>\n",
       "      <td>3428</td>\n",
       "      <td>17</td>\n",
       "      <td>晴</td>\n",
       "    </tr>\n",
       "    <tr>\n",
       "      <th>2021-01-10</th>\n",
       "      <td>520374</td>\n",
       "      <td>151</td>\n",
       "      <td>3446</td>\n",
       "      <td>18</td>\n",
       "      <td>晴</td>\n",
       "    </tr>\n",
       "    <tr>\n",
       "      <th>2021-01-11</th>\n",
       "      <td>453313</td>\n",
       "      <td>144</td>\n",
       "      <td>3148</td>\n",
       "      <td>19</td>\n",
       "      <td>晴</td>\n",
       "    </tr>\n",
       "    <tr>\n",
       "      <th>2021-01-12</th>\n",
       "      <td>365632</td>\n",
       "      <td>148</td>\n",
       "      <td>2470</td>\n",
       "      <td>23</td>\n",
       "      <td>雨</td>\n",
       "    </tr>\n",
       "    <tr>\n",
       "      <th>2021-01-13</th>\n",
       "      <td>549903</td>\n",
       "      <td>156</td>\n",
       "      <td>3525</td>\n",
       "      <td>18</td>\n",
       "      <td>雨</td>\n",
       "    </tr>\n",
       "    <tr>\n",
       "      <th>2021-01-14</th>\n",
       "      <td>418857</td>\n",
       "      <td>191</td>\n",
       "      <td>2193</td>\n",
       "      <td>21</td>\n",
       "      <td>晴</td>\n",
       "    </tr>\n",
       "    <tr>\n",
       "      <th>2021-01-15</th>\n",
       "      <td>371200</td>\n",
       "      <td>149</td>\n",
       "      <td>2491</td>\n",
       "      <td>16</td>\n",
       "      <td>曇</td>\n",
       "    </tr>\n",
       "    <tr>\n",
       "      <th>2021-01-16</th>\n",
       "      <td>464782</td>\n",
       "      <td>186</td>\n",
       "      <td>2499</td>\n",
       "      <td>16</td>\n",
       "      <td>曇</td>\n",
       "    </tr>\n",
       "    <tr>\n",
       "      <th>2021-01-17</th>\n",
       "      <td>496719</td>\n",
       "      <td>103</td>\n",
       "      <td>4823</td>\n",
       "      <td>16</td>\n",
       "      <td>雨</td>\n",
       "    </tr>\n",
       "    <tr>\n",
       "      <th>2021-01-18</th>\n",
       "      <td>532857</td>\n",
       "      <td>167</td>\n",
       "      <td>3191</td>\n",
       "      <td>22</td>\n",
       "      <td>雨</td>\n",
       "    </tr>\n",
       "    <tr>\n",
       "      <th>2021-01-19</th>\n",
       "      <td>335662</td>\n",
       "      <td>111</td>\n",
       "      <td>3024</td>\n",
       "      <td>23</td>\n",
       "      <td>晴</td>\n",
       "    </tr>\n",
       "    <tr>\n",
       "      <th>2021-01-20</th>\n",
       "      <td>527748</td>\n",
       "      <td>121</td>\n",
       "      <td>4362</td>\n",
       "      <td>15</td>\n",
       "      <td>雨</td>\n",
       "    </tr>\n",
       "    <tr>\n",
       "      <th>2021-01-21</th>\n",
       "      <td>430256</td>\n",
       "      <td>189</td>\n",
       "      <td>2276</td>\n",
       "      <td>17</td>\n",
       "      <td>晴</td>\n",
       "    </tr>\n",
       "    <tr>\n",
       "      <th>2021-01-22</th>\n",
       "      <td>457698</td>\n",
       "      <td>198</td>\n",
       "      <td>2312</td>\n",
       "      <td>15</td>\n",
       "      <td>晴</td>\n",
       "    </tr>\n",
       "    <tr>\n",
       "      <th>2021-01-23</th>\n",
       "      <td>545799</td>\n",
       "      <td>103</td>\n",
       "      <td>5299</td>\n",
       "      <td>15</td>\n",
       "      <td>曇</td>\n",
       "    </tr>\n",
       "    <tr>\n",
       "      <th>2021-01-24</th>\n",
       "      <td>514338</td>\n",
       "      <td>111</td>\n",
       "      <td>4634</td>\n",
       "      <td>20</td>\n",
       "      <td>雨</td>\n",
       "    </tr>\n",
       "    <tr>\n",
       "      <th>2021-01-25</th>\n",
       "      <td>330255</td>\n",
       "      <td>103</td>\n",
       "      <td>3206</td>\n",
       "      <td>24</td>\n",
       "      <td>雨</td>\n",
       "    </tr>\n",
       "    <tr>\n",
       "      <th>2021-01-26</th>\n",
       "      <td>306648</td>\n",
       "      <td>194</td>\n",
       "      <td>1581</td>\n",
       "      <td>24</td>\n",
       "      <td>雨</td>\n",
       "    </tr>\n",
       "    <tr>\n",
       "      <th>2021-01-27</th>\n",
       "      <td>519069</td>\n",
       "      <td>106</td>\n",
       "      <td>4897</td>\n",
       "      <td>23</td>\n",
       "      <td>晴</td>\n",
       "    </tr>\n",
       "    <tr>\n",
       "      <th>2021-01-28</th>\n",
       "      <td>585872</td>\n",
       "      <td>109</td>\n",
       "      <td>5375</td>\n",
       "      <td>21</td>\n",
       "      <td>雨</td>\n",
       "    </tr>\n",
       "    <tr>\n",
       "      <th>2021-01-29</th>\n",
       "      <td>383079</td>\n",
       "      <td>187</td>\n",
       "      <td>2049</td>\n",
       "      <td>19</td>\n",
       "      <td>晴</td>\n",
       "    </tr>\n",
       "    <tr>\n",
       "      <th>2021-01-30</th>\n",
       "      <td>566339</td>\n",
       "      <td>114</td>\n",
       "      <td>4968</td>\n",
       "      <td>15</td>\n",
       "      <td>晴</td>\n",
       "    </tr>\n",
       "    <tr>\n",
       "      <th>2021-01-31</th>\n",
       "      <td>564572</td>\n",
       "      <td>183</td>\n",
       "      <td>3085</td>\n",
       "      <td>23</td>\n",
       "      <td>曇</td>\n",
       "    </tr>\n",
       "  </tbody>\n",
       "</table>\n",
       "</div>"
      ],
      "text/plain": [
       "              売り上げ   客数   客単価  気温 天気\n",
       "日付                                  \n",
       "2021-01-01  549342  125  4395  22  曇\n",
       "2021-01-02  577869  150  3852  20  晴\n",
       "2021-01-03  328030  184  1783  23  雨\n",
       "2021-01-04  317730  156  2037  23  曇\n",
       "2021-01-05  492476  149  3305  18  雨\n",
       "2021-01-06  494278  112  4413  15  晴\n",
       "2021-01-07  446449  118  3783  15  曇\n",
       "2021-01-08  429130  181  2371  22  晴\n",
       "2021-01-09  346203  101  3428  17  晴\n",
       "2021-01-10  520374  151  3446  18  晴\n",
       "2021-01-11  453313  144  3148  19  晴\n",
       "2021-01-12  365632  148  2470  23  雨\n",
       "2021-01-13  549903  156  3525  18  雨\n",
       "2021-01-14  418857  191  2193  21  晴\n",
       "2021-01-15  371200  149  2491  16  曇\n",
       "2021-01-16  464782  186  2499  16  曇\n",
       "2021-01-17  496719  103  4823  16  雨\n",
       "2021-01-18  532857  167  3191  22  雨\n",
       "2021-01-19  335662  111  3024  23  晴\n",
       "2021-01-20  527748  121  4362  15  雨\n",
       "2021-01-21  430256  189  2276  17  晴\n",
       "2021-01-22  457698  198  2312  15  晴\n",
       "2021-01-23  545799  103  5299  15  曇\n",
       "2021-01-24  514338  111  4634  20  雨\n",
       "2021-01-25  330255  103  3206  24  雨\n",
       "2021-01-26  306648  194  1581  24  雨\n",
       "2021-01-27  519069  106  4897  23  晴\n",
       "2021-01-28  585872  109  5375  21  雨\n",
       "2021-01-29  383079  187  2049  19  晴\n",
       "2021-01-30  566339  114  4968  15  晴\n",
       "2021-01-31  564572  183  3085  23  曇"
      ]
     },
     "execution_count": 336,
     "metadata": {},
     "output_type": "execute_result"
    }
   ],
   "source": [
    "df = pd.concat([sales_df, weather_df], axis=1)\n",
    "df"
   ]
  },
  {
   "cell_type": "code",
   "execution_count": 337,
   "id": "ad5bb3b1-29c9-43d7-bb2e-4068890a319a",
   "metadata": {},
   "outputs": [
    {
     "data": {
      "text/html": [
       "<div>\n",
       "<style scoped>\n",
       "    .dataframe tbody tr th:only-of-type {\n",
       "        vertical-align: middle;\n",
       "    }\n",
       "\n",
       "    .dataframe tbody tr th {\n",
       "        vertical-align: top;\n",
       "    }\n",
       "\n",
       "    .dataframe thead th {\n",
       "        text-align: right;\n",
       "    }\n",
       "</style>\n",
       "<table border=\"1\" class=\"dataframe\">\n",
       "  <thead>\n",
       "    <tr style=\"text-align: right;\">\n",
       "      <th></th>\n",
       "      <th>売り上げ</th>\n",
       "      <th>客数</th>\n",
       "      <th>客単価</th>\n",
       "      <th>気温</th>\n",
       "      <th>天気</th>\n",
       "    </tr>\n",
       "    <tr>\n",
       "      <th>日付</th>\n",
       "      <th></th>\n",
       "      <th></th>\n",
       "      <th></th>\n",
       "      <th></th>\n",
       "      <th></th>\n",
       "    </tr>\n",
       "  </thead>\n",
       "  <tbody>\n",
       "    <tr>\n",
       "      <th>2021-01-01</th>\n",
       "      <td>549342</td>\n",
       "      <td>125</td>\n",
       "      <td>4395</td>\n",
       "      <td>22</td>\n",
       "      <td>曇</td>\n",
       "    </tr>\n",
       "    <tr>\n",
       "      <th>2021-01-02</th>\n",
       "      <td>577869</td>\n",
       "      <td>150</td>\n",
       "      <td>3852</td>\n",
       "      <td>20</td>\n",
       "      <td>晴</td>\n",
       "    </tr>\n",
       "    <tr>\n",
       "      <th>2021-01-03</th>\n",
       "      <td>328030</td>\n",
       "      <td>184</td>\n",
       "      <td>1783</td>\n",
       "      <td>23</td>\n",
       "      <td>雨</td>\n",
       "    </tr>\n",
       "    <tr>\n",
       "      <th>2021-01-04</th>\n",
       "      <td>317730</td>\n",
       "      <td>156</td>\n",
       "      <td>2037</td>\n",
       "      <td>23</td>\n",
       "      <td>曇</td>\n",
       "    </tr>\n",
       "    <tr>\n",
       "      <th>2021-01-05</th>\n",
       "      <td>492476</td>\n",
       "      <td>149</td>\n",
       "      <td>3305</td>\n",
       "      <td>18</td>\n",
       "      <td>雨</td>\n",
       "    </tr>\n",
       "    <tr>\n",
       "      <th>2021-01-06</th>\n",
       "      <td>494278</td>\n",
       "      <td>112</td>\n",
       "      <td>4413</td>\n",
       "      <td>15</td>\n",
       "      <td>晴</td>\n",
       "    </tr>\n",
       "    <tr>\n",
       "      <th>2021-01-07</th>\n",
       "      <td>446449</td>\n",
       "      <td>118</td>\n",
       "      <td>3783</td>\n",
       "      <td>15</td>\n",
       "      <td>曇</td>\n",
       "    </tr>\n",
       "    <tr>\n",
       "      <th>2021-01-08</th>\n",
       "      <td>429130</td>\n",
       "      <td>181</td>\n",
       "      <td>2371</td>\n",
       "      <td>22</td>\n",
       "      <td>晴</td>\n",
       "    </tr>\n",
       "    <tr>\n",
       "      <th>2021-01-09</th>\n",
       "      <td>346203</td>\n",
       "      <td>101</td>\n",
       "      <td>3428</td>\n",
       "      <td>17</td>\n",
       "      <td>晴</td>\n",
       "    </tr>\n",
       "    <tr>\n",
       "      <th>2021-01-10</th>\n",
       "      <td>520374</td>\n",
       "      <td>151</td>\n",
       "      <td>3446</td>\n",
       "      <td>18</td>\n",
       "      <td>晴</td>\n",
       "    </tr>\n",
       "    <tr>\n",
       "      <th>2021-01-11</th>\n",
       "      <td>453313</td>\n",
       "      <td>144</td>\n",
       "      <td>3148</td>\n",
       "      <td>19</td>\n",
       "      <td>晴</td>\n",
       "    </tr>\n",
       "    <tr>\n",
       "      <th>2021-01-12</th>\n",
       "      <td>365632</td>\n",
       "      <td>148</td>\n",
       "      <td>2470</td>\n",
       "      <td>23</td>\n",
       "      <td>雨</td>\n",
       "    </tr>\n",
       "    <tr>\n",
       "      <th>2021-01-13</th>\n",
       "      <td>549903</td>\n",
       "      <td>156</td>\n",
       "      <td>3525</td>\n",
       "      <td>18</td>\n",
       "      <td>雨</td>\n",
       "    </tr>\n",
       "    <tr>\n",
       "      <th>2021-01-14</th>\n",
       "      <td>418857</td>\n",
       "      <td>191</td>\n",
       "      <td>2193</td>\n",
       "      <td>21</td>\n",
       "      <td>晴</td>\n",
       "    </tr>\n",
       "    <tr>\n",
       "      <th>2021-01-15</th>\n",
       "      <td>371200</td>\n",
       "      <td>149</td>\n",
       "      <td>2491</td>\n",
       "      <td>16</td>\n",
       "      <td>曇</td>\n",
       "    </tr>\n",
       "    <tr>\n",
       "      <th>2021-01-16</th>\n",
       "      <td>464782</td>\n",
       "      <td>186</td>\n",
       "      <td>2499</td>\n",
       "      <td>16</td>\n",
       "      <td>曇</td>\n",
       "    </tr>\n",
       "    <tr>\n",
       "      <th>2021-01-17</th>\n",
       "      <td>496719</td>\n",
       "      <td>103</td>\n",
       "      <td>4823</td>\n",
       "      <td>16</td>\n",
       "      <td>雨</td>\n",
       "    </tr>\n",
       "    <tr>\n",
       "      <th>2021-01-18</th>\n",
       "      <td>532857</td>\n",
       "      <td>167</td>\n",
       "      <td>3191</td>\n",
       "      <td>22</td>\n",
       "      <td>雨</td>\n",
       "    </tr>\n",
       "    <tr>\n",
       "      <th>2021-01-19</th>\n",
       "      <td>335662</td>\n",
       "      <td>111</td>\n",
       "      <td>3024</td>\n",
       "      <td>23</td>\n",
       "      <td>晴</td>\n",
       "    </tr>\n",
       "    <tr>\n",
       "      <th>2021-01-20</th>\n",
       "      <td>527748</td>\n",
       "      <td>121</td>\n",
       "      <td>4362</td>\n",
       "      <td>15</td>\n",
       "      <td>雨</td>\n",
       "    </tr>\n",
       "    <tr>\n",
       "      <th>2021-01-21</th>\n",
       "      <td>430256</td>\n",
       "      <td>189</td>\n",
       "      <td>2276</td>\n",
       "      <td>17</td>\n",
       "      <td>晴</td>\n",
       "    </tr>\n",
       "    <tr>\n",
       "      <th>2021-01-22</th>\n",
       "      <td>457698</td>\n",
       "      <td>198</td>\n",
       "      <td>2312</td>\n",
       "      <td>15</td>\n",
       "      <td>晴</td>\n",
       "    </tr>\n",
       "    <tr>\n",
       "      <th>2021-01-23</th>\n",
       "      <td>545799</td>\n",
       "      <td>103</td>\n",
       "      <td>5299</td>\n",
       "      <td>15</td>\n",
       "      <td>曇</td>\n",
       "    </tr>\n",
       "    <tr>\n",
       "      <th>2021-01-24</th>\n",
       "      <td>514338</td>\n",
       "      <td>111</td>\n",
       "      <td>4634</td>\n",
       "      <td>20</td>\n",
       "      <td>雨</td>\n",
       "    </tr>\n",
       "    <tr>\n",
       "      <th>2021-01-25</th>\n",
       "      <td>330255</td>\n",
       "      <td>103</td>\n",
       "      <td>3206</td>\n",
       "      <td>24</td>\n",
       "      <td>雨</td>\n",
       "    </tr>\n",
       "    <tr>\n",
       "      <th>2021-01-26</th>\n",
       "      <td>306648</td>\n",
       "      <td>194</td>\n",
       "      <td>1581</td>\n",
       "      <td>24</td>\n",
       "      <td>雨</td>\n",
       "    </tr>\n",
       "    <tr>\n",
       "      <th>2021-01-27</th>\n",
       "      <td>519069</td>\n",
       "      <td>106</td>\n",
       "      <td>4897</td>\n",
       "      <td>23</td>\n",
       "      <td>晴</td>\n",
       "    </tr>\n",
       "    <tr>\n",
       "      <th>2021-01-28</th>\n",
       "      <td>585872</td>\n",
       "      <td>109</td>\n",
       "      <td>5375</td>\n",
       "      <td>21</td>\n",
       "      <td>雨</td>\n",
       "    </tr>\n",
       "    <tr>\n",
       "      <th>2021-01-29</th>\n",
       "      <td>383079</td>\n",
       "      <td>187</td>\n",
       "      <td>2049</td>\n",
       "      <td>19</td>\n",
       "      <td>晴</td>\n",
       "    </tr>\n",
       "    <tr>\n",
       "      <th>2021-01-30</th>\n",
       "      <td>566339</td>\n",
       "      <td>114</td>\n",
       "      <td>4968</td>\n",
       "      <td>15</td>\n",
       "      <td>晴</td>\n",
       "    </tr>\n",
       "    <tr>\n",
       "      <th>2021-01-31</th>\n",
       "      <td>564572</td>\n",
       "      <td>183</td>\n",
       "      <td>3085</td>\n",
       "      <td>23</td>\n",
       "      <td>曇</td>\n",
       "    </tr>\n",
       "    <tr>\n",
       "      <th>2021-02-01</th>\n",
       "      <td>360547</td>\n",
       "      <td>127</td>\n",
       "      <td>2839</td>\n",
       "      <td>15</td>\n",
       "      <td>曇</td>\n",
       "    </tr>\n",
       "    <tr>\n",
       "      <th>2021-02-02</th>\n",
       "      <td>307686</td>\n",
       "      <td>102</td>\n",
       "      <td>3017</td>\n",
       "      <td>16</td>\n",
       "      <td>曇</td>\n",
       "    </tr>\n",
       "    <tr>\n",
       "      <th>2021-02-03</th>\n",
       "      <td>581181</td>\n",
       "      <td>171</td>\n",
       "      <td>3399</td>\n",
       "      <td>19</td>\n",
       "      <td>晴</td>\n",
       "    </tr>\n",
       "    <tr>\n",
       "      <th>2021-02-04</th>\n",
       "      <td>551938</td>\n",
       "      <td>167</td>\n",
       "      <td>3305</td>\n",
       "      <td>21</td>\n",
       "      <td>晴</td>\n",
       "    </tr>\n",
       "    <tr>\n",
       "      <th>2021-02-05</th>\n",
       "      <td>573605</td>\n",
       "      <td>117</td>\n",
       "      <td>4903</td>\n",
       "      <td>24</td>\n",
       "      <td>曇</td>\n",
       "    </tr>\n",
       "    <tr>\n",
       "      <th>2021-02-06</th>\n",
       "      <td>458212</td>\n",
       "      <td>173</td>\n",
       "      <td>2649</td>\n",
       "      <td>19</td>\n",
       "      <td>晴</td>\n",
       "    </tr>\n",
       "    <tr>\n",
       "      <th>2021-02-07</th>\n",
       "      <td>400408</td>\n",
       "      <td>126</td>\n",
       "      <td>3178</td>\n",
       "      <td>24</td>\n",
       "      <td>晴</td>\n",
       "    </tr>\n",
       "    <tr>\n",
       "      <th>2021-02-08</th>\n",
       "      <td>578027</td>\n",
       "      <td>171</td>\n",
       "      <td>3380</td>\n",
       "      <td>22</td>\n",
       "      <td>雨</td>\n",
       "    </tr>\n",
       "    <tr>\n",
       "      <th>2021-02-09</th>\n",
       "      <td>306488</td>\n",
       "      <td>121</td>\n",
       "      <td>2533</td>\n",
       "      <td>19</td>\n",
       "      <td>曇</td>\n",
       "    </tr>\n",
       "    <tr>\n",
       "      <th>2021-02-10</th>\n",
       "      <td>595903</td>\n",
       "      <td>158</td>\n",
       "      <td>3772</td>\n",
       "      <td>15</td>\n",
       "      <td>雨</td>\n",
       "    </tr>\n",
       "    <tr>\n",
       "      <th>2021-02-11</th>\n",
       "      <td>476045</td>\n",
       "      <td>172</td>\n",
       "      <td>2768</td>\n",
       "      <td>19</td>\n",
       "      <td>雨</td>\n",
       "    </tr>\n",
       "    <tr>\n",
       "      <th>2021-02-12</th>\n",
       "      <td>402068</td>\n",
       "      <td>176</td>\n",
       "      <td>2284</td>\n",
       "      <td>21</td>\n",
       "      <td>晴</td>\n",
       "    </tr>\n",
       "    <tr>\n",
       "      <th>2021-02-13</th>\n",
       "      <td>501486</td>\n",
       "      <td>167</td>\n",
       "      <td>3003</td>\n",
       "      <td>23</td>\n",
       "      <td>曇</td>\n",
       "    </tr>\n",
       "    <tr>\n",
       "      <th>2021-02-14</th>\n",
       "      <td>511853</td>\n",
       "      <td>159</td>\n",
       "      <td>3219</td>\n",
       "      <td>24</td>\n",
       "      <td>雨</td>\n",
       "    </tr>\n",
       "    <tr>\n",
       "      <th>2021-02-15</th>\n",
       "      <td>422749</td>\n",
       "      <td>102</td>\n",
       "      <td>4145</td>\n",
       "      <td>21</td>\n",
       "      <td>曇</td>\n",
       "    </tr>\n",
       "    <tr>\n",
       "      <th>2021-02-16</th>\n",
       "      <td>505571</td>\n",
       "      <td>158</td>\n",
       "      <td>3200</td>\n",
       "      <td>21</td>\n",
       "      <td>晴</td>\n",
       "    </tr>\n",
       "    <tr>\n",
       "      <th>2021-02-17</th>\n",
       "      <td>540856</td>\n",
       "      <td>139</td>\n",
       "      <td>3891</td>\n",
       "      <td>24</td>\n",
       "      <td>曇</td>\n",
       "    </tr>\n",
       "    <tr>\n",
       "      <th>2021-02-18</th>\n",
       "      <td>514593</td>\n",
       "      <td>173</td>\n",
       "      <td>2975</td>\n",
       "      <td>23</td>\n",
       "      <td>曇</td>\n",
       "    </tr>\n",
       "    <tr>\n",
       "      <th>2021-02-19</th>\n",
       "      <td>479182</td>\n",
       "      <td>103</td>\n",
       "      <td>4652</td>\n",
       "      <td>21</td>\n",
       "      <td>雨</td>\n",
       "    </tr>\n",
       "    <tr>\n",
       "      <th>2021-02-20</th>\n",
       "      <td>365749</td>\n",
       "      <td>185</td>\n",
       "      <td>1977</td>\n",
       "      <td>22</td>\n",
       "      <td>雨</td>\n",
       "    </tr>\n",
       "    <tr>\n",
       "      <th>2021-02-21</th>\n",
       "      <td>382602</td>\n",
       "      <td>157</td>\n",
       "      <td>2437</td>\n",
       "      <td>22</td>\n",
       "      <td>晴</td>\n",
       "    </tr>\n",
       "    <tr>\n",
       "      <th>2021-02-22</th>\n",
       "      <td>526799</td>\n",
       "      <td>100</td>\n",
       "      <td>5268</td>\n",
       "      <td>21</td>\n",
       "      <td>曇</td>\n",
       "    </tr>\n",
       "    <tr>\n",
       "      <th>2021-02-23</th>\n",
       "      <td>413624</td>\n",
       "      <td>122</td>\n",
       "      <td>3390</td>\n",
       "      <td>19</td>\n",
       "      <td>雨</td>\n",
       "    </tr>\n",
       "    <tr>\n",
       "      <th>2021-02-24</th>\n",
       "      <td>414459</td>\n",
       "      <td>196</td>\n",
       "      <td>2115</td>\n",
       "      <td>17</td>\n",
       "      <td>晴</td>\n",
       "    </tr>\n",
       "    <tr>\n",
       "      <th>2021-02-25</th>\n",
       "      <td>565849</td>\n",
       "      <td>186</td>\n",
       "      <td>3042</td>\n",
       "      <td>16</td>\n",
       "      <td>雨</td>\n",
       "    </tr>\n",
       "    <tr>\n",
       "      <th>2021-02-26</th>\n",
       "      <td>429201</td>\n",
       "      <td>180</td>\n",
       "      <td>2384</td>\n",
       "      <td>15</td>\n",
       "      <td>晴</td>\n",
       "    </tr>\n",
       "    <tr>\n",
       "      <th>2021-02-27</th>\n",
       "      <td>430954</td>\n",
       "      <td>109</td>\n",
       "      <td>3954</td>\n",
       "      <td>20</td>\n",
       "      <td>曇</td>\n",
       "    </tr>\n",
       "    <tr>\n",
       "      <th>2021-02-28</th>\n",
       "      <td>367642</td>\n",
       "      <td>144</td>\n",
       "      <td>2553</td>\n",
       "      <td>19</td>\n",
       "      <td>晴</td>\n",
       "    </tr>\n",
       "  </tbody>\n",
       "</table>\n",
       "</div>"
      ],
      "text/plain": [
       "              売り上げ   客数   客単価  気温 天気\n",
       "日付                                  \n",
       "2021-01-01  549342  125  4395  22  曇\n",
       "2021-01-02  577869  150  3852  20  晴\n",
       "2021-01-03  328030  184  1783  23  雨\n",
       "2021-01-04  317730  156  2037  23  曇\n",
       "2021-01-05  492476  149  3305  18  雨\n",
       "2021-01-06  494278  112  4413  15  晴\n",
       "2021-01-07  446449  118  3783  15  曇\n",
       "2021-01-08  429130  181  2371  22  晴\n",
       "2021-01-09  346203  101  3428  17  晴\n",
       "2021-01-10  520374  151  3446  18  晴\n",
       "2021-01-11  453313  144  3148  19  晴\n",
       "2021-01-12  365632  148  2470  23  雨\n",
       "2021-01-13  549903  156  3525  18  雨\n",
       "2021-01-14  418857  191  2193  21  晴\n",
       "2021-01-15  371200  149  2491  16  曇\n",
       "2021-01-16  464782  186  2499  16  曇\n",
       "2021-01-17  496719  103  4823  16  雨\n",
       "2021-01-18  532857  167  3191  22  雨\n",
       "2021-01-19  335662  111  3024  23  晴\n",
       "2021-01-20  527748  121  4362  15  雨\n",
       "2021-01-21  430256  189  2276  17  晴\n",
       "2021-01-22  457698  198  2312  15  晴\n",
       "2021-01-23  545799  103  5299  15  曇\n",
       "2021-01-24  514338  111  4634  20  雨\n",
       "2021-01-25  330255  103  3206  24  雨\n",
       "2021-01-26  306648  194  1581  24  雨\n",
       "2021-01-27  519069  106  4897  23  晴\n",
       "2021-01-28  585872  109  5375  21  雨\n",
       "2021-01-29  383079  187  2049  19  晴\n",
       "2021-01-30  566339  114  4968  15  晴\n",
       "2021-01-31  564572  183  3085  23  曇\n",
       "2021-02-01  360547  127  2839  15  曇\n",
       "2021-02-02  307686  102  3017  16  曇\n",
       "2021-02-03  581181  171  3399  19  晴\n",
       "2021-02-04  551938  167  3305  21  晴\n",
       "2021-02-05  573605  117  4903  24  曇\n",
       "2021-02-06  458212  173  2649  19  晴\n",
       "2021-02-07  400408  126  3178  24  晴\n",
       "2021-02-08  578027  171  3380  22  雨\n",
       "2021-02-09  306488  121  2533  19  曇\n",
       "2021-02-10  595903  158  3772  15  雨\n",
       "2021-02-11  476045  172  2768  19  雨\n",
       "2021-02-12  402068  176  2284  21  晴\n",
       "2021-02-13  501486  167  3003  23  曇\n",
       "2021-02-14  511853  159  3219  24  雨\n",
       "2021-02-15  422749  102  4145  21  曇\n",
       "2021-02-16  505571  158  3200  21  晴\n",
       "2021-02-17  540856  139  3891  24  曇\n",
       "2021-02-18  514593  173  2975  23  曇\n",
       "2021-02-19  479182  103  4652  21  雨\n",
       "2021-02-20  365749  185  1977  22  雨\n",
       "2021-02-21  382602  157  2437  22  晴\n",
       "2021-02-22  526799  100  5268  21  曇\n",
       "2021-02-23  413624  122  3390  19  雨\n",
       "2021-02-24  414459  196  2115  17  晴\n",
       "2021-02-25  565849  186  3042  16  雨\n",
       "2021-02-26  429201  180  2384  15  晴\n",
       "2021-02-27  430954  109  3954  20  曇\n",
       "2021-02-28  367642  144  2553  19  晴"
      ]
     },
     "execution_count": 337,
     "metadata": {},
     "output_type": "execute_result"
    }
   ],
   "source": [
    "df = pd.concat([df, february_df], axis=0)\n",
    "df"
   ]
  },
  {
   "cell_type": "code",
   "execution_count": 338,
   "id": "28197b1d-574b-4121-8314-7978c5a9fc33",
   "metadata": {},
   "outputs": [
    {
     "data": {
      "text/plain": [
       "198"
      ]
     },
     "execution_count": 338,
     "metadata": {},
     "output_type": "execute_result"
    }
   ],
   "source": [
    "df.loc[:, \"客数\"].max()"
   ]
  },
  {
   "cell_type": "code",
   "execution_count": 339,
   "id": "13fd4570-095b-4505-8d56-aa5376b27282",
   "metadata": {},
   "outputs": [
    {
     "data": {
      "text/plain": [
       "306488"
      ]
     },
     "execution_count": 339,
     "metadata": {},
     "output_type": "execute_result"
    }
   ],
   "source": [
    "df.loc[:, \"売り上げ\"].min()"
   ]
  },
  {
   "cell_type": "code",
   "execution_count": 340,
   "id": "4435bc63-9991-4b0e-a77a-ed04c5322d7c",
   "metadata": {},
   "outputs": [
    {
     "data": {
      "text/plain": [
       "3295.813559322034"
      ]
     },
     "execution_count": 340,
     "metadata": {},
     "output_type": "execute_result"
    }
   ],
   "source": [
    "df.loc[:, \"客単価\"].mean()"
   ]
  },
  {
   "cell_type": "code",
   "execution_count": 342,
   "id": "ddd5d2b4-1bdd-443b-ba6e-dca5063e2b98",
   "metadata": {},
   "outputs": [
    {
     "data": {
      "text/plain": [
       "464782.0"
      ]
     },
     "execution_count": 342,
     "metadata": {},
     "output_type": "execute_result"
    }
   ],
   "source": [
    "df.loc[:, \"売り上げ\"].median()"
   ]
  },
  {
   "cell_type": "code",
   "execution_count": 343,
   "id": "e6e6a263-95fd-4a3e-bd3f-a0d08da6da95",
   "metadata": {},
   "outputs": [
    {
     "data": {
      "text/plain": [
       "0    晴\n",
       "Name: 天気, dtype: object"
      ]
     },
     "execution_count": 343,
     "metadata": {},
     "output_type": "execute_result"
    }
   ],
   "source": [
    "df.loc[:, \"天気\"].mode()"
   ]
  },
  {
   "cell_type": "code",
   "execution_count": 344,
   "id": "ca8e7678-2ad5-4066-9bb2-ad1b607511c6",
   "metadata": {},
   "outputs": [
    {
     "data": {
      "text/plain": [
       "972.2175589249252"
      ]
     },
     "execution_count": 344,
     "metadata": {},
     "output_type": "execute_result"
    }
   ],
   "source": [
    "df.loc[:, \"客単価\"].std()"
   ]
  },
  {
   "cell_type": "code",
   "execution_count": 345,
   "id": "4566c24a-34cd-45e0-acaa-0b9ee8cc642c",
   "metadata": {},
   "outputs": [
    {
     "data": {
      "text/plain": [
       "963.9432164613783"
      ]
     },
     "execution_count": 345,
     "metadata": {},
     "output_type": "execute_result"
    }
   ],
   "source": [
    "df.loc[:, \"客単価\"].std(ddof=0)"
   ]
  },
  {
   "cell_type": "code",
   "execution_count": 346,
   "id": "6b89beba-46ae-49df-9f13-c33785bd5b0d",
   "metadata": {},
   "outputs": [
    {
     "data": {
      "text/plain": [
       "売り上げ    10\n",
       "客数      10\n",
       "客単価     10\n",
       "気温      10\n",
       "天気      10\n",
       "dtype: int64"
      ]
     },
     "execution_count": 346,
     "metadata": {},
     "output_type": "execute_result"
    }
   ],
   "source": [
    "df[df.loc[:, \"売り上げ\"] >= 550000].count()"
   ]
  },
  {
   "cell_type": "code",
   "execution_count": 347,
   "id": "0b5c1245-be7f-4048-a884-391bde19456b",
   "metadata": {},
   "outputs": [
    {
     "data": {
      "text/html": [
       "<div>\n",
       "<style scoped>\n",
       "    .dataframe tbody tr th:only-of-type {\n",
       "        vertical-align: middle;\n",
       "    }\n",
       "\n",
       "    .dataframe tbody tr th {\n",
       "        vertical-align: top;\n",
       "    }\n",
       "\n",
       "    .dataframe thead th {\n",
       "        text-align: right;\n",
       "    }\n",
       "</style>\n",
       "<table border=\"1\" class=\"dataframe\">\n",
       "  <thead>\n",
       "    <tr style=\"text-align: right;\">\n",
       "      <th></th>\n",
       "      <th>売り上げ</th>\n",
       "      <th>客数</th>\n",
       "      <th>客単価</th>\n",
       "      <th>気温</th>\n",
       "    </tr>\n",
       "  </thead>\n",
       "  <tbody>\n",
       "    <tr>\n",
       "      <th>count</th>\n",
       "      <td>59.000000</td>\n",
       "      <td>59.000000</td>\n",
       "      <td>59.000000</td>\n",
       "      <td>59.000000</td>\n",
       "    </tr>\n",
       "    <tr>\n",
       "      <th>mean</th>\n",
       "      <td>460809.423729</td>\n",
       "      <td>146.796610</td>\n",
       "      <td>3295.813559</td>\n",
       "      <td>19.661017</td>\n",
       "    </tr>\n",
       "    <tr>\n",
       "      <th>std</th>\n",
       "      <td>85798.149319</td>\n",
       "      <td>31.752154</td>\n",
       "      <td>972.217559</td>\n",
       "      <td>3.065999</td>\n",
       "    </tr>\n",
       "    <tr>\n",
       "      <th>min</th>\n",
       "      <td>306488.000000</td>\n",
       "      <td>100.000000</td>\n",
       "      <td>1581.000000</td>\n",
       "      <td>15.000000</td>\n",
       "    </tr>\n",
       "    <tr>\n",
       "      <th>25%</th>\n",
       "      <td>391743.500000</td>\n",
       "      <td>115.500000</td>\n",
       "      <td>2495.000000</td>\n",
       "      <td>17.000000</td>\n",
       "    </tr>\n",
       "    <tr>\n",
       "      <th>50%</th>\n",
       "      <td>464782.000000</td>\n",
       "      <td>150.000000</td>\n",
       "      <td>3191.000000</td>\n",
       "      <td>20.000000</td>\n",
       "    </tr>\n",
       "    <tr>\n",
       "      <th>75%</th>\n",
       "      <td>530302.500000</td>\n",
       "      <td>173.000000</td>\n",
       "      <td>3871.500000</td>\n",
       "      <td>22.000000</td>\n",
       "    </tr>\n",
       "    <tr>\n",
       "      <th>max</th>\n",
       "      <td>595903.000000</td>\n",
       "      <td>198.000000</td>\n",
       "      <td>5375.000000</td>\n",
       "      <td>24.000000</td>\n",
       "    </tr>\n",
       "  </tbody>\n",
       "</table>\n",
       "</div>"
      ],
      "text/plain": [
       "                売り上げ          客数          客単価         気温\n",
       "count      59.000000   59.000000    59.000000  59.000000\n",
       "mean   460809.423729  146.796610  3295.813559  19.661017\n",
       "std     85798.149319   31.752154   972.217559   3.065999\n",
       "min    306488.000000  100.000000  1581.000000  15.000000\n",
       "25%    391743.500000  115.500000  2495.000000  17.000000\n",
       "50%    464782.000000  150.000000  3191.000000  20.000000\n",
       "75%    530302.500000  173.000000  3871.500000  22.000000\n",
       "max    595903.000000  198.000000  5375.000000  24.000000"
      ]
     },
     "execution_count": 347,
     "metadata": {},
     "output_type": "execute_result"
    }
   ],
   "source": [
    "df.describe()"
   ]
  },
  {
   "cell_type": "code",
   "execution_count": 349,
   "id": "9956da85-da57-465c-ab89-410e065d59ae",
   "metadata": {},
   "outputs": [
    {
     "data": {
      "text/html": [
       "<div>\n",
       "<style scoped>\n",
       "    .dataframe tbody tr th:only-of-type {\n",
       "        vertical-align: middle;\n",
       "    }\n",
       "\n",
       "    .dataframe tbody tr th {\n",
       "        vertical-align: top;\n",
       "    }\n",
       "\n",
       "    .dataframe thead th {\n",
       "        text-align: right;\n",
       "    }\n",
       "</style>\n",
       "<table border=\"1\" class=\"dataframe\">\n",
       "  <thead>\n",
       "    <tr style=\"text-align: right;\">\n",
       "      <th></th>\n",
       "      <th>売り上げ</th>\n",
       "      <th>客数</th>\n",
       "      <th>客単価</th>\n",
       "      <th>気温</th>\n",
       "    </tr>\n",
       "  </thead>\n",
       "  <tbody>\n",
       "    <tr>\n",
       "      <th>売り上げ</th>\n",
       "      <td>1.000000</td>\n",
       "      <td>-0.020908</td>\n",
       "      <td>0.637632</td>\n",
       "      <td>-0.085411</td>\n",
       "    </tr>\n",
       "    <tr>\n",
       "      <th>客数</th>\n",
       "      <td>-0.020908</td>\n",
       "      <td>1.000000</td>\n",
       "      <td>-0.757817</td>\n",
       "      <td>0.068527</td>\n",
       "    </tr>\n",
       "    <tr>\n",
       "      <th>客単価</th>\n",
       "      <td>0.637632</td>\n",
       "      <td>-0.757817</td>\n",
       "      <td>1.000000</td>\n",
       "      <td>-0.110313</td>\n",
       "    </tr>\n",
       "    <tr>\n",
       "      <th>気温</th>\n",
       "      <td>-0.085411</td>\n",
       "      <td>0.068527</td>\n",
       "      <td>-0.110313</td>\n",
       "      <td>1.000000</td>\n",
       "    </tr>\n",
       "  </tbody>\n",
       "</table>\n",
       "</div>"
      ],
      "text/plain": [
       "          売り上げ        客数       客単価        気温\n",
       "売り上げ  1.000000 -0.020908  0.637632 -0.085411\n",
       "客数   -0.020908  1.000000 -0.757817  0.068527\n",
       "客単価   0.637632 -0.757817  1.000000 -0.110313\n",
       "気温   -0.085411  0.068527 -0.110313  1.000000"
      ]
     },
     "execution_count": 349,
     "metadata": {},
     "output_type": "execute_result"
    }
   ],
   "source": [
    "df.iloc[:, :-1].corr()"
   ]
  },
  {
   "cell_type": "code",
   "execution_count": null,
   "id": "ae0202f3-3d56-4db8-9ca9-9796590a1623",
   "metadata": {},
   "outputs": [],
   "source": []
  }
 ],
 "metadata": {
  "kernelspec": {
   "display_name": "Python 3 (ipykernel)",
   "language": "python",
   "name": "python3"
  },
  "language_info": {
   "codemirror_mode": {
    "name": "ipython",
    "version": 3
   },
   "file_extension": ".py",
   "mimetype": "text/x-python",
   "name": "python",
   "nbconvert_exporter": "python",
   "pygments_lexer": "ipython3",
   "version": "3.10.11"
  }
 },
 "nbformat": 4,
 "nbformat_minor": 5
}
