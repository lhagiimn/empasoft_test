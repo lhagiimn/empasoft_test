{
 "cells": [
  {
   "cell_type": "code",
   "execution_count": 1,
   "id": "8d40e6cc-337b-4045-b5c5-5f2d4323ad5a",
   "metadata": {},
   "outputs": [
    {
     "name": "stdout",
     "output_type": "stream",
     "text": [
      "Requirement already satisfied: keras in c:\\users\\keun ho ryu\\appdata\\local\\programs\\python\\python310\\lib\\site-packages (2.15.0)\n"
     ]
    },
    {
     "name": "stderr",
     "output_type": "stream",
     "text": [
      "\n",
      "[notice] A new release of pip is available: 23.3.1 -> 24.0\n",
      "[notice] To update, run: python.exe -m pip install --upgrade pip\n"
     ]
    }
   ],
   "source": [
    "!pip install keras"
   ]
  },
  {
   "cell_type": "code",
   "execution_count": 11,
   "id": "3126fbf5-5847-423d-8293-f2d967177d0e",
   "metadata": {},
   "outputs": [
    {
     "data": {
      "text/plain": [
       "2"
      ]
     },
     "execution_count": 11,
     "metadata": {},
     "output_type": "execute_result"
    }
   ],
   "source": [
    "50%3"
   ]
  },
  {
   "cell_type": "code",
   "execution_count": 12,
   "id": "f56aad2b-e040-4dea-be01-ff54c1a44fd5",
   "metadata": {},
   "outputs": [
    {
     "name": "stdout",
     "output_type": "stream",
     "text": [
      "8\n"
     ]
    }
   ],
   "source": [
    "print(2**3)"
   ]
  },
  {
   "cell_type": "code",
   "execution_count": 16,
   "id": "1bc80afe-5a35-4101-bb23-4c9f83caad92",
   "metadata": {},
   "outputs": [
    {
     "data": {
      "text/plain": [
       "750"
      ]
     },
     "execution_count": 16,
     "metadata": {},
     "output_type": "execute_result"
    }
   ],
   "source": [
    "250 + 100 + 400"
   ]
  },
  {
   "cell_type": "code",
   "execution_count": 19,
   "id": "2f28510f-e995-4d5d-8cec-16feeb55d11e",
   "metadata": {},
   "outputs": [],
   "source": [
    "b = 250 + 100 + 400"
   ]
  },
  {
   "cell_type": "code",
   "execution_count": 22,
   "id": "a026de88-a19d-44ea-901d-157e33e68f44",
   "metadata": {},
   "outputs": [
    {
     "data": {
      "text/plain": [
       "375.0"
      ]
     },
     "execution_count": 22,
     "metadata": {},
     "output_type": "execute_result"
    }
   ],
   "source": [
    "b/2"
   ]
  },
  {
   "cell_type": "code",
   "execution_count": 23,
   "id": "fd2f566c-8138-4c8d-a5be-ccd002802997",
   "metadata": {},
   "outputs": [],
   "source": [
    "s = 'Bold'"
   ]
  },
  {
   "cell_type": "code",
   "execution_count": 24,
   "id": "4856ac19-809f-4929-a07d-e25ae07c15d9",
   "metadata": {},
   "outputs": [
    {
     "data": {
      "text/plain": [
       "'Bold'"
      ]
     },
     "execution_count": 24,
     "metadata": {},
     "output_type": "execute_result"
    }
   ],
   "source": [
    "s"
   ]
  },
  {
   "cell_type": "code",
   "execution_count": 26,
   "id": "00e4ba99-a254-46f9-a741-d225949cf3ef",
   "metadata": {},
   "outputs": [
    {
     "data": {
      "text/plain": [
       "('My name is', 'Bold')"
      ]
     },
     "execution_count": 26,
     "metadata": {},
     "output_type": "execute_result"
    }
   ],
   "source": [
    "'My name is', s"
   ]
  },
  {
   "cell_type": "markdown",
   "id": "c8635c92-5697-4f06-b385-155f66956c37",
   "metadata": {},
   "source": [
    "# Python Functions"
   ]
  },
  {
   "cell_type": "code",
   "execution_count": 1,
   "id": "bdde00d7-a92a-4a3f-bdd6-2649316bbd7c",
   "metadata": {},
   "outputs": [],
   "source": [
    "def hello_something(something, end = \"!\"):\n",
    "  return \"Hello, {}{}\".format(something, end)"
   ]
  },
  {
   "cell_type": "code",
   "execution_count": 2,
   "id": "2d6bf1eb-7137-47fa-b119-5ae6af033c06",
   "metadata": {},
   "outputs": [
    {
     "name": "stdout",
     "output_type": "stream",
     "text": [
      "Hello, Python!!\n"
     ]
    }
   ],
   "source": [
    "print(hello_something(\"Python\", end = \"!!\"))"
   ]
  },
  {
   "cell_type": "code",
   "execution_count": 3,
   "id": "14727a43-c49c-43eb-b487-705e83ccb4ca",
   "metadata": {},
   "outputs": [
    {
     "name": "stdout",
     "output_type": "stream",
     "text": [
      "Hello, AI seminar!!!!\n"
     ]
    }
   ],
   "source": [
    "print(hello_something(\"AI seminar\", end = \"!!!!\"))"
   ]
  },
  {
   "cell_type": "code",
   "execution_count": 4,
   "id": "2a9aae7c-89d9-42b6-a79a-af9319eb2a13",
   "metadata": {},
   "outputs": [],
   "source": [
    "def sum_add(a, b):\n",
    "    return a+b"
   ]
  },
  {
   "cell_type": "code",
   "execution_count": 5,
   "id": "ca0e84f5-4fea-43ee-b757-3ffad1239702",
   "metadata": {},
   "outputs": [
    {
     "data": {
      "text/plain": [
       "11"
      ]
     },
     "execution_count": 5,
     "metadata": {},
     "output_type": "execute_result"
    }
   ],
   "source": [
    "sum_add(5, 6)"
   ]
  },
  {
   "cell_type": "code",
   "execution_count": 9,
   "id": "8411f7d0-3267-45a7-88a2-3bcf4d3f90fb",
   "metadata": {},
   "outputs": [],
   "source": [
    "def sum_add(a, b):\n",
    "    c = a+b\n",
    "    c = c**2\n",
    "    return c, a+b"
   ]
  },
  {
   "cell_type": "code",
   "execution_count": 10,
   "id": "e367e99c-39dd-42d0-a461-8186d37afbb8",
   "metadata": {},
   "outputs": [
    {
     "data": {
      "text/plain": [
       "(121, 11)"
      ]
     },
     "execution_count": 10,
     "metadata": {},
     "output_type": "execute_result"
    }
   ],
   "source": [
    "sum_add(5, 6)"
   ]
  },
  {
   "cell_type": "code",
   "execution_count": 11,
   "id": "d9fda4ef-0c27-40c9-9fde-b25ce2c7f1e7",
   "metadata": {},
   "outputs": [
    {
     "data": {
      "text/plain": [
       "(49, 7)"
      ]
     },
     "execution_count": 11,
     "metadata": {},
     "output_type": "execute_result"
    }
   ],
   "source": [
    "sum_add(4, 3)"
   ]
  },
  {
   "cell_type": "code",
   "execution_count": 17,
   "id": "b303ffc4-a494-40e0-9f64-765687dc24c8",
   "metadata": {},
   "outputs": [],
   "source": [
    "ADULT_AGE = 20\n",
    "\n",
    "def text_adult_age(personal_age, adult_age = 20):\n",
    "    if personal_age > adult_age:\n",
    "        return \"{} adult\".format(personal_age)\n",
    "    else:\n",
    "        return \"{} child\".format(personal_age)"
   ]
  },
  {
   "cell_type": "code",
   "execution_count": 18,
   "id": "12dd572b-8398-49ea-a4d3-0f5725dcb4e4",
   "metadata": {},
   "outputs": [
    {
     "data": {
      "text/plain": [
       "'19 child'"
      ]
     },
     "execution_count": 18,
     "metadata": {},
     "output_type": "execute_result"
    }
   ],
   "source": [
    "text_adult_age(personal_age=19)"
   ]
  },
  {
   "cell_type": "code",
   "execution_count": 19,
   "id": "f5ce5468-be59-4451-b9c3-1cab40888bbf",
   "metadata": {},
   "outputs": [
    {
     "data": {
      "text/plain": [
       "'23 adult'"
      ]
     },
     "execution_count": 19,
     "metadata": {},
     "output_type": "execute_result"
    }
   ],
   "source": [
    "text_adult_age(personal_age=23)"
   ]
  },
  {
   "cell_type": "code",
   "execution_count": 20,
   "id": "9a9abf51-6d58-448d-92c4-9ef3c4841a64",
   "metadata": {},
   "outputs": [
    {
     "data": {
      "text/plain": [
       "'19 adult'"
      ]
     },
     "execution_count": 20,
     "metadata": {},
     "output_type": "execute_result"
    }
   ],
   "source": [
    "text_adult_age(personal_age=19, adult_age=15)"
   ]
  },
  {
   "cell_type": "code",
   "execution_count": null,
   "id": "a4aeabce-9a61-4544-ba0f-3560b912be6d",
   "metadata": {},
   "outputs": [],
   "source": []
  }
 ],
 "metadata": {
  "kernelspec": {
   "display_name": "Python 3 (ipykernel)",
   "language": "python",
   "name": "python3"
  },
  "language_info": {
   "codemirror_mode": {
    "name": "ipython",
    "version": 3
   },
   "file_extension": ".py",
   "mimetype": "text/x-python",
   "name": "python",
   "nbconvert_exporter": "python",
   "pygments_lexer": "ipython3",
   "version": "3.10.11"
  }
 },
 "nbformat": 4,
 "nbformat_minor": 5
}
